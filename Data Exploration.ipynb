{
 "cells": [
  {
   "cell_type": "markdown",
   "metadata": {
    "id": "83YOQaCcmDnS"
   },
   "source": [
    "# Data Exploration\n",
    "In this notebook we will provide an introduction to data exploration, which is a preliminary investigation of the data in order to better understand its specific characteristics.\n",
    "\n",
    "Data exploration can aid in selecting the appropriate preprocessing and data analysis techniques. It can even address some of the questions typically answered by data mining.\n",
    "\n",
    "For example, patterns can sometimes be found by visually inspecting the data. Also, some of the techniques used in data exploration can be used to understand and interpret data mining results.\n",
    "\n",
    "Note that the topics covered in this notebook have considerable overlap with the area known as Exploratory Data Analysis (EDA). However, data mining views descriptive data analysis techniques as an end in themselves, whereas statistics, from which EDA originated, tends to view hypothesis-based testing as the final goal.\n",
    "\n",
    "We will perform exploratory data analysis on the Titanic dataset to familiarize ourselves with the EDA process."
   ]
  },
  {
   "cell_type": "markdown",
   "metadata": {
    "id": "_dflVE8ZFAUs"
   },
   "source": [
    "## Loading The Data"
   ]
  },
  {
   "cell_type": "code",
   "execution_count": null,
   "metadata": {
    "id": "CVplqE7kvV6p"
   },
   "outputs": [],
   "source": [
    "!wget -q --no-check-certificate 'https://docs.google.com/uc?export=download&id=1jpaNUBQ2ehkIB8nNP1XxyJjNtpCdvkTL' -O \"data.zip\"\n",
    "!unzip -q \"data.zip\""
   ]
  },
  {
   "cell_type": "code",
   "execution_count": 1,
   "metadata": {
    "id": "1gcKCRuTl7_k"
   },
   "outputs": [],
   "source": [
    "import numpy as np\n",
    "import pandas as pd"
   ]
  },
  {
   "cell_type": "markdown",
   "metadata": {
    "id": "U2AfHhy1FX5l"
   },
   "source": [
    "The first step in exploratory analysis is reading in the data and then exploring the variables. It is important to get a sense of how many variables and cases there are, the data types of the variables, etc..."
   ]
  },
  {
   "cell_type": "code",
   "execution_count": null,
   "metadata": {
    "id": "LZtrKyL_vTjf"
   },
   "outputs": [],
   "source": [
    "df = pd.read_csv('C:/Users/sarea/Desktop/dm/datasets/avatar_student_dataset.csv')"
   ]
  },
  {
   "cell_type": "code",
   "execution_count": 3,
   "metadata": {
    "colab": {
     "base_uri": "https://localhost:8080/"
    },
    "executionInfo": {
     "elapsed": 4,
     "status": "ok",
     "timestamp": 1717679807749,
     "user": {
      "displayName": "Adnan Alkattan",
      "userId": "14686308749644374052"
     },
     "user_tz": -180
    },
    "id": "FGPnQSIPOfsV",
    "outputId": "af63c1ae-2aea-4958-a5f5-b2b39783f38c"
   },
   "outputs": [
    {
     "data": {
      "text/plain": [
       "Index(['book', 'book_num', 'chapter', 'chapter_num', 'character', 'dialogue',\n",
       "       'spoken_words', 'imdb_rating'],\n",
       "      dtype='object')"
      ]
     },
     "execution_count": 3,
     "metadata": {},
     "output_type": "execute_result"
    }
   ],
   "source": [
    "df.columns"
   ]
  },
  {
   "cell_type": "markdown",
   "metadata": {
    "id": "XvLlzPGZN-eb"
   },
   "source": [
    "<pre>\n",
    "VARIABLE DESCRIPTIONS:\n",
    "pclass          Passenger Class\n",
    "                (1 = 1st; 2 = 2nd; 3 = 3rd)\n",
    "sibsp           Number of Siblings/Spouses Aboard\n",
    "parch           Number of Parents/Children Aboard\n",
    "embarked        Port of Embarkation\n",
    "                (C = Cherbourg; Q = Queenstown; S = Southampton)\n",
    "</pre>"
   ]
  },
  {
   "cell_type": "markdown",
   "metadata": {
    "id": "aE-w5iFfGCgx"
   },
   "source": [
    "It's a good idea to start off by checking the dimensions of your data set with df.shape and the variable data types of df.dtypes."
   ]
  },
  {
   "cell_type": "code",
   "execution_count": 4,
   "metadata": {
    "colab": {
     "base_uri": "https://localhost:8080/"
    },
    "executionInfo": {
     "elapsed": 6,
     "status": "ok",
     "timestamp": 1683450788746,
     "user": {
      "displayName": "Adnan Alkattan",
      "userId": "14686308749644374052"
     },
     "user_tz": -180
    },
    "id": "7FoS37MUGBpf",
    "outputId": "bb04ff3f-5f47-4c16-eae2-56d7bda4ec35"
   },
   "outputs": [
    {
     "data": {
      "text/plain": [
       "(13385, 8)"
      ]
     },
     "execution_count": 4,
     "metadata": {},
     "output_type": "execute_result"
    }
   ],
   "source": [
    "df.shape"
   ]
  },
  {
   "cell_type": "code",
   "execution_count": 5,
   "metadata": {
    "colab": {
     "base_uri": "https://localhost:8080/"
    },
    "executionInfo": {
     "elapsed": 566,
     "status": "ok",
     "timestamp": 1683450789309,
     "user": {
      "displayName": "Adnan Alkattan",
      "userId": "14686308749644374052"
     },
     "user_tz": -180
    },
    "id": "w1PQJxLnGIWC",
    "outputId": "b31841af-7b4b-4477-e22a-16d59688ce13"
   },
   "outputs": [
    {
     "data": {
      "text/plain": [
       "book             object\n",
       "book_num          int64\n",
       "chapter          object\n",
       "chapter_num       int64\n",
       "character        object\n",
       "dialogue         object\n",
       "spoken_words     object\n",
       "imdb_rating     float64\n",
       "dtype: object"
      ]
     },
     "execution_count": 5,
     "metadata": {},
     "output_type": "execute_result"
    }
   ],
   "source": [
    "df.dtypes"
   ]
  },
  {
   "cell_type": "code",
   "execution_count": 6,
   "metadata": {
    "colab": {
     "base_uri": "https://localhost:8080/",
     "height": 250
    },
    "executionInfo": {
     "elapsed": 411,
     "status": "ok",
     "timestamp": 1683450789704,
     "user": {
      "displayName": "Adnan Alkattan",
      "userId": "14686308749644374052"
     },
     "user_tz": -180
    },
    "id": "Xb-ayuEoOzGb",
    "outputId": "c086cd3a-664f-4912-914a-b5209fb3e09f"
   },
   "outputs": [
    {
     "data": {
      "text/html": [
       "<div>\n",
       "<style scoped>\n",
       "    .dataframe tbody tr th:only-of-type {\n",
       "        vertical-align: middle;\n",
       "    }\n",
       "\n",
       "    .dataframe tbody tr th {\n",
       "        vertical-align: top;\n",
       "    }\n",
       "\n",
       "    .dataframe thead th {\n",
       "        text-align: right;\n",
       "    }\n",
       "</style>\n",
       "<table border=\"1\" class=\"dataframe\">\n",
       "  <thead>\n",
       "    <tr style=\"text-align: right;\">\n",
       "      <th></th>\n",
       "      <th>book</th>\n",
       "      <th>book_num</th>\n",
       "      <th>chapter</th>\n",
       "      <th>chapter_num</th>\n",
       "      <th>character</th>\n",
       "      <th>dialogue</th>\n",
       "      <th>spoken_words</th>\n",
       "      <th>imdb_rating</th>\n",
       "    </tr>\n",
       "  </thead>\n",
       "  <tbody>\n",
       "    <tr>\n",
       "      <th>0</th>\n",
       "      <td>Water</td>\n",
       "      <td>1</td>\n",
       "      <td>The Boy in the Iceberg</td>\n",
       "      <td>1</td>\n",
       "      <td>Katara</td>\n",
       "      <td>Water. Earth. Fire. Air. My grandmother used t...</td>\n",
       "      <td>Water. Earth. Fire. Air. My grandmother used t...</td>\n",
       "      <td>8.1</td>\n",
       "    </tr>\n",
       "    <tr>\n",
       "      <th>1</th>\n",
       "      <td>Water</td>\n",
       "      <td>1</td>\n",
       "      <td>The Boy in the Iceberg</td>\n",
       "      <td>1</td>\n",
       "      <td>Scene Description</td>\n",
       "      <td>As the title card fades, the scene opens onto ...</td>\n",
       "      <td>NaN</td>\n",
       "      <td>8.1</td>\n",
       "    </tr>\n",
       "    <tr>\n",
       "      <th>2</th>\n",
       "      <td>NaN</td>\n",
       "      <td>1</td>\n",
       "      <td>The Boy in the Iceberg</td>\n",
       "      <td>1</td>\n",
       "      <td>Sokka</td>\n",
       "      <td>It's not getting away from me this time. [Clos...</td>\n",
       "      <td>It's not getting away from me this time.  Watc...</td>\n",
       "      <td>8.1</td>\n",
       "    </tr>\n",
       "    <tr>\n",
       "      <th>3</th>\n",
       "      <td>Water</td>\n",
       "      <td>1</td>\n",
       "      <td>The Boy in the Iceberg</td>\n",
       "      <td>1</td>\n",
       "      <td>Scene Description</td>\n",
       "      <td>The shot pans quickly from the boy to Katara, ...</td>\n",
       "      <td>NaN</td>\n",
       "      <td>8.1</td>\n",
       "    </tr>\n",
       "    <tr>\n",
       "      <th>4</th>\n",
       "      <td>Water</td>\n",
       "      <td>1</td>\n",
       "      <td>The Boy in the Iceberg</td>\n",
       "      <td>1</td>\n",
       "      <td>Katara</td>\n",
       "      <td>[Happily surprised.] Sokka, look!</td>\n",
       "      <td>Sokka, look!</td>\n",
       "      <td>8.1</td>\n",
       "    </tr>\n",
       "  </tbody>\n",
       "</table>\n",
       "</div>"
      ],
      "text/plain": [
       "    book  book_num                 chapter  chapter_num          character  \\\n",
       "0  Water         1  The Boy in the Iceberg            1             Katara   \n",
       "1  Water         1  The Boy in the Iceberg            1  Scene Description   \n",
       "2    NaN         1  The Boy in the Iceberg            1              Sokka   \n",
       "3  Water         1  The Boy in the Iceberg            1  Scene Description   \n",
       "4  Water         1  The Boy in the Iceberg            1             Katara   \n",
       "\n",
       "                                            dialogue  \\\n",
       "0  Water. Earth. Fire. Air. My grandmother used t...   \n",
       "1  As the title card fades, the scene opens onto ...   \n",
       "2  It's not getting away from me this time. [Clos...   \n",
       "3  The shot pans quickly from the boy to Katara, ...   \n",
       "4                  [Happily surprised.] Sokka, look!   \n",
       "\n",
       "                                        spoken_words  imdb_rating  \n",
       "0  Water. Earth. Fire. Air. My grandmother used t...          8.1  \n",
       "1                                                NaN          8.1  \n",
       "2  It's not getting away from me this time.  Watc...          8.1  \n",
       "3                                                NaN          8.1  \n",
       "4                                       Sokka, look!          8.1  "
      ]
     },
     "execution_count": 6,
     "metadata": {},
     "output_type": "execute_result"
    }
   ],
   "source": [
    "df.head()"
   ]
  },
  {
   "cell_type": "code",
   "execution_count": 7,
   "metadata": {
    "colab": {
     "base_uri": "https://localhost:8080/"
    },
    "executionInfo": {
     "elapsed": 354,
     "status": "ok",
     "timestamp": 1683450790481,
     "user": {
      "displayName": "Adnan Alkattan",
      "userId": "14686308749644374052"
     },
     "user_tz": -180
    },
    "id": "bLqEAcA6fCT-",
    "outputId": "214d137a-7290-4021-e4c2-a98555a39dd5"
   },
   "outputs": [
    {
     "data": {
      "text/plain": [
       "RangeIndex(start=0, stop=13385, step=1)"
      ]
     },
     "execution_count": 7,
     "metadata": {},
     "output_type": "execute_result"
    }
   ],
   "source": [
    "df.index"
   ]
  },
  {
   "cell_type": "markdown",
   "metadata": {
    "id": "xJjhPJhnf1Uy"
   },
   "source": [
    "It apperes that we have a monotonic integer index. However, that is not always the case, to demonstrate, consider the following series of characters with a non-monotonic integer index."
   ]
  },
  {
   "cell_type": "code",
   "execution_count": 8,
   "metadata": {
    "id": "zsIVftaNgErk"
   },
   "outputs": [],
   "source": [
    "s = pd.Series(list(\"abcdef\"), index=[49, 48, 47, 0, 1, 2])"
   ]
  },
  {
   "cell_type": "code",
   "execution_count": 9,
   "metadata": {},
   "outputs": [
    {
     "data": {
      "text/plain": [
       "49    a\n",
       "48    b\n",
       "47    c\n",
       "0     d\n",
       "1     e\n",
       "dtype: object"
      ]
     },
     "execution_count": 9,
     "metadata": {},
     "output_type": "execute_result"
    }
   ],
   "source": [
    "s.head()"
   ]
  },
  {
   "cell_type": "code",
   "execution_count": 10,
   "metadata": {
    "colab": {
     "base_uri": "https://localhost:8080/",
     "height": 36
    },
    "executionInfo": {
     "elapsed": 296,
     "status": "ok",
     "timestamp": 1683451059437,
     "user": {
      "displayName": "Adnan Alkattan",
      "userId": "14686308749644374052"
     },
     "user_tz": -180
    },
    "id": "G9etuZrxgGqR",
    "outputId": "b419e81d-b511-4a25-94f5-2cb4c8829293"
   },
   "outputs": [
    {
     "data": {
      "text/plain": [
       "'d'"
      ]
     },
     "execution_count": 10,
     "metadata": {},
     "output_type": "execute_result"
    }
   ],
   "source": [
    "s.loc[0] # value at index label 0"
   ]
  },
  {
   "cell_type": "code",
   "execution_count": 11,
   "metadata": {
    "colab": {
     "base_uri": "https://localhost:8080/",
     "height": 36
    },
    "executionInfo": {
     "elapsed": 298,
     "status": "ok",
     "timestamp": 1683451065504,
     "user": {
      "displayName": "Adnan Alkattan",
      "userId": "14686308749644374052"
     },
     "user_tz": -180
    },
    "id": "AzjpaEBjgJiv",
    "outputId": "2b54318f-d750-40ec-c21c-0dd1d0aea69e"
   },
   "outputs": [
    {
     "data": {
      "text/plain": [
       "'a'"
      ]
     },
     "execution_count": 11,
     "metadata": {},
     "output_type": "execute_result"
    }
   ],
   "source": [
    "s.iloc[0] # value at index location 0"
   ]
  },
  {
   "cell_type": "code",
   "execution_count": 12,
   "metadata": {
    "colab": {
     "base_uri": "https://localhost:8080/"
    },
    "executionInfo": {
     "elapsed": 360,
     "status": "ok",
     "timestamp": 1683451090161,
     "user": {
      "displayName": "Adnan Alkattan",
      "userId": "14686308749644374052"
     },
     "user_tz": -180
    },
    "id": "AJG56LQ5gLHE",
    "outputId": "7e77dd76-cc48-4c55-d35d-081365bc5ea1"
   },
   "outputs": [
    {
     "data": {
      "text/plain": [
       "0    d\n",
       "1    e\n",
       "dtype: object"
      ]
     },
     "execution_count": 12,
     "metadata": {},
     "output_type": "execute_result"
    }
   ],
   "source": [
    "s.loc[0:1]  # rows at index labels between 0 and 1 (inclusive)"
   ]
  },
  {
   "cell_type": "code",
   "execution_count": 13,
   "metadata": {
    "colab": {
     "base_uri": "https://localhost:8080/"
    },
    "executionInfo": {
     "elapsed": 299,
     "status": "ok",
     "timestamp": 1683451097704,
     "user": {
      "displayName": "Adnan Alkattan",
      "userId": "14686308749644374052"
     },
     "user_tz": -180
    },
    "id": "jPl1JMv5gRB3",
    "outputId": "ad65f127-2596-4a87-c7c0-e8678ee07218"
   },
   "outputs": [
    {
     "data": {
      "text/plain": [
       "49    a\n",
       "dtype: object"
      ]
     },
     "execution_count": 13,
     "metadata": {},
     "output_type": "execute_result"
    }
   ],
   "source": [
    "s.iloc[0:1] # rows at index location between 0 and 1 (exclusive)"
   ]
  },
  {
   "cell_type": "markdown",
   "metadata": {
    "id": "zxBDcm6YgXQd"
   },
   "source": [
    "The main distinction between `loc` and `iloc`\n",
    "* `loc` gets rows (and/or columns) with particular **labels**.\n",
    "* `iloc` gets rows (and/or columns) at integer **locations** and always ranges from 0 to (length - 1)"
   ]
  },
  {
   "cell_type": "code",
   "execution_count": 14,
   "metadata": {
    "colab": {
     "base_uri": "https://localhost:8080/"
    },
    "executionInfo": {
     "elapsed": 303,
     "status": "ok",
     "timestamp": 1683451311979,
     "user": {
      "displayName": "Adnan Alkattan",
      "userId": "14686308749644374052"
     },
     "user_tz": -180
    },
    "id": "hU28uv6DgS5G",
    "outputId": "fb8ca3a6-6262-487f-e850-917fda791c62"
   },
   "outputs": [
    {
     "name": "stdout",
     "output_type": "stream",
     "text": [
      "Element was not found!\n"
     ]
    }
   ],
   "source": [
    "try:\n",
    "  s.drop(0).loc[0]\n",
    "except KeyError:\n",
    "  print(\"Element was not found!\")"
   ]
  },
  {
   "cell_type": "code",
   "execution_count": 15,
   "metadata": {
    "colab": {
     "base_uri": "https://localhost:8080/",
     "height": 36
    },
    "executionInfo": {
     "elapsed": 298,
     "status": "ok",
     "timestamp": 1683451323139,
     "user": {
      "displayName": "Adnan Alkattan",
      "userId": "14686308749644374052"
     },
     "user_tz": -180
    },
    "id": "SZLBSs5UhIM9",
    "outputId": "f368676a-7818-4201-acb3-997eee4bb92d"
   },
   "outputs": [
    {
     "data": {
      "text/plain": [
       "'a'"
      ]
     },
     "execution_count": 15,
     "metadata": {},
     "output_type": "execute_result"
    }
   ],
   "source": [
    "s.drop(0).iloc[0]"
   ]
  },
  {
   "cell_type": "code",
   "execution_count": 16,
   "metadata": {
    "colab": {
     "base_uri": "https://localhost:8080/"
    },
    "executionInfo": {
     "elapsed": 8,
     "status": "ok",
     "timestamp": 1683451334796,
     "user": {
      "displayName": "Adnan Alkattan",
      "userId": "14686308749644374052"
     },
     "user_tz": -180
    },
    "id": "xEbkZUQNhKBX",
    "outputId": "58d87376-ec26-4cea-837a-d1178099f8ff"
   },
   "outputs": [
    {
     "data": {
      "text/plain": [
       "49    a\n",
       "48    b\n",
       "47    c\n",
       "1     e\n",
       "2     f\n",
       "dtype: object"
      ]
     },
     "execution_count": 16,
     "metadata": {},
     "output_type": "execute_result"
    }
   ],
   "source": [
    "s.drop(0)"
   ]
  },
  {
   "cell_type": "markdown",
   "metadata": {
    "id": "T-2jnG4shSEy"
   },
   "source": [
    "Nonetheless, we can always get a monotonic index using `reset_index` method"
   ]
  },
  {
   "cell_type": "code",
   "execution_count": 17,
   "metadata": {
    "colab": {
     "base_uri": "https://localhost:8080/",
     "height": 237
    },
    "executionInfo": {
     "elapsed": 12,
     "status": "ok",
     "timestamp": 1683451477134,
     "user": {
      "displayName": "Adnan Alkattan",
      "userId": "14686308749644374052"
     },
     "user_tz": -180
    },
    "id": "aISKrn63hQx8",
    "outputId": "b9fc43c6-e346-46f0-cbb3-c19543c0f70f"
   },
   "outputs": [
    {
     "data": {
      "text/html": [
       "<div>\n",
       "<style scoped>\n",
       "    .dataframe tbody tr th:only-of-type {\n",
       "        vertical-align: middle;\n",
       "    }\n",
       "\n",
       "    .dataframe tbody tr th {\n",
       "        vertical-align: top;\n",
       "    }\n",
       "\n",
       "    .dataframe thead th {\n",
       "        text-align: right;\n",
       "    }\n",
       "</style>\n",
       "<table border=\"1\" class=\"dataframe\">\n",
       "  <thead>\n",
       "    <tr style=\"text-align: right;\">\n",
       "      <th></th>\n",
       "      <th>index</th>\n",
       "      <th>values</th>\n",
       "    </tr>\n",
       "  </thead>\n",
       "  <tbody>\n",
       "    <tr>\n",
       "      <th>0</th>\n",
       "      <td>49</td>\n",
       "      <td>a</td>\n",
       "    </tr>\n",
       "    <tr>\n",
       "      <th>1</th>\n",
       "      <td>48</td>\n",
       "      <td>b</td>\n",
       "    </tr>\n",
       "    <tr>\n",
       "      <th>2</th>\n",
       "      <td>47</td>\n",
       "      <td>c</td>\n",
       "    </tr>\n",
       "    <tr>\n",
       "      <th>3</th>\n",
       "      <td>0</td>\n",
       "      <td>d</td>\n",
       "    </tr>\n",
       "    <tr>\n",
       "      <th>4</th>\n",
       "      <td>1</td>\n",
       "      <td>e</td>\n",
       "    </tr>\n",
       "    <tr>\n",
       "      <th>5</th>\n",
       "      <td>2</td>\n",
       "      <td>f</td>\n",
       "    </tr>\n",
       "  </tbody>\n",
       "</table>\n",
       "</div>"
      ],
      "text/plain": [
       "   index values\n",
       "0     49      a\n",
       "1     48      b\n",
       "2     47      c\n",
       "3      0      d\n",
       "4      1      e\n",
       "5      2      f"
      ]
     },
     "execution_count": 17,
     "metadata": {},
     "output_type": "execute_result"
    }
   ],
   "source": [
    "s.reset_index().rename({0: 'values'}, axis=1)"
   ]
  },
  {
   "cell_type": "code",
   "execution_count": 18,
   "metadata": {},
   "outputs": [],
   "source": [
    "# s.reset_index(name='valuse')"
   ]
  },
  {
   "cell_type": "code",
   "execution_count": 19,
   "metadata": {
    "colab": {
     "base_uri": "https://localhost:8080/"
    },
    "executionInfo": {
     "elapsed": 290,
     "status": "ok",
     "timestamp": 1683451902708,
     "user": {
      "displayName": "Adnan Alkattan",
      "userId": "14686308749644374052"
     },
     "user_tz": -180
    },
    "id": "nr35AKrtjRE6",
    "outputId": "ee927c28-2fd3-4282-f2a4-5ecefba55f6c"
   },
   "outputs": [
    {
     "data": {
      "text/plain": [
       "index    49\n",
       "Name: a, dtype: int64"
      ]
     },
     "execution_count": 19,
     "metadata": {},
     "output_type": "execute_result"
    }
   ],
   "source": [
    "s.reset_index().rename({0: 'values'}, axis=1).set_index('values').loc['a']"
   ]
  },
  {
   "cell_type": "code",
   "execution_count": 20,
   "metadata": {
    "colab": {
     "base_uri": "https://localhost:8080/",
     "height": 112
    },
    "executionInfo": {
     "elapsed": 13,
     "status": "ok",
     "timestamp": 1683451637032,
     "user": {
      "displayName": "Adnan Alkattan",
      "userId": "14686308749644374052"
     },
     "user_tz": -180
    },
    "id": "OyU2_vLlh8dN",
    "outputId": "be7e224f-a325-4d9b-d11b-c778dc0decb1"
   },
   "outputs": [
    {
     "data": {
      "text/html": [
       "<div>\n",
       "<style scoped>\n",
       "    .dataframe tbody tr th:only-of-type {\n",
       "        vertical-align: middle;\n",
       "    }\n",
       "\n",
       "    .dataframe tbody tr th {\n",
       "        vertical-align: top;\n",
       "    }\n",
       "\n",
       "    .dataframe thead th {\n",
       "        text-align: right;\n",
       "    }\n",
       "</style>\n",
       "<table border=\"1\" class=\"dataframe\">\n",
       "  <thead>\n",
       "    <tr style=\"text-align: right;\">\n",
       "      <th></th>\n",
       "      <th>values</th>\n",
       "      <th>index</th>\n",
       "    </tr>\n",
       "  </thead>\n",
       "  <tbody>\n",
       "    <tr>\n",
       "      <th>0</th>\n",
       "      <td>a</td>\n",
       "      <td>49</td>\n",
       "    </tr>\n",
       "    <tr>\n",
       "      <th>1</th>\n",
       "      <td>b</td>\n",
       "      <td>48</td>\n",
       "    </tr>\n",
       "  </tbody>\n",
       "</table>\n",
       "</div>"
      ],
      "text/plain": [
       "  values  index\n",
       "0      a     49\n",
       "1      b     48"
      ]
     },
     "execution_count": 20,
     "metadata": {},
     "output_type": "execute_result"
    }
   ],
   "source": [
    "s.reset_index().rename({0: 'values'}, axis=1).loc[0:1, ['values', 'index']]"
   ]
  },
  {
   "cell_type": "code",
   "execution_count": 117,
   "metadata": {
    "colab": {
     "base_uri": "https://localhost:8080/",
     "height": 81
    },
    "executionInfo": {
     "elapsed": 13,
     "status": "ok",
     "timestamp": 1683451625836,
     "user": {
      "displayName": "Adnan Alkattan",
      "userId": "14686308749644374052"
     },
     "user_tz": -180
    },
    "id": "kIDadtoViFch",
    "outputId": "c937982a-2f75-46c4-eafc-523010179095"
   },
   "outputs": [
    {
     "data": {
      "text/html": [
       "<div>\n",
       "<style scoped>\n",
       "    .dataframe tbody tr th:only-of-type {\n",
       "        vertical-align: middle;\n",
       "    }\n",
       "\n",
       "    .dataframe tbody tr th {\n",
       "        vertical-align: top;\n",
       "    }\n",
       "\n",
       "    .dataframe thead th {\n",
       "        text-align: right;\n",
       "    }\n",
       "</style>\n",
       "<table border=\"1\" class=\"dataframe\">\n",
       "  <thead>\n",
       "    <tr style=\"text-align: right;\">\n",
       "      <th></th>\n",
       "      <th>values</th>\n",
       "      <th>index</th>\n",
       "    </tr>\n",
       "  </thead>\n",
       "  <tbody>\n",
       "    <tr>\n",
       "      <th>0</th>\n",
       "      <td>a</td>\n",
       "      <td>49</td>\n",
       "    </tr>\n",
       "  </tbody>\n",
       "</table>\n",
       "</div>"
      ],
      "text/plain": [
       "  values  index\n",
       "0      a     49"
      ]
     },
     "execution_count": 117,
     "metadata": {},
     "output_type": "execute_result"
    }
   ],
   "source": [
    "s.reset_index().rename({0: 'values'}, axis=1).iloc[0:1][['values', 'index']]"
   ]
  },
  {
   "cell_type": "code",
   "execution_count": 22,
   "metadata": {
    "colab": {
     "base_uri": "https://localhost:8080/"
    },
    "executionInfo": {
     "elapsed": 338,
     "status": "ok",
     "timestamp": 1683451452579,
     "user": {
      "displayName": "Adnan Alkattan",
      "userId": "14686308749644374052"
     },
     "user_tz": -180
    },
    "id": "6sJETIWhhobu",
    "outputId": "6405ed9b-f231-43cc-964e-c3044c624e29"
   },
   "outputs": [
    {
     "data": {
      "text/plain": [
       "0    a\n",
       "1    b\n",
       "2    c\n",
       "3    d\n",
       "4    e\n",
       "5    f\n",
       "dtype: object"
      ]
     },
     "execution_count": 22,
     "metadata": {},
     "output_type": "execute_result"
    }
   ],
   "source": [
    "s.reset_index(drop=True) # To discard the old index if not needed"
   ]
  },
  {
   "cell_type": "markdown",
   "metadata": {
    "id": "RLf0SQ3rj9Wo"
   },
   "source": [
    " Now we are going to calculate basic information about our dataset"
   ]
  },
  {
   "cell_type": "code",
   "execution_count": 8,
   "metadata": {},
   "outputs": [
    {
     "data": {
      "text/plain": [
       "book            1338\n",
       "book_num           0\n",
       "chapter            0\n",
       "chapter_num        0\n",
       "character        669\n",
       "dialogue           0\n",
       "spoken_words    3393\n",
       "imdb_rating      161\n",
       "dtype: int64"
      ]
     },
     "execution_count": 8,
     "metadata": {},
     "output_type": "execute_result"
    }
   ],
   "source": [
    "df.isnull().sum()"
   ]
  },
  {
   "cell_type": "code",
   "execution_count": 9,
   "metadata": {},
   "outputs": [
    {
     "data": {
      "text/html": [
       "<div>\n",
       "<style scoped>\n",
       "    .dataframe tbody tr th:only-of-type {\n",
       "        vertical-align: middle;\n",
       "    }\n",
       "\n",
       "    .dataframe tbody tr th {\n",
       "        vertical-align: top;\n",
       "    }\n",
       "\n",
       "    .dataframe thead th {\n",
       "        text-align: right;\n",
       "    }\n",
       "</style>\n",
       "<table border=\"1\" class=\"dataframe\">\n",
       "  <thead>\n",
       "    <tr style=\"text-align: right;\">\n",
       "      <th></th>\n",
       "      <th>book</th>\n",
       "      <th>book_num</th>\n",
       "      <th>chapter</th>\n",
       "      <th>chapter_num</th>\n",
       "      <th>character</th>\n",
       "      <th>dialogue</th>\n",
       "      <th>spoken_words</th>\n",
       "      <th>imdb_rating</th>\n",
       "    </tr>\n",
       "  </thead>\n",
       "  <tbody>\n",
       "    <tr>\n",
       "      <th>0</th>\n",
       "      <td>False</td>\n",
       "      <td>False</td>\n",
       "      <td>False</td>\n",
       "      <td>False</td>\n",
       "      <td>False</td>\n",
       "      <td>False</td>\n",
       "      <td>False</td>\n",
       "      <td>False</td>\n",
       "    </tr>\n",
       "    <tr>\n",
       "      <th>1</th>\n",
       "      <td>False</td>\n",
       "      <td>False</td>\n",
       "      <td>False</td>\n",
       "      <td>False</td>\n",
       "      <td>False</td>\n",
       "      <td>False</td>\n",
       "      <td>True</td>\n",
       "      <td>False</td>\n",
       "    </tr>\n",
       "    <tr>\n",
       "      <th>2</th>\n",
       "      <td>True</td>\n",
       "      <td>False</td>\n",
       "      <td>False</td>\n",
       "      <td>False</td>\n",
       "      <td>False</td>\n",
       "      <td>False</td>\n",
       "      <td>False</td>\n",
       "      <td>False</td>\n",
       "    </tr>\n",
       "    <tr>\n",
       "      <th>3</th>\n",
       "      <td>False</td>\n",
       "      <td>False</td>\n",
       "      <td>False</td>\n",
       "      <td>False</td>\n",
       "      <td>False</td>\n",
       "      <td>False</td>\n",
       "      <td>True</td>\n",
       "      <td>False</td>\n",
       "    </tr>\n",
       "    <tr>\n",
       "      <th>4</th>\n",
       "      <td>False</td>\n",
       "      <td>False</td>\n",
       "      <td>False</td>\n",
       "      <td>False</td>\n",
       "      <td>False</td>\n",
       "      <td>False</td>\n",
       "      <td>False</td>\n",
       "      <td>False</td>\n",
       "    </tr>\n",
       "    <tr>\n",
       "      <th>...</th>\n",
       "      <td>...</td>\n",
       "      <td>...</td>\n",
       "      <td>...</td>\n",
       "      <td>...</td>\n",
       "      <td>...</td>\n",
       "      <td>...</td>\n",
       "      <td>...</td>\n",
       "      <td>...</td>\n",
       "    </tr>\n",
       "    <tr>\n",
       "      <th>13380</th>\n",
       "      <td>False</td>\n",
       "      <td>False</td>\n",
       "      <td>False</td>\n",
       "      <td>False</td>\n",
       "      <td>False</td>\n",
       "      <td>False</td>\n",
       "      <td>False</td>\n",
       "      <td>False</td>\n",
       "    </tr>\n",
       "    <tr>\n",
       "      <th>13381</th>\n",
       "      <td>False</td>\n",
       "      <td>False</td>\n",
       "      <td>False</td>\n",
       "      <td>False</td>\n",
       "      <td>False</td>\n",
       "      <td>False</td>\n",
       "      <td>False</td>\n",
       "      <td>False</td>\n",
       "    </tr>\n",
       "    <tr>\n",
       "      <th>13382</th>\n",
       "      <td>False</td>\n",
       "      <td>False</td>\n",
       "      <td>False</td>\n",
       "      <td>False</td>\n",
       "      <td>False</td>\n",
       "      <td>False</td>\n",
       "      <td>False</td>\n",
       "      <td>False</td>\n",
       "    </tr>\n",
       "    <tr>\n",
       "      <th>13383</th>\n",
       "      <td>False</td>\n",
       "      <td>False</td>\n",
       "      <td>False</td>\n",
       "      <td>False</td>\n",
       "      <td>False</td>\n",
       "      <td>False</td>\n",
       "      <td>False</td>\n",
       "      <td>False</td>\n",
       "    </tr>\n",
       "    <tr>\n",
       "      <th>13384</th>\n",
       "      <td>False</td>\n",
       "      <td>False</td>\n",
       "      <td>False</td>\n",
       "      <td>False</td>\n",
       "      <td>False</td>\n",
       "      <td>False</td>\n",
       "      <td>True</td>\n",
       "      <td>False</td>\n",
       "    </tr>\n",
       "  </tbody>\n",
       "</table>\n",
       "<p>13385 rows × 8 columns</p>\n",
       "</div>"
      ],
      "text/plain": [
       "        book  book_num  chapter  chapter_num  character  dialogue  \\\n",
       "0      False     False    False        False      False     False   \n",
       "1      False     False    False        False      False     False   \n",
       "2       True     False    False        False      False     False   \n",
       "3      False     False    False        False      False     False   \n",
       "4      False     False    False        False      False     False   \n",
       "...      ...       ...      ...          ...        ...       ...   \n",
       "13380  False     False    False        False      False     False   \n",
       "13381  False     False    False        False      False     False   \n",
       "13382  False     False    False        False      False     False   \n",
       "13383  False     False    False        False      False     False   \n",
       "13384  False     False    False        False      False     False   \n",
       "\n",
       "       spoken_words  imdb_rating  \n",
       "0             False        False  \n",
       "1              True        False  \n",
       "2             False        False  \n",
       "3              True        False  \n",
       "4             False        False  \n",
       "...             ...          ...  \n",
       "13380         False        False  \n",
       "13381         False        False  \n",
       "13382         False        False  \n",
       "13383         False        False  \n",
       "13384          True        False  \n",
       "\n",
       "[13385 rows x 8 columns]"
      ]
     },
     "execution_count": 9,
     "metadata": {},
     "output_type": "execute_result"
    }
   ],
   "source": [
    "df.isnull()"
   ]
  },
  {
   "cell_type": "code",
   "execution_count": 10,
   "metadata": {
    "colab": {
     "base_uri": "https://localhost:8080/",
     "height": 425
    },
    "executionInfo": {
     "elapsed": 19,
     "status": "ok",
     "timestamp": 1682695236305,
     "user": {
      "displayName": "Adnan Alkattan",
      "userId": "14686308749644374052"
     },
     "user_tz": -180
    },
    "id": "JqlvvChkr4J6",
    "outputId": "12674878-eaae-4d1c-a002-1427cf4ad354"
   },
   "outputs": [
    {
     "data": {
      "text/html": [
       "<div>\n",
       "<style scoped>\n",
       "    .dataframe tbody tr th:only-of-type {\n",
       "        vertical-align: middle;\n",
       "    }\n",
       "\n",
       "    .dataframe tbody tr th {\n",
       "        vertical-align: top;\n",
       "    }\n",
       "\n",
       "    .dataframe thead th {\n",
       "        text-align: right;\n",
       "    }\n",
       "</style>\n",
       "<table border=\"1\" class=\"dataframe\">\n",
       "  <thead>\n",
       "    <tr style=\"text-align: right;\">\n",
       "      <th></th>\n",
       "      <th>data_type</th>\n",
       "      <th>missing_val</th>\n",
       "      <th>missing_val_ratio</th>\n",
       "    </tr>\n",
       "  </thead>\n",
       "  <tbody>\n",
       "    <tr>\n",
       "      <th>book</th>\n",
       "      <td>object</td>\n",
       "      <td>1338</td>\n",
       "      <td>10</td>\n",
       "    </tr>\n",
       "    <tr>\n",
       "      <th>book_num</th>\n",
       "      <td>int64</td>\n",
       "      <td>0</td>\n",
       "      <td>0</td>\n",
       "    </tr>\n",
       "    <tr>\n",
       "      <th>chapter</th>\n",
       "      <td>object</td>\n",
       "      <td>0</td>\n",
       "      <td>0</td>\n",
       "    </tr>\n",
       "    <tr>\n",
       "      <th>chapter_num</th>\n",
       "      <td>int64</td>\n",
       "      <td>0</td>\n",
       "      <td>0</td>\n",
       "    </tr>\n",
       "    <tr>\n",
       "      <th>character</th>\n",
       "      <td>object</td>\n",
       "      <td>669</td>\n",
       "      <td>5</td>\n",
       "    </tr>\n",
       "    <tr>\n",
       "      <th>dialogue</th>\n",
       "      <td>object</td>\n",
       "      <td>0</td>\n",
       "      <td>0</td>\n",
       "    </tr>\n",
       "    <tr>\n",
       "      <th>spoken_words</th>\n",
       "      <td>object</td>\n",
       "      <td>3393</td>\n",
       "      <td>25</td>\n",
       "    </tr>\n",
       "    <tr>\n",
       "      <th>imdb_rating</th>\n",
       "      <td>float64</td>\n",
       "      <td>161</td>\n",
       "      <td>1</td>\n",
       "    </tr>\n",
       "  </tbody>\n",
       "</table>\n",
       "</div>"
      ],
      "text/plain": [
       "             data_type  missing_val  missing_val_ratio\n",
       "book            object         1338                 10\n",
       "book_num         int64            0                  0\n",
       "chapter         object            0                  0\n",
       "chapter_num      int64            0                  0\n",
       "character       object          669                  5\n",
       "dialogue        object            0                  0\n",
       "spoken_words    object         3393                 25\n",
       "imdb_rating    float64          161                  1"
      ]
     },
     "execution_count": 10,
     "metadata": {},
     "output_type": "execute_result"
    }
   ],
   "source": [
    "info_df = pd.DataFrame(df.dtypes)\n",
    "\n",
    "# identifying the missing values from the dataset.\n",
    "info_df['missing_val'] = df.isnull().sum()\n",
    "\n",
    "info_df['missing_val_ratio'] = (info_df['missing_val'] / df.shape[0] * 100).round().astype(int)\n",
    "\n",
    "\n",
    "# renaming the first column using rename()\n",
    "info_df = info_df.rename(columns = {0:'data_type'})\n",
    "info_df"
   ]
  },
  {
   "cell_type": "markdown",
   "metadata": {
    "id": "omxUpYcBG2FN"
   },
   "source": [
    "It appears we have a mixture of numeric columns and columns with text data.\n",
    "\n",
    "In data analysis, variables that split records into a fixed number of unique categories, such as Sex, are known as categorical variables or qualitative attributes. In contrast numeric variables are collectively referred\n",
    "to as quantitative.\n",
    "\n",
    "However, the properties of an attribute need not to be the same as the properties of the values used to measure it.\n",
    "In other words, the values used to represent an attribute may have properties that are not properties of the attribute itself, and vice versa.\n",
    "\n",
    "For example, in our dataset, ID and Age, while it is reasonable to\n",
    "talk about the average age of a passenger, it makes no sense to talk about\n",
    "the average passenger ID. Nonetheless, the only aspect of passengers that we want to capture with the ID attribute is that they are distinct.\n",
    "\n",
    "As for the fare attribute, the properties of the integers used to represent fare are very much the properties of the attribute. Even so, the correspondence is not complete since, for example, fares have a maximum, while integers do not."
   ]
  },
  {
   "cell_type": "code",
   "execution_count": 11,
   "metadata": {
    "id": "LxTq5ofHuJTP"
   },
   "outputs": [],
   "source": [
    "numeric = ['Age', 'Fare', 'SibSp', 'Parch']\n",
    "ordinal = ['Pclass']\n",
    "categorical = ['Sex', 'Cabin', 'Embarked', 'Ticket', 'Name']\n",
    "target = 'Survived'"
   ]
  },
  {
   "cell_type": "markdown",
   "metadata": {
    "id": "lj5GDfTutY59"
   },
   "source": [
    "## Summary Statistics\n",
    "One of the main purposes of EDA is to look at the data before assuming anything about it. This is important, so that the data scientist can validate any assumptions that might have been made in framing the problem or that are necessary for using certain algorithms.\n",
    "\n",
    "**Summary statistics** are quantities, such as the mean and standard deviation,\n",
    "that capture various characteristics of a potentially large set of values with a\n",
    "single number or a small set of numbers. Everyday examples of summary\n",
    "statistics are the average household income. Indeed, for many people,\n",
    "summary statistics are the most visible manifestation of statistics."
   ]
  },
  {
   "cell_type": "markdown",
   "metadata": {
    "id": "cFzTwhszyslZ"
   },
   "source": [
    "### Univariate analysis\n",
    "the simplest form of data analysis, where the data being analyzed consists of only one variable. Since it’s a single variable, it doesn’t deal with causes or relationships.\n",
    "\n",
    "For ordered data, it is useful to consider the percentiles of a set of\n",
    "values. In particular, given an ordinal or continuous attribute $x$ and a number\n",
    "$p$ between 0 and 100, the $p^{th}$ percentile $x_p$ is a value of $x$ such that $p\\%$ of the observed values of $x$ are less than $x_p$. By tradition, $min(x) = x_{0\\%}$ and $max(x) = x_{100\\%}$.\n",
    "\n",
    "Also, there is the most widely used summary statistics, the\n",
    "**mean** and **median**, which are measures of the location of a set of values.<br>\n",
    "Although the mean is sometimes interpreted as the middle of a set of values,\n",
    "this is only correct if the values are distributed in a symmetric manner. If the\n",
    "distribution of values is skewed, then the median is a better indicator of the\n",
    "middle."
   ]
  },
  {
   "cell_type": "code",
   "execution_count": 26,
   "metadata": {
    "colab": {
     "base_uri": "https://localhost:8080/"
    },
    "executionInfo": {
     "elapsed": 18,
     "status": "ok",
     "timestamp": 1682695236306,
     "user": {
      "displayName": "Adnan Alkattan",
      "userId": "14686308749644374052"
     },
     "user_tz": -180
    },
    "id": "CcTRCq4fBfYV",
    "outputId": "76bb8281-0434-421f-8d63-bf71d84d088d"
   },
   "outputs": [
    {
     "data": {
      "text/plain": [
       "Age      29.699118\n",
       "Fare     32.204208\n",
       "SibSp     0.523008\n",
       "Parch     0.381594\n",
       "dtype: float64"
      ]
     },
     "execution_count": 26,
     "metadata": {},
     "output_type": "execute_result"
    }
   ],
   "source": [
    "df[numeric].mean()"
   ]
  },
  {
   "cell_type": "code",
   "execution_count": 27,
   "metadata": {
    "colab": {
     "base_uri": "https://localhost:8080/"
    },
    "executionInfo": {
     "elapsed": 14,
     "status": "ok",
     "timestamp": 1682695236307,
     "user": {
      "displayName": "Adnan Alkattan",
      "userId": "14686308749644374052"
     },
     "user_tz": -180
    },
    "id": "phfsoKTzP3en",
    "outputId": "a976c5a2-fc94-47f6-b931-075132543896"
   },
   "outputs": [
    {
     "data": {
      "text/plain": [
       "Age      28.0000\n",
       "Fare     14.4542\n",
       "SibSp     0.0000\n",
       "Parch     0.0000\n",
       "dtype: float64"
      ]
     },
     "execution_count": 27,
     "metadata": {},
     "output_type": "execute_result"
    }
   ],
   "source": [
    "df[numeric].median()"
   ]
  },
  {
   "cell_type": "markdown",
   "metadata": {
    "id": "FAEkfWl8PhDP"
   },
   "source": [
    "To get the percentiles in pandas we can use `quantile(p)` to get the $p^{th}$ quantile, where `p` should be a fractional number."
   ]
  },
  {
   "cell_type": "code",
   "execution_count": 28,
   "metadata": {
    "colab": {
     "base_uri": "https://localhost:8080/"
    },
    "executionInfo": {
     "elapsed": 10,
     "status": "ok",
     "timestamp": 1682695236307,
     "user": {
      "displayName": "Adnan Alkattan",
      "userId": "14686308749644374052"
     },
     "user_tz": -180
    },
    "id": "Bk9VUe5JPFF4",
    "outputId": "947d9def-50f9-440a-d38f-ced274498a12"
   },
   "outputs": [
    {
     "data": {
      "text/plain": [
       "Age      14.00\n",
       "Fare      7.55\n",
       "SibSp     0.00\n",
       "Parch     0.00\n",
       "Name: 0.1, dtype: float64"
      ]
     },
     "execution_count": 28,
     "metadata": {},
     "output_type": "execute_result"
    }
   ],
   "source": [
    "df[numeric].quantile(0.1) # 10th percentile"
   ]
  },
  {
   "cell_type": "code",
   "execution_count": 29,
   "metadata": {
    "colab": {
     "base_uri": "https://localhost:8080/"
    },
    "executionInfo": {
     "elapsed": 1232,
     "status": "ok",
     "timestamp": 1682695237532,
     "user": {
      "displayName": "Adnan Alkattan",
      "userId": "14686308749644374052"
     },
     "user_tz": -180
    },
    "id": "zbCLKD6LPw2T",
    "outputId": "6b79d036-2f84-408f-8902-e0631f570c7a"
   },
   "outputs": [
    {
     "data": {
      "text/plain": [
       "Age      28.0000\n",
       "Fare     14.4542\n",
       "SibSp     0.0000\n",
       "Parch     0.0000\n",
       "Name: 0.5, dtype: float64"
      ]
     },
     "execution_count": 29,
     "metadata": {},
     "output_type": "execute_result"
    }
   ],
   "source": [
    "df[numeric].quantile(0.5) # same as median"
   ]
  },
  {
   "cell_type": "markdown",
   "metadata": {
    "id": "k_H9-wA9BmUT"
   },
   "source": [
    "Another set of commonly used summary statistics for continuous data are those that measure the dispersion or spread of a set of values. Such measures\n",
    "indicate if the attribute values are widely spread out or if they are relatively\n",
    "concentrated around a single point such as the mean.\n",
    "\n",
    "The simplest measure of spread is the range which is defined as\n",
    "\\begin{align}\n",
    "range(x) = max(x) - min(x)\n",
    "\\end{align}\n",
    "\n",
    "Although the range identifies the maximum spread, it can be misleading if\n",
    "most of the values are concentrated in a narrow band of values, but there are\n",
    "also a relatively small number of more extreme values. Hence, the variance\n",
    "is preferred as a measure of spread. The standard deviation, which is the square root of the variance, is written as $s_x$ and has the same units as $x$.\n",
    "\\begin{align}\n",
    "variance(x) = s_x^2 = \\frac 1{m-1} \\Sigma_1^m(\\,x_i - \\bar{x}\\,)^2\n",
    "\\end{align}"
   ]
  },
  {
   "cell_type": "code",
   "execution_count": 30,
   "metadata": {
    "colab": {
     "base_uri": "https://localhost:8080/"
    },
    "executionInfo": {
     "elapsed": 39,
     "status": "ok",
     "timestamp": 1682695237532,
     "user": {
      "displayName": "Adnan Alkattan",
      "userId": "14686308749644374052"
     },
     "user_tz": -180
    },
    "id": "ELXntw0FDoNR",
    "outputId": "e6f13ad3-b663-43dd-ba8e-37dc3e913411"
   },
   "outputs": [
    {
     "data": {
      "text/plain": [
       "Age       79.5800\n",
       "Fare     512.3292\n",
       "SibSp      8.0000\n",
       "Parch      6.0000\n",
       "dtype: float64"
      ]
     },
     "execution_count": 30,
     "metadata": {},
     "output_type": "execute_result"
    }
   ],
   "source": [
    "df[numeric].max() - df[numeric].min()"
   ]
  },
  {
   "cell_type": "code",
   "execution_count": 31,
   "metadata": {
    "colab": {
     "base_uri": "https://localhost:8080/"
    },
    "executionInfo": {
     "elapsed": 36,
     "status": "ok",
     "timestamp": 1682695237532,
     "user": {
      "displayName": "Adnan Alkattan",
      "userId": "14686308749644374052"
     },
     "user_tz": -180
    },
    "id": "Z9-fbHqfQmr4",
    "outputId": "7cd58f39-ee67-4759-e3ec-edc24f8c6d0b"
   },
   "outputs": [
    {
     "data": {
      "text/plain": [
       "Age       211.019125\n",
       "Fare     2469.436846\n",
       "SibSp       1.216043\n",
       "Parch       0.649728\n",
       "dtype: float64"
      ]
     },
     "execution_count": 31,
     "metadata": {},
     "output_type": "execute_result"
    }
   ],
   "source": [
    "df[numeric].var()"
   ]
  },
  {
   "cell_type": "code",
   "execution_count": 32,
   "metadata": {
    "colab": {
     "base_uri": "https://localhost:8080/"
    },
    "executionInfo": {
     "elapsed": 34,
     "status": "ok",
     "timestamp": 1682695237533,
     "user": {
      "displayName": "Adnan Alkattan",
      "userId": "14686308749644374052"
     },
     "user_tz": -180
    },
    "id": "SDAsmvLml2Io",
    "outputId": "a1161c55-4b2a-44e4-8c02-5012a097ca34"
   },
   "outputs": [
    {
     "data": {
      "text/plain": [
       "Age      14.526497\n",
       "Fare     49.693429\n",
       "SibSp     1.102743\n",
       "Parch     0.806057\n",
       "dtype: float64"
      ]
     },
     "execution_count": 32,
     "metadata": {},
     "output_type": "execute_result"
    }
   ],
   "source": [
    "df[numeric].std()"
   ]
  },
  {
   "cell_type": "markdown",
   "metadata": {
    "id": "JV63dtO7SAfA"
   },
   "source": [
    "We can use `descirbe` to calculate these statistics and summarize them in a formatted table.<br> The percentiles to include in the output default to [.25, .5, .75]"
   ]
  },
  {
   "cell_type": "code",
   "execution_count": 33,
   "metadata": {
    "colab": {
     "base_uri": "https://localhost:8080/",
     "height": 300
    },
    "executionInfo": {
     "elapsed": 32,
     "status": "ok",
     "timestamp": 1682695237533,
     "user": {
      "displayName": "Adnan Alkattan",
      "userId": "14686308749644374052"
     },
     "user_tz": -180
    },
    "id": "Zn64FeX_RtEv",
    "outputId": "bde7c004-5096-4fb9-d4c5-ce5cb13c84c8"
   },
   "outputs": [
    {
     "data": {
      "text/html": [
       "<div>\n",
       "<style scoped>\n",
       "    .dataframe tbody tr th:only-of-type {\n",
       "        vertical-align: middle;\n",
       "    }\n",
       "\n",
       "    .dataframe tbody tr th {\n",
       "        vertical-align: top;\n",
       "    }\n",
       "\n",
       "    .dataframe thead th {\n",
       "        text-align: right;\n",
       "    }\n",
       "</style>\n",
       "<table border=\"1\" class=\"dataframe\">\n",
       "  <thead>\n",
       "    <tr style=\"text-align: right;\">\n",
       "      <th></th>\n",
       "      <th>Age</th>\n",
       "      <th>Fare</th>\n",
       "      <th>SibSp</th>\n",
       "      <th>Parch</th>\n",
       "    </tr>\n",
       "  </thead>\n",
       "  <tbody>\n",
       "    <tr>\n",
       "      <th>count</th>\n",
       "      <td>714.000000</td>\n",
       "      <td>891.000000</td>\n",
       "      <td>891.000000</td>\n",
       "      <td>891.000000</td>\n",
       "    </tr>\n",
       "    <tr>\n",
       "      <th>mean</th>\n",
       "      <td>29.699118</td>\n",
       "      <td>32.204208</td>\n",
       "      <td>0.523008</td>\n",
       "      <td>0.381594</td>\n",
       "    </tr>\n",
       "    <tr>\n",
       "      <th>std</th>\n",
       "      <td>14.526497</td>\n",
       "      <td>49.693429</td>\n",
       "      <td>1.102743</td>\n",
       "      <td>0.806057</td>\n",
       "    </tr>\n",
       "    <tr>\n",
       "      <th>min</th>\n",
       "      <td>0.420000</td>\n",
       "      <td>0.000000</td>\n",
       "      <td>0.000000</td>\n",
       "      <td>0.000000</td>\n",
       "    </tr>\n",
       "    <tr>\n",
       "      <th>25%</th>\n",
       "      <td>20.125000</td>\n",
       "      <td>7.910400</td>\n",
       "      <td>0.000000</td>\n",
       "      <td>0.000000</td>\n",
       "    </tr>\n",
       "    <tr>\n",
       "      <th>50%</th>\n",
       "      <td>28.000000</td>\n",
       "      <td>14.454200</td>\n",
       "      <td>0.000000</td>\n",
       "      <td>0.000000</td>\n",
       "    </tr>\n",
       "    <tr>\n",
       "      <th>75%</th>\n",
       "      <td>38.000000</td>\n",
       "      <td>31.000000</td>\n",
       "      <td>1.000000</td>\n",
       "      <td>0.000000</td>\n",
       "    </tr>\n",
       "    <tr>\n",
       "      <th>max</th>\n",
       "      <td>80.000000</td>\n",
       "      <td>512.329200</td>\n",
       "      <td>8.000000</td>\n",
       "      <td>6.000000</td>\n",
       "    </tr>\n",
       "  </tbody>\n",
       "</table>\n",
       "</div>"
      ],
      "text/plain": [
       "              Age        Fare       SibSp       Parch\n",
       "count  714.000000  891.000000  891.000000  891.000000\n",
       "mean    29.699118   32.204208    0.523008    0.381594\n",
       "std     14.526497   49.693429    1.102743    0.806057\n",
       "min      0.420000    0.000000    0.000000    0.000000\n",
       "25%     20.125000    7.910400    0.000000    0.000000\n",
       "50%     28.000000   14.454200    0.000000    0.000000\n",
       "75%     38.000000   31.000000    1.000000    0.000000\n",
       "max     80.000000  512.329200    8.000000    6.000000"
      ]
     },
     "execution_count": 33,
     "metadata": {},
     "output_type": "execute_result"
    }
   ],
   "source": [
    "df[numeric].describe()"
   ]
  },
  {
   "cell_type": "markdown",
   "metadata": {
    "id": "BjjiG1BvDzYL"
   },
   "source": [
    "Indeed, the variance is particularly\n",
    "sensitive to outliers since it uses the squared difference between the mean\n",
    "and other values. As a result, more robust estimates of the spread of a set\n",
    "of values are often used:\n",
    "\n",
    "*   Absolute Average Deviation (AAD)\n",
    "*   Median Absolute Deviation (MAD)\n",
    "*   Interquartile Range(IQR)\n",
    "\n",
    "It's your play now, search for the formulas and try to apply them to our dataset."
   ]
  },
  {
   "cell_type": "code",
   "execution_count": 34,
   "metadata": {
    "id": "aE0CSfCqEfPX"
   },
   "outputs": [],
   "source": [
    "########################\n",
    "#####YOUR CODE HERE#####\n",
    "########################"
   ]
  },
  {
   "cell_type": "markdown",
   "metadata": {
    "id": "ND8aNZibLmlY"
   },
   "source": [
    "For unordered categorical values, there is not much that can be done\n",
    "to further characterize the values except to compute the frequency with which\n",
    "each value occurs for a particular set of data."
   ]
  },
  {
   "cell_type": "code",
   "execution_count": 35,
   "metadata": {
    "colab": {
     "base_uri": "https://localhost:8080/"
    },
    "executionInfo": {
     "elapsed": 31,
     "status": "ok",
     "timestamp": 1682695237533,
     "user": {
      "displayName": "Adnan Alkattan",
      "userId": "14686308749644374052"
     },
     "user_tz": -180
    },
    "id": "aaPGY4SURj3j",
    "outputId": "16cfd0bf-b6ca-463b-f5d8-3c2373aa7c44"
   },
   "outputs": [
    {
     "data": {
      "text/plain": [
       "Sex         891\n",
       "Cabin       204\n",
       "Embarked    889\n",
       "Ticket      891\n",
       "Name        891\n",
       "dtype: int64"
      ]
     },
     "execution_count": 35,
     "metadata": {},
     "output_type": "execute_result"
    }
   ],
   "source": [
    "df[categorical].count()"
   ]
  },
  {
   "cell_type": "code",
   "execution_count": 36,
   "metadata": {
    "colab": {
     "base_uri": "https://localhost:8080/"
    },
    "executionInfo": {
     "elapsed": 29,
     "status": "ok",
     "timestamp": 1682695237534,
     "user": {
      "displayName": "Adnan Alkattan",
      "userId": "14686308749644374052"
     },
     "user_tz": -180
    },
    "id": "pvnSeDdbfiwF",
    "outputId": "799b9828-7010-4da5-c2d9-8536b3320417"
   },
   "outputs": [
    {
     "data": {
      "text/plain": [
       "Sex           2\n",
       "Cabin       147\n",
       "Embarked      3\n",
       "Ticket      681\n",
       "Name        891\n",
       "dtype: int64"
      ]
     },
     "execution_count": 36,
     "metadata": {},
     "output_type": "execute_result"
    }
   ],
   "source": [
    "df[categorical].nunique()"
   ]
  },
  {
   "cell_type": "markdown",
   "metadata": {
    "id": "H7csmy_ShwvV"
   },
   "source": [
    "The mode of a set of values is the value that appears most often. It can be multiple values."
   ]
  },
  {
   "cell_type": "code",
   "execution_count": 37,
   "metadata": {
    "colab": {
     "base_uri": "https://localhost:8080/",
     "height": 81
    },
    "executionInfo": {
     "elapsed": 27,
     "status": "ok",
     "timestamp": 1682695237534,
     "user": {
      "displayName": "Adnan Alkattan",
      "userId": "14686308749644374052"
     },
     "user_tz": -180
    },
    "id": "RJBxgdZEghq7",
    "outputId": "91e7e8f8-b376-4325-ea2f-4e3972b9b3e2"
   },
   "outputs": [
    {
     "data": {
      "text/html": [
       "<div>\n",
       "<style scoped>\n",
       "    .dataframe tbody tr th:only-of-type {\n",
       "        vertical-align: middle;\n",
       "    }\n",
       "\n",
       "    .dataframe tbody tr th {\n",
       "        vertical-align: top;\n",
       "    }\n",
       "\n",
       "    .dataframe thead th {\n",
       "        text-align: right;\n",
       "    }\n",
       "</style>\n",
       "<table border=\"1\" class=\"dataframe\">\n",
       "  <thead>\n",
       "    <tr style=\"text-align: right;\">\n",
       "      <th></th>\n",
       "      <th>Sex</th>\n",
       "      <th>Cabin</th>\n",
       "      <th>Embarked</th>\n",
       "      <th>Ticket</th>\n",
       "      <th>Name</th>\n",
       "    </tr>\n",
       "  </thead>\n",
       "  <tbody>\n",
       "    <tr>\n",
       "      <th>0</th>\n",
       "      <td>male</td>\n",
       "      <td>B96 B98</td>\n",
       "      <td>S</td>\n",
       "      <td>1601</td>\n",
       "      <td>Abbing, Mr. Anthony</td>\n",
       "    </tr>\n",
       "  </tbody>\n",
       "</table>\n",
       "</div>"
      ],
      "text/plain": [
       "    Sex    Cabin Embarked Ticket                 Name\n",
       "0  male  B96 B98        S   1601  Abbing, Mr. Anthony"
      ]
     },
     "execution_count": 37,
     "metadata": {},
     "output_type": "execute_result"
    }
   ],
   "source": [
    "df[categorical].mode().head(1)"
   ]
  },
  {
   "cell_type": "code",
   "execution_count": 38,
   "metadata": {
    "colab": {
     "base_uri": "https://localhost:8080/",
     "height": 175
    },
    "executionInfo": {
     "elapsed": 26,
     "status": "ok",
     "timestamp": 1682695237534,
     "user": {
      "displayName": "Adnan Alkattan",
      "userId": "14686308749644374052"
     },
     "user_tz": -180
    },
    "id": "m1yLo3PRiCB1",
    "outputId": "ae21914f-4cfa-4b46-a31e-eb213a5580e6"
   },
   "outputs": [
    {
     "data": {
      "text/html": [
       "<div>\n",
       "<style scoped>\n",
       "    .dataframe tbody tr th:only-of-type {\n",
       "        vertical-align: middle;\n",
       "    }\n",
       "\n",
       "    .dataframe tbody tr th {\n",
       "        vertical-align: top;\n",
       "    }\n",
       "\n",
       "    .dataframe thead th {\n",
       "        text-align: right;\n",
       "    }\n",
       "</style>\n",
       "<table border=\"1\" class=\"dataframe\">\n",
       "  <thead>\n",
       "    <tr style=\"text-align: right;\">\n",
       "      <th></th>\n",
       "      <th>Sex</th>\n",
       "      <th>Cabin</th>\n",
       "      <th>Embarked</th>\n",
       "      <th>Ticket</th>\n",
       "      <th>Name</th>\n",
       "    </tr>\n",
       "  </thead>\n",
       "  <tbody>\n",
       "    <tr>\n",
       "      <th>count</th>\n",
       "      <td>891</td>\n",
       "      <td>204</td>\n",
       "      <td>889</td>\n",
       "      <td>891</td>\n",
       "      <td>891</td>\n",
       "    </tr>\n",
       "    <tr>\n",
       "      <th>unique</th>\n",
       "      <td>2</td>\n",
       "      <td>147</td>\n",
       "      <td>3</td>\n",
       "      <td>681</td>\n",
       "      <td>891</td>\n",
       "    </tr>\n",
       "    <tr>\n",
       "      <th>top</th>\n",
       "      <td>male</td>\n",
       "      <td>B96 B98</td>\n",
       "      <td>S</td>\n",
       "      <td>347082</td>\n",
       "      <td>Braund, Mr. Owen Harris</td>\n",
       "    </tr>\n",
       "    <tr>\n",
       "      <th>freq</th>\n",
       "      <td>577</td>\n",
       "      <td>4</td>\n",
       "      <td>644</td>\n",
       "      <td>7</td>\n",
       "      <td>1</td>\n",
       "    </tr>\n",
       "  </tbody>\n",
       "</table>\n",
       "</div>"
      ],
      "text/plain": [
       "         Sex    Cabin Embarked  Ticket                     Name\n",
       "count    891      204      889     891                      891\n",
       "unique     2      147        3     681                      891\n",
       "top     male  B96 B98        S  347082  Braund, Mr. Owen Harris\n",
       "freq     577        4      644       7                        1"
      ]
     },
     "execution_count": 38,
     "metadata": {},
     "output_type": "execute_result"
    }
   ],
   "source": [
    "df[categorical].describe()"
   ]
  },
  {
   "cell_type": "markdown",
   "metadata": {
    "id": "A55QeAvPiz7l"
   },
   "source": [
    "**Pop Quiz!!** Why Not to Drop Name?! i.e treat it like passenger ID"
   ]
  },
  {
   "cell_type": "markdown",
   "metadata": {
    "id": "fIe8TglaUizg"
   },
   "source": [
    "### Multivariate analysis\n",
    "Multivariate data analysis refers to any statistical technique used to analyze data that arises from more than one variable and it's main goal is to understand interactions between different variables in the data.\n",
    "\n",
    "For continuous variables, the spread of the data is most commonly captured by the covariance matrix $S$, whose $ij\\,^{th}$ entry $s_{ij}$ is the covariance of the $i\\,^{th}$ and $j\\,^{th}$ attributes of the data.\n",
    "\\begin{align}\n",
    "covariance(x, y) = \\frac 1{m-1} \\Sigma_1^m(\\,x_i - \\bar{x}\\,)\\,(\\,y_i - \\bar{y}\\,)\n",
    "\\end{align}\n",
    "The covariance of two attributes is a measure of the degree to which two\n",
    "attributes vary together and depends on the magnitudes of the variables.\n",
    "\n",
    "We can use `cov` to compute the pairwise covariance of columns, excluding NA/null values."
   ]
  },
  {
   "cell_type": "code",
   "execution_count": 39,
   "metadata": {
    "colab": {
     "base_uri": "https://localhost:8080/",
     "height": 175
    },
    "executionInfo": {
     "elapsed": 26,
     "status": "ok",
     "timestamp": 1682695237535,
     "user": {
      "displayName": "Adnan Alkattan",
      "userId": "14686308749644374052"
     },
     "user_tz": -180
    },
    "id": "SzuGlTpOckLv",
    "outputId": "d177cd31-c497-4824-a389-391ff4d2d0fa"
   },
   "outputs": [
    {
     "data": {
      "text/html": [
       "<div>\n",
       "<style scoped>\n",
       "    .dataframe tbody tr th:only-of-type {\n",
       "        vertical-align: middle;\n",
       "    }\n",
       "\n",
       "    .dataframe tbody tr th {\n",
       "        vertical-align: top;\n",
       "    }\n",
       "\n",
       "    .dataframe thead th {\n",
       "        text-align: right;\n",
       "    }\n",
       "</style>\n",
       "<table border=\"1\" class=\"dataframe\">\n",
       "  <thead>\n",
       "    <tr style=\"text-align: right;\">\n",
       "      <th></th>\n",
       "      <th>Age</th>\n",
       "      <th>Fare</th>\n",
       "      <th>SibSp</th>\n",
       "      <th>Parch</th>\n",
       "    </tr>\n",
       "  </thead>\n",
       "  <tbody>\n",
       "    <tr>\n",
       "      <th>Age</th>\n",
       "      <td>211.019125</td>\n",
       "      <td>73.849030</td>\n",
       "      <td>-4.163334</td>\n",
       "      <td>-2.344191</td>\n",
       "    </tr>\n",
       "    <tr>\n",
       "      <th>Fare</th>\n",
       "      <td>73.849030</td>\n",
       "      <td>2469.436846</td>\n",
       "      <td>8.748734</td>\n",
       "      <td>8.661052</td>\n",
       "    </tr>\n",
       "    <tr>\n",
       "      <th>SibSp</th>\n",
       "      <td>-4.163334</td>\n",
       "      <td>8.748734</td>\n",
       "      <td>1.216043</td>\n",
       "      <td>0.368739</td>\n",
       "    </tr>\n",
       "    <tr>\n",
       "      <th>Parch</th>\n",
       "      <td>-2.344191</td>\n",
       "      <td>8.661052</td>\n",
       "      <td>0.368739</td>\n",
       "      <td>0.649728</td>\n",
       "    </tr>\n",
       "  </tbody>\n",
       "</table>\n",
       "</div>"
      ],
      "text/plain": [
       "              Age         Fare     SibSp     Parch\n",
       "Age    211.019125    73.849030 -4.163334 -2.344191\n",
       "Fare    73.849030  2469.436846  8.748734  8.661052\n",
       "SibSp   -4.163334     8.748734  1.216043  0.368739\n",
       "Parch   -2.344191     8.661052  0.368739  0.649728"
      ]
     },
     "execution_count": 39,
     "metadata": {},
     "output_type": "execute_result"
    }
   ],
   "source": [
    "df[numeric].cov()"
   ]
  },
  {
   "cell_type": "markdown",
   "metadata": {
    "id": "nfaqt8wEdMak"
   },
   "source": [
    "A value near 0 indicates that two attributes do not have a (linear) relationship, but it is not possible to judge the degree of relationship between two variables by looking only at the value of the covariance.\n",
    "\n",
    "Because the correlation of two attributes immediately gives an indication of how strongly two attributes are (linearly) related, correlation is preferred to covariance for data exploration.\n",
    "\\begin{align}\n",
    "correlation(x, y) = \\frac {covariance(x,y)}{s_xs_y}\n",
    "\\end{align}<br><br>\n",
    "Similarly we can use `corr` to compute the pairwise corrlation."
   ]
  },
  {
   "cell_type": "code",
   "execution_count": 40,
   "metadata": {
    "colab": {
     "base_uri": "https://localhost:8080/",
     "height": 175
    },
    "executionInfo": {
     "elapsed": 26,
     "status": "ok",
     "timestamp": 1682695237535,
     "user": {
      "displayName": "Adnan Alkattan",
      "userId": "14686308749644374052"
     },
     "user_tz": -180
    },
    "id": "GkJv9HRDdsGn",
    "outputId": "3bd5b146-d12d-4de6-9a8a-b197ec9494e4"
   },
   "outputs": [
    {
     "data": {
      "text/html": [
       "<div>\n",
       "<style scoped>\n",
       "    .dataframe tbody tr th:only-of-type {\n",
       "        vertical-align: middle;\n",
       "    }\n",
       "\n",
       "    .dataframe tbody tr th {\n",
       "        vertical-align: top;\n",
       "    }\n",
       "\n",
       "    .dataframe thead th {\n",
       "        text-align: right;\n",
       "    }\n",
       "</style>\n",
       "<table border=\"1\" class=\"dataframe\">\n",
       "  <thead>\n",
       "    <tr style=\"text-align: right;\">\n",
       "      <th></th>\n",
       "      <th>Age</th>\n",
       "      <th>Fare</th>\n",
       "      <th>SibSp</th>\n",
       "      <th>Parch</th>\n",
       "    </tr>\n",
       "  </thead>\n",
       "  <tbody>\n",
       "    <tr>\n",
       "      <th>Age</th>\n",
       "      <td>1.000000</td>\n",
       "      <td>0.096067</td>\n",
       "      <td>-0.308247</td>\n",
       "      <td>-0.189119</td>\n",
       "    </tr>\n",
       "    <tr>\n",
       "      <th>Fare</th>\n",
       "      <td>0.096067</td>\n",
       "      <td>1.000000</td>\n",
       "      <td>0.159651</td>\n",
       "      <td>0.216225</td>\n",
       "    </tr>\n",
       "    <tr>\n",
       "      <th>SibSp</th>\n",
       "      <td>-0.308247</td>\n",
       "      <td>0.159651</td>\n",
       "      <td>1.000000</td>\n",
       "      <td>0.414838</td>\n",
       "    </tr>\n",
       "    <tr>\n",
       "      <th>Parch</th>\n",
       "      <td>-0.189119</td>\n",
       "      <td>0.216225</td>\n",
       "      <td>0.414838</td>\n",
       "      <td>1.000000</td>\n",
       "    </tr>\n",
       "  </tbody>\n",
       "</table>\n",
       "</div>"
      ],
      "text/plain": [
       "            Age      Fare     SibSp     Parch\n",
       "Age    1.000000  0.096067 -0.308247 -0.189119\n",
       "Fare   0.096067  1.000000  0.159651  0.216225\n",
       "SibSp -0.308247  0.159651  1.000000  0.414838\n",
       "Parch -0.189119  0.216225  0.414838  1.000000"
      ]
     },
     "execution_count": 40,
     "metadata": {},
     "output_type": "execute_result"
    }
   ],
   "source": [
    "df[numeric].corr()"
   ]
  },
  {
   "cell_type": "markdown",
   "metadata": {
    "id": "ZP0VhGYS6G5j"
   },
   "source": [
    "Let's investigate the relation between Survival and Passenger Class"
   ]
  },
  {
   "cell_type": "code",
   "execution_count": 41,
   "metadata": {
    "colab": {
     "base_uri": "https://localhost:8080/",
     "height": 300
    },
    "executionInfo": {
     "elapsed": 25,
     "status": "ok",
     "timestamp": 1682695237535,
     "user": {
      "displayName": "Adnan Alkattan",
      "userId": "14686308749644374052"
     },
     "user_tz": -180
    },
    "id": "h4IhF5uB5jBZ",
    "outputId": "29dee2d2-fe19-49a4-b5e6-8bd499732811"
   },
   "outputs": [
    {
     "data": {
      "text/html": [
       "<div>\n",
       "<style scoped>\n",
       "    .dataframe tbody tr th:only-of-type {\n",
       "        vertical-align: middle;\n",
       "    }\n",
       "\n",
       "    .dataframe tbody tr th {\n",
       "        vertical-align: top;\n",
       "    }\n",
       "\n",
       "    .dataframe thead th {\n",
       "        text-align: right;\n",
       "    }\n",
       "</style>\n",
       "<table border=\"1\" class=\"dataframe\">\n",
       "  <thead>\n",
       "    <tr style=\"text-align: right;\">\n",
       "      <th></th>\n",
       "      <th>Age</th>\n",
       "      <th>Fare</th>\n",
       "    </tr>\n",
       "  </thead>\n",
       "  <tbody>\n",
       "    <tr>\n",
       "      <th>count</th>\n",
       "      <td>122.000000</td>\n",
       "      <td>136.000000</td>\n",
       "    </tr>\n",
       "    <tr>\n",
       "      <th>mean</th>\n",
       "      <td>35.368197</td>\n",
       "      <td>95.608029</td>\n",
       "    </tr>\n",
       "    <tr>\n",
       "      <th>std</th>\n",
       "      <td>13.760017</td>\n",
       "      <td>85.286820</td>\n",
       "    </tr>\n",
       "    <tr>\n",
       "      <th>min</th>\n",
       "      <td>0.920000</td>\n",
       "      <td>25.929200</td>\n",
       "    </tr>\n",
       "    <tr>\n",
       "      <th>25%</th>\n",
       "      <td>24.250000</td>\n",
       "      <td>50.985450</td>\n",
       "    </tr>\n",
       "    <tr>\n",
       "      <th>50%</th>\n",
       "      <td>35.000000</td>\n",
       "      <td>77.958300</td>\n",
       "    </tr>\n",
       "    <tr>\n",
       "      <th>75%</th>\n",
       "      <td>45.000000</td>\n",
       "      <td>111.481225</td>\n",
       "    </tr>\n",
       "    <tr>\n",
       "      <th>max</th>\n",
       "      <td>80.000000</td>\n",
       "      <td>512.329200</td>\n",
       "    </tr>\n",
       "  </tbody>\n",
       "</table>\n",
       "</div>"
      ],
      "text/plain": [
       "              Age        Fare\n",
       "count  122.000000  136.000000\n",
       "mean    35.368197   95.608029\n",
       "std     13.760017   85.286820\n",
       "min      0.920000   25.929200\n",
       "25%     24.250000   50.985450\n",
       "50%     35.000000   77.958300\n",
       "75%     45.000000  111.481225\n",
       "max     80.000000  512.329200"
      ]
     },
     "execution_count": 41,
     "metadata": {},
     "output_type": "execute_result"
    }
   ],
   "source": [
    "df[['Age', 'Fare']][(df['Survived'] == 1) & (df['Pclass']==1)].describe()"
   ]
  },
  {
   "cell_type": "code",
   "execution_count": 42,
   "metadata": {
    "colab": {
     "base_uri": "https://localhost:8080/",
     "height": 300
    },
    "executionInfo": {
     "elapsed": 24,
     "status": "ok",
     "timestamp": 1682695237535,
     "user": {
      "displayName": "Adnan Alkattan",
      "userId": "14686308749644374052"
     },
     "user_tz": -180
    },
    "id": "6yET95lW6C_V",
    "outputId": "64225721-9e73-4c6f-efaf-97010076e754"
   },
   "outputs": [
    {
     "data": {
      "text/html": [
       "<div>\n",
       "<style scoped>\n",
       "    .dataframe tbody tr th:only-of-type {\n",
       "        vertical-align: middle;\n",
       "    }\n",
       "\n",
       "    .dataframe tbody tr th {\n",
       "        vertical-align: top;\n",
       "    }\n",
       "\n",
       "    .dataframe thead th {\n",
       "        text-align: right;\n",
       "    }\n",
       "</style>\n",
       "<table border=\"1\" class=\"dataframe\">\n",
       "  <thead>\n",
       "    <tr style=\"text-align: right;\">\n",
       "      <th></th>\n",
       "      <th>Age</th>\n",
       "      <th>Fare</th>\n",
       "    </tr>\n",
       "  </thead>\n",
       "  <tbody>\n",
       "    <tr>\n",
       "      <th>count</th>\n",
       "      <td>64.000000</td>\n",
       "      <td>80.000000</td>\n",
       "    </tr>\n",
       "    <tr>\n",
       "      <th>mean</th>\n",
       "      <td>43.695312</td>\n",
       "      <td>64.684008</td>\n",
       "    </tr>\n",
       "    <tr>\n",
       "      <th>std</th>\n",
       "      <td>15.284243</td>\n",
       "      <td>60.662089</td>\n",
       "    </tr>\n",
       "    <tr>\n",
       "      <th>min</th>\n",
       "      <td>2.000000</td>\n",
       "      <td>0.000000</td>\n",
       "    </tr>\n",
       "    <tr>\n",
       "      <th>25%</th>\n",
       "      <td>31.000000</td>\n",
       "      <td>27.742700</td>\n",
       "    </tr>\n",
       "    <tr>\n",
       "      <th>50%</th>\n",
       "      <td>45.250000</td>\n",
       "      <td>44.750000</td>\n",
       "    </tr>\n",
       "    <tr>\n",
       "      <th>75%</th>\n",
       "      <td>55.250000</td>\n",
       "      <td>78.937500</td>\n",
       "    </tr>\n",
       "    <tr>\n",
       "      <th>max</th>\n",
       "      <td>71.000000</td>\n",
       "      <td>263.000000</td>\n",
       "    </tr>\n",
       "  </tbody>\n",
       "</table>\n",
       "</div>"
      ],
      "text/plain": [
       "             Age        Fare\n",
       "count  64.000000   80.000000\n",
       "mean   43.695312   64.684008\n",
       "std    15.284243   60.662089\n",
       "min     2.000000    0.000000\n",
       "25%    31.000000   27.742700\n",
       "50%    45.250000   44.750000\n",
       "75%    55.250000   78.937500\n",
       "max    71.000000  263.000000"
      ]
     },
     "execution_count": 42,
     "metadata": {},
     "output_type": "execute_result"
    }
   ],
   "source": [
    "df[['Age', 'Fare']][(df['Survived'] == 0) & (df['Pclass']==1)].describe()"
   ]
  },
  {
   "cell_type": "code",
   "execution_count": 43,
   "metadata": {
    "colab": {
     "base_uri": "https://localhost:8080/",
     "height": 300
    },
    "executionInfo": {
     "elapsed": 25,
     "status": "ok",
     "timestamp": 1682695237536,
     "user": {
      "displayName": "Adnan Alkattan",
      "userId": "14686308749644374052"
     },
     "user_tz": -180
    },
    "id": "YXBRmDxK7D85",
    "outputId": "0dcce79a-7e16-43e6-d8ae-210cedd4a030"
   },
   "outputs": [
    {
     "data": {
      "text/html": [
       "<div>\n",
       "<style scoped>\n",
       "    .dataframe tbody tr th:only-of-type {\n",
       "        vertical-align: middle;\n",
       "    }\n",
       "\n",
       "    .dataframe tbody tr th {\n",
       "        vertical-align: top;\n",
       "    }\n",
       "\n",
       "    .dataframe thead th {\n",
       "        text-align: right;\n",
       "    }\n",
       "</style>\n",
       "<table border=\"1\" class=\"dataframe\">\n",
       "  <thead>\n",
       "    <tr style=\"text-align: right;\">\n",
       "      <th></th>\n",
       "      <th>Age</th>\n",
       "      <th>Fare</th>\n",
       "    </tr>\n",
       "  </thead>\n",
       "  <tbody>\n",
       "    <tr>\n",
       "      <th>count</th>\n",
       "      <td>90.000000</td>\n",
       "      <td>97.000000</td>\n",
       "    </tr>\n",
       "    <tr>\n",
       "      <th>mean</th>\n",
       "      <td>33.544444</td>\n",
       "      <td>19.412328</td>\n",
       "    </tr>\n",
       "    <tr>\n",
       "      <th>std</th>\n",
       "      <td>12.151581</td>\n",
       "      <td>15.307175</td>\n",
       "    </tr>\n",
       "    <tr>\n",
       "      <th>min</th>\n",
       "      <td>16.000000</td>\n",
       "      <td>0.000000</td>\n",
       "    </tr>\n",
       "    <tr>\n",
       "      <th>25%</th>\n",
       "      <td>25.000000</td>\n",
       "      <td>11.500000</td>\n",
       "    </tr>\n",
       "    <tr>\n",
       "      <th>50%</th>\n",
       "      <td>30.500000</td>\n",
       "      <td>13.000000</td>\n",
       "    </tr>\n",
       "    <tr>\n",
       "      <th>75%</th>\n",
       "      <td>39.000000</td>\n",
       "      <td>26.000000</td>\n",
       "    </tr>\n",
       "    <tr>\n",
       "      <th>max</th>\n",
       "      <td>70.000000</td>\n",
       "      <td>73.500000</td>\n",
       "    </tr>\n",
       "  </tbody>\n",
       "</table>\n",
       "</div>"
      ],
      "text/plain": [
       "             Age       Fare\n",
       "count  90.000000  97.000000\n",
       "mean   33.544444  19.412328\n",
       "std    12.151581  15.307175\n",
       "min    16.000000   0.000000\n",
       "25%    25.000000  11.500000\n",
       "50%    30.500000  13.000000\n",
       "75%    39.000000  26.000000\n",
       "max    70.000000  73.500000"
      ]
     },
     "execution_count": 43,
     "metadata": {},
     "output_type": "execute_result"
    }
   ],
   "source": [
    "df[['Age', 'Fare']][(df['Survived'] == 0) & (df['Pclass']==2)].describe()"
   ]
  },
  {
   "cell_type": "code",
   "execution_count": 44,
   "metadata": {
    "colab": {
     "base_uri": "https://localhost:8080/",
     "height": 300
    },
    "executionInfo": {
     "elapsed": 24,
     "status": "ok",
     "timestamp": 1682695237536,
     "user": {
      "displayName": "Adnan Alkattan",
      "userId": "14686308749644374052"
     },
     "user_tz": -180
    },
    "id": "kpu1JACm7HCN",
    "outputId": "9201c34e-8f56-47ac-dd8a-248b4ca29e9d"
   },
   "outputs": [
    {
     "data": {
      "text/html": [
       "<div>\n",
       "<style scoped>\n",
       "    .dataframe tbody tr th:only-of-type {\n",
       "        vertical-align: middle;\n",
       "    }\n",
       "\n",
       "    .dataframe tbody tr th {\n",
       "        vertical-align: top;\n",
       "    }\n",
       "\n",
       "    .dataframe thead th {\n",
       "        text-align: right;\n",
       "    }\n",
       "</style>\n",
       "<table border=\"1\" class=\"dataframe\">\n",
       "  <thead>\n",
       "    <tr style=\"text-align: right;\">\n",
       "      <th></th>\n",
       "      <th>Age</th>\n",
       "      <th>Fare</th>\n",
       "    </tr>\n",
       "  </thead>\n",
       "  <tbody>\n",
       "    <tr>\n",
       "      <th>count</th>\n",
       "      <td>270.000000</td>\n",
       "      <td>372.000000</td>\n",
       "    </tr>\n",
       "    <tr>\n",
       "      <th>mean</th>\n",
       "      <td>26.555556</td>\n",
       "      <td>13.669364</td>\n",
       "    </tr>\n",
       "    <tr>\n",
       "      <th>std</th>\n",
       "      <td>12.334882</td>\n",
       "      <td>12.118338</td>\n",
       "    </tr>\n",
       "    <tr>\n",
       "      <th>min</th>\n",
       "      <td>1.000000</td>\n",
       "      <td>0.000000</td>\n",
       "    </tr>\n",
       "    <tr>\n",
       "      <th>25%</th>\n",
       "      <td>19.000000</td>\n",
       "      <td>7.750000</td>\n",
       "    </tr>\n",
       "    <tr>\n",
       "      <th>50%</th>\n",
       "      <td>25.000000</td>\n",
       "      <td>8.050000</td>\n",
       "    </tr>\n",
       "    <tr>\n",
       "      <th>75%</th>\n",
       "      <td>33.000000</td>\n",
       "      <td>15.136450</td>\n",
       "    </tr>\n",
       "    <tr>\n",
       "      <th>max</th>\n",
       "      <td>74.000000</td>\n",
       "      <td>69.550000</td>\n",
       "    </tr>\n",
       "  </tbody>\n",
       "</table>\n",
       "</div>"
      ],
      "text/plain": [
       "              Age        Fare\n",
       "count  270.000000  372.000000\n",
       "mean    26.555556   13.669364\n",
       "std     12.334882   12.118338\n",
       "min      1.000000    0.000000\n",
       "25%     19.000000    7.750000\n",
       "50%     25.000000    8.050000\n",
       "75%     33.000000   15.136450\n",
       "max     74.000000   69.550000"
      ]
     },
     "execution_count": 44,
     "metadata": {},
     "output_type": "execute_result"
    }
   ],
   "source": [
    "df[['Age', 'Fare']][(df['Survived'] == 0) & (df['Pclass']==3)].describe()"
   ]
  },
  {
   "cell_type": "markdown",
   "metadata": {
    "id": "cSw-J2xn7oww"
   },
   "source": [
    "We can easily see that in the lower class we have more young people died. As for the first class we can observe that with a higher ticket price you will have a higher probablity to survive.\n",
    "\n",
    "Now it's your turn. Try to extract more information from the dataset in a similar manner."
   ]
  },
  {
   "cell_type": "code",
   "execution_count": 45,
   "metadata": {
    "id": "GsyiogDB8NA9"
   },
   "outputs": [],
   "source": [
    "########################\n",
    "#####YOUR CODE HERE#####\n",
    "########################"
   ]
  },
  {
   "cell_type": "markdown",
   "metadata": {
    "id": "5OG_f3WneL1X"
   },
   "source": [
    "There are, of course, other types of summary statistics. For instance, the\n",
    "skewness. However, they are beyond the scope of this notebook.<br>\n",
    "You can do a small research about it and figure out how to handle them in pandas."
   ]
  },
  {
   "cell_type": "code",
   "execution_count": 46,
   "metadata": {
    "id": "if1j3Yi9ewSz"
   },
   "outputs": [],
   "source": [
    "########################\n",
    "#####YOUR CODE HERE#####\n",
    "########################"
   ]
  },
  {
   "cell_type": "markdown",
   "metadata": {
    "id": "wRyl2kyouYxj"
   },
   "source": [
    "## Preprocessing\n",
    "Before any further investigation and to avoid the risk of committing serious data analysis blunders we must address some of the problems in the Titanc dataset."
   ]
  },
  {
   "cell_type": "markdown",
   "metadata": {
    "id": "gCdLIC591AJI"
   },
   "source": [
    "### Imputation\n",
    "Detecting missing values is the easy part, it is far more difficult to decide how to handle them. In cases where you have a lot of data and only a few missing values, it might make sense to simply delete records with missing values present. On the other hand, if you have more than a handful of missing values, removing records with missing values could cause you to get rid of a lot of data.\n",
    "\n",
    "Missing values in categorical data are not particularly troubling because you can simply treat NA as an additional category. While in numeric variables they are more troublesome, since you can't just treat a missing value as number. As it happens, the Titanic dataset has some NA's in the Age variable (numeric), And also it has too many missing values for the Cabin attribute (categorical)."
   ]
  },
  {
   "cell_type": "code",
   "execution_count": 10,
   "metadata": {
    "colab": {
     "base_uri": "https://localhost:8080/",
     "height": 425
    },
    "executionInfo": {
     "elapsed": 24,
     "status": "ok",
     "timestamp": 1682695237537,
     "user": {
      "displayName": "Adnan Alkattan",
      "userId": "14686308749644374052"
     },
     "user_tz": -180
    },
    "id": "83AXvxT9rrFK",
    "outputId": "1169e5a6-eae7-4ab5-b098-19e9e0989de7"
   },
   "outputs": [
    {
     "data": {
      "text/html": [
       "<div>\n",
       "<style scoped>\n",
       "    .dataframe tbody tr th:only-of-type {\n",
       "        vertical-align: middle;\n",
       "    }\n",
       "\n",
       "    .dataframe tbody tr th {\n",
       "        vertical-align: top;\n",
       "    }\n",
       "\n",
       "    .dataframe thead th {\n",
       "        text-align: right;\n",
       "    }\n",
       "</style>\n",
       "<table border=\"1\" class=\"dataframe\">\n",
       "  <thead>\n",
       "    <tr style=\"text-align: right;\">\n",
       "      <th></th>\n",
       "      <th>data_type</th>\n",
       "      <th>missing_val</th>\n",
       "      <th>missing_val_ratio</th>\n",
       "    </tr>\n",
       "  </thead>\n",
       "  <tbody>\n",
       "    <tr>\n",
       "      <th>PassengerId</th>\n",
       "      <td>int64</td>\n",
       "      <td>0</td>\n",
       "      <td>0</td>\n",
       "    </tr>\n",
       "    <tr>\n",
       "      <th>Survived</th>\n",
       "      <td>int64</td>\n",
       "      <td>0</td>\n",
       "      <td>0</td>\n",
       "    </tr>\n",
       "    <tr>\n",
       "      <th>Pclass</th>\n",
       "      <td>int64</td>\n",
       "      <td>0</td>\n",
       "      <td>0</td>\n",
       "    </tr>\n",
       "    <tr>\n",
       "      <th>Name</th>\n",
       "      <td>object</td>\n",
       "      <td>0</td>\n",
       "      <td>0</td>\n",
       "    </tr>\n",
       "    <tr>\n",
       "      <th>Sex</th>\n",
       "      <td>object</td>\n",
       "      <td>0</td>\n",
       "      <td>0</td>\n",
       "    </tr>\n",
       "    <tr>\n",
       "      <th>Age</th>\n",
       "      <td>float64</td>\n",
       "      <td>177</td>\n",
       "      <td>20</td>\n",
       "    </tr>\n",
       "    <tr>\n",
       "      <th>SibSp</th>\n",
       "      <td>int64</td>\n",
       "      <td>0</td>\n",
       "      <td>0</td>\n",
       "    </tr>\n",
       "    <tr>\n",
       "      <th>Parch</th>\n",
       "      <td>int64</td>\n",
       "      <td>0</td>\n",
       "      <td>0</td>\n",
       "    </tr>\n",
       "    <tr>\n",
       "      <th>Ticket</th>\n",
       "      <td>object</td>\n",
       "      <td>0</td>\n",
       "      <td>0</td>\n",
       "    </tr>\n",
       "    <tr>\n",
       "      <th>Fare</th>\n",
       "      <td>float64</td>\n",
       "      <td>0</td>\n",
       "      <td>0</td>\n",
       "    </tr>\n",
       "    <tr>\n",
       "      <th>Cabin</th>\n",
       "      <td>object</td>\n",
       "      <td>687</td>\n",
       "      <td>77</td>\n",
       "    </tr>\n",
       "    <tr>\n",
       "      <th>Embarked</th>\n",
       "      <td>object</td>\n",
       "      <td>2</td>\n",
       "      <td>0</td>\n",
       "    </tr>\n",
       "  </tbody>\n",
       "</table>\n",
       "</div>"
      ],
      "text/plain": [
       "            data_type  missing_val  missing_val_ratio\n",
       "PassengerId     int64            0                  0\n",
       "Survived        int64            0                  0\n",
       "Pclass          int64            0                  0\n",
       "Name           object            0                  0\n",
       "Sex            object            0                  0\n",
       "Age           float64          177                 20\n",
       "SibSp           int64            0                  0\n",
       "Parch           int64            0                  0\n",
       "Ticket         object            0                  0\n",
       "Fare          float64            0                  0\n",
       "Cabin          object          687                 77\n",
       "Embarked       object            2                  0"
      ]
     },
     "execution_count": 10,
     "metadata": {},
     "output_type": "execute_result"
    }
   ],
   "source": [
    "info_df"
   ]
  },
  {
   "cell_type": "code",
   "execution_count": 21,
   "metadata": {
    "id": "u8OkYQrdyi6D"
   },
   "outputs": [],
   "source": [
    "processed_df = df.copy()\n",
    "processed_df.dropna(subset=['Embarked'], inplace=True)"
   ]
  },
  {
   "cell_type": "code",
   "execution_count": 20,
   "metadata": {},
   "outputs": [
    {
     "data": {
      "text/plain": [
       "0"
      ]
     },
     "execution_count": 20,
     "metadata": {},
     "output_type": "execute_result"
    }
   ],
   "source": [
    "processed_df['Embarked'].isnull().sum()"
   ]
  },
  {
   "cell_type": "markdown",
   "metadata": {
    "id": "OfKkvMGFzxoh"
   },
   "source": [
    "Quiz. So, We have 177 Null values in Age.. How could you make use of the Names to interpolate the absence of the Null values?"
   ]
  },
  {
   "cell_type": "code",
   "execution_count": 22,
   "metadata": {
    "colab": {
     "base_uri": "https://localhost:8080/"
    },
    "executionInfo": {
     "elapsed": 4,
     "status": "ok",
     "timestamp": 1717679693668,
     "user": {
      "displayName": "Adnan Alkattan",
      "userId": "14686308749644374052"
     },
     "user_tz": -180
    },
    "id": "IbEoC6wbzqVI",
    "outputId": "6c4f6cc7-afb6-47d4-d90e-1aaa4d10c347"
   },
   "outputs": [
    {
     "data": {
      "text/plain": [
       "0                              Braund, Mr. Owen Harris\n",
       "1    Cumings, Mrs. John Bradley (Florence Briggs Th...\n",
       "2                               Heikkinen, Miss. Laina\n",
       "3         Futrelle, Mrs. Jacques Heath (Lily May Peel)\n",
       "4                             Allen, Mr. William Henry\n",
       "Name: Name, dtype: object"
      ]
     },
     "execution_count": 22,
     "metadata": {},
     "output_type": "execute_result"
    }
   ],
   "source": [
    "processed_df['Name'][:5]"
   ]
  },
  {
   "cell_type": "code",
   "execution_count": 27,
   "metadata": {
    "colab": {
     "base_uri": "https://localhost:8080/"
    },
    "executionInfo": {
     "elapsed": 3,
     "status": "ok",
     "timestamp": 1717679823170,
     "user": {
      "displayName": "Adnan Alkattan",
      "userId": "14686308749644374052"
     },
     "user_tz": -180
    },
    "id": "boDZh6Gu0Qbw",
    "outputId": "978c1835-c9a9-4b69-c860-32b9b5d7d119"
   },
   "outputs": [
    {
     "data": {
      "text/plain": [
       "0      Mr\n",
       "1     Mrs\n",
       "2    Miss\n",
       "3     Mrs\n",
       "4      Mr\n",
       "Name: surname, dtype: object"
      ]
     },
     "execution_count": 27,
     "metadata": {},
     "output_type": "execute_result"
    }
   ],
   "source": [
    "# Split the titles from the passenger names which is itself a feature\n",
    "# but also help in calculating missing median age values\n",
    "processed_df['surname'] = processed_df['Name'].apply(lambda x: x.split(',')[1].split('.')[0].strip())\n",
    "processed_df['surname'].head()"
   ]
  },
  {
   "cell_type": "code",
   "execution_count": 28,
   "metadata": {},
   "outputs": [
    {
     "data": {
      "text/plain": [
       "array(['Mr', 'Mrs', 'Miss', 'Master', 'Don', 'Rev', 'Dr', 'Mme', 'Ms',\n",
       "       'Major', 'Lady', 'Sir', 'Mlle', 'Col', 'Capt', 'the Countess',\n",
       "       'Jonkheer'], dtype=object)"
      ]
     },
     "execution_count": 28,
     "metadata": {},
     "output_type": "execute_result"
    }
   ],
   "source": [
    "processed_df['surname'].unique()"
   ]
  },
  {
   "cell_type": "code",
   "execution_count": 24,
   "metadata": {
    "id": "s8DpvZFB3alT"
   },
   "outputs": [],
   "source": [
    "titles = processed_df['surname'].unique()"
   ]
  },
  {
   "cell_type": "code",
   "execution_count": 25,
   "metadata": {
    "colab": {
     "base_uri": "https://localhost:8080/"
    },
    "executionInfo": {
     "elapsed": 6,
     "status": "ok",
     "timestamp": 1717679696073,
     "user": {
      "displayName": "Adnan Alkattan",
      "userId": "14686308749644374052"
     },
     "user_tz": -180
    },
    "id": "-CF1xBsE4E76",
    "outputId": "428ad06a-7fff-4fa4-d585-0bb7a4f83608"
   },
   "outputs": [
    {
     "data": {
      "text/plain": [
       "17"
      ]
     },
     "execution_count": 25,
     "metadata": {},
     "output_type": "execute_result"
    }
   ],
   "source": [
    "len(titles)"
   ]
  },
  {
   "cell_type": "code",
   "execution_count": null,
   "metadata": {
    "colab": {
     "base_uri": "https://localhost:8080/",
     "height": 258
    },
    "executionInfo": {
     "elapsed": 13,
     "status": "ok",
     "timestamp": 1717679827553,
     "user": {
      "displayName": "Adnan Alkattan",
      "userId": "14686308749644374052"
     },
     "user_tz": -180
    },
    "id": "uD4mlvSi38mG",
    "outputId": "0cce8145-42be-4065-9af6-ee11b35b3675"
   },
   "outputs": [
    {
     "data": {
      "text/html": [
       "<div>\n",
       "<style scoped>\n",
       "    .dataframe tbody tr th:only-of-type {\n",
       "        vertical-align: middle;\n",
       "    }\n",
       "\n",
       "    .dataframe tbody tr th {\n",
       "        vertical-align: top;\n",
       "    }\n",
       "\n",
       "    .dataframe thead th {\n",
       "        text-align: right;\n",
       "    }\n",
       "</style>\n",
       "<table border=\"1\" class=\"dataframe\">\n",
       "  <thead>\n",
       "    <tr style=\"text-align: right;\">\n",
       "      <th></th>\n",
       "      <th>PassengerId</th>\n",
       "      <th>Survived</th>\n",
       "      <th>Pclass</th>\n",
       "      <th>Name</th>\n",
       "      <th>Sex</th>\n",
       "      <th>Age</th>\n",
       "      <th>SibSp</th>\n",
       "      <th>Parch</th>\n",
       "      <th>Ticket</th>\n",
       "      <th>Fare</th>\n",
       "      <th>Cabin</th>\n",
       "      <th>Embarked</th>\n",
       "      <th>surname</th>\n",
       "    </tr>\n",
       "  </thead>\n",
       "  <tbody>\n",
       "    <tr>\n",
       "      <th>0</th>\n",
       "      <td>1</td>\n",
       "      <td>0</td>\n",
       "      <td>3</td>\n",
       "      <td>Braund, Mr. Owen Harris</td>\n",
       "      <td>male</td>\n",
       "      <td>22.0</td>\n",
       "      <td>1</td>\n",
       "      <td>0</td>\n",
       "      <td>A/5 21171</td>\n",
       "      <td>7.2500</td>\n",
       "      <td>NaN</td>\n",
       "      <td>S</td>\n",
       "      <td>Mr</td>\n",
       "    </tr>\n",
       "    <tr>\n",
       "      <th>1</th>\n",
       "      <td>2</td>\n",
       "      <td>1</td>\n",
       "      <td>1</td>\n",
       "      <td>Cumings, Mrs. John Bradley (Florence Briggs Th...</td>\n",
       "      <td>female</td>\n",
       "      <td>38.0</td>\n",
       "      <td>1</td>\n",
       "      <td>0</td>\n",
       "      <td>PC 17599</td>\n",
       "      <td>71.2833</td>\n",
       "      <td>C85</td>\n",
       "      <td>C</td>\n",
       "      <td>Mrs</td>\n",
       "    </tr>\n",
       "    <tr>\n",
       "      <th>2</th>\n",
       "      <td>3</td>\n",
       "      <td>1</td>\n",
       "      <td>3</td>\n",
       "      <td>Heikkinen, Miss. Laina</td>\n",
       "      <td>female</td>\n",
       "      <td>26.0</td>\n",
       "      <td>0</td>\n",
       "      <td>0</td>\n",
       "      <td>STON/O2. 3101282</td>\n",
       "      <td>7.9250</td>\n",
       "      <td>NaN</td>\n",
       "      <td>S</td>\n",
       "      <td>Miss</td>\n",
       "    </tr>\n",
       "    <tr>\n",
       "      <th>3</th>\n",
       "      <td>4</td>\n",
       "      <td>1</td>\n",
       "      <td>1</td>\n",
       "      <td>Futrelle, Mrs. Jacques Heath (Lily May Peel)</td>\n",
       "      <td>female</td>\n",
       "      <td>35.0</td>\n",
       "      <td>1</td>\n",
       "      <td>0</td>\n",
       "      <td>113803</td>\n",
       "      <td>53.1000</td>\n",
       "      <td>C123</td>\n",
       "      <td>S</td>\n",
       "      <td>Mrs</td>\n",
       "    </tr>\n",
       "    <tr>\n",
       "      <th>4</th>\n",
       "      <td>5</td>\n",
       "      <td>0</td>\n",
       "      <td>3</td>\n",
       "      <td>Allen, Mr. William Henry</td>\n",
       "      <td>male</td>\n",
       "      <td>35.0</td>\n",
       "      <td>0</td>\n",
       "      <td>0</td>\n",
       "      <td>373450</td>\n",
       "      <td>8.0500</td>\n",
       "      <td>NaN</td>\n",
       "      <td>S</td>\n",
       "      <td>Mr</td>\n",
       "    </tr>\n",
       "  </tbody>\n",
       "</table>\n",
       "</div>"
      ],
      "text/plain": [
       "   PassengerId  Survived  Pclass  \\\n",
       "0            1         0       3   \n",
       "1            2         1       1   \n",
       "2            3         1       3   \n",
       "3            4         1       1   \n",
       "4            5         0       3   \n",
       "\n",
       "                                                Name     Sex   Age  SibSp  \\\n",
       "0                            Braund, Mr. Owen Harris    male  22.0      1   \n",
       "1  Cumings, Mrs. John Bradley (Florence Briggs Th...  female  38.0      1   \n",
       "2                             Heikkinen, Miss. Laina  female  26.0      0   \n",
       "3       Futrelle, Mrs. Jacques Heath (Lily May Peel)  female  35.0      1   \n",
       "4                           Allen, Mr. William Henry    male  35.0      0   \n",
       "\n",
       "   Parch            Ticket     Fare Cabin Embarked surname  \n",
       "0      0         A/5 21171   7.2500   NaN        S      Mr  \n",
       "1      0          PC 17599  71.2833   C85        C     Mrs  \n",
       "2      0  STON/O2. 3101282   7.9250   NaN        S    Miss  \n",
       "3      0            113803  53.1000  C123        S     Mrs  \n",
       "4      0            373450   8.0500   NaN        S      Mr  "
      ]
     },
     "execution_count": 30,
     "metadata": {},
     "output_type": "execute_result"
    }
   ],
   "source": [
    "processed_df['Age'].fillna(-1, inplace=True)\n",
    "\n",
    "mask = processed_df['Age'] != -1\n",
    "surname = processed_df['surname']\n",
    "\n",
    "medians = {title: processed_df['Age'][(mask) & (surname == title)].median() for title in titles}\n",
    "\n",
    "other_df = processed_df.copy()\n",
    "other_df['Age'] = surname.map(medians)\n",
    "\n",
    "processed_df = processed_df.where(mask, other_df) # Replace values where the condition is False from other.\n",
    "processed_df.head()"
   ]
  },
  {
   "cell_type": "code",
   "execution_count": 34,
   "metadata": {
    "colab": {
     "base_uri": "https://localhost:8080/"
    },
    "executionInfo": {
     "elapsed": 3,
     "status": "ok",
     "timestamp": 1717679696867,
     "user": {
      "displayName": "Adnan Alkattan",
      "userId": "14686308749644374052"
     },
     "user_tz": -180
    },
    "id": "6MiX72Vi95k4",
    "outputId": "83ad02b9-09f5-462c-99da-861ad476727c"
   },
   "outputs": [
    {
     "data": {
      "text/plain": [
       "False"
      ]
     },
     "execution_count": 34,
     "metadata": {},
     "output_type": "execute_result"
    }
   ],
   "source": [
    "processed_df['Age'].isna().any()"
   ]
  },
  {
   "cell_type": "markdown",
   "metadata": {
    "id": "5BjJL42G-fdP"
   },
   "source": [
    "It is common knowledge that we can achieve results in more than one way. Try to leverage `groupby` method and fill the missing values rather than using the previous implementation."
   ]
  },
  {
   "cell_type": "code",
   "execution_count": 55,
   "metadata": {
    "id": "bpIRKH1t-W5f"
   },
   "outputs": [],
   "source": [
    "###################\n",
    "#####YOUR CODE#####\n",
    "###################"
   ]
  },
  {
   "cell_type": "markdown",
   "metadata": {
    "id": "gZeSQI3GAUPY"
   },
   "source": [
    "So now we have eliminated all of the null values in Age variable and we can safely drop the name attribute as there is no more useful information to extract from it."
   ]
  },
  {
   "cell_type": "code",
   "execution_count": 40,
   "metadata": {
    "id": "m-u55YY8ATyO"
   },
   "outputs": [],
   "source": [
    "processed_df.drop(['Name', 'PassengerId'], axis=1, inplace=True)"
   ]
  },
  {
   "cell_type": "code",
   "execution_count": 43,
   "metadata": {
    "colab": {
     "base_uri": "https://localhost:8080/"
    },
    "executionInfo": {
     "elapsed": 3,
     "status": "ok",
     "timestamp": 1717679836003,
     "user": {
      "displayName": "Adnan Alkattan",
      "userId": "14686308749644374052"
     },
     "user_tz": -180
    },
    "id": "ITYu12zmBHZ8",
    "outputId": "959e3cd2-7ee3-4d19-ef9a-e31e0317d7b6"
   },
   "outputs": [
    {
     "data": {
      "text/plain": [
       "array([nan, 'C85', 'C123', 'E46', 'G6', 'C103', 'D56', 'A6',\n",
       "       'C23 C25 C27', 'B78', 'D33', 'B30', 'C52', 'C83', 'F33', 'F G73',\n",
       "       'E31', 'A5', 'D10 D12', 'D26', 'C110', 'B58 B60', 'E101', 'F E69',\n",
       "       'D47', 'B86', 'F2', 'C2', 'E33', 'B19', 'A7', 'C49', 'F4', 'A32',\n",
       "       'B4', 'B80', 'A31', 'D36', 'D15', 'C93', 'C78', 'D35', 'C87',\n",
       "       'B77', 'E67', 'B94', 'C125', 'C99', 'C118', 'D7', 'A19', 'B49',\n",
       "       'D', 'C22 C26', 'C106', 'C65', 'E36', 'C54', 'B57 B59 B63 B66',\n",
       "       'C7', 'E34', 'C32', 'B18', 'C124', 'C91', 'E40', 'T', 'C128',\n",
       "       'D37', 'B35', 'E50', 'C82', 'B96 B98', 'E10', 'E44', 'A34', 'C104',\n",
       "       'C111', 'C92', 'E38', 'D21', 'E12', 'E63', 'A14', 'B37', 'C30',\n",
       "       'D20', 'B79', 'E25', 'D46', 'B73', 'C95', 'B38', 'B39', 'B22',\n",
       "       'C86', 'C70', 'A16', 'C101', 'C68', 'A10', 'E68', 'B41', 'A20',\n",
       "       'D19', 'D50', 'D9', 'A23', 'B50', 'A26', 'D48', 'E58', 'C126',\n",
       "       'B71', 'B51 B53 B55', 'D49', 'B5', 'B20', 'F G63', 'C62 C64',\n",
       "       'E24', 'C90', 'C45', 'E8', 'B101', 'D45', 'C46', 'D30', 'E121',\n",
       "       'D11', 'E77', 'F38', 'B3', 'D6', 'B82 B84', 'D17', 'A36', 'B102',\n",
       "       'B69', 'E49', 'C47', 'D28', 'E17', 'A24', 'C50', 'B42', 'C148'],\n",
       "      dtype=object)"
      ]
     },
     "execution_count": 43,
     "metadata": {},
     "output_type": "execute_result"
    }
   ],
   "source": [
    "processed_df['Cabin'].unique()"
   ]
  },
  {
   "cell_type": "code",
   "execution_count": 44,
   "metadata": {
    "id": "DX61yUHXA4gh"
   },
   "outputs": [],
   "source": [
    "processed_df.fillna('unknown', inplace=True)"
   ]
  },
  {
   "cell_type": "markdown",
   "metadata": {
    "id": "YhIFSwTO2REh"
   },
   "source": [
    "Note that scikit-learn provides many strategies for imputing missing values in the preprocessing module.<br>\n",
    "You can check them out in the package [documentation.](https://scikit-learn.org/stable/modules/impute.html)"
   ]
  },
  {
   "cell_type": "markdown",
   "metadata": {
    "id": "XNpjAyf1PN_B"
   },
   "source": [
    "### Discretization and Binarization\n",
    "Some data mining algorithms, especially certain classification algorithms, require that the data be in the form of categorical attributes. Thus, it is often necessary to transform a continuous attribute into a categorical attribute (discretization), and both continuous and discrete attributes may need to be transformed into one or more binary attributes (binarization).\n",
    "\n",
    "Additionally, if a categorical attribute has a large number of values (categories), or some values occur infrequently, then it may be beneficial for certain data mining tasks to reduce the number of categories by combining some of the values."
   ]
  },
  {
   "cell_type": "code",
   "execution_count": 45,
   "metadata": {
    "colab": {
     "base_uri": "https://localhost:8080/",
     "height": 363
    },
    "executionInfo": {
     "elapsed": 325,
     "status": "ok",
     "timestamp": 1717679840864,
     "user": {
      "displayName": "Adnan Alkattan",
      "userId": "14686308749644374052"
     },
     "user_tz": -180
    },
    "id": "3yCYRXIyxI_M",
    "outputId": "cd94a51e-a1cd-427c-a049-4831aa1288e3"
   },
   "outputs": [
    {
     "data": {
      "text/html": [
       "<div>\n",
       "<style scoped>\n",
       "    .dataframe tbody tr th:only-of-type {\n",
       "        vertical-align: middle;\n",
       "    }\n",
       "\n",
       "    .dataframe tbody tr th {\n",
       "        vertical-align: top;\n",
       "    }\n",
       "\n",
       "    .dataframe thead th {\n",
       "        text-align: right;\n",
       "    }\n",
       "</style>\n",
       "<table border=\"1\" class=\"dataframe\">\n",
       "  <thead>\n",
       "    <tr style=\"text-align: right;\">\n",
       "      <th></th>\n",
       "      <th>counts</th>\n",
       "      <th>freqs</th>\n",
       "    </tr>\n",
       "    <tr>\n",
       "      <th>categories</th>\n",
       "      <th></th>\n",
       "      <th></th>\n",
       "    </tr>\n",
       "  </thead>\n",
       "  <tbody>\n",
       "    <tr>\n",
       "      <th>A</th>\n",
       "      <td>15</td>\n",
       "      <td>0.016873</td>\n",
       "    </tr>\n",
       "    <tr>\n",
       "      <th>B</th>\n",
       "      <td>45</td>\n",
       "      <td>0.050619</td>\n",
       "    </tr>\n",
       "    <tr>\n",
       "      <th>C</th>\n",
       "      <td>59</td>\n",
       "      <td>0.066367</td>\n",
       "    </tr>\n",
       "    <tr>\n",
       "      <th>D</th>\n",
       "      <td>33</td>\n",
       "      <td>0.037120</td>\n",
       "    </tr>\n",
       "    <tr>\n",
       "      <th>E</th>\n",
       "      <td>32</td>\n",
       "      <td>0.035996</td>\n",
       "    </tr>\n",
       "    <tr>\n",
       "      <th>F</th>\n",
       "      <td>13</td>\n",
       "      <td>0.014623</td>\n",
       "    </tr>\n",
       "    <tr>\n",
       "      <th>G</th>\n",
       "      <td>4</td>\n",
       "      <td>0.004499</td>\n",
       "    </tr>\n",
       "    <tr>\n",
       "      <th>T</th>\n",
       "      <td>1</td>\n",
       "      <td>0.001125</td>\n",
       "    </tr>\n",
       "    <tr>\n",
       "      <th>u</th>\n",
       "      <td>687</td>\n",
       "      <td>0.772778</td>\n",
       "    </tr>\n",
       "  </tbody>\n",
       "</table>\n",
       "</div>"
      ],
      "text/plain": [
       "            counts     freqs\n",
       "categories                  \n",
       "A               15  0.016873\n",
       "B               45  0.050619\n",
       "C               59  0.066367\n",
       "D               33  0.037120\n",
       "E               32  0.035996\n",
       "F               13  0.014623\n",
       "G                4  0.004499\n",
       "T                1  0.001125\n",
       "u              687  0.772778"
      ]
     },
     "execution_count": 45,
     "metadata": {},
     "output_type": "execute_result"
    }
   ],
   "source": [
    "char_cabin = processed_df[\"Cabin\"].astype(str) # Convert data to str\n",
    "\n",
    "new_cabin = np.array([cabin[0] for cabin in char_cabin]) # Take first letter\n",
    "\n",
    "new_cabin = pd.Categorical(new_cabin)\n",
    "\n",
    "new_cabin.describe()"
   ]
  },
  {
   "cell_type": "code",
   "execution_count": 46,
   "metadata": {
    "id": "c503imFA4EBS"
   },
   "outputs": [],
   "source": [
    "processed_df['Cabin'] = new_cabin"
   ]
  },
  {
   "cell_type": "code",
   "execution_count": 62,
   "metadata": {
    "id": "gI_cO737X4na"
   },
   "outputs": [],
   "source": [
    "from sklearn.preprocessing import KBinsDiscretizer\n",
    "transformer = KBinsDiscretizer(n_bins=5, encode='ordinal')\n",
    "discrete_age = transformer.fit_transform(processed_df['Age'].values.reshape(-1, 1))"
   ]
  },
  {
   "cell_type": "code",
   "execution_count": 63,
   "metadata": {
    "colab": {
     "base_uri": "https://localhost:8080/"
    },
    "executionInfo": {
     "elapsed": 3,
     "status": "ok",
     "timestamp": 1717679713811,
     "user": {
      "displayName": "Adnan Alkattan",
      "userId": "14686308749644374052"
     },
     "user_tz": -180
    },
    "id": "P5gKn15ub1Im",
    "outputId": "34560c03-6cd1-4db8-fbd3-ae0ecaeef8d3"
   },
   "outputs": [
    {
     "data": {
      "text/plain": [
       "array([0., 1., 2., 3., 4.])"
      ]
     },
     "execution_count": 63,
     "metadata": {},
     "output_type": "execute_result"
    }
   ],
   "source": [
    "np.unique(discrete_age)"
   ]
  },
  {
   "cell_type": "code",
   "execution_count": 64,
   "metadata": {
    "colab": {
     "base_uri": "https://localhost:8080/"
    },
    "executionInfo": {
     "elapsed": 4,
     "status": "ok",
     "timestamp": 1717679713812,
     "user": {
      "displayName": "Adnan Alkattan",
      "userId": "14686308749644374052"
     },
     "user_tz": -180
    },
    "id": "n5T4FfNUb5RF",
    "outputId": "49bfccb4-1ccb-40f4-da6d-cbe3d0d6590c"
   },
   "outputs": [
    {
     "data": {
      "text/plain": [
       "array([ 0.42, 20.  , 26.  , 30.  , 38.  , 80.  ])"
      ]
     },
     "execution_count": 64,
     "metadata": {},
     "output_type": "execute_result"
    }
   ],
   "source": [
    "transformer.bin_edges_[0]"
   ]
  },
  {
   "cell_type": "markdown",
   "metadata": {
    "id": "vqjoSo8_ck1F"
   },
   "source": [
    "The edges of each bin:\n",
    "*   $[0.42, 20)$\n",
    "*   $[20, 26)$\n",
    "*   $[26, 30)$\n",
    "*   $[30, 38)$\n",
    "*   $[38, 80)$\n"
   ]
  },
  {
   "cell_type": "markdown",
   "metadata": {
    "id": "S9JeJNR7eTKC"
   },
   "source": [
    "**KBinsDiscretizer** implements different binning strategies, which can be selected with the strategy parameter. The ‘uniform’ strategy uses constant-width bins. The ‘quantile’ strategy (default) uses the quantiles values to have equally populated bins in each feature. The ‘kmeans’ strategy defines bins based on a k-means clustering procedure performed on each feature independently.\n",
    "\n",
    "Try the different strategies and compare the outputs intuitively."
   ]
  },
  {
   "cell_type": "markdown",
   "metadata": {},
   "source": [
    "| Strategy | Idea                         | Distribution                     | When to Use?                                                            |\n",
    "|----------|------------------------------|----------------------------------|-------------------------------------------------------------------------|\n",
    "| Uniform  | Fixed-width binning          | Uneven in values                 | When the data is uniformly distributed                                 |\n",
    "| Quantile | Binning by percentiles       | Each bin has roughly same count | When you want to balance the distribution across bins                  |\n",
    "| K-means  | Smart clustering-based binning | Close to natural groupings       | When the data has clear clusters or contains outliers                  |\n"
   ]
  },
  {
   "cell_type": "code",
   "execution_count": 64,
   "metadata": {
    "id": "sNdhJj3ceLnY"
   },
   "outputs": [],
   "source": [
    "########################\n",
    "#####YOUR CODE HERE#####\n",
    "########################"
   ]
  },
  {
   "cell_type": "markdown",
   "metadata": {
    "id": "MAfTpZsFfCBE"
   },
   "source": [
    "Be aware that one can specify custom bins by passing a callable defining the discretization strategy to FunctionTransformer. For instance, we can use the Pandas function `cut`"
   ]
  },
  {
   "cell_type": "code",
   "execution_count": null,
   "metadata": {
    "id": "9xWPq3_lehpw"
   },
   "outputs": [],
   "source": [
    "from sklearn.preprocessing import FunctionTransformer\n",
    "\n",
    "bins = [0, 1, 13, 20, 60, np.inf]\n",
    "labels = ['infant', 'kid', 'teen', 'adult', 'senior citizen']\n",
    "transformer = FunctionTransformer(pd.cut, kw_args={'bins': bins,\n",
    "                                                   'labels': labels,\n",
    "                                                   'retbins': False})\n",
    "age_categories = transformer.fit_transform(processed_df['Age'])"
   ]
  },
  {
   "cell_type": "code",
   "execution_count": 66,
   "metadata": {
    "colab": {
     "base_uri": "https://localhost:8080/",
     "height": 237
    },
    "executionInfo": {
     "elapsed": 526,
     "status": "ok",
     "timestamp": 1717679720747,
     "user": {
      "displayName": "Adnan Alkattan",
      "userId": "14686308749644374052"
     },
     "user_tz": -180
    },
    "id": "pRpK-H7WfslL",
    "outputId": "91289e42-65c6-426d-bf56-82ed4b9f1128"
   },
   "outputs": [
    {
     "data": {
      "text/html": [
       "<div>\n",
       "<style scoped>\n",
       "    .dataframe tbody tr th:only-of-type {\n",
       "        vertical-align: middle;\n",
       "    }\n",
       "\n",
       "    .dataframe tbody tr th {\n",
       "        vertical-align: top;\n",
       "    }\n",
       "\n",
       "    .dataframe thead th {\n",
       "        text-align: right;\n",
       "    }\n",
       "</style>\n",
       "<table border=\"1\" class=\"dataframe\">\n",
       "  <thead>\n",
       "    <tr style=\"text-align: right;\">\n",
       "      <th></th>\n",
       "      <th>counts</th>\n",
       "      <th>freqs</th>\n",
       "    </tr>\n",
       "    <tr>\n",
       "      <th>categories</th>\n",
       "      <th></th>\n",
       "      <th></th>\n",
       "    </tr>\n",
       "  </thead>\n",
       "  <tbody>\n",
       "    <tr>\n",
       "      <th>infant</th>\n",
       "      <td>14</td>\n",
       "      <td>0.015748</td>\n",
       "    </tr>\n",
       "    <tr>\n",
       "      <th>kid</th>\n",
       "      <td>61</td>\n",
       "      <td>0.068616</td>\n",
       "    </tr>\n",
       "    <tr>\n",
       "      <th>teen</th>\n",
       "      <td>108</td>\n",
       "      <td>0.121485</td>\n",
       "    </tr>\n",
       "    <tr>\n",
       "      <th>adult</th>\n",
       "      <td>685</td>\n",
       "      <td>0.770529</td>\n",
       "    </tr>\n",
       "    <tr>\n",
       "      <th>senior citizen</th>\n",
       "      <td>21</td>\n",
       "      <td>0.023622</td>\n",
       "    </tr>\n",
       "  </tbody>\n",
       "</table>\n",
       "</div>"
      ],
      "text/plain": [
       "                counts     freqs\n",
       "categories                      \n",
       "infant              14  0.015748\n",
       "kid                 61  0.068616\n",
       "teen               108  0.121485\n",
       "adult              685  0.770529\n",
       "senior citizen      21  0.023622"
      ]
     },
     "execution_count": 66,
     "metadata": {},
     "output_type": "execute_result"
    }
   ],
   "source": [
    "pd.Categorical(age_categories).describe()"
   ]
  },
  {
   "cell_type": "code",
   "execution_count": 67,
   "metadata": {
    "id": "WO68Ade4f4U_"
   },
   "outputs": [],
   "source": [
    "processed_df['age_category'] = age_categories"
   ]
  },
  {
   "cell_type": "markdown",
   "metadata": {
    "id": "Y0SZjjY0hl-f"
   },
   "source": [
    "The **Binarizer** class in sklearn implements binarization in a very intuitive way. The only parameters you need to specify are the threshold and copy. All values below or equal to the threshold are replaced by 0, above it by 1. If copy is set to False, inplace binarization is performed, otherwise a copy is made."
   ]
  },
  {
   "cell_type": "code",
   "execution_count": 68,
   "metadata": {
    "id": "FbJTXOjkiAf4"
   },
   "outputs": [],
   "source": [
    "from sklearn.preprocessing import Binarizer\n",
    "transformer = Binarizer(threshold=20)\n",
    "fare = transformer.fit_transform(processed_df['Fare'].values.reshape(-1, 1))"
   ]
  },
  {
   "cell_type": "code",
   "execution_count": 69,
   "metadata": {
    "colab": {
     "base_uri": "https://localhost:8080/",
     "height": 143
    },
    "executionInfo": {
     "elapsed": 16,
     "status": "ok",
     "timestamp": 1682695241892,
     "user": {
      "displayName": "Adnan Alkattan",
      "userId": "14686308749644374052"
     },
     "user_tz": -180
    },
    "id": "KpBytHqjirgX",
    "outputId": "c186d988-8bee-4f70-d81f-407c75415fab"
   },
   "outputs": [
    {
     "data": {
      "text/html": [
       "<div>\n",
       "<style scoped>\n",
       "    .dataframe tbody tr th:only-of-type {\n",
       "        vertical-align: middle;\n",
       "    }\n",
       "\n",
       "    .dataframe tbody tr th {\n",
       "        vertical-align: top;\n",
       "    }\n",
       "\n",
       "    .dataframe thead th {\n",
       "        text-align: right;\n",
       "    }\n",
       "</style>\n",
       "<table border=\"1\" class=\"dataframe\">\n",
       "  <thead>\n",
       "    <tr style=\"text-align: right;\">\n",
       "      <th></th>\n",
       "      <th>counts</th>\n",
       "      <th>freqs</th>\n",
       "    </tr>\n",
       "    <tr>\n",
       "      <th>categories</th>\n",
       "      <th></th>\n",
       "      <th></th>\n",
       "    </tr>\n",
       "  </thead>\n",
       "  <tbody>\n",
       "    <tr>\n",
       "      <th>High</th>\n",
       "      <td>374</td>\n",
       "      <td>0.420697</td>\n",
       "    </tr>\n",
       "    <tr>\n",
       "      <th>Low</th>\n",
       "      <td>515</td>\n",
       "      <td>0.579303</td>\n",
       "    </tr>\n",
       "  </tbody>\n",
       "</table>\n",
       "</div>"
      ],
      "text/plain": [
       "            counts     freqs\n",
       "categories                  \n",
       "High           374  0.420697\n",
       "Low            515  0.579303"
      ]
     },
     "execution_count": 69,
     "metadata": {},
     "output_type": "execute_result"
    }
   ],
   "source": [
    "pd.Categorical(pd.Series(fare.flatten(), dtype=int).map({1: 'High', 0: 'Low'})).describe()"
   ]
  },
  {
   "cell_type": "markdown",
   "metadata": {
    "id": "lJkCjIi5jQa0"
   },
   "source": [
    "Note that the **Binarizer** is similar to the **KBinsDiscretizer** when `k = 2`, and when the bin edge is at the value `threshold`."
   ]
  },
  {
   "cell_type": "code",
   "execution_count": 70,
   "metadata": {
    "id": "R18wlAs0O4Hd"
   },
   "outputs": [],
   "source": [
    "processed_df['Family'] = processed_df['SibSp'] + processed_df['Parch']"
   ]
  },
  {
   "cell_type": "markdown",
   "metadata": {
    "id": "oGmo8tFERGgZ"
   },
   "source": [
    "### Sampling\n",
    "\n",
    "One of the biggest hurdles faced in data analytics is dealing with massive amounts of data. Where it would be impractical and sometimes impossible to study the whole population. So how do we overcome this problem? Is there a way that you can pick a subset of the data that represents the entire dataset? As it turns out, there is!\n",
    "\n",
    "We define Sampling as the practice of selecting an individual group from a population to study the whole population. However, this process is not as simple as it sounds. Whenever you follow this method, your sample size has to be **ideal** - it should **NOT** be too *large* or too *small*, it has to be a true representation of the population."
   ]
  },
  {
   "cell_type": "markdown",
   "metadata": {
    "id": "WgTrd3MbJe9R"
   },
   "source": [
    "#### Iris Feature by Class Distribution in Random Subsampling\n",
    "\n",
    "The following code will randomly divide the iris dataset into a 100-example training and 50-example test dataset to illustrate the issues that occur in naïve subsampling. I.e., the proportion of class labels in the training set will differ from the original dataset. Even worse, the proportion of class labels in the test set will be different too, depending on what the class label proportion is in the training set."
   ]
  },
  {
   "cell_type": "code",
   "execution_count": 72,
   "metadata": {},
   "outputs": [
    {
     "name": "stdout",
     "output_type": "stream",
     "text": [
      "Collecting mlxtend\n",
      "  Downloading mlxtend-0.23.4-py3-none-any.whl.metadata (7.3 kB)\n",
      "Requirement already satisfied: scipy>=1.2.1 in c:\\users\\sarea\\anaconda3\\lib\\site-packages (from mlxtend) (1.7.3)\n",
      "Requirement already satisfied: numpy>=1.16.2 in c:\\users\\sarea\\anaconda3\\lib\\site-packages (from mlxtend) (1.22.4)\n",
      "Requirement already satisfied: pandas>=0.24.2 in c:\\users\\sarea\\anaconda3\\lib\\site-packages (from mlxtend) (1.4.2)\n",
      "Requirement already satisfied: scikit-learn>=1.3.1 in c:\\users\\sarea\\anaconda3\\lib\\site-packages (from mlxtend) (1.4.2)\n",
      "Requirement already satisfied: matplotlib>=3.0.0 in c:\\users\\sarea\\anaconda3\\lib\\site-packages (from mlxtend) (3.5.1)\n",
      "Requirement already satisfied: joblib>=0.13.2 in c:\\users\\sarea\\anaconda3\\lib\\site-packages (from mlxtend) (1.2.0)\n",
      "Requirement already satisfied: cycler>=0.10 in c:\\users\\sarea\\anaconda3\\lib\\site-packages (from matplotlib>=3.0.0->mlxtend) (0.11.0)\n",
      "Requirement already satisfied: fonttools>=4.22.0 in c:\\users\\sarea\\anaconda3\\lib\\site-packages (from matplotlib>=3.0.0->mlxtend) (4.25.0)\n",
      "Requirement already satisfied: kiwisolver>=1.0.1 in c:\\users\\sarea\\anaconda3\\lib\\site-packages (from matplotlib>=3.0.0->mlxtend) (1.4.4)\n",
      "Requirement already satisfied: packaging>=20.0 in c:\\users\\sarea\\anaconda3\\lib\\site-packages (from matplotlib>=3.0.0->mlxtend) (23.1)\n",
      "Requirement already satisfied: pillow>=6.2.0 in c:\\users\\sarea\\anaconda3\\lib\\site-packages (from matplotlib>=3.0.0->mlxtend) (10.0.1)\n",
      "Requirement already satisfied: pyparsing>=2.2.1 in c:\\users\\sarea\\anaconda3\\lib\\site-packages (from matplotlib>=3.0.0->mlxtend) (3.0.9)\n",
      "Requirement already satisfied: python-dateutil>=2.7 in c:\\users\\sarea\\anaconda3\\lib\\site-packages (from matplotlib>=3.0.0->mlxtend) (2.8.2)\n",
      "Requirement already satisfied: pytz>=2020.1 in c:\\users\\sarea\\anaconda3\\lib\\site-packages (from pandas>=0.24.2->mlxtend) (2023.3.post1)\n",
      "Requirement already satisfied: threadpoolctl>=2.0.0 in c:\\users\\sarea\\anaconda3\\lib\\site-packages (from scikit-learn>=1.3.1->mlxtend) (2.2.0)\n",
      "Requirement already satisfied: six>=1.5 in c:\\users\\sarea\\anaconda3\\lib\\site-packages (from python-dateutil>=2.7->matplotlib>=3.0.0->mlxtend) (1.16.0)\n",
      "Downloading mlxtend-0.23.4-py3-none-any.whl (1.4 MB)\n",
      "   ---------------------------------------- 0.0/1.4 MB ? eta -:--:--\n",
      "   ---------------------------------------- 0.0/1.4 MB ? eta -:--:--\n",
      "   ---------------------------------------- 0.0/1.4 MB ? eta -:--:--\n",
      "   ---------------------------------------- 0.0/1.4 MB ? eta -:--:--\n",
      "    --------------------------------------- 0.0/1.4 MB 163.8 kB/s eta 0:00:09\n",
      "   - -------------------------------------- 0.0/1.4 MB 164.3 kB/s eta 0:00:08\n",
      "   - -------------------------------------- 0.0/1.4 MB 164.3 kB/s eta 0:00:08\n",
      "   -- ------------------------------------- 0.1/1.4 MB 218.6 kB/s eta 0:00:06\n",
      "   -- ------------------------------------- 0.1/1.4 MB 218.6 kB/s eta 0:00:06\n",
      "   -- ------------------------------------- 0.1/1.4 MB 228.2 kB/s eta 0:00:06\n",
      "   -- ------------------------------------- 0.1/1.4 MB 228.2 kB/s eta 0:00:06\n",
      "   --- ------------------------------------ 0.1/1.4 MB 226.0 kB/s eta 0:00:06\n",
      "   --- ------------------------------------ 0.1/1.4 MB 226.0 kB/s eta 0:00:06\n",
      "   --- ------------------------------------ 0.1/1.4 MB 212.1 kB/s eta 0:00:06\n",
      "   ---- ----------------------------------- 0.1/1.4 MB 224.5 kB/s eta 0:00:06\n",
      "   ---- ----------------------------------- 0.2/1.4 MB 224.0 kB/s eta 0:00:06\n",
      "   ---- ----------------------------------- 0.2/1.4 MB 224.0 kB/s eta 0:00:06\n",
      "   ---- ----------------------------------- 0.2/1.4 MB 224.0 kB/s eta 0:00:06\n",
      "   ----- ---------------------------------- 0.2/1.4 MB 214.2 kB/s eta 0:00:06\n",
      "   ----- ---------------------------------- 0.2/1.4 MB 227.0 kB/s eta 0:00:06\n",
      "   ------ --------------------------------- 0.2/1.4 MB 222.4 kB/s eta 0:00:06\n",
      "   ------ --------------------------------- 0.2/1.4 MB 222.4 kB/s eta 0:00:06\n",
      "   ------ --------------------------------- 0.2/1.4 MB 222.4 kB/s eta 0:00:06\n",
      "   ------ --------------------------------- 0.2/1.4 MB 222.4 kB/s eta 0:00:06\n",
      "   ------ --------------------------------- 0.2/1.4 MB 222.4 kB/s eta 0:00:06\n",
      "   ------ --------------------------------- 0.2/1.4 MB 222.4 kB/s eta 0:00:06\n",
      "   ------ --------------------------------- 0.2/1.4 MB 222.4 kB/s eta 0:00:06\n",
      "   ------ --------------------------------- 0.2/1.4 MB 222.4 kB/s eta 0:00:06\n",
      "   ------ --------------------------------- 0.2/1.4 MB 222.4 kB/s eta 0:00:06\n",
      "   ------ --------------------------------- 0.2/1.4 MB 222.4 kB/s eta 0:00:06\n",
      "   ------ --------------------------------- 0.2/1.4 MB 222.4 kB/s eta 0:00:06\n",
      "   ------ --------------------------------- 0.2/1.4 MB 222.4 kB/s eta 0:00:06\n",
      "   ------ --------------------------------- 0.2/1.4 MB 222.4 kB/s eta 0:00:06\n",
      "   ------ --------------------------------- 0.2/1.4 MB 222.4 kB/s eta 0:00:06\n",
      "   ------ --------------------------------- 0.2/1.4 MB 222.4 kB/s eta 0:00:06\n",
      "   ------ --------------------------------- 0.2/1.4 MB 222.4 kB/s eta 0:00:06\n",
      "   --------- ------------------------------ 0.3/1.4 MB 186.4 kB/s eta 0:00:06\n",
      "   --------- ------------------------------ 0.3/1.4 MB 186.4 kB/s eta 0:00:06\n",
      "   --------- ------------------------------ 0.3/1.4 MB 186.4 kB/s eta 0:00:06\n",
      "   --------- ------------------------------ 0.3/1.4 MB 186.4 kB/s eta 0:00:06\n",
      "   --------- ------------------------------ 0.3/1.4 MB 186.4 kB/s eta 0:00:06\n",
      "   --------- ------------------------------ 0.3/1.4 MB 186.4 kB/s eta 0:00:06\n",
      "   --------- ------------------------------ 0.3/1.4 MB 186.4 kB/s eta 0:00:06\n",
      "   --------- ------------------------------ 0.3/1.4 MB 186.4 kB/s eta 0:00:06\n",
      "   --------- ------------------------------ 0.3/1.4 MB 186.4 kB/s eta 0:00:06\n",
      "   --------- ------------------------------ 0.3/1.4 MB 186.4 kB/s eta 0:00:06\n",
      "   --------- ------------------------------ 0.3/1.4 MB 186.4 kB/s eta 0:00:06\n",
      "   --------- ------------------------------ 0.3/1.4 MB 186.4 kB/s eta 0:00:06\n",
      "   --------- ------------------------------ 0.3/1.4 MB 186.4 kB/s eta 0:00:06\n",
      "   --------- ------------------------------ 0.3/1.4 MB 186.4 kB/s eta 0:00:06\n",
      "   --------- ------------------------------ 0.3/1.4 MB 186.4 kB/s eta 0:00:06\n",
      "   ------------ --------------------------- 0.4/1.4 MB 177.2 kB/s eta 0:00:06\n",
      "   ------------- -------------------------- 0.5/1.4 MB 186.7 kB/s eta 0:00:05\n",
      "   ------------- -------------------------- 0.5/1.4 MB 186.7 kB/s eta 0:00:05\n",
      "   ------------- -------------------------- 0.5/1.4 MB 186.7 kB/s eta 0:00:05\n",
      "   ------------- -------------------------- 0.5/1.4 MB 185.5 kB/s eta 0:00:05\n",
      "   -------------- ------------------------- 0.5/1.4 MB 195.4 kB/s eta 0:00:05\n",
      "   -------------- ------------------------- 0.5/1.4 MB 195.4 kB/s eta 0:00:05\n",
      "   --------------- ------------------------ 0.5/1.4 MB 195.0 kB/s eta 0:00:05\n",
      "   --------------- ------------------------ 0.5/1.4 MB 195.0 kB/s eta 0:00:05\n",
      "   ---------------- ----------------------- 0.6/1.4 MB 205.8 kB/s eta 0:00:04\n",
      "   ----------------- ---------------------- 0.6/1.4 MB 208.5 kB/s eta 0:00:04\n",
      "   ----------------- ---------------------- 0.6/1.4 MB 208.5 kB/s eta 0:00:04\n",
      "   ----------------- ---------------------- 0.6/1.4 MB 208.9 kB/s eta 0:00:04\n",
      "   ----------------- ---------------------- 0.6/1.4 MB 208.9 kB/s eta 0:00:04\n",
      "   ------------------ --------------------- 0.6/1.4 MB 205.7 kB/s eta 0:00:04\n",
      "   ------------------ --------------------- 0.6/1.4 MB 205.7 kB/s eta 0:00:04\n",
      "   ------------------ --------------------- 0.6/1.4 MB 207.2 kB/s eta 0:00:04\n",
      "   ------------------ --------------------- 0.6/1.4 MB 207.2 kB/s eta 0:00:04\n",
      "   ------------------- -------------------- 0.6/1.4 MB 203.2 kB/s eta 0:00:04\n",
      "   ------------------- -------------------- 0.7/1.4 MB 206.7 kB/s eta 0:00:04\n",
      "   -------------------- ------------------- 0.7/1.4 MB 209.0 kB/s eta 0:00:04\n",
      "   -------------------- ------------------- 0.7/1.4 MB 209.0 kB/s eta 0:00:04\n",
      "   -------------------- ------------------- 0.7/1.4 MB 208.2 kB/s eta 0:00:04\n",
      "   --------------------- ------------------ 0.7/1.4 MB 212.3 kB/s eta 0:00:03\n",
      "   --------------------- ------------------ 0.7/1.4 MB 211.4 kB/s eta 0:00:03\n",
      "   --------------------- ------------------ 0.7/1.4 MB 211.4 kB/s eta 0:00:03\n",
      "   ---------------------- ----------------- 0.8/1.4 MB 216.5 kB/s eta 0:00:03\n",
      "   ---------------------- ----------------- 0.8/1.4 MB 216.5 kB/s eta 0:00:03\n",
      "   ----------------------- ---------------- 0.8/1.4 MB 215.6 kB/s eta 0:00:03\n",
      "   ----------------------- ---------------- 0.8/1.4 MB 219.4 kB/s eta 0:00:03\n",
      "   ----------------------- ---------------- 0.8/1.4 MB 219.4 kB/s eta 0:00:03\n",
      "   ------------------------ --------------- 0.8/1.4 MB 220.3 kB/s eta 0:00:03\n",
      "   ------------------------ --------------- 0.8/1.4 MB 220.3 kB/s eta 0:00:03\n",
      "   ------------------------ --------------- 0.8/1.4 MB 220.3 kB/s eta 0:00:03\n",
      "   ------------------------ --------------- 0.8/1.4 MB 220.3 kB/s eta 0:00:03\n",
      "   ------------------------ --------------- 0.8/1.4 MB 220.3 kB/s eta 0:00:03\n",
      "   ------------------------ --------------- 0.8/1.4 MB 220.3 kB/s eta 0:00:03\n",
      "   ------------------------- -------------- 0.8/1.4 MB 208.3 kB/s eta 0:00:03\n",
      "   ------------------------- -------------- 0.8/1.4 MB 208.3 kB/s eta 0:00:03\n",
      "   ------------------------- -------------- 0.8/1.4 MB 208.3 kB/s eta 0:00:03\n",
      "   ------------------------- -------------- 0.9/1.4 MB 203.8 kB/s eta 0:00:03\n",
      "   ------------------------- -------------- 0.9/1.4 MB 203.8 kB/s eta 0:00:03\n",
      "   -------------------------- ------------- 0.9/1.4 MB 202.6 kB/s eta 0:00:03\n",
      "   -------------------------- ------------- 0.9/1.4 MB 202.0 kB/s eta 0:00:03\n",
      "   -------------------------- ------------- 0.9/1.4 MB 202.0 kB/s eta 0:00:03\n",
      "   -------------------------- ------------- 0.9/1.4 MB 203.1 kB/s eta 0:00:03\n",
      "   -------------------------- ------------- 0.9/1.4 MB 203.1 kB/s eta 0:00:03\n",
      "   -------------------------- ------------- 0.9/1.4 MB 203.1 kB/s eta 0:00:03\n",
      "   --------------------------- ------------ 0.9/1.4 MB 201.3 kB/s eta 0:00:03\n",
      "   --------------------------- ------------ 0.9/1.4 MB 201.3 kB/s eta 0:00:03\n",
      "   --------------------------- ------------ 0.9/1.4 MB 201.3 kB/s eta 0:00:03\n",
      "   --------------------------- ------------ 0.9/1.4 MB 201.3 kB/s eta 0:00:03\n",
      "   --------------------------- ------------ 0.9/1.4 MB 201.3 kB/s eta 0:00:03\n",
      "   --------------------------- ------------ 0.9/1.4 MB 201.3 kB/s eta 0:00:03\n",
      "   --------------------------- ------------ 0.9/1.4 MB 201.3 kB/s eta 0:00:03\n",
      "   --------------------------- ------------ 0.9/1.4 MB 201.3 kB/s eta 0:00:03\n",
      "   --------------------------- ------------ 0.9/1.4 MB 201.3 kB/s eta 0:00:03\n",
      "   --------------------------- ------------ 0.9/1.4 MB 201.3 kB/s eta 0:00:03\n",
      "   --------------------------- ------------ 0.9/1.4 MB 201.3 kB/s eta 0:00:03\n",
      "   --------------------------- ------------ 0.9/1.4 MB 201.3 kB/s eta 0:00:03\n",
      "   ------------------------------- -------- 1.1/1.4 MB 203.2 kB/s eta 0:00:02\n",
      "   ------------------------------- -------- 1.1/1.4 MB 205.9 kB/s eta 0:00:02\n",
      "   ------------------------------- -------- 1.1/1.4 MB 205.9 kB/s eta 0:00:02\n",
      "   ------------------------------- -------- 1.1/1.4 MB 205.9 kB/s eta 0:00:02\n",
      "   ------------------------------- -------- 1.1/1.4 MB 205.9 kB/s eta 0:00:02\n",
      "   ------------------------------- -------- 1.1/1.4 MB 205.9 kB/s eta 0:00:02\n",
      "   ------------------------------- -------- 1.1/1.4 MB 205.9 kB/s eta 0:00:02\n",
      "   ------------------------------- -------- 1.1/1.4 MB 205.9 kB/s eta 0:00:02\n",
      "   ------------------------------- -------- 1.1/1.4 MB 205.9 kB/s eta 0:00:02\n",
      "   ------------------------------- -------- 1.1/1.4 MB 205.9 kB/s eta 0:00:02\n",
      "   ------------------------------- -------- 1.1/1.4 MB 205.9 kB/s eta 0:00:02\n",
      "   ------------------------------- -------- 1.1/1.4 MB 205.9 kB/s eta 0:00:02\n",
      "   ------------------------------- -------- 1.1/1.4 MB 205.9 kB/s eta 0:00:02\n",
      "   ------------------------------- -------- 1.1/1.4 MB 205.9 kB/s eta 0:00:02\n",
      "   ------------------------------- -------- 1.1/1.4 MB 205.9 kB/s eta 0:00:02\n",
      "   ------------------------------- -------- 1.1/1.4 MB 205.9 kB/s eta 0:00:02\n",
      "   ------------------------------- -------- 1.1/1.4 MB 205.9 kB/s eta 0:00:02\n",
      "   ------------------------------- -------- 1.1/1.4 MB 205.9 kB/s eta 0:00:02\n",
      "   ------------------------------- -------- 1.1/1.4 MB 205.9 kB/s eta 0:00:02\n",
      "   ------------------------------- -------- 1.1/1.4 MB 205.9 kB/s eta 0:00:02\n",
      "   ----------------------------------- ---- 1.2/1.4 MB 194.3 kB/s eta 0:00:01\n",
      "   ----------------------------------- ---- 1.2/1.4 MB 194.3 kB/s eta 0:00:01\n",
      "   ----------------------------------- ---- 1.2/1.4 MB 194.3 kB/s eta 0:00:01\n",
      "   ----------------------------------- ---- 1.2/1.4 MB 194.3 kB/s eta 0:00:01\n",
      "   ----------------------------------- ---- 1.2/1.4 MB 194.3 kB/s eta 0:00:01\n",
      "   ----------------------------------- ---- 1.2/1.4 MB 194.3 kB/s eta 0:00:01\n",
      "   ----------------------------------- ---- 1.2/1.4 MB 194.3 kB/s eta 0:00:01\n",
      "   ----------------------------------- ---- 1.2/1.4 MB 194.3 kB/s eta 0:00:01\n",
      "   ----------------------------------- ---- 1.2/1.4 MB 194.3 kB/s eta 0:00:01\n",
      "   ----------------------------------- ---- 1.2/1.4 MB 194.3 kB/s eta 0:00:01\n",
      "   ----------------------------------- ---- 1.2/1.4 MB 194.3 kB/s eta 0:00:01\n",
      "   ----------------------------------- ---- 1.2/1.4 MB 194.3 kB/s eta 0:00:01\n",
      "   ----------------------------------- ---- 1.2/1.4 MB 194.3 kB/s eta 0:00:01\n",
      "   ----------------------------------- ---- 1.2/1.4 MB 194.3 kB/s eta 0:00:01\n",
      "   ----------------------------------- ---- 1.2/1.4 MB 194.3 kB/s eta 0:00:01\n",
      "   ----------------------------------- ---- 1.2/1.4 MB 194.3 kB/s eta 0:00:01\n",
      "   ----------------------------------- ---- 1.2/1.4 MB 194.3 kB/s eta 0:00:01\n",
      "   -------------------------------------- - 1.3/1.4 MB 188.5 kB/s eta 0:00:01\n",
      "   ---------------------------------------  1.3/1.4 MB 190.7 kB/s eta 0:00:01\n",
      "   ---------------------------------------  1.3/1.4 MB 190.7 kB/s eta 0:00:01\n",
      "   ---------------------------------------  1.3/1.4 MB 190.7 kB/s eta 0:00:01\n",
      "   ---------------------------------------  1.3/1.4 MB 190.7 kB/s eta 0:00:01\n",
      "   ---------------------------------------- 1.4/1.4 MB 189.6 kB/s eta 0:00:00\n",
      "Installing collected packages: mlxtend\n",
      "Successfully installed mlxtend-0.23.4\n"
     ]
    }
   ],
   "source": [
    "!pip install mlxtend"
   ]
  },
  {
   "cell_type": "code",
   "execution_count": 73,
   "metadata": {
    "id": "Q2_ADrAVIu_8"
   },
   "outputs": [],
   "source": [
    "import matplotlib.pyplot as plt\n",
    "from mlxtend.data import iris_data\n",
    "from mlxtend.preprocessing import shuffle_arrays_unison\n",
    "\n",
    "X, y = iris_data()\n",
    "\n",
    "X, y = shuffle_arrays_unison([X, y], random_seed=123)\n",
    "X_train, X_test = X[:100], X[100:150]\n",
    "y_train, y_test = y[:100], y[100:150]"
   ]
  },
  {
   "cell_type": "code",
   "execution_count": 74,
   "metadata": {
    "colab": {
     "base_uri": "https://localhost:8080/"
    },
    "executionInfo": {
     "elapsed": 16,
     "status": "ok",
     "timestamp": 1682695241894,
     "user": {
      "displayName": "Adnan Alkattan",
      "userId": "14686308749644374052"
     },
     "user_tz": -180
    },
    "id": "8vWtdtevIv8N",
    "outputId": "eca4d4ab-a945-4a72-b2c9-967224ac8dd9"
   },
   "outputs": [
    {
     "data": {
      "text/plain": [
       "(array([50, 50, 50], dtype=int64),\n",
       " array([38, 28, 34], dtype=int64),\n",
       " array([12, 22, 16], dtype=int64))"
      ]
     },
     "execution_count": 74,
     "metadata": {},
     "output_type": "execute_result"
    }
   ],
   "source": [
    "np.bincount(y), np.bincount(y_train), np.bincount(y_test)"
   ]
  },
  {
   "cell_type": "code",
   "execution_count": 75,
   "metadata": {
    "id": "TxRnGnoKI39X"
   },
   "outputs": [],
   "source": [
    "iris_df = pd.DataFrame(X)\n",
    "iris_df['class'] = y\n",
    "\n",
    "df_train = pd.DataFrame(X_train)\n",
    "df_train['class'] = y_train\n",
    "\n",
    "df_test = pd.DataFrame(X_test)\n",
    "df_test['class'] = y_test"
   ]
  },
  {
   "cell_type": "code",
   "execution_count": 77,
   "metadata": {},
   "outputs": [
    {
     "data": {
      "text/html": [
       "<div>\n",
       "<style scoped>\n",
       "    .dataframe tbody tr th:only-of-type {\n",
       "        vertical-align: middle;\n",
       "    }\n",
       "\n",
       "    .dataframe tbody tr th {\n",
       "        vertical-align: top;\n",
       "    }\n",
       "\n",
       "    .dataframe thead th {\n",
       "        text-align: right;\n",
       "    }\n",
       "</style>\n",
       "<table border=\"1\" class=\"dataframe\">\n",
       "  <thead>\n",
       "    <tr style=\"text-align: right;\">\n",
       "      <th></th>\n",
       "      <th>0</th>\n",
       "      <th>1</th>\n",
       "      <th>2</th>\n",
       "      <th>3</th>\n",
       "      <th>class</th>\n",
       "    </tr>\n",
       "  </thead>\n",
       "  <tbody>\n",
       "    <tr>\n",
       "      <th>0</th>\n",
       "      <td>6.3</td>\n",
       "      <td>2.5</td>\n",
       "      <td>4.9</td>\n",
       "      <td>1.5</td>\n",
       "      <td>1</td>\n",
       "    </tr>\n",
       "    <tr>\n",
       "      <th>1</th>\n",
       "      <td>6.8</td>\n",
       "      <td>3.0</td>\n",
       "      <td>5.5</td>\n",
       "      <td>2.1</td>\n",
       "      <td>2</td>\n",
       "    </tr>\n",
       "    <tr>\n",
       "      <th>2</th>\n",
       "      <td>6.4</td>\n",
       "      <td>2.8</td>\n",
       "      <td>5.6</td>\n",
       "      <td>2.2</td>\n",
       "      <td>2</td>\n",
       "    </tr>\n",
       "    <tr>\n",
       "      <th>3</th>\n",
       "      <td>5.6</td>\n",
       "      <td>3.0</td>\n",
       "      <td>4.1</td>\n",
       "      <td>1.3</td>\n",
       "      <td>1</td>\n",
       "    </tr>\n",
       "    <tr>\n",
       "      <th>4</th>\n",
       "      <td>4.9</td>\n",
       "      <td>3.1</td>\n",
       "      <td>1.5</td>\n",
       "      <td>0.1</td>\n",
       "      <td>0</td>\n",
       "    </tr>\n",
       "    <tr>\n",
       "      <th>...</th>\n",
       "      <td>...</td>\n",
       "      <td>...</td>\n",
       "      <td>...</td>\n",
       "      <td>...</td>\n",
       "      <td>...</td>\n",
       "    </tr>\n",
       "    <tr>\n",
       "      <th>145</th>\n",
       "      <td>5.1</td>\n",
       "      <td>3.5</td>\n",
       "      <td>1.4</td>\n",
       "      <td>0.3</td>\n",
       "      <td>0</td>\n",
       "    </tr>\n",
       "    <tr>\n",
       "      <th>146</th>\n",
       "      <td>5.1</td>\n",
       "      <td>2.5</td>\n",
       "      <td>3.0</td>\n",
       "      <td>1.1</td>\n",
       "      <td>1</td>\n",
       "    </tr>\n",
       "    <tr>\n",
       "      <th>147</th>\n",
       "      <td>5.6</td>\n",
       "      <td>3.0</td>\n",
       "      <td>4.5</td>\n",
       "      <td>1.5</td>\n",
       "      <td>1</td>\n",
       "    </tr>\n",
       "    <tr>\n",
       "      <th>148</th>\n",
       "      <td>6.2</td>\n",
       "      <td>2.8</td>\n",
       "      <td>4.8</td>\n",
       "      <td>1.8</td>\n",
       "      <td>2</td>\n",
       "    </tr>\n",
       "    <tr>\n",
       "      <th>149</th>\n",
       "      <td>7.2</td>\n",
       "      <td>3.6</td>\n",
       "      <td>6.1</td>\n",
       "      <td>2.5</td>\n",
       "      <td>2</td>\n",
       "    </tr>\n",
       "  </tbody>\n",
       "</table>\n",
       "<p>150 rows × 5 columns</p>\n",
       "</div>"
      ],
      "text/plain": [
       "       0    1    2    3  class\n",
       "0    6.3  2.5  4.9  1.5      1\n",
       "1    6.8  3.0  5.5  2.1      2\n",
       "2    6.4  2.8  5.6  2.2      2\n",
       "3    5.6  3.0  4.1  1.3      1\n",
       "4    4.9  3.1  1.5  0.1      0\n",
       "..   ...  ...  ...  ...    ...\n",
       "145  5.1  3.5  1.4  0.3      0\n",
       "146  5.1  2.5  3.0  1.1      1\n",
       "147  5.6  3.0  4.5  1.5      1\n",
       "148  6.2  2.8  4.8  1.8      2\n",
       "149  7.2  3.6  6.1  2.5      2\n",
       "\n",
       "[150 rows x 5 columns]"
      ]
     },
     "execution_count": 77,
     "metadata": {},
     "output_type": "execute_result"
    }
   ],
   "source": [
    "iris_df"
   ]
  },
  {
   "cell_type": "code",
   "execution_count": 82,
   "metadata": {
    "colab": {
     "base_uri": "https://localhost:8080/",
     "height": 1000
    },
    "executionInfo": {
     "elapsed": 2816,
     "status": "ok",
     "timestamp": 1682695244699,
     "user": {
      "displayName": "Adnan Alkattan",
      "userId": "14686308749644374052"
     },
     "user_tz": -180
    },
    "id": "uwr0lWarJCom",
    "outputId": "84de4410-14a4-4ebb-bb2c-172d65160ad9"
   },
   "outputs": [
    {
     "data": {
      "image/png": "[encoded data removed]",
      "text/plain": [
       "<Figure size 640x480 with 1 Axes>"
      ]
     },
     "metadata": {},
     "output_type": "display_data"
    },
    {
     "data": {
      "image/png": "[encoded data removed]",
      "text/plain": [
       "<Figure size 640x480 with 1 Axes>"
      ]
     },
     "metadata": {},
     "output_type": "display_data"
    },
    {
     "data": {
      "image/png": "[encoded data removed]",
      "text/plain": [
       "<Figure size 640x480 with 1 Axes>"
      ]
     },
     "metadata": {},
     "output_type": "display_data"
    }
   ],
   "source": [
    "def stackhist(x, y, **kws):\n",
    "    grouped = x.groupby(y)\n",
    "    data = [d for _, d in grouped]\n",
    "    labels = [l for l, _ in grouped]\n",
    "    plt.hist(data,\n",
    "             histtype=\"barstacked\",\n",
    "             label=labels,\n",
    "             alpha=0.8,\n",
    "             density=True,\n",
    "             bins=np.arange(4.0, 8.1, 0.25))\n",
    "    plt.ylim([0, 0.8])\n",
    "    plt.xlim([4, 8])\n",
    "    plt.xlabel('Sepal Length[cm]')\n",
    "    plt.ylabel('Frequency')\n",
    "\n",
    "\n",
    "with plt.style.context('fivethirtyeight'):\n",
    "\n",
    "    stackhist(iris_df[0], iris_df['class'])\n",
    "    plt.legend(['Setosa', 'Versicolor', 'Virginica'], fontsize=12)\n",
    "    plt.title('All')\n",
    "    plt.tight_layout()\n",
    "    #plt.savefig('./all.svg')\n",
    "    plt.show()\n",
    "\n",
    "    stackhist(df_train[0], df_train['class'])\n",
    "    plt.title('Train')\n",
    "    plt.tight_layout()\n",
    "    #plt.savefig('./train.svg')\n",
    "    plt.show()\n",
    "\n",
    "    stackhist(df_test[0], df_test['class'])\n",
    "    plt.title('Test')\n",
    "    plt.tight_layout()\n",
    "    #plt.savefig('./test.svg')\n",
    "    plt.show()"
   ]
  },
  {
   "cell_type": "markdown",
   "metadata": {
    "id": "lnFUh2s6KJPs"
   },
   "source": [
    "#### Stratified Sampling\n",
    "\n",
    "There are many sampling techniques, however, we are interested in **Stratified Sampling**. In this sampling technique we subdivide the population into subgroups, called strata, based on some characteristics (age, gender, income, etc.), but most of the time based on the our *target* variable. Then we use random sampling to select a sample for each subgroup. This method allows you to draw more precise conclusions because it ensures that every subgroup is properly represented. Indeed, such technique can be used to *balance* our dataset!"
   ]
  },
  {
   "cell_type": "code",
   "execution_count": 83,
   "metadata": {
    "colab": {
     "base_uri": "https://localhost:8080/"
    },
    "executionInfo": {
     "elapsed": 47,
     "status": "ok",
     "timestamp": 1682695244700,
     "user": {
      "displayName": "Adnan Alkattan",
      "userId": "14686308749644374052"
     },
     "user_tz": -180
    },
    "id": "Nwx7y7-uRFip",
    "outputId": "55731ca2-29d4-4048-fc8f-3e8b513c17df"
   },
   "outputs": [
    {
     "data": {
      "text/plain": [
       "0    549\n",
       "1    342\n",
       "Name: Survived, dtype: int64"
      ]
     },
     "execution_count": 83,
     "metadata": {},
     "output_type": "execute_result"
    }
   ],
   "source": [
    "df[target].value_counts()"
   ]
  },
  {
   "cell_type": "code",
   "execution_count": 90,
   "metadata": {
    "id": "hDzhQZWwVxbz"
   },
   "outputs": [],
   "source": [
    "sampled_df = df.groupby(target, group_keys=False).apply(lambda x: x.sample(300, random_state=42))"
   ]
  },
  {
   "cell_type": "markdown",
   "metadata": {
    "id": "zP1QI6dzWKrY"
   },
   "source": [
    "The sample size is bounded by the size of the smallest subgroup."
   ]
  },
  {
   "cell_type": "code",
   "execution_count": 94,
   "metadata": {
    "colab": {
     "base_uri": "https://localhost:8080/",
     "height": 250
    },
    "executionInfo": {
     "elapsed": 43,
     "status": "ok",
     "timestamp": 1682695244701,
     "user": {
      "displayName": "Adnan Alkattan",
      "userId": "14686308749644374052"
     },
     "user_tz": -180
    },
    "id": "i95zwtFAWBHo",
    "outputId": "52e92ce0-0950-4cf3-8c08-7058a36ad471"
   },
   "outputs": [
    {
     "data": {
      "text/html": [
       "<div>\n",
       "<style scoped>\n",
       "    .dataframe tbody tr th:only-of-type {\n",
       "        vertical-align: middle;\n",
       "    }\n",
       "\n",
       "    .dataframe tbody tr th {\n",
       "        vertical-align: top;\n",
       "    }\n",
       "\n",
       "    .dataframe thead th {\n",
       "        text-align: right;\n",
       "    }\n",
       "</style>\n",
       "<table border=\"1\" class=\"dataframe\">\n",
       "  <thead>\n",
       "    <tr style=\"text-align: right;\">\n",
       "      <th></th>\n",
       "      <th>PassengerId</th>\n",
       "      <th>Survived</th>\n",
       "      <th>Pclass</th>\n",
       "      <th>Name</th>\n",
       "      <th>Sex</th>\n",
       "      <th>Age</th>\n",
       "      <th>SibSp</th>\n",
       "      <th>Parch</th>\n",
       "      <th>Ticket</th>\n",
       "      <th>Fare</th>\n",
       "      <th>Cabin</th>\n",
       "      <th>Embarked</th>\n",
       "    </tr>\n",
       "  </thead>\n",
       "  <tbody>\n",
       "    <tr>\n",
       "      <th>312</th>\n",
       "      <td>313</td>\n",
       "      <td>0</td>\n",
       "      <td>2</td>\n",
       "      <td>Lahtinen, Mrs. William (Anna Sylfven)</td>\n",
       "      <td>female</td>\n",
       "      <td>26.0</td>\n",
       "      <td>1</td>\n",
       "      <td>1</td>\n",
       "      <td>250651</td>\n",
       "      <td>26.0000</td>\n",
       "      <td>NaN</td>\n",
       "      <td>S</td>\n",
       "    </tr>\n",
       "    <tr>\n",
       "      <th>124</th>\n",
       "      <td>125</td>\n",
       "      <td>0</td>\n",
       "      <td>1</td>\n",
       "      <td>White, Mr. Percival Wayland</td>\n",
       "      <td>male</td>\n",
       "      <td>54.0</td>\n",
       "      <td>0</td>\n",
       "      <td>1</td>\n",
       "      <td>35281</td>\n",
       "      <td>77.2875</td>\n",
       "      <td>D26</td>\n",
       "      <td>S</td>\n",
       "    </tr>\n",
       "    <tr>\n",
       "      <th>783</th>\n",
       "      <td>784</td>\n",
       "      <td>0</td>\n",
       "      <td>3</td>\n",
       "      <td>Johnston, Mr. Andrew G</td>\n",
       "      <td>male</td>\n",
       "      <td>NaN</td>\n",
       "      <td>1</td>\n",
       "      <td>2</td>\n",
       "      <td>W./C. 6607</td>\n",
       "      <td>23.4500</td>\n",
       "      <td>NaN</td>\n",
       "      <td>S</td>\n",
       "    </tr>\n",
       "    <tr>\n",
       "      <th>167</th>\n",
       "      <td>168</td>\n",
       "      <td>0</td>\n",
       "      <td>3</td>\n",
       "      <td>Skoog, Mrs. William (Anna Bernhardina Karlsson)</td>\n",
       "      <td>female</td>\n",
       "      <td>45.0</td>\n",
       "      <td>1</td>\n",
       "      <td>4</td>\n",
       "      <td>347088</td>\n",
       "      <td>27.9000</td>\n",
       "      <td>NaN</td>\n",
       "      <td>S</td>\n",
       "    </tr>\n",
       "    <tr>\n",
       "      <th>772</th>\n",
       "      <td>773</td>\n",
       "      <td>0</td>\n",
       "      <td>2</td>\n",
       "      <td>Mack, Mrs. (Mary)</td>\n",
       "      <td>female</td>\n",
       "      <td>57.0</td>\n",
       "      <td>0</td>\n",
       "      <td>0</td>\n",
       "      <td>S.O./P.P. 3</td>\n",
       "      <td>10.5000</td>\n",
       "      <td>E77</td>\n",
       "      <td>S</td>\n",
       "    </tr>\n",
       "  </tbody>\n",
       "</table>\n",
       "</div>"
      ],
      "text/plain": [
       "     PassengerId  Survived  Pclass  \\\n",
       "312          313         0       2   \n",
       "124          125         0       1   \n",
       "783          784         0       3   \n",
       "167          168         0       3   \n",
       "772          773         0       2   \n",
       "\n",
       "                                                Name     Sex   Age  SibSp  \\\n",
       "312            Lahtinen, Mrs. William (Anna Sylfven)  female  26.0      1   \n",
       "124                      White, Mr. Percival Wayland    male  54.0      0   \n",
       "783                           Johnston, Mr. Andrew G    male   NaN      1   \n",
       "167  Skoog, Mrs. William (Anna Bernhardina Karlsson)  female  45.0      1   \n",
       "772                                Mack, Mrs. (Mary)  female  57.0      0   \n",
       "\n",
       "     Parch       Ticket     Fare Cabin Embarked  \n",
       "312      1       250651  26.0000   NaN        S  \n",
       "124      1        35281  77.2875   D26        S  \n",
       "783      2   W./C. 6607  23.4500   NaN        S  \n",
       "167      4       347088  27.9000   NaN        S  \n",
       "772      0  S.O./P.P. 3  10.5000   E77        S  "
      ]
     },
     "execution_count": 94,
     "metadata": {},
     "output_type": "execute_result"
    }
   ],
   "source": [
    "sampled_df.head()"
   ]
  },
  {
   "cell_type": "code",
   "execution_count": 95,
   "metadata": {
    "colab": {
     "base_uri": "https://localhost:8080/"
    },
    "executionInfo": {
     "elapsed": 41,
     "status": "ok",
     "timestamp": 1682695244702,
     "user": {
      "displayName": "Adnan Alkattan",
      "userId": "14686308749644374052"
     },
     "user_tz": -180
    },
    "id": "_AhJg1FMV_F9",
    "outputId": "93362349-f4a3-48e7-c433-60e08ba5569b"
   },
   "outputs": [
    {
     "data": {
      "text/plain": [
       "(600, 12)"
      ]
     },
     "execution_count": 95,
     "metadata": {},
     "output_type": "execute_result"
    }
   ],
   "source": [
    "sampled_df.shape"
   ]
  },
  {
   "cell_type": "code",
   "execution_count": 96,
   "metadata": {
    "colab": {
     "base_uri": "https://localhost:8080/"
    },
    "executionInfo": {
     "elapsed": 33,
     "status": "ok",
     "timestamp": 1682695244702,
     "user": {
      "displayName": "Adnan Alkattan",
      "userId": "14686308749644374052"
     },
     "user_tz": -180
    },
    "id": "pyh57Dz9WGLb",
    "outputId": "08837a48-6557-4ddd-fbf4-baa1d6748748"
   },
   "outputs": [
    {
     "data": {
      "text/plain": [
       "0    300\n",
       "1    300\n",
       "Name: Survived, dtype: int64"
      ]
     },
     "execution_count": 96,
     "metadata": {},
     "output_type": "execute_result"
    }
   ],
   "source": [
    "sampled_df[target].value_counts()"
   ]
  },
  {
   "cell_type": "code",
   "execution_count": 97,
   "metadata": {
    "colab": {
     "base_uri": "https://localhost:8080/"
    },
    "executionInfo": {
     "elapsed": 27,
     "status": "ok",
     "timestamp": 1682695244703,
     "user": {
      "displayName": "Adnan Alkattan",
      "userId": "14686308749644374052"
     },
     "user_tz": -180
    },
    "id": "uw-QDJWcW21w",
    "outputId": "4ac680a8-0719-46e5-9d4a-6707b9cc70aa"
   },
   "outputs": [
    {
     "data": {
      "text/plain": [
       "(714, 12)"
      ]
     },
     "execution_count": 97,
     "metadata": {},
     "output_type": "execute_result"
    }
   ],
   "source": [
    "df.groupby([target, 'Pclass'], group_keys=False).apply(lambda x: x.sample(frac=0.8, random_state=42)).shape # Take 80% from each subgroup i.e. 80% of the whole data but in stratified fashion!"
   ]
  },
  {
   "cell_type": "markdown",
   "metadata": {
    "id": "otHc1bOGMX_N"
   },
   "source": [
    "Note that these problems can be mitigated by using the stratify parameter in scikit-learn's `train_test_split` function."
   ]
  },
  {
   "cell_type": "markdown",
   "metadata": {
    "id": "21Q6hrPdruTN"
   },
   "source": [
    "### Transformations\n",
    "A variable transformation refers to a transformation that is applied to all\n",
    "the values of a variable. In other words, for each object (sample), the transformation is applied to the value of the variable for that object.\n",
    "\n",
    "In general we have two type of transformation:\n",
    "\n",
    "1.   Standarization\n",
    "2.   Simple Function Transformation\n",
    "\n",
    "Variable transformations should be applied with caution since they change\n",
    "the nature of the data. While this is what is desired, there can be problems\n",
    "if the nature of the transformation is not fully appreciated. For instance, the\n",
    "transformation $\\frac1x$ reduces the magnitude of values that are 1 or larger, but increases the magnitude of values between 0 and 1.\n",
    "\n",
    "To help clarify the effect of a transformation, it is important to ask questions such as the following:\n",
    "1. Does the order need to be maintained?\n",
    "2. Does the transformation apply to all values, especially negative values and 0?\n",
    "3. What is the effect of the transformation on the values between 0 and 1?"
   ]
  },
  {
   "cell_type": "markdown",
   "metadata": {
    "id": "PVP-c0c-5E15"
   },
   "source": [
    "#### Standardization or Z-Score Normalization\n",
    "The goal of standardization or normalization is to make an entire\n",
    "set of values have a particular property. A traditional example is that\n",
    "of “standardizing a variable” in statistics i.e. creates a new variable that has a mean of 0 and a standard deviation of 1.\n",
    "\n",
    "\\begin{align}\n",
    "\\grave x = \\frac {(\\,x - \\bar x\\,)}{s_x}\n",
    "\\end{align}\n",
    "\n",
    "If different variables are to be combined in some way, then such a transformation is often necessary to avoid having a variable with large values dominate the results of the calculation."
   ]
  },
  {
   "cell_type": "code",
   "execution_count": 98,
   "metadata": {
    "id": "E6N5bFmW7mQV"
   },
   "outputs": [],
   "source": [
    "from sklearn.preprocessing import StandardScaler\n",
    "scaler = StandardScaler()\n",
    "scaled_fare = scaler.fit_transform(processed_df['Fare'].values.reshape(-1, 1))"
   ]
  },
  {
   "cell_type": "code",
   "execution_count": 99,
   "metadata": {
    "colab": {
     "base_uri": "https://localhost:8080/"
    },
    "executionInfo": {
     "elapsed": 19,
     "status": "ok",
     "timestamp": 1682695244703,
     "user": {
      "displayName": "Adnan Alkattan",
      "userId": "14686308749644374052"
     },
     "user_tz": -180
    },
    "id": "4aeZRgmJya0o",
    "outputId": "b3e2368b-51c1-4e85-bc5b-16d4bcf80384"
   },
   "outputs": [
    {
     "name": "stdout",
     "output_type": "stream",
     "text": [
      "count   889.00\n",
      "mean      0.00\n",
      "std       1.00\n",
      "min      -0.65\n",
      "25%      -0.49\n",
      "50%      -0.36\n",
      "75%      -0.02\n",
      "max       9.67\n",
      "dtype: float64\n"
     ]
    }
   ],
   "source": [
    "with pd.option_context('display.float_format', '{:0.2f}'.format):\n",
    "    print(pd.Series(scaled_fare.flatten()).describe())"
   ]
  },
  {
   "cell_type": "markdown",
   "metadata": {
    "id": "C8GU4uzo7nE_"
   },
   "source": [
    "#### Normalization or Min-Max Scaling\n",
    "Normalization is used to transform features to be on a similar scale. This scales the range to [0, 1] or sometimes [-1, 1]. Geometrically speaking, transformation squishes the n-dimensional data into an n-dimensional unit hypercube. Normalization is useful when there are no outliers as it cannot cope up with them.\n",
    "\\begin{align}\n",
    "\\grave x = \\frac {(\\,x - x_{min}\\,)}{x_{max} - x_{min}}\n",
    "\\end{align}\n",
    "\n",
    "Usually, we would scale variables like age and not incomes because only a few people have high incomes but the age is close to uniform.\n",
    "\n",
    "**Note** that in the data mining community the terms (Standarization, Normalization) are often used interchangeably."
   ]
  },
  {
   "cell_type": "code",
   "execution_count": 100,
   "metadata": {
    "id": "NCc3fzsg5Isr"
   },
   "outputs": [],
   "source": [
    "from sklearn.preprocessing import MinMaxScaler\n",
    "scaler = MinMaxScaler()\n",
    "scaled_age = scaler.fit_transform(processed_df['Age'].values.reshape(-1, 1))"
   ]
  },
  {
   "cell_type": "code",
   "execution_count": 101,
   "metadata": {
    "colab": {
     "base_uri": "https://localhost:8080/"
    },
    "executionInfo": {
     "elapsed": 13,
     "status": "ok",
     "timestamp": 1682695244704,
     "user": {
      "displayName": "Adnan Alkattan",
      "userId": "14686308749644374052"
     },
     "user_tz": -180
    },
    "id": "GpQjdLA50VQ3",
    "outputId": "8002f042-4ff1-4270-c00e-8cdb92511e84"
   },
   "outputs": [
    {
     "name": "stdout",
     "output_type": "stream",
     "text": [
      "count   889.00\n",
      "mean      0.36\n",
      "std       0.17\n",
      "min       0.00\n",
      "25%       0.26\n",
      "50%       0.37\n",
      "75%       0.43\n",
      "max       1.00\n",
      "dtype: float64\n"
     ]
    }
   ],
   "source": [
    "with pd.option_context('display.float_format', '{:0.2f}'.format):\n",
    "    print(pd.Series(scaled_age.flatten()).describe())"
   ]
  },
  {
   "cell_type": "markdown",
   "metadata": {
    "id": "JDTGxUXv5Any"
   },
   "source": [
    "#### Function Transformation\n",
    "For this type of variable transformation, a simple function is\n",
    "applied to each value individually.\n",
    "\\begin{align}\n",
    "\\grave x = f\\,(x)\n",
    "\\end{align}\n",
    "\n",
    "In pandas we can easily apply our transformation using `apply`, `map` and `applymap` methods.<br>\n",
    "You can refer to the *accepted* answer in [this](https://stackoverflow.com/questions/19798153/difference-between-map-applymap-and-apply-methods-in-pandas) Stack Overflow discussion to get a detailed explanation for the difference between `apply`, `map` and `applymap` methods in pandas.<br>\n",
    "Try to experiment with different functions and chain multiple transformations."
   ]
  },
  {
   "cell_type": "code",
   "execution_count": null,
   "metadata": {
    "id": "VB9NYZnSQg19"
   },
   "outputs": [],
   "source": [
    "###################\n",
    "#####YOUR CODE#####\n",
    "###################"
   ]
  },
  {
   "cell_type": "markdown",
   "metadata": {
    "id": "jXh62Q9db6le"
   },
   "source": [
    "### Pipes!\n",
    "In Data Processing, it is often necessary to write a function to perform operations (such as statistical calculations, splitting, or substituting value) on a certain row or column to obtain new data.\n",
    "\n",
    "Instead of writing\n",
    "```\n",
    "# f(), g(), and h() are user-defined function\n",
    "# df is a Pandas DataFrame\n",
    "f(g(h(df), arg1=a), arg2=b, arg3=c)\n",
    "```\n",
    "One can write\n",
    "```\n",
    "(df.pipe(h)\n",
    "   .pipe(g, arg1=a)\n",
    "   .pipe(f, arg2=b, arg3=c))\n",
    "```"
   ]
  },
  {
   "cell_type": "code",
   "execution_count": 104,
   "metadata": {
    "id": "ZWPpQLM4de9I"
   },
   "outputs": [],
   "source": [
    "def load_data():\n",
    "  return df\n",
    "\n",
    "def substitute_sex(x_df):\n",
    "    mapping={'male':'M','female':'F'}\n",
    "    x_df['Sex'] = x_df['Sex'].map(mapping)\n",
    "    return x_df"
   ]
  },
  {
   "cell_type": "code",
   "execution_count": 105,
   "metadata": {
    "colab": {
     "base_uri": "https://localhost:8080/"
    },
    "executionInfo": {
     "elapsed": 6,
     "status": "ok",
     "timestamp": 1682695245232,
     "user": {
      "displayName": "Adnan Alkattan",
      "userId": "14686308749644374052"
     },
     "user_tz": -180
    },
    "id": "MdJuUXZbdpUT",
    "outputId": "94a744bc-a8c9-4739-dbea-5161c6eceb0a"
   },
   "outputs": [
    {
     "data": {
      "text/html": [
       "<div>\n",
       "<style scoped>\n",
       "    .dataframe tbody tr th:only-of-type {\n",
       "        vertical-align: middle;\n",
       "    }\n",
       "\n",
       "    .dataframe tbody tr th {\n",
       "        vertical-align: top;\n",
       "    }\n",
       "\n",
       "    .dataframe thead th {\n",
       "        text-align: right;\n",
       "    }\n",
       "</style>\n",
       "<table border=\"1\" class=\"dataframe\">\n",
       "  <thead>\n",
       "    <tr style=\"text-align: right;\">\n",
       "      <th></th>\n",
       "      <th>PassengerId</th>\n",
       "      <th>Survived</th>\n",
       "      <th>Pclass</th>\n",
       "      <th>Name</th>\n",
       "      <th>Sex</th>\n",
       "      <th>Age</th>\n",
       "      <th>SibSp</th>\n",
       "      <th>Parch</th>\n",
       "      <th>Ticket</th>\n",
       "      <th>Fare</th>\n",
       "      <th>Cabin</th>\n",
       "      <th>Embarked</th>\n",
       "    </tr>\n",
       "  </thead>\n",
       "  <tbody>\n",
       "    <tr>\n",
       "      <th>0</th>\n",
       "      <td>1</td>\n",
       "      <td>0</td>\n",
       "      <td>3</td>\n",
       "      <td>Braund, Mr. Owen Harris</td>\n",
       "      <td>NaN</td>\n",
       "      <td>22.0</td>\n",
       "      <td>1</td>\n",
       "      <td>0</td>\n",
       "      <td>A/5 21171</td>\n",
       "      <td>7.2500</td>\n",
       "      <td>NaN</td>\n",
       "      <td>S</td>\n",
       "    </tr>\n",
       "    <tr>\n",
       "      <th>1</th>\n",
       "      <td>2</td>\n",
       "      <td>1</td>\n",
       "      <td>1</td>\n",
       "      <td>Cumings, Mrs. John Bradley (Florence Briggs Th...</td>\n",
       "      <td>NaN</td>\n",
       "      <td>38.0</td>\n",
       "      <td>1</td>\n",
       "      <td>0</td>\n",
       "      <td>PC 17599</td>\n",
       "      <td>71.2833</td>\n",
       "      <td>C85</td>\n",
       "      <td>C</td>\n",
       "    </tr>\n",
       "    <tr>\n",
       "      <th>2</th>\n",
       "      <td>3</td>\n",
       "      <td>1</td>\n",
       "      <td>3</td>\n",
       "      <td>Heikkinen, Miss. Laina</td>\n",
       "      <td>NaN</td>\n",
       "      <td>26.0</td>\n",
       "      <td>0</td>\n",
       "      <td>0</td>\n",
       "      <td>STON/O2. 3101282</td>\n",
       "      <td>7.9250</td>\n",
       "      <td>NaN</td>\n",
       "      <td>S</td>\n",
       "    </tr>\n",
       "    <tr>\n",
       "      <th>3</th>\n",
       "      <td>4</td>\n",
       "      <td>1</td>\n",
       "      <td>1</td>\n",
       "      <td>Futrelle, Mrs. Jacques Heath (Lily May Peel)</td>\n",
       "      <td>NaN</td>\n",
       "      <td>35.0</td>\n",
       "      <td>1</td>\n",
       "      <td>0</td>\n",
       "      <td>113803</td>\n",
       "      <td>53.1000</td>\n",
       "      <td>C123</td>\n",
       "      <td>S</td>\n",
       "    </tr>\n",
       "    <tr>\n",
       "      <th>4</th>\n",
       "      <td>5</td>\n",
       "      <td>0</td>\n",
       "      <td>3</td>\n",
       "      <td>Allen, Mr. William Henry</td>\n",
       "      <td>NaN</td>\n",
       "      <td>35.0</td>\n",
       "      <td>0</td>\n",
       "      <td>0</td>\n",
       "      <td>373450</td>\n",
       "      <td>8.0500</td>\n",
       "      <td>NaN</td>\n",
       "      <td>S</td>\n",
       "    </tr>\n",
       "  </tbody>\n",
       "</table>\n",
       "</div>"
      ],
      "text/plain": [
       "   PassengerId  Survived  Pclass  \\\n",
       "0            1         0       3   \n",
       "1            2         1       1   \n",
       "2            3         1       3   \n",
       "3            4         1       1   \n",
       "4            5         0       3   \n",
       "\n",
       "                                                Name  Sex   Age  SibSp  Parch  \\\n",
       "0                            Braund, Mr. Owen Harris  NaN  22.0      1      0   \n",
       "1  Cumings, Mrs. John Bradley (Florence Briggs Th...  NaN  38.0      1      0   \n",
       "2                             Heikkinen, Miss. Laina  NaN  26.0      0      0   \n",
       "3       Futrelle, Mrs. Jacques Heath (Lily May Peel)  NaN  35.0      1      0   \n",
       "4                           Allen, Mr. William Henry  NaN  35.0      0      0   \n",
       "\n",
       "             Ticket     Fare Cabin Embarked  \n",
       "0         A/5 21171   7.2500   NaN        S  \n",
       "1          PC 17599  71.2833   C85        C  \n",
       "2  STON/O2. 3101282   7.9250   NaN        S  \n",
       "3            113803  53.1000  C123        S  \n",
       "4            373450   8.0500   NaN        S  "
      ]
     },
     "execution_count": 105,
     "metadata": {},
     "output_type": "execute_result"
    }
   ],
   "source": [
    "(load_data()\n",
    "      .pipe(substitute_sex)\n",
    "      .pipe(lambda x_df, dummy_arg: x_df, dummy_arg='Dummy')\n",
    "      ).head()"
   ]
  },
  {
   "cell_type": "markdown",
   "metadata": {
    "id": "sawj2t4TeOQJ"
   },
   "source": [
    "As [Ronald Coase](https://en.wikipedia.org/wiki/Ronald_Coase) says\n",
    "> “If you torture the data long enough, it will confess to anything.”\n",
    "\n",
    "Statistics can be manipulated to support any conclusion. While data tell a story, we could always get any conclusion we want if we torture data enough. Here, by torturing, it could refer to anything — Removing data, selecting specific methods, data inclusion, etc.<br>Hence, you must not overwork in the pre-processing step and accept that data can be bad. In fact, in most cases it is!!"
   ]
  },
  {
   "cell_type": "markdown",
   "metadata": {
    "id": "hVrp8oIUtbtY"
   },
   "source": [
    "## Visualization\n",
    "Visual techniques can play a key role in data analysis. In fact, sometimes the\n",
    "use of visualization techniques in data mining is referred to as **visual data\n",
    "mining**. The overriding motivation for using visualization is that people can quickly absorb large amounts of visual information and find patterns in it.\n",
    "\n",
    "Another general motivation for visualization is to make use of the domain\n",
    "knowledge. That is to say, an expert can often quickly eliminate many uninteresting patterns and direct the focus to the patterns that are important."
   ]
  },
  {
   "cell_type": "markdown",
   "metadata": {
    "id": "lBV5WgNHFkku"
   },
   "source": [
    "### What is Plotly\n",
    "Plotly allows one to create *interactive* charts with APIs in Python, R, and JavaScript. It's intuitive, highly customisable and from version 4, it integrates nicely with Pandas DataFrames leveraging the Plotly Express module which was included in Plotly version 4, from being its own module."
   ]
  },
  {
   "cell_type": "code",
   "execution_count": null,
   "metadata": {
    "id": "xb8que6c5LFE"
   },
   "outputs": [],
   "source": [
    "!pip -q install plotly"
   ]
  },
  {
   "cell_type": "code",
   "execution_count": 106,
   "metadata": {
    "id": "cEU-1isLLvSW"
   },
   "outputs": [],
   "source": [
    "layout_options = {\n",
    "    'paper_bgcolor':\"#383838\",\n",
    "    'plot_bgcolor':'#383838',\n",
    "    'title_font': dict(color='white'),\n",
    "    'legend_font': dict(color='white'),\n",
    "    'yaxis':dict(color=\"white\"),\n",
    "    'xaxis':dict(color=\"white\")\n",
    "    }"
   ]
  },
  {
   "cell_type": "code",
   "execution_count": 110,
   "metadata": {
    "colab": {
     "base_uri": "https://localhost:8080/",
     "height": 417
    },
    "executionInfo": {
     "elapsed": 2147,
     "status": "ok",
     "timestamp": 1682695259664,
     "user": {
      "displayName": "Adnan Alkattan",
      "userId": "14686308749644374052"
     },
     "user_tz": -180
    },
    "id": "BMavW5eUEUIA",
    "outputId": "0361aaef-7c4f-4b8a-df04-10153ef9d9ef"
   },
   "outputs": [
    {
     "data": {
      "application/vnd.plotly.v1+json": {
       "config": {
        "plotlyServerURL": "https://plot.ly"
       },
       "data": [
        {
         "alignmentgroup": "True",
         "hovertemplate": "x=%{x}<br>y=%{y}<extra></extra>",
         "legendgroup": "",
         "marker": {
          "color": "#636efa",
          "pattern": {
           "shape": ""
          }
         },
         "name": "",
         "offsetgroup": "",
         "orientation": "v",
         "showlegend": false,
         "textposition": "auto",
         "type": "bar",
         "x": [
          "a",
          "b",
          "c"
         ],
         "xaxis": "x",
         "y": [
          1,
          3,
          2
         ],
         "yaxis": "y"
        }
       ],
       "layout": {
        "barmode": "relative",
        "height": 400,
        "legend": {
         "font": {
          "color": "white"
         },
         "tracegroupgap": 0
        },
        "margin": {
         "t": 60
        },
        "paper_bgcolor": "#383838",
        "plot_bgcolor": "#383838",
        "template": {
         "data": {
          "bar": [
           {
            "error_x": {
             "color": "#2a3f5f"
            },
            "error_y": {
             "color": "#2a3f5f"
            },
            "marker": {
             "line": {
              "color": "#E5ECF6",
              "width": 0.5
             },
             "pattern": {
              "fillmode": "overlay",
              "size": 10,
              "solidity": 0.2
             }
            },
            "type": "bar"
           }
          ],
          "barpolar": [
           {
            "marker": {
             "line": {
              "color": "#E5ECF6",
              "width": 0.5
             },
             "pattern": {
              "fillmode": "overlay",
              "size": 10,
              "solidity": 0.2
             }
            },
            "type": "barpolar"
           }
          ],
          "carpet": [
           {
            "aaxis": {
             "endlinecolor": "#2a3f5f",
             "gridcolor": "white",
             "linecolor": "white",
             "minorgridcolor": "white",
             "startlinecolor": "#2a3f5f"
            },
            "baxis": {
             "endlinecolor": "#2a3f5f",
             "gridcolor": "white",
             "linecolor": "white",
             "minorgridcolor": "white",
             "startlinecolor": "#2a3f5f"
            },
            "type": "carpet"
           }
          ],
          "choropleth": [
           {
            "colorbar": {
             "outlinewidth": 0,
             "ticks": ""
            },
            "type": "choropleth"
           }
          ],
          "contour": [
           {
            "colorbar": {
             "outlinewidth": 0,
             "ticks": ""
            },
            "colorscale": [
             [
              0,
              "#0d0887"
             ],
             [
              0.1111111111111111,
              "#46039f"
             ],
             [
              0.2222222222222222,
              "#7201a8"
             ],
             [
              0.3333333333333333,
              "#9c179e"
             ],
             [
              0.4444444444444444,
              "#bd3786"
             ],
             [
              0.5555555555555556,
              "#d8576b"
             ],
             [
              0.6666666666666666,
              "#ed7953"
             ],
             [
              0.7777777777777778,
              "#fb9f3a"
             ],
             [
              0.8888888888888888,
              "#fdca26"
             ],
             [
              1,
              "#f0f921"
             ]
            ],
            "type": "contour"
           }
          ],
          "contourcarpet": [
           {
            "colorbar": {
             "outlinewidth": 0,
             "ticks": ""
            },
            "type": "contourcarpet"
           }
          ],
          "heatmap": [
           {
            "colorbar": {
             "outlinewidth": 0,
             "ticks": ""
            },
            "colorscale": [
             [
              0,
              "#0d0887"
             ],
             [
              0.1111111111111111,
              "#46039f"
             ],
             [
              0.2222222222222222,
              "#7201a8"
             ],
             [
              0.3333333333333333,
              "#9c179e"
             ],
             [
              0.4444444444444444,
              "#bd3786"
             ],
             [
              0.5555555555555556,
              "#d8576b"
             ],
             [
              0.6666666666666666,
              "#ed7953"
             ],
             [
              0.7777777777777778,
              "#fb9f3a"
             ],
             [
              0.8888888888888888,
              "#fdca26"
             ],
             [
              1,
              "#f0f921"
             ]
            ],
            "type": "heatmap"
           }
          ],
          "heatmapgl": [
           {
            "colorbar": {
             "outlinewidth": 0,
             "ticks": ""
            },
            "colorscale": [
             [
              0,
              "#0d0887"
             ],
             [
              0.1111111111111111,
              "#46039f"
             ],
             [
              0.2222222222222222,
              "#7201a8"
             ],
             [
              0.3333333333333333,
              "#9c179e"
             ],
             [
              0.4444444444444444,
              "#bd3786"
             ],
             [
              0.5555555555555556,
              "#d8576b"
             ],
             [
              0.6666666666666666,
              "#ed7953"
             ],
             [
              0.7777777777777778,
              "#fb9f3a"
             ],
             [
              0.8888888888888888,
              "#fdca26"
             ],
             [
              1,
              "#f0f921"
             ]
            ],
            "type": "heatmapgl"
           }
          ],
          "histogram": [
           {
            "marker": {
             "pattern": {
              "fillmode": "overlay",
              "size": 10,
              "solidity": 0.2
             }
            },
            "type": "histogram"
           }
          ],
          "histogram2d": [
           {
            "colorbar": {
             "outlinewidth": 0,
             "ticks": ""
            },
            "colorscale": [
             [
              0,
              "#0d0887"
             ],
             [
              0.1111111111111111,
              "#46039f"
             ],
             [
              0.2222222222222222,
              "#7201a8"
             ],
             [
              0.3333333333333333,
              "#9c179e"
             ],
             [
              0.4444444444444444,
              "#bd3786"
             ],
             [
              0.5555555555555556,
              "#d8576b"
             ],
             [
              0.6666666666666666,
              "#ed7953"
             ],
             [
              0.7777777777777778,
              "#fb9f3a"
             ],
             [
              0.8888888888888888,
              "#fdca26"
             ],
             [
              1,
              "#f0f921"
             ]
            ],
            "type": "histogram2d"
           }
          ],
          "histogram2dcontour": [
           {
            "colorbar": {
             "outlinewidth": 0,
             "ticks": ""
            },
            "colorscale": [
             [
              0,
              "#0d0887"
             ],
             [
              0.1111111111111111,
              "#46039f"
             ],
             [
              0.2222222222222222,
              "#7201a8"
             ],
             [
              0.3333333333333333,
              "#9c179e"
             ],
             [
              0.4444444444444444,
              "#bd3786"
             ],
             [
              0.5555555555555556,
              "#d8576b"
             ],
             [
              0.6666666666666666,
              "#ed7953"
             ],
             [
              0.7777777777777778,
              "#fb9f3a"
             ],
             [
              0.8888888888888888,
              "#fdca26"
             ],
             [
              1,
              "#f0f921"
             ]
            ],
            "type": "histogram2dcontour"
           }
          ],
          "mesh3d": [
           {
            "colorbar": {
             "outlinewidth": 0,
             "ticks": ""
            },
            "type": "mesh3d"
           }
          ],
          "parcoords": [
           {
            "line": {
             "colorbar": {
              "outlinewidth": 0,
              "ticks": ""
             }
            },
            "type": "parcoords"
           }
          ],
          "pie": [
           {
            "automargin": true,
            "type": "pie"
           }
          ],
          "scatter": [
           {
            "fillpattern": {
             "fillmode": "overlay",
             "size": 10,
             "solidity": 0.2
            },
            "type": "scatter"
           }
          ],
          "scatter3d": [
           {
            "line": {
             "colorbar": {
              "outlinewidth": 0,
              "ticks": ""
             }
            },
            "marker": {
             "colorbar": {
              "outlinewidth": 0,
              "ticks": ""
             }
            },
            "type": "scatter3d"
           }
          ],
          "scattercarpet": [
           {
            "marker": {
             "colorbar": {
              "outlinewidth": 0,
              "ticks": ""
             }
            },
            "type": "scattercarpet"
           }
          ],
          "scattergeo": [
           {
            "marker": {
             "colorbar": {
              "outlinewidth": 0,
              "ticks": ""
             }
            },
            "type": "scattergeo"
           }
          ],
          "scattergl": [
           {
            "marker": {
             "colorbar": {
              "outlinewidth": 0,
              "ticks": ""
             }
            },
            "type": "scattergl"
           }
          ],
          "scattermapbox": [
           {
            "marker": {
             "colorbar": {
              "outlinewidth": 0,
              "ticks": ""
             }
            },
            "type": "scattermapbox"
           }
          ],
          "scatterpolar": [
           {
            "marker": {
             "colorbar": {
              "outlinewidth": 0,
              "ticks": ""
             }
            },
            "type": "scatterpolar"
           }
          ],
          "scatterpolargl": [
           {
            "marker": {
             "colorbar": {
              "outlinewidth": 0,
              "ticks": ""
             }
            },
            "type": "scatterpolargl"
           }
          ],
          "scatterternary": [
           {
            "marker": {
             "colorbar": {
              "outlinewidth": 0,
              "ticks": ""
             }
            },
            "type": "scatterternary"
           }
          ],
          "surface": [
           {
            "colorbar": {
             "outlinewidth": 0,
             "ticks": ""
            },
            "colorscale": [
             [
              0,
              "#0d0887"
             ],
             [
              0.1111111111111111,
              "#46039f"
             ],
             [
              0.2222222222222222,
              "#7201a8"
             ],
             [
              0.3333333333333333,
              "#9c179e"
             ],
             [
              0.4444444444444444,
              "#bd3786"
             ],
             [
              0.5555555555555556,
              "#d8576b"
             ],
             [
              0.6666666666666666,
              "#ed7953"
             ],
             [
              0.7777777777777778,
              "#fb9f3a"
             ],
             [
              0.8888888888888888,
              "#fdca26"
             ],
             [
              1,
              "#f0f921"
             ]
            ],
            "type": "surface"
           }
          ],
          "table": [
           {
            "cells": {
             "fill": {
              "color": "#EBF0F8"
             },
             "line": {
              "color": "white"
             }
            },
            "header": {
             "fill": {
              "color": "#C8D4E3"
             },
             "line": {
              "color": "white"
             }
            },
            "type": "table"
           }
          ]
         },
         "layout": {
          "annotationdefaults": {
           "arrowcolor": "#2a3f5f",
           "arrowhead": 0,
           "arrowwidth": 1
          },
          "autotypenumbers": "strict",
          "coloraxis": {
           "colorbar": {
            "outlinewidth": 0,
            "ticks": ""
           }
          },
          "colorscale": {
           "diverging": [
            [
             0,
             "#8e0152"
            ],
            [
             0.1,
             "#c51b7d"
            ],
            [
             0.2,
             "#de77ae"
            ],
            [
             0.3,
             "#f1b6da"
            ],
            [
             0.4,
             "#fde0ef"
            ],
            [
             0.5,
             "#f7f7f7"
            ],
            [
             0.6,
             "#e6f5d0"
            ],
            [
             0.7,
             "#b8e186"
            ],
            [
             0.8,
             "#7fbc41"
            ],
            [
             0.9,
             "#4d9221"
            ],
            [
             1,
             "#276419"
            ]
           ],
           "sequential": [
            [
             0,
             "#0d0887"
            ],
            [
             0.1111111111111111,
             "#46039f"
            ],
            [
             0.2222222222222222,
             "#7201a8"
            ],
            [
             0.3333333333333333,
             "#9c179e"
            ],
            [
             0.4444444444444444,
             "#bd3786"
            ],
            [
             0.5555555555555556,
             "#d8576b"
            ],
            [
             0.6666666666666666,
             "#ed7953"
            ],
            [
             0.7777777777777778,
             "#fb9f3a"
            ],
            [
             0.8888888888888888,
             "#fdca26"
            ],
            [
             1,
             "#f0f921"
            ]
           ],
           "sequentialminus": [
            [
             0,
             "#0d0887"
            ],
            [
             0.1111111111111111,
             "#46039f"
            ],
            [
             0.2222222222222222,
             "#7201a8"
            ],
            [
             0.3333333333333333,
             "#9c179e"
            ],
            [
             0.4444444444444444,
             "#bd3786"
            ],
            [
             0.5555555555555556,
             "#d8576b"
            ],
            [
             0.6666666666666666,
             "#ed7953"
            ],
            [
             0.7777777777777778,
             "#fb9f3a"
            ],
            [
             0.8888888888888888,
             "#fdca26"
            ],
            [
             1,
             "#f0f921"
            ]
           ]
          },
          "colorway": [
           "#636efa",
           "#EF553B",
           "#00cc96",
           "#ab63fa",
           "#FFA15A",
           "#19d3f3",
           "#FF6692",
           "#B6E880",
           "#FF97FF",
           "#FECB52"
          ],
          "font": {
           "color": "#2a3f5f"
          },
          "geo": {
           "bgcolor": "white",
           "lakecolor": "white",
           "landcolor": "#E5ECF6",
           "showlakes": true,
           "showland": true,
           "subunitcolor": "white"
          },
          "hoverlabel": {
           "align": "left"
          },
          "hovermode": "closest",
          "mapbox": {
           "style": "light"
          },
          "paper_bgcolor": "white",
          "plot_bgcolor": "#E5ECF6",
          "polar": {
           "angularaxis": {
            "gridcolor": "white",
            "linecolor": "white",
            "ticks": ""
           },
           "bgcolor": "#E5ECF6",
           "radialaxis": {
            "gridcolor": "white",
            "linecolor": "white",
            "ticks": ""
           }
          },
          "scene": {
           "xaxis": {
            "backgroundcolor": "#E5ECF6",
            "gridcolor": "white",
            "gridwidth": 2,
            "linecolor": "white",
            "showbackground": true,
            "ticks": "",
            "zerolinecolor": "white"
           },
           "yaxis": {
            "backgroundcolor": "#E5ECF6",
            "gridcolor": "white",
            "gridwidth": 2,
            "linecolor": "white",
            "showbackground": true,
            "ticks": "",
            "zerolinecolor": "white"
           },
           "zaxis": {
            "backgroundcolor": "#E5ECF6",
            "gridcolor": "white",
            "gridwidth": 2,
            "linecolor": "white",
            "showbackground": true,
            "ticks": "",
            "zerolinecolor": "white"
           }
          },
          "shapedefaults": {
           "line": {
            "color": "#2a3f5f"
           }
          },
          "ternary": {
           "aaxis": {
            "gridcolor": "white",
            "linecolor": "white",
            "ticks": ""
           },
           "baxis": {
            "gridcolor": "white",
            "linecolor": "white",
            "ticks": ""
           },
           "bgcolor": "#E5ECF6",
           "caxis": {
            "gridcolor": "white",
            "linecolor": "white",
            "ticks": ""
           }
          },
          "title": {
           "x": 0.05
          },
          "xaxis": {
           "automargin": true,
           "gridcolor": "white",
           "linecolor": "white",
           "ticks": "",
           "title": {
            "standoff": 15
           },
           "zerolinecolor": "white",
           "zerolinewidth": 2
          },
          "yaxis": {
           "automargin": true,
           "gridcolor": "white",
           "linecolor": "white",
           "ticks": "",
           "title": {
            "standoff": 15
           },
           "zerolinecolor": "white",
           "zerolinewidth": 2
          }
         }
        },
        "title": {
         "font": {
          "color": "white"
         }
        },
        "width": 600,
        "xaxis": {
         "anchor": "y",
         "color": "white",
         "domain": [
          0,
          1
         ],
         "title": {
          "text": "x"
         }
        },
        "yaxis": {
         "anchor": "x",
         "color": "white",
         "domain": [
          0,
          1
         ],
         "title": {
          "text": "y"
         }
        }
       }
      }
     },
     "metadata": {},
     "output_type": "display_data"
    }
   ],
   "source": [
    "import plotly.express as px\n",
    "fig = px.bar(x=[\"a\", \"b\", \"c\"], y=[1, 3, 2], width=600, height=400)\n",
    "fig.update_layout(**layout_options) # unpacking arguments using ** operator\n",
    "fig.show()"
   ]
  },
  {
   "cell_type": "markdown",
   "metadata": {
    "id": "tPyA2xyNDrly"
   },
   "source": [
    "### Plotly Magic\n",
    "Now we can continue in our exploration adventure..."
   ]
  },
  {
   "cell_type": "code",
   "execution_count": 111,
   "metadata": {
    "colab": {
     "base_uri": "https://localhost:8080/",
     "height": 417
    },
    "executionInfo": {
     "elapsed": 33,
     "status": "ok",
     "timestamp": 1682695259665,
     "user": {
      "displayName": "Adnan Alkattan",
      "userId": "14686308749644374052"
     },
     "user_tz": -180
    },
    "id": "Xa-Y7X4lBbPp",
    "outputId": "f60eeabd-c3ab-46ec-c7e7-da19a82beda1"
   },
   "outputs": [
    {
     "data": {
      "application/vnd.plotly.v1+json": {
       "config": {
        "plotlyServerURL": "https://plot.ly"
       },
       "data": [
        {
         "alignmentgroup": "True",
         "hovertemplate": "x=%{x}<br>y=%{y}<extra></extra>",
         "legendgroup": "",
         "marker": {
          "color": "#636efa",
          "pattern": {
           "shape": ""
          }
         },
         "name": "",
         "offsetgroup": "",
         "orientation": "v",
         "showlegend": false,
         "textposition": "auto",
         "type": "bar",
         "x": [
          "S",
          "C",
          "Q"
         ],
         "xaxis": "x",
         "y": [
          644,
          168,
          77
         ],
         "yaxis": "y"
        }
       ],
       "layout": {
        "barmode": "relative",
        "height": 400,
        "legend": {
         "font": {
          "color": "white"
         },
         "tracegroupgap": 0
        },
        "margin": {
         "t": 60
        },
        "paper_bgcolor": "#383838",
        "plot_bgcolor": "#383838",
        "template": {
         "data": {
          "bar": [
           {
            "error_x": {
             "color": "#2a3f5f"
            },
            "error_y": {
             "color": "#2a3f5f"
            },
            "marker": {
             "line": {
              "color": "#E5ECF6",
              "width": 0.5
             },
             "pattern": {
              "fillmode": "overlay",
              "size": 10,
              "solidity": 0.2
             }
            },
            "type": "bar"
           }
          ],
          "barpolar": [
           {
            "marker": {
             "line": {
              "color": "#E5ECF6",
              "width": 0.5
             },
             "pattern": {
              "fillmode": "overlay",
              "size": 10,
              "solidity": 0.2
             }
            },
            "type": "barpolar"
           }
          ],
          "carpet": [
           {
            "aaxis": {
             "endlinecolor": "#2a3f5f",
             "gridcolor": "white",
             "linecolor": "white",
             "minorgridcolor": "white",
             "startlinecolor": "#2a3f5f"
            },
            "baxis": {
             "endlinecolor": "#2a3f5f",
             "gridcolor": "white",
             "linecolor": "white",
             "minorgridcolor": "white",
             "startlinecolor": "#2a3f5f"
            },
            "type": "carpet"
           }
          ],
          "choropleth": [
           {
            "colorbar": {
             "outlinewidth": 0,
             "ticks": ""
            },
            "type": "choropleth"
           }
          ],
          "contour": [
           {
            "colorbar": {
             "outlinewidth": 0,
             "ticks": ""
            },
            "colorscale": [
             [
              0,
              "#0d0887"
             ],
             [
              0.1111111111111111,
              "#46039f"
             ],
             [
              0.2222222222222222,
              "#7201a8"
             ],
             [
              0.3333333333333333,
              "#9c179e"
             ],
             [
              0.4444444444444444,
              "#bd3786"
             ],
             [
              0.5555555555555556,
              "#d8576b"
             ],
             [
              0.6666666666666666,
              "#ed7953"
             ],
             [
              0.7777777777777778,
              "#fb9f3a"
             ],
             [
              0.8888888888888888,
              "#fdca26"
             ],
             [
              1,
              "#f0f921"
             ]
            ],
            "type": "contour"
           }
          ],
          "contourcarpet": [
           {
            "colorbar": {
             "outlinewidth": 0,
             "ticks": ""
            },
            "type": "contourcarpet"
           }
          ],
          "heatmap": [
           {
            "colorbar": {
             "outlinewidth": 0,
             "ticks": ""
            },
            "colorscale": [
             [
              0,
              "#0d0887"
             ],
             [
              0.1111111111111111,
              "#46039f"
             ],
             [
              0.2222222222222222,
              "#7201a8"
             ],
             [
              0.3333333333333333,
              "#9c179e"
             ],
             [
              0.4444444444444444,
              "#bd3786"
             ],
             [
              0.5555555555555556,
              "#d8576b"
             ],
             [
              0.6666666666666666,
              "#ed7953"
             ],
             [
              0.7777777777777778,
              "#fb9f3a"
             ],
             [
              0.8888888888888888,
              "#fdca26"
             ],
             [
              1,
              "#f0f921"
             ]
            ],
            "type": "heatmap"
           }
          ],
          "heatmapgl": [
           {
            "colorbar": {
             "outlinewidth": 0,
             "ticks": ""
            },
            "colorscale": [
             [
              0,
              "#0d0887"
             ],
             [
              0.1111111111111111,
              "#46039f"
             ],
             [
              0.2222222222222222,
              "#7201a8"
             ],
             [
              0.3333333333333333,
              "#9c179e"
             ],
             [
              0.4444444444444444,
              "#bd3786"
             ],
             [
              0.5555555555555556,
              "#d8576b"
             ],
             [
              0.6666666666666666,
              "#ed7953"
             ],
             [
              0.7777777777777778,
              "#fb9f3a"
             ],
             [
              0.8888888888888888,
              "#fdca26"
             ],
             [
              1,
              "#f0f921"
             ]
            ],
            "type": "heatmapgl"
           }
          ],
          "histogram": [
           {
            "marker": {
             "pattern": {
              "fillmode": "overlay",
              "size": 10,
              "solidity": 0.2
             }
            },
            "type": "histogram"
           }
          ],
          "histogram2d": [
           {
            "colorbar": {
             "outlinewidth": 0,
             "ticks": ""
            },
            "colorscale": [
             [
              0,
              "#0d0887"
             ],
             [
              0.1111111111111111,
              "#46039f"
             ],
             [
              0.2222222222222222,
              "#7201a8"
             ],
             [
              0.3333333333333333,
              "#9c179e"
             ],
             [
              0.4444444444444444,
              "#bd3786"
             ],
             [
              0.5555555555555556,
              "#d8576b"
             ],
             [
              0.6666666666666666,
              "#ed7953"
             ],
             [
              0.7777777777777778,
              "#fb9f3a"
             ],
             [
              0.8888888888888888,
              "#fdca26"
             ],
             [
              1,
              "#f0f921"
             ]
            ],
            "type": "histogram2d"
           }
          ],
          "histogram2dcontour": [
           {
            "colorbar": {
             "outlinewidth": 0,
             "ticks": ""
            },
            "colorscale": [
             [
              0,
              "#0d0887"
             ],
             [
              0.1111111111111111,
              "#46039f"
             ],
             [
              0.2222222222222222,
              "#7201a8"
             ],
             [
              0.3333333333333333,
              "#9c179e"
             ],
             [
              0.4444444444444444,
              "#bd3786"
             ],
             [
              0.5555555555555556,
              "#d8576b"
             ],
             [
              0.6666666666666666,
              "#ed7953"
             ],
             [
              0.7777777777777778,
              "#fb9f3a"
             ],
             [
              0.8888888888888888,
              "#fdca26"
             ],
             [
              1,
              "#f0f921"
             ]
            ],
            "type": "histogram2dcontour"
           }
          ],
          "mesh3d": [
           {
            "colorbar": {
             "outlinewidth": 0,
             "ticks": ""
            },
            "type": "mesh3d"
           }
          ],
          "parcoords": [
           {
            "line": {
             "colorbar": {
              "outlinewidth": 0,
              "ticks": ""
             }
            },
            "type": "parcoords"
           }
          ],
          "pie": [
           {
            "automargin": true,
            "type": "pie"
           }
          ],
          "scatter": [
           {
            "fillpattern": {
             "fillmode": "overlay",
             "size": 10,
             "solidity": 0.2
            },
            "type": "scatter"
           }
          ],
          "scatter3d": [
           {
            "line": {
             "colorbar": {
              "outlinewidth": 0,
              "ticks": ""
             }
            },
            "marker": {
             "colorbar": {
              "outlinewidth": 0,
              "ticks": ""
             }
            },
            "type": "scatter3d"
           }
          ],
          "scattercarpet": [
           {
            "marker": {
             "colorbar": {
              "outlinewidth": 0,
              "ticks": ""
             }
            },
            "type": "scattercarpet"
           }
          ],
          "scattergeo": [
           {
            "marker": {
             "colorbar": {
              "outlinewidth": 0,
              "ticks": ""
             }
            },
            "type": "scattergeo"
           }
          ],
          "scattergl": [
           {
            "marker": {
             "colorbar": {
              "outlinewidth": 0,
              "ticks": ""
             }
            },
            "type": "scattergl"
           }
          ],
          "scattermapbox": [
           {
            "marker": {
             "colorbar": {
              "outlinewidth": 0,
              "ticks": ""
             }
            },
            "type": "scattermapbox"
           }
          ],
          "scatterpolar": [
           {
            "marker": {
             "colorbar": {
              "outlinewidth": 0,
              "ticks": ""
             }
            },
            "type": "scatterpolar"
           }
          ],
          "scatterpolargl": [
           {
            "marker": {
             "colorbar": {
              "outlinewidth": 0,
              "ticks": ""
             }
            },
            "type": "scatterpolargl"
           }
          ],
          "scatterternary": [
           {
            "marker": {
             "colorbar": {
              "outlinewidth": 0,
              "ticks": ""
             }
            },
            "type": "scatterternary"
           }
          ],
          "surface": [
           {
            "colorbar": {
             "outlinewidth": 0,
             "ticks": ""
            },
            "colorscale": [
             [
              0,
              "#0d0887"
             ],
             [
              0.1111111111111111,
              "#46039f"
             ],
             [
              0.2222222222222222,
              "#7201a8"
             ],
             [
              0.3333333333333333,
              "#9c179e"
             ],
             [
              0.4444444444444444,
              "#bd3786"
             ],
             [
              0.5555555555555556,
              "#d8576b"
             ],
             [
              0.6666666666666666,
              "#ed7953"
             ],
             [
              0.7777777777777778,
              "#fb9f3a"
             ],
             [
              0.8888888888888888,
              "#fdca26"
             ],
             [
              1,
              "#f0f921"
             ]
            ],
            "type": "surface"
           }
          ],
          "table": [
           {
            "cells": {
             "fill": {
              "color": "#EBF0F8"
             },
             "line": {
              "color": "white"
             }
            },
            "header": {
             "fill": {
              "color": "#C8D4E3"
             },
             "line": {
              "color": "white"
             }
            },
            "type": "table"
           }
          ]
         },
         "layout": {
          "annotationdefaults": {
           "arrowcolor": "#2a3f5f",
           "arrowhead": 0,
           "arrowwidth": 1
          },
          "autotypenumbers": "strict",
          "coloraxis": {
           "colorbar": {
            "outlinewidth": 0,
            "ticks": ""
           }
          },
          "colorscale": {
           "diverging": [
            [
             0,
             "#8e0152"
            ],
            [
             0.1,
             "#c51b7d"
            ],
            [
             0.2,
             "#de77ae"
            ],
            [
             0.3,
             "#f1b6da"
            ],
            [
             0.4,
             "#fde0ef"
            ],
            [
             0.5,
             "#f7f7f7"
            ],
            [
             0.6,
             "#e6f5d0"
            ],
            [
             0.7,
             "#b8e186"
            ],
            [
             0.8,
             "#7fbc41"
            ],
            [
             0.9,
             "#4d9221"
            ],
            [
             1,
             "#276419"
            ]
           ],
           "sequential": [
            [
             0,
             "#0d0887"
            ],
            [
             0.1111111111111111,
             "#46039f"
            ],
            [
             0.2222222222222222,
             "#7201a8"
            ],
            [
             0.3333333333333333,
             "#9c179e"
            ],
            [
             0.4444444444444444,
             "#bd3786"
            ],
            [
             0.5555555555555556,
             "#d8576b"
            ],
            [
             0.6666666666666666,
             "#ed7953"
            ],
            [
             0.7777777777777778,
             "#fb9f3a"
            ],
            [
             0.8888888888888888,
             "#fdca26"
            ],
            [
             1,
             "#f0f921"
            ]
           ],
           "sequentialminus": [
            [
             0,
             "#0d0887"
            ],
            [
             0.1111111111111111,
             "#46039f"
            ],
            [
             0.2222222222222222,
             "#7201a8"
            ],
            [
             0.3333333333333333,
             "#9c179e"
            ],
            [
             0.4444444444444444,
             "#bd3786"
            ],
            [
             0.5555555555555556,
             "#d8576b"
            ],
            [
             0.6666666666666666,
             "#ed7953"
            ],
            [
             0.7777777777777778,
             "#fb9f3a"
            ],
            [
             0.8888888888888888,
             "#fdca26"
            ],
            [
             1,
             "#f0f921"
            ]
           ]
          },
          "colorway": [
           "#636efa",
           "#EF553B",
           "#00cc96",
           "#ab63fa",
           "#FFA15A",
           "#19d3f3",
           "#FF6692",
           "#B6E880",
           "#FF97FF",
           "#FECB52"
          ],
          "font": {
           "color": "#2a3f5f"
          },
          "geo": {
           "bgcolor": "white",
           "lakecolor": "white",
           "landcolor": "#E5ECF6",
           "showlakes": true,
           "showland": true,
           "subunitcolor": "white"
          },
          "hoverlabel": {
           "align": "left"
          },
          "hovermode": "closest",
          "mapbox": {
           "style": "light"
          },
          "paper_bgcolor": "white",
          "plot_bgcolor": "#E5ECF6",
          "polar": {
           "angularaxis": {
            "gridcolor": "white",
            "linecolor": "white",
            "ticks": ""
           },
           "bgcolor": "#E5ECF6",
           "radialaxis": {
            "gridcolor": "white",
            "linecolor": "white",
            "ticks": ""
           }
          },
          "scene": {
           "xaxis": {
            "backgroundcolor": "#E5ECF6",
            "gridcolor": "white",
            "gridwidth": 2,
            "linecolor": "white",
            "showbackground": true,
            "ticks": "",
            "zerolinecolor": "white"
           },
           "yaxis": {
            "backgroundcolor": "#E5ECF6",
            "gridcolor": "white",
            "gridwidth": 2,
            "linecolor": "white",
            "showbackground": true,
            "ticks": "",
            "zerolinecolor": "white"
           },
           "zaxis": {
            "backgroundcolor": "#E5ECF6",
            "gridcolor": "white",
            "gridwidth": 2,
            "linecolor": "white",
            "showbackground": true,
            "ticks": "",
            "zerolinecolor": "white"
           }
          },
          "shapedefaults": {
           "line": {
            "color": "#2a3f5f"
           }
          },
          "ternary": {
           "aaxis": {
            "gridcolor": "white",
            "linecolor": "white",
            "ticks": ""
           },
           "baxis": {
            "gridcolor": "white",
            "linecolor": "white",
            "ticks": ""
           },
           "bgcolor": "#E5ECF6",
           "caxis": {
            "gridcolor": "white",
            "linecolor": "white",
            "ticks": ""
           }
          },
          "title": {
           "x": 0.05
          },
          "xaxis": {
           "automargin": true,
           "gridcolor": "white",
           "linecolor": "white",
           "ticks": "",
           "title": {
            "standoff": 15
           },
           "zerolinecolor": "white",
           "zerolinewidth": 2
          },
          "yaxis": {
           "automargin": true,
           "gridcolor": "white",
           "linecolor": "white",
           "ticks": "",
           "title": {
            "standoff": 15
           },
           "zerolinecolor": "white",
           "zerolinewidth": 2
          }
         }
        },
        "title": {
         "font": {
          "color": "white"
         }
        },
        "width": 600,
        "xaxis": {
         "anchor": "y",
         "color": "white",
         "domain": [
          0,
          1
         ],
         "title": {
          "text": "x"
         }
        },
        "yaxis": {
         "anchor": "x",
         "color": "white",
         "domain": [
          0,
          1
         ],
         "title": {
          "text": "y"
         }
        }
       }
      }
     },
     "metadata": {},
     "output_type": "display_data"
    }
   ],
   "source": [
    "res = processed_df['Embarked'].value_counts()\n",
    "fig = px.bar(x=res.index, y=res.values, width=600, height=400)\n",
    "fig.update_layout(**layout_options)\n",
    "fig.show()"
   ]
  },
  {
   "cell_type": "code",
   "execution_count": 112,
   "metadata": {
    "colab": {
     "base_uri": "https://localhost:8080/",
     "height": 206
    },
    "executionInfo": {
     "elapsed": 32,
     "status": "ok",
     "timestamp": 1682695259666,
     "user": {
      "displayName": "Adnan Alkattan",
      "userId": "14686308749644374052"
     },
     "user_tz": -180
    },
    "id": "dk97b2QAyjFu",
    "outputId": "15d9b6dc-d36f-418a-b375-29e9b8c9c4a9"
   },
   "outputs": [
    {
     "data": {
      "text/html": [
       "<div>\n",
       "<style scoped>\n",
       "    .dataframe tbody tr th:only-of-type {\n",
       "        vertical-align: middle;\n",
       "    }\n",
       "\n",
       "    .dataframe tbody tr th {\n",
       "        vertical-align: top;\n",
       "    }\n",
       "\n",
       "    .dataframe thead th {\n",
       "        text-align: right;\n",
       "    }\n",
       "</style>\n",
       "<table border=\"1\" class=\"dataframe\">\n",
       "  <thead>\n",
       "    <tr style=\"text-align: right;\">\n",
       "      <th></th>\n",
       "      <th></th>\n",
       "      <th>Age</th>\n",
       "    </tr>\n",
       "    <tr>\n",
       "      <th>Sex</th>\n",
       "      <th>Survived</th>\n",
       "      <th></th>\n",
       "    </tr>\n",
       "  </thead>\n",
       "  <tbody>\n",
       "    <tr>\n",
       "      <th rowspan=\"2\" valign=\"top\">female</th>\n",
       "      <th>0</th>\n",
       "      <td>81</td>\n",
       "    </tr>\n",
       "    <tr>\n",
       "      <th>1</th>\n",
       "      <td>231</td>\n",
       "    </tr>\n",
       "    <tr>\n",
       "      <th rowspan=\"2\" valign=\"top\">male</th>\n",
       "      <th>0</th>\n",
       "      <td>468</td>\n",
       "    </tr>\n",
       "    <tr>\n",
       "      <th>1</th>\n",
       "      <td>109</td>\n",
       "    </tr>\n",
       "  </tbody>\n",
       "</table>\n",
       "</div>"
      ],
      "text/plain": [
       "                 Age\n",
       "Sex    Survived     \n",
       "female 0          81\n",
       "       1         231\n",
       "male   0         468\n",
       "       1         109"
      ]
     },
     "execution_count": 112,
     "metadata": {},
     "output_type": "execute_result"
    }
   ],
   "source": [
    "plot_data = processed_df[['Sex',\n",
    "                          'Survived',\n",
    "                          'Age']].groupby(['Sex', 'Survived']).count()\n",
    "plot_data"
   ]
  },
  {
   "cell_type": "code",
   "execution_count": 113,
   "metadata": {
    "id": "bCTGaxVlzO1b"
   },
   "outputs": [],
   "source": [
    "plot_data.rename(columns = {'Age':'count'}, inplace=True)"
   ]
  },
  {
   "cell_type": "code",
   "execution_count": 114,
   "metadata": {
    "colab": {
     "base_uri": "https://localhost:8080/"
    },
    "executionInfo": {
     "elapsed": 30,
     "status": "ok",
     "timestamp": 1682695259666,
     "user": {
      "displayName": "Adnan Alkattan",
      "userId": "14686308749644374052"
     },
     "user_tz": -180
    },
    "id": "u3zezuZdy4EY",
    "outputId": "92964d45-7652-46c7-9a0c-1153e3937855"
   },
   "outputs": [
    {
     "data": {
      "text/plain": [
       "Survived\n",
       "0    468\n",
       "1    109\n",
       "Name: count, dtype: int64"
      ]
     },
     "execution_count": 114,
     "metadata": {},
     "output_type": "execute_result"
    }
   ],
   "source": [
    "plot_data.loc['male']['count']"
   ]
  },
  {
   "cell_type": "code",
   "execution_count": 115,
   "metadata": {
    "colab": {
     "base_uri": "https://localhost:8080/",
     "height": 617
    },
    "executionInfo": {
     "elapsed": 24,
     "status": "ok",
     "timestamp": 1682695259667,
     "user": {
      "displayName": "Adnan Alkattan",
      "userId": "14686308749644374052"
     },
     "user_tz": -180
    },
    "id": "K_DUMRYqFoAP",
    "outputId": "1dfa4366-00b2-4026-cdd9-c775f9a2564c"
   },
   "outputs": [
    {
     "data": {
      "application/vnd.plotly.v1+json": {
       "config": {
        "plotlyServerURL": "https://plot.ly"
       },
       "data": [
        {
         "name": "Male",
         "type": "bar",
         "x": [
          0,
          1
         ],
         "xaxis": "x",
         "y": [
          468,
          109
         ],
         "yaxis": "y"
        },
        {
         "name": "Female",
         "type": "bar",
         "x": [
          0,
          1
         ],
         "xaxis": "x2",
         "y": [
          81,
          231
         ],
         "yaxis": "y2"
        }
       ],
       "layout": {
        "height": 600,
        "legend": {
         "font": {
          "color": "white"
         }
        },
        "paper_bgcolor": "#383838",
        "plot_bgcolor": "#383838",
        "template": {
         "data": {
          "bar": [
           {
            "error_x": {
             "color": "#2a3f5f"
            },
            "error_y": {
             "color": "#2a3f5f"
            },
            "marker": {
             "line": {
              "color": "#E5ECF6",
              "width": 0.5
             },
             "pattern": {
              "fillmode": "overlay",
              "size": 10,
              "solidity": 0.2
             }
            },
            "type": "bar"
           }
          ],
          "barpolar": [
           {
            "marker": {
             "line": {
              "color": "#E5ECF6",
              "width": 0.5
             },
             "pattern": {
              "fillmode": "overlay",
              "size": 10,
              "solidity": 0.2
             }
            },
            "type": "barpolar"
           }
          ],
          "carpet": [
           {
            "aaxis": {
             "endlinecolor": "#2a3f5f",
             "gridcolor": "white",
             "linecolor": "white",
             "minorgridcolor": "white",
             "startlinecolor": "#2a3f5f"
            },
            "baxis": {
             "endlinecolor": "#2a3f5f",
             "gridcolor": "white",
             "linecolor": "white",
             "minorgridcolor": "white",
             "startlinecolor": "#2a3f5f"
            },
            "type": "carpet"
           }
          ],
          "choropleth": [
           {
            "colorbar": {
             "outlinewidth": 0,
             "ticks": ""
            },
            "type": "choropleth"
           }
          ],
          "contour": [
           {
            "colorbar": {
             "outlinewidth": 0,
             "ticks": ""
            },
            "colorscale": [
             [
              0,
              "#0d0887"
             ],
             [
              0.1111111111111111,
              "#46039f"
             ],
             [
              0.2222222222222222,
              "#7201a8"
             ],
             [
              0.3333333333333333,
              "#9c179e"
             ],
             [
              0.4444444444444444,
              "#bd3786"
             ],
             [
              0.5555555555555556,
              "#d8576b"
             ],
             [
              0.6666666666666666,
              "#ed7953"
             ],
             [
              0.7777777777777778,
              "#fb9f3a"
             ],
             [
              0.8888888888888888,
              "#fdca26"
             ],
             [
              1,
              "#f0f921"
             ]
            ],
            "type": "contour"
           }
          ],
          "contourcarpet": [
           {
            "colorbar": {
             "outlinewidth": 0,
             "ticks": ""
            },
            "type": "contourcarpet"
           }
          ],
          "heatmap": [
           {
            "colorbar": {
             "outlinewidth": 0,
             "ticks": ""
            },
            "colorscale": [
             [
              0,
              "#0d0887"
             ],
             [
              0.1111111111111111,
              "#46039f"
             ],
             [
              0.2222222222222222,
              "#7201a8"
             ],
             [
              0.3333333333333333,
              "#9c179e"
             ],
             [
              0.4444444444444444,
              "#bd3786"
             ],
             [
              0.5555555555555556,
              "#d8576b"
             ],
             [
              0.6666666666666666,
              "#ed7953"
             ],
             [
              0.7777777777777778,
              "#fb9f3a"
             ],
             [
              0.8888888888888888,
              "#fdca26"
             ],
             [
              1,
              "#f0f921"
             ]
            ],
            "type": "heatmap"
           }
          ],
          "heatmapgl": [
           {
            "colorbar": {
             "outlinewidth": 0,
             "ticks": ""
            },
            "colorscale": [
             [
              0,
              "#0d0887"
             ],
             [
              0.1111111111111111,
              "#46039f"
             ],
             [
              0.2222222222222222,
              "#7201a8"
             ],
             [
              0.3333333333333333,
              "#9c179e"
             ],
             [
              0.4444444444444444,
              "#bd3786"
             ],
             [
              0.5555555555555556,
              "#d8576b"
             ],
             [
              0.6666666666666666,
              "#ed7953"
             ],
             [
              0.7777777777777778,
              "#fb9f3a"
             ],
             [
              0.8888888888888888,
              "#fdca26"
             ],
             [
              1,
              "#f0f921"
             ]
            ],
            "type": "heatmapgl"
           }
          ],
          "histogram": [
           {
            "marker": {
             "pattern": {
              "fillmode": "overlay",
              "size": 10,
              "solidity": 0.2
             }
            },
            "type": "histogram"
           }
          ],
          "histogram2d": [
           {
            "colorbar": {
             "outlinewidth": 0,
             "ticks": ""
            },
            "colorscale": [
             [
              0,
              "#0d0887"
             ],
             [
              0.1111111111111111,
              "#46039f"
             ],
             [
              0.2222222222222222,
              "#7201a8"
             ],
             [
              0.3333333333333333,
              "#9c179e"
             ],
             [
              0.4444444444444444,
              "#bd3786"
             ],
             [
              0.5555555555555556,
              "#d8576b"
             ],
             [
              0.6666666666666666,
              "#ed7953"
             ],
             [
              0.7777777777777778,
              "#fb9f3a"
             ],
             [
              0.8888888888888888,
              "#fdca26"
             ],
             [
              1,
              "#f0f921"
             ]
            ],
            "type": "histogram2d"
           }
          ],
          "histogram2dcontour": [
           {
            "colorbar": {
             "outlinewidth": 0,
             "ticks": ""
            },
            "colorscale": [
             [
              0,
              "#0d0887"
             ],
             [
              0.1111111111111111,
              "#46039f"
             ],
             [
              0.2222222222222222,
              "#7201a8"
             ],
             [
              0.3333333333333333,
              "#9c179e"
             ],
             [
              0.4444444444444444,
              "#bd3786"
             ],
             [
              0.5555555555555556,
              "#d8576b"
             ],
             [
              0.6666666666666666,
              "#ed7953"
             ],
             [
              0.7777777777777778,
              "#fb9f3a"
             ],
             [
              0.8888888888888888,
              "#fdca26"
             ],
             [
              1,
              "#f0f921"
             ]
            ],
            "type": "histogram2dcontour"
           }
          ],
          "mesh3d": [
           {
            "colorbar": {
             "outlinewidth": 0,
             "ticks": ""
            },
            "type": "mesh3d"
           }
          ],
          "parcoords": [
           {
            "line": {
             "colorbar": {
              "outlinewidth": 0,
              "ticks": ""
             }
            },
            "type": "parcoords"
           }
          ],
          "pie": [
           {
            "automargin": true,
            "type": "pie"
           }
          ],
          "scatter": [
           {
            "fillpattern": {
             "fillmode": "overlay",
             "size": 10,
             "solidity": 0.2
            },
            "type": "scatter"
           }
          ],
          "scatter3d": [
           {
            "line": {
             "colorbar": {
              "outlinewidth": 0,
              "ticks": ""
             }
            },
            "marker": {
             "colorbar": {
              "outlinewidth": 0,
              "ticks": ""
             }
            },
            "type": "scatter3d"
           }
          ],
          "scattercarpet": [
           {
            "marker": {
             "colorbar": {
              "outlinewidth": 0,
              "ticks": ""
             }
            },
            "type": "scattercarpet"
           }
          ],
          "scattergeo": [
           {
            "marker": {
             "colorbar": {
              "outlinewidth": 0,
              "ticks": ""
             }
            },
            "type": "scattergeo"
           }
          ],
          "scattergl": [
           {
            "marker": {
             "colorbar": {
              "outlinewidth": 0,
              "ticks": ""
             }
            },
            "type": "scattergl"
           }
          ],
          "scattermapbox": [
           {
            "marker": {
             "colorbar": {
              "outlinewidth": 0,
              "ticks": ""
             }
            },
            "type": "scattermapbox"
           }
          ],
          "scatterpolar": [
           {
            "marker": {
             "colorbar": {
              "outlinewidth": 0,
              "ticks": ""
             }
            },
            "type": "scatterpolar"
           }
          ],
          "scatterpolargl": [
           {
            "marker": {
             "colorbar": {
              "outlinewidth": 0,
              "ticks": ""
             }
            },
            "type": "scatterpolargl"
           }
          ],
          "scatterternary": [
           {
            "marker": {
             "colorbar": {
              "outlinewidth": 0,
              "ticks": ""
             }
            },
            "type": "scatterternary"
           }
          ],
          "surface": [
           {
            "colorbar": {
             "outlinewidth": 0,
             "ticks": ""
            },
            "colorscale": [
             [
              0,
              "#0d0887"
             ],
             [
              0.1111111111111111,
              "#46039f"
             ],
             [
              0.2222222222222222,
              "#7201a8"
             ],
             [
              0.3333333333333333,
              "#9c179e"
             ],
             [
              0.4444444444444444,
              "#bd3786"
             ],
             [
              0.5555555555555556,
              "#d8576b"
             ],
             [
              0.6666666666666666,
              "#ed7953"
             ],
             [
              0.7777777777777778,
              "#fb9f3a"
             ],
             [
              0.8888888888888888,
              "#fdca26"
             ],
             [
              1,
              "#f0f921"
             ]
            ],
            "type": "surface"
           }
          ],
          "table": [
           {
            "cells": {
             "fill": {
              "color": "#EBF0F8"
             },
             "line": {
              "color": "white"
             }
            },
            "header": {
             "fill": {
              "color": "#C8D4E3"
             },
             "line": {
              "color": "white"
             }
            },
            "type": "table"
           }
          ]
         },
         "layout": {
          "annotationdefaults": {
           "arrowcolor": "#2a3f5f",
           "arrowhead": 0,
           "arrowwidth": 1
          },
          "autotypenumbers": "strict",
          "coloraxis": {
           "colorbar": {
            "outlinewidth": 0,
            "ticks": ""
           }
          },
          "colorscale": {
           "diverging": [
            [
             0,
             "#8e0152"
            ],
            [
             0.1,
             "#c51b7d"
            ],
            [
             0.2,
             "#de77ae"
            ],
            [
             0.3,
             "#f1b6da"
            ],
            [
             0.4,
             "#fde0ef"
            ],
            [
             0.5,
             "#f7f7f7"
            ],
            [
             0.6,
             "#e6f5d0"
            ],
            [
             0.7,
             "#b8e186"
            ],
            [
             0.8,
             "#7fbc41"
            ],
            [
             0.9,
             "#4d9221"
            ],
            [
             1,
             "#276419"
            ]
           ],
           "sequential": [
            [
             0,
             "#0d0887"
            ],
            [
             0.1111111111111111,
             "#46039f"
            ],
            [
             0.2222222222222222,
             "#7201a8"
            ],
            [
             0.3333333333333333,
             "#9c179e"
            ],
            [
             0.4444444444444444,
             "#bd3786"
            ],
            [
             0.5555555555555556,
             "#d8576b"
            ],
            [
             0.6666666666666666,
             "#ed7953"
            ],
            [
             0.7777777777777778,
             "#fb9f3a"
            ],
            [
             0.8888888888888888,
             "#fdca26"
            ],
            [
             1,
             "#f0f921"
            ]
           ],
           "sequentialminus": [
            [
             0,
             "#0d0887"
            ],
            [
             0.1111111111111111,
             "#46039f"
            ],
            [
             0.2222222222222222,
             "#7201a8"
            ],
            [
             0.3333333333333333,
             "#9c179e"
            ],
            [
             0.4444444444444444,
             "#bd3786"
            ],
            [
             0.5555555555555556,
             "#d8576b"
            ],
            [
             0.6666666666666666,
             "#ed7953"
            ],
            [
             0.7777777777777778,
             "#fb9f3a"
            ],
            [
             0.8888888888888888,
             "#fdca26"
            ],
            [
             1,
             "#f0f921"
            ]
           ]
          },
          "colorway": [
           "#636efa",
           "#EF553B",
           "#00cc96",
           "#ab63fa",
           "#FFA15A",
           "#19d3f3",
           "#FF6692",
           "#B6E880",
           "#FF97FF",
           "#FECB52"
          ],
          "font": {
           "color": "#2a3f5f"
          },
          "geo": {
           "bgcolor": "white",
           "lakecolor": "white",
           "landcolor": "#E5ECF6",
           "showlakes": true,
           "showland": true,
           "subunitcolor": "white"
          },
          "hoverlabel": {
           "align": "left"
          },
          "hovermode": "closest",
          "mapbox": {
           "style": "light"
          },
          "paper_bgcolor": "white",
          "plot_bgcolor": "#E5ECF6",
          "polar": {
           "angularaxis": {
            "gridcolor": "white",
            "linecolor": "white",
            "ticks": ""
           },
           "bgcolor": "#E5ECF6",
           "radialaxis": {
            "gridcolor": "white",
            "linecolor": "white",
            "ticks": ""
           }
          },
          "scene": {
           "xaxis": {
            "backgroundcolor": "#E5ECF6",
            "gridcolor": "white",
            "gridwidth": 2,
            "linecolor": "white",
            "showbackground": true,
            "ticks": "",
            "zerolinecolor": "white"
           },
           "yaxis": {
            "backgroundcolor": "#E5ECF6",
            "gridcolor": "white",
            "gridwidth": 2,
            "linecolor": "white",
            "showbackground": true,
            "ticks": "",
            "zerolinecolor": "white"
           },
           "zaxis": {
            "backgroundcolor": "#E5ECF6",
            "gridcolor": "white",
            "gridwidth": 2,
            "linecolor": "white",
            "showbackground": true,
            "ticks": "",
            "zerolinecolor": "white"
           }
          },
          "shapedefaults": {
           "line": {
            "color": "#2a3f5f"
           }
          },
          "ternary": {
           "aaxis": {
            "gridcolor": "white",
            "linecolor": "white",
            "ticks": ""
           },
           "baxis": {
            "gridcolor": "white",
            "linecolor": "white",
            "ticks": ""
           },
           "bgcolor": "#E5ECF6",
           "caxis": {
            "gridcolor": "white",
            "linecolor": "white",
            "ticks": ""
           }
          },
          "title": {
           "x": 0.05
          },
          "xaxis": {
           "automargin": true,
           "gridcolor": "white",
           "linecolor": "white",
           "ticks": "",
           "title": {
            "standoff": 15
           },
           "zerolinecolor": "white",
           "zerolinewidth": 2
          },
          "yaxis": {
           "automargin": true,
           "gridcolor": "white",
           "linecolor": "white",
           "ticks": "",
           "title": {
            "standoff": 15
           },
           "zerolinecolor": "white",
           "zerolinewidth": 2
          }
         }
        },
        "title": {
         "font": {
          "color": "white"
         },
         "text": "Survival vs Sex"
        },
        "width": 800,
        "xaxis": {
         "anchor": "y",
         "color": "white",
         "domain": [
          0,
          0.45
         ]
        },
        "xaxis2": {
         "anchor": "y2",
         "color": "white",
         "domain": [
          0.55,
          1
         ]
        },
        "yaxis": {
         "anchor": "x",
         "color": "white",
         "domain": [
          0,
          1
         ]
        },
        "yaxis2": {
         "anchor": "x2",
         "color": "white",
         "domain": [
          0,
          1
         ]
        }
       }
      }
     },
     "metadata": {},
     "output_type": "display_data"
    }
   ],
   "source": [
    "from plotly.subplots import make_subplots\n",
    "import plotly.graph_objects as go\n",
    "\n",
    "fig = make_subplots(rows=1, cols=2)\n",
    "fig.add_trace(\n",
    "    go.Bar(x=plot_data.loc['male'].index, y=plot_data.loc['male']['count'],\n",
    "           name='Male'),\n",
    "    row=1, col=1\n",
    ")\n",
    "\n",
    "fig.add_trace(\n",
    "    go.Bar(x=plot_data.loc['female'].index, y=plot_data.loc['female']['count'],\n",
    "    name='Female'),\n",
    "    row=1, col=2\n",
    ")\n",
    "\n",
    "fig.update_layout(height=600, width=800, title_text=\"Survival vs Sex\",\n",
    "                  **layout_options)\n",
    "# refer to the link https://community.plotly.com/t/fig-update-layout-only-affecting-first-subplot/29648\n",
    "fig.update_yaxes(layout_options['yaxis'])\n",
    "fig.update_xaxes(layout_options['xaxis'])\n",
    "fig.show()"
   ]
  },
  {
   "cell_type": "code",
   "execution_count": 116,
   "metadata": {
    "colab": {
     "base_uri": "https://localhost:8080/",
     "height": 417
    },
    "executionInfo": {
     "elapsed": 23,
     "status": "ok",
     "timestamp": 1682695259667,
     "user": {
      "displayName": "Adnan Alkattan",
      "userId": "14686308749644374052"
     },
     "user_tz": -180
    },
    "id": "dLnHw-aCilvR",
    "outputId": "8fe25020-ba4d-4f00-e7d6-99d67328c177"
   },
   "outputs": [
    {
     "data": {
      "application/vnd.plotly.v1+json": {
       "config": {
        "plotlyServerURL": "https://plot.ly"
       },
       "data": [
        {
         "alignmentgroup": "True",
         "bingroup": "x",
         "histfunc": "count",
         "hovertemplate": "Sex=male<br>Pclass=%{x}<br>count=%{y}<extra></extra>",
         "legendgroup": "male",
         "marker": {
          "color": "#636efa",
          "pattern": {
           "shape": ""
          }
         },
         "name": "male",
         "offsetgroup": "male",
         "orientation": "v",
         "showlegend": true,
         "type": "histogram",
         "x": [
          3,
          3,
          3,
          1,
          3,
          3,
          3,
          3,
          2,
          2,
          2,
          1,
          3,
          1,
          3,
          1,
          2,
          1,
          1,
          3,
          3,
          3,
          3,
          3,
          3,
          3,
          3,
          1,
          1,
          3,
          3,
          3,
          1,
          3,
          1,
          3,
          3,
          3,
          2,
          2,
          3,
          3,
          3,
          3,
          3,
          2,
          3,
          3,
          1,
          3,
          3,
          3,
          3,
          3,
          1,
          3,
          3,
          3,
          1,
          1,
          2,
          3,
          1,
          3,
          3,
          3,
          3,
          3,
          1,
          3,
          3,
          3,
          2,
          1,
          2,
          3,
          2,
          1,
          3,
          3,
          3,
          3,
          3,
          3,
          2,
          2,
          1,
          3,
          1,
          3,
          2,
          2,
          3,
          2,
          2,
          2,
          3,
          3,
          3,
          1,
          3,
          3,
          3,
          3,
          3,
          3,
          3,
          3,
          1,
          3,
          1,
          3,
          3,
          1,
          3,
          3,
          2,
          3,
          2,
          3,
          2,
          1,
          1,
          3,
          3,
          2,
          2,
          3,
          3,
          3,
          3,
          3,
          3,
          3,
          3,
          3,
          1,
          3,
          3,
          2,
          3,
          2,
          2,
          3,
          2,
          3,
          3,
          1,
          3,
          2,
          3,
          2,
          3,
          2,
          2,
          2,
          2,
          2,
          2,
          3,
          3,
          1,
          1,
          2,
          3,
          1,
          3,
          3,
          3,
          1,
          1,
          2,
          3,
          3,
          1,
          3,
          1,
          2,
          3,
          3,
          3,
          3,
          3,
          1,
          3,
          3,
          3,
          2,
          2,
          3,
          1,
          3,
          1,
          3,
          3,
          3,
          1,
          2,
          3,
          2,
          2,
          3,
          3,
          3,
          3,
          1,
          1,
          3,
          3,
          1,
          3,
          1,
          2,
          2,
          2,
          2,
          3,
          3,
          3,
          1,
          3,
          3,
          3,
          3,
          3,
          2,
          3,
          3,
          3,
          1,
          3,
          3,
          1,
          1,
          3,
          3,
          3,
          3,
          2,
          3,
          3,
          1,
          3,
          3,
          3,
          2,
          2,
          3,
          3,
          3,
          2,
          3,
          2,
          3,
          3,
          3,
          2,
          3,
          2,
          3,
          3,
          3,
          3,
          3,
          3,
          3,
          1,
          3,
          1,
          1,
          2,
          3,
          3,
          3,
          1,
          1,
          1,
          2,
          3,
          1,
          1,
          3,
          3,
          1,
          3,
          1,
          3,
          1,
          2,
          3,
          3,
          2,
          1,
          3,
          3,
          3,
          1,
          2,
          3,
          3,
          3,
          2,
          3,
          1,
          1,
          3,
          3,
          3,
          3,
          1,
          1,
          3,
          3,
          3,
          3,
          3,
          1,
          1,
          3,
          3,
          3,
          3,
          1,
          3,
          1,
          3,
          3,
          3,
          3,
          3,
          3,
          1,
          3,
          2,
          3,
          3,
          1,
          3,
          2,
          1,
          1,
          2,
          3,
          2,
          1,
          2,
          3,
          3,
          1,
          1,
          3,
          3,
          2,
          3,
          3,
          3,
          3,
          3,
          2,
          1,
          3,
          3,
          3,
          2,
          1,
          3,
          2,
          1,
          3,
          3,
          3,
          3,
          2,
          3,
          3,
          3,
          1,
          3,
          1,
          3,
          1,
          3,
          3,
          1,
          3,
          3,
          3,
          3,
          2,
          3,
          1,
          3,
          3,
          3,
          1,
          2,
          3,
          3,
          1,
          3,
          1,
          1,
          3,
          2,
          3,
          3,
          3,
          1,
          3,
          1,
          3,
          3,
          3,
          2,
          3,
          2,
          1,
          1,
          3,
          1,
          3,
          3,
          2,
          2,
          3,
          3,
          1,
          2,
          2,
          2,
          3,
          3,
          1,
          1,
          3,
          3,
          2,
          2,
          3,
          3,
          3,
          1,
          3,
          3,
          1,
          2,
          3,
          1,
          3,
          1,
          3,
          3,
          2,
          1,
          3,
          1,
          1,
          3,
          2,
          3,
          3,
          3,
          3,
          2,
          2,
          1,
          3,
          2,
          3,
          2,
          2,
          2,
          3,
          1,
          3,
          3,
          1,
          1,
          3,
          3,
          1,
          3,
          1,
          3,
          3,
          3,
          3,
          2,
          3,
          2,
          3,
          3,
          3,
          3,
          3,
          1,
          3,
          3,
          3,
          3,
          3,
          3,
          3,
          3,
          1,
          3,
          3,
          3,
          3,
          3,
          1,
          3,
          2,
          1,
          3,
          2,
          3,
          2,
          1,
          3,
          3,
          3,
          1,
          2,
          3,
          3,
          2,
          3,
          1,
          2,
          3,
          3,
          3,
          1,
          3,
          3,
          3,
          2,
          3,
          2,
          3,
          3,
          3,
          3,
          3,
          3,
          1,
          3,
          2,
          3,
          3,
          3,
          3,
          3,
          2,
          3,
          3,
          1,
          3,
          3,
          2,
          2,
          1,
          3,
          3,
          3,
          1,
          3,
          3,
          3,
          3,
          3,
          2,
          3,
          2,
          1,
          3
         ],
         "xaxis": "x",
         "y": [
          0,
          0,
          0,
          0,
          0,
          0,
          0,
          0,
          1,
          0,
          1,
          1,
          0,
          0,
          0,
          0,
          0,
          0,
          0,
          1,
          0,
          0,
          0,
          0,
          0,
          0,
          0,
          0,
          1,
          0,
          0,
          0,
          0,
          0,
          0,
          1,
          0,
          0,
          0,
          0,
          0,
          1,
          0,
          0,
          0,
          1,
          0,
          1,
          0,
          0,
          0,
          0,
          0,
          0,
          0,
          0,
          0,
          0,
          0,
          1,
          0,
          0,
          0,
          0,
          0,
          0,
          1,
          0,
          0,
          0,
          0,
          0,
          0,
          0,
          0,
          0,
          0,
          0,
          1,
          0,
          1,
          0,
          0,
          0,
          0,
          0,
          0,
          0,
          0,
          0,
          0,
          0,
          1,
          0,
          0,
          0,
          0,
          0,
          0,
          0,
          0,
          0,
          0,
          0,
          0,
          0,
          0,
          1,
          0,
          0,
          0,
          0,
          0,
          0,
          0,
          0,
          0,
          0,
          0,
          0,
          1,
          0,
          1,
          0,
          0,
          0,
          1,
          0,
          0,
          0,
          0,
          0,
          0,
          1,
          0,
          1,
          1,
          0,
          0,
          0,
          0,
          0,
          0,
          1,
          0,
          0,
          0,
          1,
          0,
          1,
          0,
          0,
          0,
          0,
          0,
          0,
          0,
          0,
          0,
          0,
          0,
          0,
          1,
          0,
          0,
          0,
          0,
          0,
          1,
          0,
          0,
          0,
          0,
          1,
          0,
          1,
          0,
          0,
          0,
          0,
          0,
          0,
          1,
          0,
          0,
          1,
          0,
          1,
          0,
          0,
          0,
          0,
          1,
          1,
          0,
          0,
          1,
          0,
          0,
          0,
          0,
          0,
          0,
          0,
          0,
          0,
          0,
          0,
          0,
          0,
          1,
          0,
          1,
          0,
          0,
          0,
          1,
          0,
          0,
          0,
          0,
          0,
          0,
          0,
          0,
          0,
          0,
          0,
          0,
          1,
          0,
          0,
          0,
          0,
          0,
          0,
          0,
          0,
          0,
          0,
          0,
          1,
          1,
          0,
          0,
          0,
          0,
          1,
          0,
          0,
          0,
          0,
          1,
          0,
          0,
          0,
          0,
          1,
          0,
          0,
          0,
          0,
          0,
          0,
          0,
          1,
          1,
          0,
          0,
          0,
          0,
          0,
          0,
          1,
          1,
          1,
          1,
          0,
          0,
          0,
          1,
          0,
          1,
          0,
          0,
          1,
          0,
          0,
          0,
          0,
          0,
          0,
          0,
          0,
          0,
          0,
          0,
          0,
          0,
          0,
          0,
          0,
          0,
          1,
          0,
          0,
          1,
          0,
          0,
          0,
          0,
          0,
          0,
          0,
          0,
          0,
          0,
          1,
          0,
          1,
          1,
          0,
          1,
          0,
          0,
          0,
          0,
          0,
          0,
          0,
          0,
          0,
          0,
          0,
          0,
          0,
          0,
          0,
          1,
          0,
          0,
          1,
          0,
          1,
          1,
          0,
          0,
          1,
          0,
          0,
          0,
          0,
          0,
          0,
          0,
          0,
          0,
          1,
          1,
          1,
          0,
          0,
          1,
          0,
          0,
          0,
          0,
          1,
          0,
          0,
          0,
          0,
          0,
          0,
          0,
          0,
          1,
          0,
          0,
          0,
          1,
          0,
          0,
          1,
          0,
          0,
          0,
          0,
          0,
          0,
          1,
          1,
          0,
          0,
          0,
          0,
          0,
          0,
          1,
          0,
          1,
          0,
          0,
          0,
          0,
          0,
          1,
          1,
          0,
          1,
          0,
          0,
          0,
          0,
          0,
          0,
          0,
          1,
          0,
          0,
          0,
          1,
          0,
          0,
          0,
          0,
          0,
          0,
          1,
          0,
          0,
          0,
          1,
          1,
          0,
          0,
          0,
          0,
          0,
          0,
          0,
          1,
          1,
          0,
          0,
          0,
          0,
          0,
          0,
          1,
          0,
          0,
          0,
          1,
          1,
          0,
          1,
          0,
          0,
          0,
          0,
          0,
          0,
          0,
          0,
          1,
          0,
          0,
          0,
          0,
          0,
          0,
          0,
          1,
          0,
          0,
          1,
          0,
          0,
          1,
          0,
          0,
          0,
          0,
          1,
          0,
          0,
          1,
          0,
          0,
          0,
          0,
          0,
          1,
          0,
          0,
          0,
          0,
          0,
          0,
          0,
          0,
          0,
          0,
          0,
          0,
          0,
          0,
          0,
          1,
          0,
          0,
          0,
          0,
          0,
          0,
          0,
          0,
          1,
          1,
          1,
          0,
          0,
          0,
          0,
          0,
          0,
          0,
          0,
          0,
          0,
          0,
          1,
          0,
          0,
          0,
          0,
          1,
          1,
          1,
          0,
          0,
          0,
          0,
          0,
          1,
          1,
          0,
          0,
          0,
          0,
          0,
          0,
          0,
          0,
          0,
          0,
          1,
          0,
          0,
          0,
          0,
          0,
          0,
          1,
          0,
          0,
          0,
          0,
          0,
          0,
          0,
          0,
          0,
          0,
          1,
          0
         ],
         "yaxis": "y"
        },
        {
         "alignmentgroup": "True",
         "bingroup": "x",
         "histfunc": "count",
         "hovertemplate": "Sex=female<br>Pclass=%{x}<br>count=%{y}<extra></extra>",
         "legendgroup": "female",
         "marker": {
          "color": "#EF553B",
          "pattern": {
           "shape": ""
          }
         },
         "name": "female",
         "offsetgroup": "female",
         "orientation": "v",
         "showlegend": true,
         "type": "histogram",
         "x": [
          1,
          3,
          1,
          3,
          2,
          3,
          1,
          3,
          2,
          3,
          3,
          3,
          3,
          3,
          3,
          1,
          3,
          3,
          3,
          3,
          2,
          2,
          3,
          3,
          3,
          1,
          2,
          2,
          2,
          2,
          3,
          3,
          3,
          3,
          2,
          3,
          1,
          2,
          3,
          3,
          3,
          3,
          3,
          3,
          3,
          2,
          3,
          3,
          2,
          1,
          3,
          3,
          3,
          3,
          1,
          3,
          2,
          1,
          3,
          3,
          1,
          3,
          3,
          3,
          2,
          3,
          1,
          1,
          3,
          2,
          3,
          3,
          2,
          1,
          3,
          1,
          3,
          1,
          3,
          3,
          2,
          3,
          3,
          3,
          2,
          3,
          3,
          3,
          1,
          1,
          1,
          2,
          3,
          1,
          1,
          2,
          3,
          1,
          3,
          3,
          3,
          1,
          1,
          3,
          1,
          1,
          3,
          2,
          1,
          1,
          1,
          1,
          1,
          2,
          3,
          2,
          1,
          1,
          2,
          2,
          1,
          2,
          3,
          1,
          3,
          1,
          1,
          1,
          2,
          2,
          3,
          1,
          2,
          3,
          3,
          3,
          1,
          3,
          3,
          1,
          3,
          1,
          3,
          1,
          3,
          1,
          2,
          2,
          1,
          3,
          3,
          2,
          3,
          3,
          3,
          1,
          3,
          2,
          2,
          3,
          3,
          2,
          2,
          3,
          2,
          1,
          3,
          2,
          2,
          2,
          2,
          3,
          1,
          2,
          3,
          2,
          2,
          3,
          3,
          3,
          3,
          1,
          1,
          1,
          3,
          3,
          3,
          1,
          2,
          1,
          2,
          2,
          1,
          1,
          2,
          2,
          3,
          3,
          2,
          1,
          1,
          1,
          3,
          3,
          2,
          3,
          1,
          1,
          3,
          3,
          3,
          1,
          3,
          2,
          1,
          3,
          2,
          1,
          1,
          1,
          3,
          2,
          2,
          2,
          1,
          3,
          3,
          2,
          3,
          2,
          1,
          3,
          2,
          3,
          1,
          3,
          3,
          3,
          2,
          3,
          3,
          3,
          1,
          2,
          3,
          3,
          3,
          1,
          3,
          3,
          1,
          3,
          2,
          1,
          1,
          1,
          2,
          2,
          2,
          3,
          3,
          1,
          3,
          1,
          2,
          2,
          2,
          1,
          1,
          1,
          3,
          2,
          2,
          3,
          1,
          3,
          1,
          3,
          3,
          1,
          3,
          3,
          2,
          3,
          1,
          3,
          3,
          1,
          3,
          3,
          1,
          1,
          1,
          3,
          1,
          2,
          3,
          1,
          3,
          1,
          3,
          2,
          2,
          1,
          2,
          3,
          1,
          2,
          3,
          3,
          1,
          3
         ],
         "xaxis": "x",
         "y": [
          1,
          1,
          1,
          1,
          1,
          1,
          1,
          0,
          1,
          0,
          1,
          1,
          0,
          1,
          1,
          1,
          1,
          0,
          1,
          0,
          0,
          1,
          1,
          1,
          0,
          1,
          1,
          1,
          1,
          1,
          1,
          0,
          1,
          1,
          1,
          1,
          1,
          1,
          0,
          1,
          1,
          0,
          0,
          0,
          0,
          1,
          1,
          0,
          1,
          1,
          0,
          1,
          1,
          0,
          1,
          1,
          1,
          1,
          0,
          1,
          0,
          0,
          1,
          1,
          1,
          1,
          1,
          1,
          1,
          0,
          0,
          1,
          1,
          1,
          1,
          1,
          0,
          1,
          1,
          0,
          1,
          0,
          1,
          0,
          1,
          0,
          0,
          1,
          1,
          1,
          1,
          1,
          0,
          1,
          1,
          1,
          1,
          1,
          0,
          1,
          1,
          1,
          1,
          0,
          0,
          1,
          1,
          1,
          1,
          1,
          1,
          1,
          1,
          0,
          1,
          1,
          1,
          1,
          1,
          1,
          1,
          1,
          1,
          1,
          1,
          1,
          1,
          1,
          1,
          1,
          1,
          1,
          0,
          1,
          1,
          0,
          1,
          1,
          1,
          1,
          0,
          1,
          1,
          1,
          1,
          1,
          1,
          1,
          1,
          1,
          0,
          1,
          0,
          0,
          0,
          1,
          0,
          1,
          1,
          0,
          0,
          1,
          1,
          1,
          1,
          1,
          0,
          1,
          1,
          1,
          1,
          1,
          1,
          1,
          1,
          1,
          1,
          0,
          1,
          1,
          0,
          1,
          1,
          0,
          0,
          0,
          0,
          1,
          1,
          1,
          1,
          1,
          1,
          1,
          1,
          1,
          1,
          0,
          1,
          1,
          1,
          1,
          0,
          0,
          1,
          1,
          1,
          1,
          1,
          0,
          0,
          1,
          1,
          1,
          1,
          0,
          1,
          1,
          1,
          1,
          0,
          1,
          1,
          1,
          1,
          0,
          1,
          1,
          0,
          1,
          1,
          0,
          1,
          0,
          1,
          0,
          1,
          1,
          1,
          1,
          0,
          0,
          1,
          1,
          1,
          0,
          0,
          1,
          1,
          1,
          1,
          0,
          1,
          1,
          1,
          1,
          1,
          1,
          1,
          1,
          0,
          1,
          0,
          1,
          1,
          1,
          1,
          1,
          1,
          1,
          0,
          0,
          1,
          1,
          1,
          1,
          1,
          1,
          0,
          1,
          1,
          0,
          1,
          0,
          1,
          0,
          0,
          1,
          1,
          1,
          1,
          1,
          1,
          0,
          1,
          0,
          1,
          1,
          1,
          1,
          0,
          1,
          1,
          1,
          1,
          1,
          1,
          1,
          0,
          0,
          1,
          0
         ],
         "yaxis": "y"
        }
       ],
       "layout": {
        "barmode": "group",
        "height": 400,
        "legend": {
         "font": {
          "color": "white"
         },
         "title": {
          "text": "Sex"
         },
         "tracegroupgap": 0
        },
        "margin": {
         "t": 60
        },
        "paper_bgcolor": "#383838",
        "plot_bgcolor": "#383838",
        "template": {
         "data": {
          "bar": [
           {
            "error_x": {
             "color": "#2a3f5f"
            },
            "error_y": {
             "color": "#2a3f5f"
            },
            "marker": {
             "line": {
              "color": "#E5ECF6",
              "width": 0.5
             },
             "pattern": {
              "fillmode": "overlay",
              "size": 10,
              "solidity": 0.2
             }
            },
            "type": "bar"
           }
          ],
          "barpolar": [
           {
            "marker": {
             "line": {
              "color": "#E5ECF6",
              "width": 0.5
             },
             "pattern": {
              "fillmode": "overlay",
              "size": 10,
              "solidity": 0.2
             }
            },
            "type": "barpolar"
           }
          ],
          "carpet": [
           {
            "aaxis": {
             "endlinecolor": "#2a3f5f",
             "gridcolor": "white",
             "linecolor": "white",
             "minorgridcolor": "white",
             "startlinecolor": "#2a3f5f"
            },
            "baxis": {
             "endlinecolor": "#2a3f5f",
             "gridcolor": "white",
             "linecolor": "white",
             "minorgridcolor": "white",
             "startlinecolor": "#2a3f5f"
            },
            "type": "carpet"
           }
          ],
          "choropleth": [
           {
            "colorbar": {
             "outlinewidth": 0,
             "ticks": ""
            },
            "type": "choropleth"
           }
          ],
          "contour": [
           {
            "colorbar": {
             "outlinewidth": 0,
             "ticks": ""
            },
            "colorscale": [
             [
              0,
              "#0d0887"
             ],
             [
              0.1111111111111111,
              "#46039f"
             ],
             [
              0.2222222222222222,
              "#7201a8"
             ],
             [
              0.3333333333333333,
              "#9c179e"
             ],
             [
              0.4444444444444444,
              "#bd3786"
             ],
             [
              0.5555555555555556,
              "#d8576b"
             ],
             [
              0.6666666666666666,
              "#ed7953"
             ],
             [
              0.7777777777777778,
              "#fb9f3a"
             ],
             [
              0.8888888888888888,
              "#fdca26"
             ],
             [
              1,
              "#f0f921"
             ]
            ],
            "type": "contour"
           }
          ],
          "contourcarpet": [
           {
            "colorbar": {
             "outlinewidth": 0,
             "ticks": ""
            },
            "type": "contourcarpet"
           }
          ],
          "heatmap": [
           {
            "colorbar": {
             "outlinewidth": 0,
             "ticks": ""
            },
            "colorscale": [
             [
              0,
              "#0d0887"
             ],
             [
              0.1111111111111111,
              "#46039f"
             ],
             [
              0.2222222222222222,
              "#7201a8"
             ],
             [
              0.3333333333333333,
              "#9c179e"
             ],
             [
              0.4444444444444444,
              "#bd3786"
             ],
             [
              0.5555555555555556,
              "#d8576b"
             ],
             [
              0.6666666666666666,
              "#ed7953"
             ],
             [
              0.7777777777777778,
              "#fb9f3a"
             ],
             [
              0.8888888888888888,
              "#fdca26"
             ],
             [
              1,
              "#f0f921"
             ]
            ],
            "type": "heatmap"
           }
          ],
          "heatmapgl": [
           {
            "colorbar": {
             "outlinewidth": 0,
             "ticks": ""
            },
            "colorscale": [
             [
              0,
              "#0d0887"
             ],
             [
              0.1111111111111111,
              "#46039f"
             ],
             [
              0.2222222222222222,
              "#7201a8"
             ],
             [
              0.3333333333333333,
              "#9c179e"
             ],
             [
              0.4444444444444444,
              "#bd3786"
             ],
             [
              0.5555555555555556,
              "#d8576b"
             ],
             [
              0.6666666666666666,
              "#ed7953"
             ],
             [
              0.7777777777777778,
              "#fb9f3a"
             ],
             [
              0.8888888888888888,
              "#fdca26"
             ],
             [
              1,
              "#f0f921"
             ]
            ],
            "type": "heatmapgl"
           }
          ],
          "histogram": [
           {
            "marker": {
             "pattern": {
              "fillmode": "overlay",
              "size": 10,
              "solidity": 0.2
             }
            },
            "type": "histogram"
           }
          ],
          "histogram2d": [
           {
            "colorbar": {
             "outlinewidth": 0,
             "ticks": ""
            },
            "colorscale": [
             [
              0,
              "#0d0887"
             ],
             [
              0.1111111111111111,
              "#46039f"
             ],
             [
              0.2222222222222222,
              "#7201a8"
             ],
             [
              0.3333333333333333,
              "#9c179e"
             ],
             [
              0.4444444444444444,
              "#bd3786"
             ],
             [
              0.5555555555555556,
              "#d8576b"
             ],
             [
              0.6666666666666666,
              "#ed7953"
             ],
             [
              0.7777777777777778,
              "#fb9f3a"
             ],
             [
              0.8888888888888888,
              "#fdca26"
             ],
             [
              1,
              "#f0f921"
             ]
            ],
            "type": "histogram2d"
           }
          ],
          "histogram2dcontour": [
           {
            "colorbar": {
             "outlinewidth": 0,
             "ticks": ""
            },
            "colorscale": [
             [
              0,
              "#0d0887"
             ],
             [
              0.1111111111111111,
              "#46039f"
             ],
             [
              0.2222222222222222,
              "#7201a8"
             ],
             [
              0.3333333333333333,
              "#9c179e"
             ],
             [
              0.4444444444444444,
              "#bd3786"
             ],
             [
              0.5555555555555556,
              "#d8576b"
             ],
             [
              0.6666666666666666,
              "#ed7953"
             ],
             [
              0.7777777777777778,
              "#fb9f3a"
             ],
             [
              0.8888888888888888,
              "#fdca26"
             ],
             [
              1,
              "#f0f921"
             ]
            ],
            "type": "histogram2dcontour"
           }
          ],
          "mesh3d": [
           {
            "colorbar": {
             "outlinewidth": 0,
             "ticks": ""
            },
            "type": "mesh3d"
           }
          ],
          "parcoords": [
           {
            "line": {
             "colorbar": {
              "outlinewidth": 0,
              "ticks": ""
             }
            },
            "type": "parcoords"
           }
          ],
          "pie": [
           {
            "automargin": true,
            "type": "pie"
           }
          ],
          "scatter": [
           {
            "fillpattern": {
             "fillmode": "overlay",
             "size": 10,
             "solidity": 0.2
            },
            "type": "scatter"
           }
          ],
          "scatter3d": [
           {
            "line": {
             "colorbar": {
              "outlinewidth": 0,
              "ticks": ""
             }
            },
            "marker": {
             "colorbar": {
              "outlinewidth": 0,
              "ticks": ""
             }
            },
            "type": "scatter3d"
           }
          ],
          "scattercarpet": [
           {
            "marker": {
             "colorbar": {
              "outlinewidth": 0,
              "ticks": ""
             }
            },
            "type": "scattercarpet"
           }
          ],
          "scattergeo": [
           {
            "marker": {
             "colorbar": {
              "outlinewidth": 0,
              "ticks": ""
             }
            },
            "type": "scattergeo"
           }
          ],
          "scattergl": [
           {
            "marker": {
             "colorbar": {
              "outlinewidth": 0,
              "ticks": ""
             }
            },
            "type": "scattergl"
           }
          ],
          "scattermapbox": [
           {
            "marker": {
             "colorbar": {
              "outlinewidth": 0,
              "ticks": ""
             }
            },
            "type": "scattermapbox"
           }
          ],
          "scatterpolar": [
           {
            "marker": {
             "colorbar": {
              "outlinewidth": 0,
              "ticks": ""
             }
            },
            "type": "scatterpolar"
           }
          ],
          "scatterpolargl": [
           {
            "marker": {
             "colorbar": {
              "outlinewidth": 0,
              "ticks": ""
             }
            },
            "type": "scatterpolargl"
           }
          ],
          "scatterternary": [
           {
            "marker": {
             "colorbar": {
              "outlinewidth": 0,
              "ticks": ""
             }
            },
            "type": "scatterternary"
           }
          ],
          "surface": [
           {
            "colorbar": {
             "outlinewidth": 0,
             "ticks": ""
            },
            "colorscale": [
             [
              0,
              "#0d0887"
             ],
             [
              0.1111111111111111,
              "#46039f"
             ],
             [
              0.2222222222222222,
              "#7201a8"
             ],
             [
              0.3333333333333333,
              "#9c179e"
             ],
             [
              0.4444444444444444,
              "#bd3786"
             ],
             [
              0.5555555555555556,
              "#d8576b"
             ],
             [
              0.6666666666666666,
              "#ed7953"
             ],
             [
              0.7777777777777778,
              "#fb9f3a"
             ],
             [
              0.8888888888888888,
              "#fdca26"
             ],
             [
              1,
              "#f0f921"
             ]
            ],
            "type": "surface"
           }
          ],
          "table": [
           {
            "cells": {
             "fill": {
              "color": "#EBF0F8"
             },
             "line": {
              "color": "white"
             }
            },
            "header": {
             "fill": {
              "color": "#C8D4E3"
             },
             "line": {
              "color": "white"
             }
            },
            "type": "table"
           }
          ]
         },
         "layout": {
          "annotationdefaults": {
           "arrowcolor": "#2a3f5f",
           "arrowhead": 0,
           "arrowwidth": 1
          },
          "autotypenumbers": "strict",
          "coloraxis": {
           "colorbar": {
            "outlinewidth": 0,
            "ticks": ""
           }
          },
          "colorscale": {
           "diverging": [
            [
             0,
             "#8e0152"
            ],
            [
             0.1,
             "#c51b7d"
            ],
            [
             0.2,
             "#de77ae"
            ],
            [
             0.3,
             "#f1b6da"
            ],
            [
             0.4,
             "#fde0ef"
            ],
            [
             0.5,
             "#f7f7f7"
            ],
            [
             0.6,
             "#e6f5d0"
            ],
            [
             0.7,
             "#b8e186"
            ],
            [
             0.8,
             "#7fbc41"
            ],
            [
             0.9,
             "#4d9221"
            ],
            [
             1,
             "#276419"
            ]
           ],
           "sequential": [
            [
             0,
             "#0d0887"
            ],
            [
             0.1111111111111111,
             "#46039f"
            ],
            [
             0.2222222222222222,
             "#7201a8"
            ],
            [
             0.3333333333333333,
             "#9c179e"
            ],
            [
             0.4444444444444444,
             "#bd3786"
            ],
            [
             0.5555555555555556,
             "#d8576b"
            ],
            [
             0.6666666666666666,
             "#ed7953"
            ],
            [
             0.7777777777777778,
             "#fb9f3a"
            ],
            [
             0.8888888888888888,
             "#fdca26"
            ],
            [
             1,
             "#f0f921"
            ]
           ],
           "sequentialminus": [
            [
             0,
             "#0d0887"
            ],
            [
             0.1111111111111111,
             "#46039f"
            ],
            [
             0.2222222222222222,
             "#7201a8"
            ],
            [
             0.3333333333333333,
             "#9c179e"
            ],
            [
             0.4444444444444444,
             "#bd3786"
            ],
            [
             0.5555555555555556,
             "#d8576b"
            ],
            [
             0.6666666666666666,
             "#ed7953"
            ],
            [
             0.7777777777777778,
             "#fb9f3a"
            ],
            [
             0.8888888888888888,
             "#fdca26"
            ],
            [
             1,
             "#f0f921"
            ]
           ]
          },
          "colorway": [
           "#636efa",
           "#EF553B",
           "#00cc96",
           "#ab63fa",
           "#FFA15A",
           "#19d3f3",
           "#FF6692",
           "#B6E880",
           "#FF97FF",
           "#FECB52"
          ],
          "font": {
           "color": "#2a3f5f"
          },
          "geo": {
           "bgcolor": "white",
           "lakecolor": "white",
           "landcolor": "#E5ECF6",
           "showlakes": true,
           "showland": true,
           "subunitcolor": "white"
          },
          "hoverlabel": {
           "align": "left"
          },
          "hovermode": "closest",
          "mapbox": {
           "style": "light"
          },
          "paper_bgcolor": "white",
          "plot_bgcolor": "#E5ECF6",
          "polar": {
           "angularaxis": {
            "gridcolor": "white",
            "linecolor": "white",
            "ticks": ""
           },
           "bgcolor": "#E5ECF6",
           "radialaxis": {
            "gridcolor": "white",
            "linecolor": "white",
            "ticks": ""
           }
          },
          "scene": {
           "xaxis": {
            "backgroundcolor": "#E5ECF6",
            "gridcolor": "white",
            "gridwidth": 2,
            "linecolor": "white",
            "showbackground": true,
            "ticks": "",
            "zerolinecolor": "white"
           },
           "yaxis": {
            "backgroundcolor": "#E5ECF6",
            "gridcolor": "white",
            "gridwidth": 2,
            "linecolor": "white",
            "showbackground": true,
            "ticks": "",
            "zerolinecolor": "white"
           },
           "zaxis": {
            "backgroundcolor": "#E5ECF6",
            "gridcolor": "white",
            "gridwidth": 2,
            "linecolor": "white",
            "showbackground": true,
            "ticks": "",
            "zerolinecolor": "white"
           }
          },
          "shapedefaults": {
           "line": {
            "color": "#2a3f5f"
           }
          },
          "ternary": {
           "aaxis": {
            "gridcolor": "white",
            "linecolor": "white",
            "ticks": ""
           },
           "baxis": {
            "gridcolor": "white",
            "linecolor": "white",
            "ticks": ""
           },
           "bgcolor": "#E5ECF6",
           "caxis": {
            "gridcolor": "white",
            "linecolor": "white",
            "ticks": ""
           }
          },
          "title": {
           "x": 0.05
          },
          "xaxis": {
           "automargin": true,
           "gridcolor": "white",
           "linecolor": "white",
           "ticks": "",
           "title": {
            "standoff": 15
           },
           "zerolinecolor": "white",
           "zerolinewidth": 2
          },
          "yaxis": {
           "automargin": true,
           "gridcolor": "white",
           "linecolor": "white",
           "ticks": "",
           "title": {
            "standoff": 15
           },
           "zerolinecolor": "white",
           "zerolinewidth": 2
          }
         }
        },
        "title": {
         "font": {
          "color": "white"
         }
        },
        "width": 600,
        "xaxis": {
         "anchor": "y",
         "color": "white",
         "domain": [
          0,
          1
         ],
         "title": {
          "text": "Pclass"
         }
        },
        "yaxis": {
         "anchor": "x",
         "color": "white",
         "domain": [
          0,
          1
         ],
         "title": {
          "text": "count"
         }
        }
       }
      }
     },
     "metadata": {},
     "output_type": "display_data"
    }
   ],
   "source": [
    "fig = px.histogram(processed_df, x=\"Pclass\", y=\"Survived\",\n",
    "             color='Sex', barmode='group',\n",
    "             histfunc='count',\n",
    "             width=600, height=400)\n",
    "fig.update_layout(**layout_options)\n",
    "fig.show()"
   ]
  },
  {
   "cell_type": "code",
   "execution_count": 117,
   "metadata": {
    "colab": {
     "base_uri": "https://localhost:8080/",
     "height": 417
    },
    "executionInfo": {
     "elapsed": 23,
     "status": "ok",
     "timestamp": 1682695259668,
     "user": {
      "displayName": "Adnan Alkattan",
      "userId": "14686308749644374052"
     },
     "user_tz": -180
    },
    "id": "aV5O6U2ko9B6",
    "outputId": "77f7c20c-d177-4b1d-fc18-48c9f55b7922"
   },
   "outputs": [
    {
     "data": {
      "application/vnd.plotly.v1+json": {
       "config": {
        "plotlyServerURL": "https://plot.ly"
       },
       "data": [
        {
         "alignmentgroup": "True",
         "bingroup": "x",
         "histfunc": "sum",
         "hovertemplate": "Sex=male<br>Pclass=%{x}<br>sum of Survived=%{y}<extra></extra>",
         "legendgroup": "male",
         "marker": {
          "color": "#636efa",
          "pattern": {
           "shape": ""
          }
         },
         "name": "male",
         "offsetgroup": "male",
         "orientation": "v",
         "showlegend": true,
         "type": "histogram",
         "x": [
          3,
          3,
          3,
          1,
          3,
          3,
          3,
          3,
          2,
          2,
          2,
          1,
          3,
          1,
          3,
          1,
          2,
          1,
          1,
          3,
          3,
          3,
          3,
          3,
          3,
          3,
          3,
          1,
          1,
          3,
          3,
          3,
          1,
          3,
          1,
          3,
          3,
          3,
          2,
          2,
          3,
          3,
          3,
          3,
          3,
          2,
          3,
          3,
          1,
          3,
          3,
          3,
          3,
          3,
          1,
          3,
          3,
          3,
          1,
          1,
          2,
          3,
          1,
          3,
          3,
          3,
          3,
          3,
          1,
          3,
          3,
          3,
          2,
          1,
          2,
          3,
          2,
          1,
          3,
          3,
          3,
          3,
          3,
          3,
          2,
          2,
          1,
          3,
          1,
          3,
          2,
          2,
          3,
          2,
          2,
          2,
          3,
          3,
          3,
          1,
          3,
          3,
          3,
          3,
          3,
          3,
          3,
          3,
          1,
          3,
          1,
          3,
          3,
          1,
          3,
          3,
          2,
          3,
          2,
          3,
          2,
          1,
          1,
          3,
          3,
          2,
          2,
          3,
          3,
          3,
          3,
          3,
          3,
          3,
          3,
          3,
          1,
          3,
          3,
          2,
          3,
          2,
          2,
          3,
          2,
          3,
          3,
          1,
          3,
          2,
          3,
          2,
          3,
          2,
          2,
          2,
          2,
          2,
          2,
          3,
          3,
          1,
          1,
          2,
          3,
          1,
          3,
          3,
          3,
          1,
          1,
          2,
          3,
          3,
          1,
          3,
          1,
          2,
          3,
          3,
          3,
          3,
          3,
          1,
          3,
          3,
          3,
          2,
          2,
          3,
          1,
          3,
          1,
          3,
          3,
          3,
          1,
          2,
          3,
          2,
          2,
          3,
          3,
          3,
          3,
          1,
          1,
          3,
          3,
          1,
          3,
          1,
          2,
          2,
          2,
          2,
          3,
          3,
          3,
          1,
          3,
          3,
          3,
          3,
          3,
          2,
          3,
          3,
          3,
          1,
          3,
          3,
          1,
          1,
          3,
          3,
          3,
          3,
          2,
          3,
          3,
          1,
          3,
          3,
          3,
          2,
          2,
          3,
          3,
          3,
          2,
          3,
          2,
          3,
          3,
          3,
          2,
          3,
          2,
          3,
          3,
          3,
          3,
          3,
          3,
          3,
          1,
          3,
          1,
          1,
          2,
          3,
          3,
          3,
          1,
          1,
          1,
          2,
          3,
          1,
          1,
          3,
          3,
          1,
          3,
          1,
          3,
          1,
          2,
          3,
          3,
          2,
          1,
          3,
          3,
          3,
          1,
          2,
          3,
          3,
          3,
          2,
          3,
          1,
          1,
          3,
          3,
          3,
          3,
          1,
          1,
          3,
          3,
          3,
          3,
          3,
          1,
          1,
          3,
          3,
          3,
          3,
          1,
          3,
          1,
          3,
          3,
          3,
          3,
          3,
          3,
          1,
          3,
          2,
          3,
          3,
          1,
          3,
          2,
          1,
          1,
          2,
          3,
          2,
          1,
          2,
          3,
          3,
          1,
          1,
          3,
          3,
          2,
          3,
          3,
          3,
          3,
          3,
          2,
          1,
          3,
          3,
          3,
          2,
          1,
          3,
          2,
          1,
          3,
          3,
          3,
          3,
          2,
          3,
          3,
          3,
          1,
          3,
          1,
          3,
          1,
          3,
          3,
          1,
          3,
          3,
          3,
          3,
          2,
          3,
          1,
          3,
          3,
          3,
          1,
          2,
          3,
          3,
          1,
          3,
          1,
          1,
          3,
          2,
          3,
          3,
          3,
          1,
          3,
          1,
          3,
          3,
          3,
          2,
          3,
          2,
          1,
          1,
          3,
          1,
          3,
          3,
          2,
          2,
          3,
          3,
          1,
          2,
          2,
          2,
          3,
          3,
          1,
          1,
          3,
          3,
          2,
          2,
          3,
          3,
          3,
          1,
          3,
          3,
          1,
          2,
          3,
          1,
          3,
          1,
          3,
          3,
          2,
          1,
          3,
          1,
          1,
          3,
          2,
          3,
          3,
          3,
          3,
          2,
          2,
          1,
          3,
          2,
          3,
          2,
          2,
          2,
          3,
          1,
          3,
          3,
          1,
          1,
          3,
          3,
          1,
          3,
          1,
          3,
          3,
          3,
          3,
          2,
          3,
          2,
          3,
          3,
          3,
          3,
          3,
          1,
          3,
          3,
          3,
          3,
          3,
          3,
          3,
          3,
          1,
          3,
          3,
          3,
          3,
          3,
          1,
          3,
          2,
          1,
          3,
          2,
          3,
          2,
          1,
          3,
          3,
          3,
          1,
          2,
          3,
          3,
          2,
          3,
          1,
          2,
          3,
          3,
          3,
          1,
          3,
          3,
          3,
          2,
          3,
          2,
          3,
          3,
          3,
          3,
          3,
          3,
          1,
          3,
          2,
          3,
          3,
          3,
          3,
          3,
          2,
          3,
          3,
          1,
          3,
          3,
          2,
          2,
          1,
          3,
          3,
          3,
          1,
          3,
          3,
          3,
          3,
          3,
          2,
          3,
          2,
          1,
          3
         ],
         "xaxis": "x",
         "y": [
          0,
          0,
          0,
          0,
          0,
          0,
          0,
          0,
          1,
          0,
          1,
          1,
          0,
          0,
          0,
          0,
          0,
          0,
          0,
          1,
          0,
          0,
          0,
          0,
          0,
          0,
          0,
          0,
          1,
          0,
          0,
          0,
          0,
          0,
          0,
          1,
          0,
          0,
          0,
          0,
          0,
          1,
          0,
          0,
          0,
          1,
          0,
          1,
          0,
          0,
          0,
          0,
          0,
          0,
          0,
          0,
          0,
          0,
          0,
          1,
          0,
          0,
          0,
          0,
          0,
          0,
          1,
          0,
          0,
          0,
          0,
          0,
          0,
          0,
          0,
          0,
          0,
          0,
          1,
          0,
          1,
          0,
          0,
          0,
          0,
          0,
          0,
          0,
          0,
          0,
          0,
          0,
          1,
          0,
          0,
          0,
          0,
          0,
          0,
          0,
          0,
          0,
          0,
          0,
          0,
          0,
          0,
          1,
          0,
          0,
          0,
          0,
          0,
          0,
          0,
          0,
          0,
          0,
          0,
          0,
          1,
          0,
          1,
          0,
          0,
          0,
          1,
          0,
          0,
          0,
          0,
          0,
          0,
          1,
          0,
          1,
          1,
          0,
          0,
          0,
          0,
          0,
          0,
          1,
          0,
          0,
          0,
          1,
          0,
          1,
          0,
          0,
          0,
          0,
          0,
          0,
          0,
          0,
          0,
          0,
          0,
          0,
          1,
          0,
          0,
          0,
          0,
          0,
          1,
          0,
          0,
          0,
          0,
          1,
          0,
          1,
          0,
          0,
          0,
          0,
          0,
          0,
          1,
          0,
          0,
          1,
          0,
          1,
          0,
          0,
          0,
          0,
          1,
          1,
          0,
          0,
          1,
          0,
          0,
          0,
          0,
          0,
          0,
          0,
          0,
          0,
          0,
          0,
          0,
          0,
          1,
          0,
          1,
          0,
          0,
          0,
          1,
          0,
          0,
          0,
          0,
          0,
          0,
          0,
          0,
          0,
          0,
          0,
          0,
          1,
          0,
          0,
          0,
          0,
          0,
          0,
          0,
          0,
          0,
          0,
          0,
          1,
          1,
          0,
          0,
          0,
          0,
          1,
          0,
          0,
          0,
          0,
          1,
          0,
          0,
          0,
          0,
          1,
          0,
          0,
          0,
          0,
          0,
          0,
          0,
          1,
          1,
          0,
          0,
          0,
          0,
          0,
          0,
          1,
          1,
          1,
          1,
          0,
          0,
          0,
          1,
          0,
          1,
          0,
          0,
          1,
          0,
          0,
          0,
          0,
          0,
          0,
          0,
          0,
          0,
          0,
          0,
          0,
          0,
          0,
          0,
          0,
          0,
          1,
          0,
          0,
          1,
          0,
          0,
          0,
          0,
          0,
          0,
          0,
          0,
          0,
          0,
          1,
          0,
          1,
          1,
          0,
          1,
          0,
          0,
          0,
          0,
          0,
          0,
          0,
          0,
          0,
          0,
          0,
          0,
          0,
          0,
          0,
          1,
          0,
          0,
          1,
          0,
          1,
          1,
          0,
          0,
          1,
          0,
          0,
          0,
          0,
          0,
          0,
          0,
          0,
          0,
          1,
          1,
          1,
          0,
          0,
          1,
          0,
          0,
          0,
          0,
          1,
          0,
          0,
          0,
          0,
          0,
          0,
          0,
          0,
          1,
          0,
          0,
          0,
          1,
          0,
          0,
          1,
          0,
          0,
          0,
          0,
          0,
          0,
          1,
          1,
          0,
          0,
          0,
          0,
          0,
          0,
          1,
          0,
          1,
          0,
          0,
          0,
          0,
          0,
          1,
          1,
          0,
          1,
          0,
          0,
          0,
          0,
          0,
          0,
          0,
          1,
          0,
          0,
          0,
          1,
          0,
          0,
          0,
          0,
          0,
          0,
          1,
          0,
          0,
          0,
          1,
          1,
          0,
          0,
          0,
          0,
          0,
          0,
          0,
          1,
          1,
          0,
          0,
          0,
          0,
          0,
          0,
          1,
          0,
          0,
          0,
          1,
          1,
          0,
          1,
          0,
          0,
          0,
          0,
          0,
          0,
          0,
          0,
          1,
          0,
          0,
          0,
          0,
          0,
          0,
          0,
          1,
          0,
          0,
          1,
          0,
          0,
          1,
          0,
          0,
          0,
          0,
          1,
          0,
          0,
          1,
          0,
          0,
          0,
          0,
          0,
          1,
          0,
          0,
          0,
          0,
          0,
          0,
          0,
          0,
          0,
          0,
          0,
          0,
          0,
          0,
          0,
          1,
          0,
          0,
          0,
          0,
          0,
          0,
          0,
          0,
          1,
          1,
          1,
          0,
          0,
          0,
          0,
          0,
          0,
          0,
          0,
          0,
          0,
          0,
          1,
          0,
          0,
          0,
          0,
          1,
          1,
          1,
          0,
          0,
          0,
          0,
          0,
          1,
          1,
          0,
          0,
          0,
          0,
          0,
          0,
          0,
          0,
          0,
          0,
          1,
          0,
          0,
          0,
          0,
          0,
          0,
          1,
          0,
          0,
          0,
          0,
          0,
          0,
          0,
          0,
          0,
          0,
          1,
          0
         ],
         "yaxis": "y"
        },
        {
         "alignmentgroup": "True",
         "bingroup": "x",
         "histfunc": "sum",
         "hovertemplate": "Sex=female<br>Pclass=%{x}<br>sum of Survived=%{y}<extra></extra>",
         "legendgroup": "female",
         "marker": {
          "color": "#EF553B",
          "pattern": {
           "shape": ""
          }
         },
         "name": "female",
         "offsetgroup": "female",
         "orientation": "v",
         "showlegend": true,
         "type": "histogram",
         "x": [
          1,
          3,
          1,
          3,
          2,
          3,
          1,
          3,
          2,
          3,
          3,
          3,
          3,
          3,
          3,
          1,
          3,
          3,
          3,
          3,
          2,
          2,
          3,
          3,
          3,
          1,
          2,
          2,
          2,
          2,
          3,
          3,
          3,
          3,
          2,
          3,
          1,
          2,
          3,
          3,
          3,
          3,
          3,
          3,
          3,
          2,
          3,
          3,
          2,
          1,
          3,
          3,
          3,
          3,
          1,
          3,
          2,
          1,
          3,
          3,
          1,
          3,
          3,
          3,
          2,
          3,
          1,
          1,
          3,
          2,
          3,
          3,
          2,
          1,
          3,
          1,
          3,
          1,
          3,
          3,
          2,
          3,
          3,
          3,
          2,
          3,
          3,
          3,
          1,
          1,
          1,
          2,
          3,
          1,
          1,
          2,
          3,
          1,
          3,
          3,
          3,
          1,
          1,
          3,
          1,
          1,
          3,
          2,
          1,
          1,
          1,
          1,
          1,
          2,
          3,
          2,
          1,
          1,
          2,
          2,
          1,
          2,
          3,
          1,
          3,
          1,
          1,
          1,
          2,
          2,
          3,
          1,
          2,
          3,
          3,
          3,
          1,
          3,
          3,
          1,
          3,
          1,
          3,
          1,
          3,
          1,
          2,
          2,
          1,
          3,
          3,
          2,
          3,
          3,
          3,
          1,
          3,
          2,
          2,
          3,
          3,
          2,
          2,
          3,
          2,
          1,
          3,
          2,
          2,
          2,
          2,
          3,
          1,
          2,
          3,
          2,
          2,
          3,
          3,
          3,
          3,
          1,
          1,
          1,
          3,
          3,
          3,
          1,
          2,
          1,
          2,
          2,
          1,
          1,
          2,
          2,
          3,
          3,
          2,
          1,
          1,
          1,
          3,
          3,
          2,
          3,
          1,
          1,
          3,
          3,
          3,
          1,
          3,
          2,
          1,
          3,
          2,
          1,
          1,
          1,
          3,
          2,
          2,
          2,
          1,
          3,
          3,
          2,
          3,
          2,
          1,
          3,
          2,
          3,
          1,
          3,
          3,
          3,
          2,
          3,
          3,
          3,
          1,
          2,
          3,
          3,
          3,
          1,
          3,
          3,
          1,
          3,
          2,
          1,
          1,
          1,
          2,
          2,
          2,
          3,
          3,
          1,
          3,
          1,
          2,
          2,
          2,
          1,
          1,
          1,
          3,
          2,
          2,
          3,
          1,
          3,
          1,
          3,
          3,
          1,
          3,
          3,
          2,
          3,
          1,
          3,
          3,
          1,
          3,
          3,
          1,
          1,
          1,
          3,
          1,
          2,
          3,
          1,
          3,
          1,
          3,
          2,
          2,
          1,
          2,
          3,
          1,
          2,
          3,
          3,
          1,
          3
         ],
         "xaxis": "x",
         "y": [
          1,
          1,
          1,
          1,
          1,
          1,
          1,
          0,
          1,
          0,
          1,
          1,
          0,
          1,
          1,
          1,
          1,
          0,
          1,
          0,
          0,
          1,
          1,
          1,
          0,
          1,
          1,
          1,
          1,
          1,
          1,
          0,
          1,
          1,
          1,
          1,
          1,
          1,
          0,
          1,
          1,
          0,
          0,
          0,
          0,
          1,
          1,
          0,
          1,
          1,
          0,
          1,
          1,
          0,
          1,
          1,
          1,
          1,
          0,
          1,
          0,
          0,
          1,
          1,
          1,
          1,
          1,
          1,
          1,
          0,
          0,
          1,
          1,
          1,
          1,
          1,
          0,
          1,
          1,
          0,
          1,
          0,
          1,
          0,
          1,
          0,
          0,
          1,
          1,
          1,
          1,
          1,
          0,
          1,
          1,
          1,
          1,
          1,
          0,
          1,
          1,
          1,
          1,
          0,
          0,
          1,
          1,
          1,
          1,
          1,
          1,
          1,
          1,
          0,
          1,
          1,
          1,
          1,
          1,
          1,
          1,
          1,
          1,
          1,
          1,
          1,
          1,
          1,
          1,
          1,
          1,
          1,
          0,
          1,
          1,
          0,
          1,
          1,
          1,
          1,
          0,
          1,
          1,
          1,
          1,
          1,
          1,
          1,
          1,
          1,
          0,
          1,
          0,
          0,
          0,
          1,
          0,
          1,
          1,
          0,
          0,
          1,
          1,
          1,
          1,
          1,
          0,
          1,
          1,
          1,
          1,
          1,
          1,
          1,
          1,
          1,
          1,
          0,
          1,
          1,
          0,
          1,
          1,
          0,
          0,
          0,
          0,
          1,
          1,
          1,
          1,
          1,
          1,
          1,
          1,
          1,
          1,
          0,
          1,
          1,
          1,
          1,
          0,
          0,
          1,
          1,
          1,
          1,
          1,
          0,
          0,
          1,
          1,
          1,
          1,
          0,
          1,
          1,
          1,
          1,
          0,
          1,
          1,
          1,
          1,
          0,
          1,
          1,
          0,
          1,
          1,
          0,
          1,
          0,
          1,
          0,
          1,
          1,
          1,
          1,
          0,
          0,
          1,
          1,
          1,
          0,
          0,
          1,
          1,
          1,
          1,
          0,
          1,
          1,
          1,
          1,
          1,
          1,
          1,
          1,
          0,
          1,
          0,
          1,
          1,
          1,
          1,
          1,
          1,
          1,
          0,
          0,
          1,
          1,
          1,
          1,
          1,
          1,
          0,
          1,
          1,
          0,
          1,
          0,
          1,
          0,
          0,
          1,
          1,
          1,
          1,
          1,
          1,
          0,
          1,
          0,
          1,
          1,
          1,
          1,
          0,
          1,
          1,
          1,
          1,
          1,
          1,
          1,
          0,
          0,
          1,
          0
         ],
         "yaxis": "y"
        }
       ],
       "layout": {
        "barmode": "group",
        "height": 400,
        "legend": {
         "font": {
          "color": "white"
         },
         "title": {
          "text": "Sex"
         },
         "tracegroupgap": 0
        },
        "margin": {
         "t": 60
        },
        "paper_bgcolor": "#383838",
        "plot_bgcolor": "#383838",
        "template": {
         "data": {
          "bar": [
           {
            "error_x": {
             "color": "#2a3f5f"
            },
            "error_y": {
             "color": "#2a3f5f"
            },
            "marker": {
             "line": {
              "color": "#E5ECF6",
              "width": 0.5
             },
             "pattern": {
              "fillmode": "overlay",
              "size": 10,
              "solidity": 0.2
             }
            },
            "type": "bar"
           }
          ],
          "barpolar": [
           {
            "marker": {
             "line": {
              "color": "#E5ECF6",
              "width": 0.5
             },
             "pattern": {
              "fillmode": "overlay",
              "size": 10,
              "solidity": 0.2
             }
            },
            "type": "barpolar"
           }
          ],
          "carpet": [
           {
            "aaxis": {
             "endlinecolor": "#2a3f5f",
             "gridcolor": "white",
             "linecolor": "white",
             "minorgridcolor": "white",
             "startlinecolor": "#2a3f5f"
            },
            "baxis": {
             "endlinecolor": "#2a3f5f",
             "gridcolor": "white",
             "linecolor": "white",
             "minorgridcolor": "white",
             "startlinecolor": "#2a3f5f"
            },
            "type": "carpet"
           }
          ],
          "choropleth": [
           {
            "colorbar": {
             "outlinewidth": 0,
             "ticks": ""
            },
            "type": "choropleth"
           }
          ],
          "contour": [
           {
            "colorbar": {
             "outlinewidth": 0,
             "ticks": ""
            },
            "colorscale": [
             [
              0,
              "#0d0887"
             ],
             [
              0.1111111111111111,
              "#46039f"
             ],
             [
              0.2222222222222222,
              "#7201a8"
             ],
             [
              0.3333333333333333,
              "#9c179e"
             ],
             [
              0.4444444444444444,
              "#bd3786"
             ],
             [
              0.5555555555555556,
              "#d8576b"
             ],
             [
              0.6666666666666666,
              "#ed7953"
             ],
             [
              0.7777777777777778,
              "#fb9f3a"
             ],
             [
              0.8888888888888888,
              "#fdca26"
             ],
             [
              1,
              "#f0f921"
             ]
            ],
            "type": "contour"
           }
          ],
          "contourcarpet": [
           {
            "colorbar": {
             "outlinewidth": 0,
             "ticks": ""
            },
            "type": "contourcarpet"
           }
          ],
          "heatmap": [
           {
            "colorbar": {
             "outlinewidth": 0,
             "ticks": ""
            },
            "colorscale": [
             [
              0,
              "#0d0887"
             ],
             [
              0.1111111111111111,
              "#46039f"
             ],
             [
              0.2222222222222222,
              "#7201a8"
             ],
             [
              0.3333333333333333,
              "#9c179e"
             ],
             [
              0.4444444444444444,
              "#bd3786"
             ],
             [
              0.5555555555555556,
              "#d8576b"
             ],
             [
              0.6666666666666666,
              "#ed7953"
             ],
             [
              0.7777777777777778,
              "#fb9f3a"
             ],
             [
              0.8888888888888888,
              "#fdca26"
             ],
             [
              1,
              "#f0f921"
             ]
            ],
            "type": "heatmap"
           }
          ],
          "heatmapgl": [
           {
            "colorbar": {
             "outlinewidth": 0,
             "ticks": ""
            },
            "colorscale": [
             [
              0,
              "#0d0887"
             ],
             [
              0.1111111111111111,
              "#46039f"
             ],
             [
              0.2222222222222222,
              "#7201a8"
             ],
             [
              0.3333333333333333,
              "#9c179e"
             ],
             [
              0.4444444444444444,
              "#bd3786"
             ],
             [
              0.5555555555555556,
              "#d8576b"
             ],
             [
              0.6666666666666666,
              "#ed7953"
             ],
             [
              0.7777777777777778,
              "#fb9f3a"
             ],
             [
              0.8888888888888888,
              "#fdca26"
             ],
             [
              1,
              "#f0f921"
             ]
            ],
            "type": "heatmapgl"
           }
          ],
          "histogram": [
           {
            "marker": {
             "pattern": {
              "fillmode": "overlay",
              "size": 10,
              "solidity": 0.2
             }
            },
            "type": "histogram"
           }
          ],
          "histogram2d": [
           {
            "colorbar": {
             "outlinewidth": 0,
             "ticks": ""
            },
            "colorscale": [
             [
              0,
              "#0d0887"
             ],
             [
              0.1111111111111111,
              "#46039f"
             ],
             [
              0.2222222222222222,
              "#7201a8"
             ],
             [
              0.3333333333333333,
              "#9c179e"
             ],
             [
              0.4444444444444444,
              "#bd3786"
             ],
             [
              0.5555555555555556,
              "#d8576b"
             ],
             [
              0.6666666666666666,
              "#ed7953"
             ],
             [
              0.7777777777777778,
              "#fb9f3a"
             ],
             [
              0.8888888888888888,
              "#fdca26"
             ],
             [
              1,
              "#f0f921"
             ]
            ],
            "type": "histogram2d"
           }
          ],
          "histogram2dcontour": [
           {
            "colorbar": {
             "outlinewidth": 0,
             "ticks": ""
            },
            "colorscale": [
             [
              0,
              "#0d0887"
             ],
             [
              0.1111111111111111,
              "#46039f"
             ],
             [
              0.2222222222222222,
              "#7201a8"
             ],
             [
              0.3333333333333333,
              "#9c179e"
             ],
             [
              0.4444444444444444,
              "#bd3786"
             ],
             [
              0.5555555555555556,
              "#d8576b"
             ],
             [
              0.6666666666666666,
              "#ed7953"
             ],
             [
              0.7777777777777778,
              "#fb9f3a"
             ],
             [
              0.8888888888888888,
              "#fdca26"
             ],
             [
              1,
              "#f0f921"
             ]
            ],
            "type": "histogram2dcontour"
           }
          ],
          "mesh3d": [
           {
            "colorbar": {
             "outlinewidth": 0,
             "ticks": ""
            },
            "type": "mesh3d"
           }
          ],
          "parcoords": [
           {
            "line": {
             "colorbar": {
              "outlinewidth": 0,
              "ticks": ""
             }
            },
            "type": "parcoords"
           }
          ],
          "pie": [
           {
            "automargin": true,
            "type": "pie"
           }
          ],
          "scatter": [
           {
            "fillpattern": {
             "fillmode": "overlay",
             "size": 10,
             "solidity": 0.2
            },
            "type": "scatter"
           }
          ],
          "scatter3d": [
           {
            "line": {
             "colorbar": {
              "outlinewidth": 0,
              "ticks": ""
             }
            },
            "marker": {
             "colorbar": {
              "outlinewidth": 0,
              "ticks": ""
             }
            },
            "type": "scatter3d"
           }
          ],
          "scattercarpet": [
           {
            "marker": {
             "colorbar": {
              "outlinewidth": 0,
              "ticks": ""
             }
            },
            "type": "scattercarpet"
           }
          ],
          "scattergeo": [
           {
            "marker": {
             "colorbar": {
              "outlinewidth": 0,
              "ticks": ""
             }
            },
            "type": "scattergeo"
           }
          ],
          "scattergl": [
           {
            "marker": {
             "colorbar": {
              "outlinewidth": 0,
              "ticks": ""
             }
            },
            "type": "scattergl"
           }
          ],
          "scattermapbox": [
           {
            "marker": {
             "colorbar": {
              "outlinewidth": 0,
              "ticks": ""
             }
            },
            "type": "scattermapbox"
           }
          ],
          "scatterpolar": [
           {
            "marker": {
             "colorbar": {
              "outlinewidth": 0,
              "ticks": ""
             }
            },
            "type": "scatterpolar"
           }
          ],
          "scatterpolargl": [
           {
            "marker": {
             "colorbar": {
              "outlinewidth": 0,
              "ticks": ""
             }
            },
            "type": "scatterpolargl"
           }
          ],
          "scatterternary": [
           {
            "marker": {
             "colorbar": {
              "outlinewidth": 0,
              "ticks": ""
             }
            },
            "type": "scatterternary"
           }
          ],
          "surface": [
           {
            "colorbar": {
             "outlinewidth": 0,
             "ticks": ""
            },
            "colorscale": [
             [
              0,
              "#0d0887"
             ],
             [
              0.1111111111111111,
              "#46039f"
             ],
             [
              0.2222222222222222,
              "#7201a8"
             ],
             [
              0.3333333333333333,
              "#9c179e"
             ],
             [
              0.4444444444444444,
              "#bd3786"
             ],
             [
              0.5555555555555556,
              "#d8576b"
             ],
             [
              0.6666666666666666,
              "#ed7953"
             ],
             [
              0.7777777777777778,
              "#fb9f3a"
             ],
             [
              0.8888888888888888,
              "#fdca26"
             ],
             [
              1,
              "#f0f921"
             ]
            ],
            "type": "surface"
           }
          ],
          "table": [
           {
            "cells": {
             "fill": {
              "color": "#EBF0F8"
             },
             "line": {
              "color": "white"
             }
            },
            "header": {
             "fill": {
              "color": "#C8D4E3"
             },
             "line": {
              "color": "white"
             }
            },
            "type": "table"
           }
          ]
         },
         "layout": {
          "annotationdefaults": {
           "arrowcolor": "#2a3f5f",
           "arrowhead": 0,
           "arrowwidth": 1
          },
          "autotypenumbers": "strict",
          "coloraxis": {
           "colorbar": {
            "outlinewidth": 0,
            "ticks": ""
           }
          },
          "colorscale": {
           "diverging": [
            [
             0,
             "#8e0152"
            ],
            [
             0.1,
             "#c51b7d"
            ],
            [
             0.2,
             "#de77ae"
            ],
            [
             0.3,
             "#f1b6da"
            ],
            [
             0.4,
             "#fde0ef"
            ],
            [
             0.5,
             "#f7f7f7"
            ],
            [
             0.6,
             "#e6f5d0"
            ],
            [
             0.7,
             "#b8e186"
            ],
            [
             0.8,
             "#7fbc41"
            ],
            [
             0.9,
             "#4d9221"
            ],
            [
             1,
             "#276419"
            ]
           ],
           "sequential": [
            [
             0,
             "#0d0887"
            ],
            [
             0.1111111111111111,
             "#46039f"
            ],
            [
             0.2222222222222222,
             "#7201a8"
            ],
            [
             0.3333333333333333,
             "#9c179e"
            ],
            [
             0.4444444444444444,
             "#bd3786"
            ],
            [
             0.5555555555555556,
             "#d8576b"
            ],
            [
             0.6666666666666666,
             "#ed7953"
            ],
            [
             0.7777777777777778,
             "#fb9f3a"
            ],
            [
             0.8888888888888888,
             "#fdca26"
            ],
            [
             1,
             "#f0f921"
            ]
           ],
           "sequentialminus": [
            [
             0,
             "#0d0887"
            ],
            [
             0.1111111111111111,
             "#46039f"
            ],
            [
             0.2222222222222222,
             "#7201a8"
            ],
            [
             0.3333333333333333,
             "#9c179e"
            ],
            [
             0.4444444444444444,
             "#bd3786"
            ],
            [
             0.5555555555555556,
             "#d8576b"
            ],
            [
             0.6666666666666666,
             "#ed7953"
            ],
            [
             0.7777777777777778,
             "#fb9f3a"
            ],
            [
             0.8888888888888888,
             "#fdca26"
            ],
            [
             1,
             "#f0f921"
            ]
           ]
          },
          "colorway": [
           "#636efa",
           "#EF553B",
           "#00cc96",
           "#ab63fa",
           "#FFA15A",
           "#19d3f3",
           "#FF6692",
           "#B6E880",
           "#FF97FF",
           "#FECB52"
          ],
          "font": {
           "color": "#2a3f5f"
          },
          "geo": {
           "bgcolor": "white",
           "lakecolor": "white",
           "landcolor": "#E5ECF6",
           "showlakes": true,
           "showland": true,
           "subunitcolor": "white"
          },
          "hoverlabel": {
           "align": "left"
          },
          "hovermode": "closest",
          "mapbox": {
           "style": "light"
          },
          "paper_bgcolor": "white",
          "plot_bgcolor": "#E5ECF6",
          "polar": {
           "angularaxis": {
            "gridcolor": "white",
            "linecolor": "white",
            "ticks": ""
           },
           "bgcolor": "#E5ECF6",
           "radialaxis": {
            "gridcolor": "white",
            "linecolor": "white",
            "ticks": ""
           }
          },
          "scene": {
           "xaxis": {
            "backgroundcolor": "#E5ECF6",
            "gridcolor": "white",
            "gridwidth": 2,
            "linecolor": "white",
            "showbackground": true,
            "ticks": "",
            "zerolinecolor": "white"
           },
           "yaxis": {
            "backgroundcolor": "#E5ECF6",
            "gridcolor": "white",
            "gridwidth": 2,
            "linecolor": "white",
            "showbackground": true,
            "ticks": "",
            "zerolinecolor": "white"
           },
           "zaxis": {
            "backgroundcolor": "#E5ECF6",
            "gridcolor": "white",
            "gridwidth": 2,
            "linecolor": "white",
            "showbackground": true,
            "ticks": "",
            "zerolinecolor": "white"
           }
          },
          "shapedefaults": {
           "line": {
            "color": "#2a3f5f"
           }
          },
          "ternary": {
           "aaxis": {
            "gridcolor": "white",
            "linecolor": "white",
            "ticks": ""
           },
           "baxis": {
            "gridcolor": "white",
            "linecolor": "white",
            "ticks": ""
           },
           "bgcolor": "#E5ECF6",
           "caxis": {
            "gridcolor": "white",
            "linecolor": "white",
            "ticks": ""
           }
          },
          "title": {
           "x": 0.05
          },
          "xaxis": {
           "automargin": true,
           "gridcolor": "white",
           "linecolor": "white",
           "ticks": "",
           "title": {
            "standoff": 15
           },
           "zerolinecolor": "white",
           "zerolinewidth": 2
          },
          "yaxis": {
           "automargin": true,
           "gridcolor": "white",
           "linecolor": "white",
           "ticks": "",
           "title": {
            "standoff": 15
           },
           "zerolinecolor": "white",
           "zerolinewidth": 2
          }
         }
        },
        "title": {
         "font": {
          "color": "white"
         }
        },
        "width": 600,
        "xaxis": {
         "anchor": "y",
         "color": "white",
         "domain": [
          0,
          1
         ],
         "title": {
          "text": "Pclass"
         }
        },
        "yaxis": {
         "anchor": "x",
         "color": "white",
         "domain": [
          0,
          1
         ],
         "title": {
          "text": "sum of Survived"
         }
        }
       }
      }
     },
     "metadata": {},
     "output_type": "display_data"
    }
   ],
   "source": [
    "fig = px.histogram(processed_df, x=\"Pclass\", y=\"Survived\",\n",
    "             color='Sex', barmode='group',\n",
    "             histfunc='sum',\n",
    "             width=600, height=400)\n",
    "fig.update_layout(**layout_options)\n",
    "fig.show()"
   ]
  },
  {
   "cell_type": "code",
   "execution_count": 118,
   "metadata": {
    "colab": {
     "base_uri": "https://localhost:8080/",
     "height": 417
    },
    "executionInfo": {
     "elapsed": 20,
     "status": "ok",
     "timestamp": 1682695259668,
     "user": {
      "displayName": "Adnan Alkattan",
      "userId": "14686308749644374052"
     },
     "user_tz": -180
    },
    "id": "I-qDe0KKMTD1",
    "outputId": "dc168431-f440-44f7-e561-cfa80083f5b9"
   },
   "outputs": [
    {
     "data": {
      "application/vnd.plotly.v1+json": {
       "config": {
        "plotlyServerURL": "https://plot.ly"
       },
       "data": [
        {
         "alignmentgroup": "True",
         "hovertemplate": "Sex=male<br>Pclass=%{x}<br>Count=%{y}<extra></extra>",
         "legendgroup": "male",
         "marker": {
          "color": "#636efa",
          "pattern": {
           "shape": ""
          }
         },
         "name": "male",
         "offsetgroup": "male",
         "orientation": "v",
         "showlegend": true,
         "textposition": "auto",
         "type": "bar",
         "x": [
          3,
          2,
          1
         ],
         "xaxis": "x",
         "y": [
          47,
          17,
          45
         ],
         "yaxis": "y"
        },
        {
         "alignmentgroup": "True",
         "hovertemplate": "Sex=female<br>Pclass=%{x}<br>Count=%{y}<extra></extra>",
         "legendgroup": "female",
         "marker": {
          "color": "#EF553B",
          "pattern": {
           "shape": ""
          }
         },
         "name": "female",
         "offsetgroup": "female",
         "orientation": "v",
         "showlegend": true,
         "textposition": "auto",
         "type": "bar",
         "x": [
          3,
          2,
          1
         ],
         "xaxis": "x",
         "y": [
          72,
          70,
          89
         ],
         "yaxis": "y"
        }
       ],
       "layout": {
        "barmode": "group",
        "height": 400,
        "legend": {
         "font": {
          "color": "white"
         },
         "title": {
          "text": "Sex"
         },
         "tracegroupgap": 0
        },
        "margin": {
         "t": 60
        },
        "paper_bgcolor": "#383838",
        "plot_bgcolor": "#383838",
        "template": {
         "data": {
          "bar": [
           {
            "error_x": {
             "color": "#2a3f5f"
            },
            "error_y": {
             "color": "#2a3f5f"
            },
            "marker": {
             "line": {
              "color": "#E5ECF6",
              "width": 0.5
             },
             "pattern": {
              "fillmode": "overlay",
              "size": 10,
              "solidity": 0.2
             }
            },
            "type": "bar"
           }
          ],
          "barpolar": [
           {
            "marker": {
             "line": {
              "color": "#E5ECF6",
              "width": 0.5
             },
             "pattern": {
              "fillmode": "overlay",
              "size": 10,
              "solidity": 0.2
             }
            },
            "type": "barpolar"
           }
          ],
          "carpet": [
           {
            "aaxis": {
             "endlinecolor": "#2a3f5f",
             "gridcolor": "white",
             "linecolor": "white",
             "minorgridcolor": "white",
             "startlinecolor": "#2a3f5f"
            },
            "baxis": {
             "endlinecolor": "#2a3f5f",
             "gridcolor": "white",
             "linecolor": "white",
             "minorgridcolor": "white",
             "startlinecolor": "#2a3f5f"
            },
            "type": "carpet"
           }
          ],
          "choropleth": [
           {
            "colorbar": {
             "outlinewidth": 0,
             "ticks": ""
            },
            "type": "choropleth"
           }
          ],
          "contour": [
           {
            "colorbar": {
             "outlinewidth": 0,
             "ticks": ""
            },
            "colorscale": [
             [
              0,
              "#0d0887"
             ],
             [
              0.1111111111111111,
              "#46039f"
             ],
             [
              0.2222222222222222,
              "#7201a8"
             ],
             [
              0.3333333333333333,
              "#9c179e"
             ],
             [
              0.4444444444444444,
              "#bd3786"
             ],
             [
              0.5555555555555556,
              "#d8576b"
             ],
             [
              0.6666666666666666,
              "#ed7953"
             ],
             [
              0.7777777777777778,
              "#fb9f3a"
             ],
             [
              0.8888888888888888,
              "#fdca26"
             ],
             [
              1,
              "#f0f921"
             ]
            ],
            "type": "contour"
           }
          ],
          "contourcarpet": [
           {
            "colorbar": {
             "outlinewidth": 0,
             "ticks": ""
            },
            "type": "contourcarpet"
           }
          ],
          "heatmap": [
           {
            "colorbar": {
             "outlinewidth": 0,
             "ticks": ""
            },
            "colorscale": [
             [
              0,
              "#0d0887"
             ],
             [
              0.1111111111111111,
              "#46039f"
             ],
             [
              0.2222222222222222,
              "#7201a8"
             ],
             [
              0.3333333333333333,
              "#9c179e"
             ],
             [
              0.4444444444444444,
              "#bd3786"
             ],
             [
              0.5555555555555556,
              "#d8576b"
             ],
             [
              0.6666666666666666,
              "#ed7953"
             ],
             [
              0.7777777777777778,
              "#fb9f3a"
             ],
             [
              0.8888888888888888,
              "#fdca26"
             ],
             [
              1,
              "#f0f921"
             ]
            ],
            "type": "heatmap"
           }
          ],
          "heatmapgl": [
           {
            "colorbar": {
             "outlinewidth": 0,
             "ticks": ""
            },
            "colorscale": [
             [
              0,
              "#0d0887"
             ],
             [
              0.1111111111111111,
              "#46039f"
             ],
             [
              0.2222222222222222,
              "#7201a8"
             ],
             [
              0.3333333333333333,
              "#9c179e"
             ],
             [
              0.4444444444444444,
              "#bd3786"
             ],
             [
              0.5555555555555556,
              "#d8576b"
             ],
             [
              0.6666666666666666,
              "#ed7953"
             ],
             [
              0.7777777777777778,
              "#fb9f3a"
             ],
             [
              0.8888888888888888,
              "#fdca26"
             ],
             [
              1,
              "#f0f921"
             ]
            ],
            "type": "heatmapgl"
           }
          ],
          "histogram": [
           {
            "marker": {
             "pattern": {
              "fillmode": "overlay",
              "size": 10,
              "solidity": 0.2
             }
            },
            "type": "histogram"
           }
          ],
          "histogram2d": [
           {
            "colorbar": {
             "outlinewidth": 0,
             "ticks": ""
            },
            "colorscale": [
             [
              0,
              "#0d0887"
             ],
             [
              0.1111111111111111,
              "#46039f"
             ],
             [
              0.2222222222222222,
              "#7201a8"
             ],
             [
              0.3333333333333333,
              "#9c179e"
             ],
             [
              0.4444444444444444,
              "#bd3786"
             ],
             [
              0.5555555555555556,
              "#d8576b"
             ],
             [
              0.6666666666666666,
              "#ed7953"
             ],
             [
              0.7777777777777778,
              "#fb9f3a"
             ],
             [
              0.8888888888888888,
              "#fdca26"
             ],
             [
              1,
              "#f0f921"
             ]
            ],
            "type": "histogram2d"
           }
          ],
          "histogram2dcontour": [
           {
            "colorbar": {
             "outlinewidth": 0,
             "ticks": ""
            },
            "colorscale": [
             [
              0,
              "#0d0887"
             ],
             [
              0.1111111111111111,
              "#46039f"
             ],
             [
              0.2222222222222222,
              "#7201a8"
             ],
             [
              0.3333333333333333,
              "#9c179e"
             ],
             [
              0.4444444444444444,
              "#bd3786"
             ],
             [
              0.5555555555555556,
              "#d8576b"
             ],
             [
              0.6666666666666666,
              "#ed7953"
             ],
             [
              0.7777777777777778,
              "#fb9f3a"
             ],
             [
              0.8888888888888888,
              "#fdca26"
             ],
             [
              1,
              "#f0f921"
             ]
            ],
            "type": "histogram2dcontour"
           }
          ],
          "mesh3d": [
           {
            "colorbar": {
             "outlinewidth": 0,
             "ticks": ""
            },
            "type": "mesh3d"
           }
          ],
          "parcoords": [
           {
            "line": {
             "colorbar": {
              "outlinewidth": 0,
              "ticks": ""
             }
            },
            "type": "parcoords"
           }
          ],
          "pie": [
           {
            "automargin": true,
            "type": "pie"
           }
          ],
          "scatter": [
           {
            "fillpattern": {
             "fillmode": "overlay",
             "size": 10,
             "solidity": 0.2
            },
            "type": "scatter"
           }
          ],
          "scatter3d": [
           {
            "line": {
             "colorbar": {
              "outlinewidth": 0,
              "ticks": ""
             }
            },
            "marker": {
             "colorbar": {
              "outlinewidth": 0,
              "ticks": ""
             }
            },
            "type": "scatter3d"
           }
          ],
          "scattercarpet": [
           {
            "marker": {
             "colorbar": {
              "outlinewidth": 0,
              "ticks": ""
             }
            },
            "type": "scattercarpet"
           }
          ],
          "scattergeo": [
           {
            "marker": {
             "colorbar": {
              "outlinewidth": 0,
              "ticks": ""
             }
            },
            "type": "scattergeo"
           }
          ],
          "scattergl": [
           {
            "marker": {
             "colorbar": {
              "outlinewidth": 0,
              "ticks": ""
             }
            },
            "type": "scattergl"
           }
          ],
          "scattermapbox": [
           {
            "marker": {
             "colorbar": {
              "outlinewidth": 0,
              "ticks": ""
             }
            },
            "type": "scattermapbox"
           }
          ],
          "scatterpolar": [
           {
            "marker": {
             "colorbar": {
              "outlinewidth": 0,
              "ticks": ""
             }
            },
            "type": "scatterpolar"
           }
          ],
          "scatterpolargl": [
           {
            "marker": {
             "colorbar": {
              "outlinewidth": 0,
              "ticks": ""
             }
            },
            "type": "scatterpolargl"
           }
          ],
          "scatterternary": [
           {
            "marker": {
             "colorbar": {
              "outlinewidth": 0,
              "ticks": ""
             }
            },
            "type": "scatterternary"
           }
          ],
          "surface": [
           {
            "colorbar": {
             "outlinewidth": 0,
             "ticks": ""
            },
            "colorscale": [
             [
              0,
              "#0d0887"
             ],
             [
              0.1111111111111111,
              "#46039f"
             ],
             [
              0.2222222222222222,
              "#7201a8"
             ],
             [
              0.3333333333333333,
              "#9c179e"
             ],
             [
              0.4444444444444444,
              "#bd3786"
             ],
             [
              0.5555555555555556,
              "#d8576b"
             ],
             [
              0.6666666666666666,
              "#ed7953"
             ],
             [
              0.7777777777777778,
              "#fb9f3a"
             ],
             [
              0.8888888888888888,
              "#fdca26"
             ],
             [
              1,
              "#f0f921"
             ]
            ],
            "type": "surface"
           }
          ],
          "table": [
           {
            "cells": {
             "fill": {
              "color": "#EBF0F8"
             },
             "line": {
              "color": "white"
             }
            },
            "header": {
             "fill": {
              "color": "#C8D4E3"
             },
             "line": {
              "color": "white"
             }
            },
            "type": "table"
           }
          ]
         },
         "layout": {
          "annotationdefaults": {
           "arrowcolor": "#2a3f5f",
           "arrowhead": 0,
           "arrowwidth": 1
          },
          "autotypenumbers": "strict",
          "coloraxis": {
           "colorbar": {
            "outlinewidth": 0,
            "ticks": ""
           }
          },
          "colorscale": {
           "diverging": [
            [
             0,
             "#8e0152"
            ],
            [
             0.1,
             "#c51b7d"
            ],
            [
             0.2,
             "#de77ae"
            ],
            [
             0.3,
             "#f1b6da"
            ],
            [
             0.4,
             "#fde0ef"
            ],
            [
             0.5,
             "#f7f7f7"
            ],
            [
             0.6,
             "#e6f5d0"
            ],
            [
             0.7,
             "#b8e186"
            ],
            [
             0.8,
             "#7fbc41"
            ],
            [
             0.9,
             "#4d9221"
            ],
            [
             1,
             "#276419"
            ]
           ],
           "sequential": [
            [
             0,
             "#0d0887"
            ],
            [
             0.1111111111111111,
             "#46039f"
            ],
            [
             0.2222222222222222,
             "#7201a8"
            ],
            [
             0.3333333333333333,
             "#9c179e"
            ],
            [
             0.4444444444444444,
             "#bd3786"
            ],
            [
             0.5555555555555556,
             "#d8576b"
            ],
            [
             0.6666666666666666,
             "#ed7953"
            ],
            [
             0.7777777777777778,
             "#fb9f3a"
            ],
            [
             0.8888888888888888,
             "#fdca26"
            ],
            [
             1,
             "#f0f921"
            ]
           ],
           "sequentialminus": [
            [
             0,
             "#0d0887"
            ],
            [
             0.1111111111111111,
             "#46039f"
            ],
            [
             0.2222222222222222,
             "#7201a8"
            ],
            [
             0.3333333333333333,
             "#9c179e"
            ],
            [
             0.4444444444444444,
             "#bd3786"
            ],
            [
             0.5555555555555556,
             "#d8576b"
            ],
            [
             0.6666666666666666,
             "#ed7953"
            ],
            [
             0.7777777777777778,
             "#fb9f3a"
            ],
            [
             0.8888888888888888,
             "#fdca26"
            ],
            [
             1,
             "#f0f921"
            ]
           ]
          },
          "colorway": [
           "#636efa",
           "#EF553B",
           "#00cc96",
           "#ab63fa",
           "#FFA15A",
           "#19d3f3",
           "#FF6692",
           "#B6E880",
           "#FF97FF",
           "#FECB52"
          ],
          "font": {
           "color": "#2a3f5f"
          },
          "geo": {
           "bgcolor": "white",
           "lakecolor": "white",
           "landcolor": "#E5ECF6",
           "showlakes": true,
           "showland": true,
           "subunitcolor": "white"
          },
          "hoverlabel": {
           "align": "left"
          },
          "hovermode": "closest",
          "mapbox": {
           "style": "light"
          },
          "paper_bgcolor": "white",
          "plot_bgcolor": "#E5ECF6",
          "polar": {
           "angularaxis": {
            "gridcolor": "white",
            "linecolor": "white",
            "ticks": ""
           },
           "bgcolor": "#E5ECF6",
           "radialaxis": {
            "gridcolor": "white",
            "linecolor": "white",
            "ticks": ""
           }
          },
          "scene": {
           "xaxis": {
            "backgroundcolor": "#E5ECF6",
            "gridcolor": "white",
            "gridwidth": 2,
            "linecolor": "white",
            "showbackground": true,
            "ticks": "",
            "zerolinecolor": "white"
           },
           "yaxis": {
            "backgroundcolor": "#E5ECF6",
            "gridcolor": "white",
            "gridwidth": 2,
            "linecolor": "white",
            "showbackground": true,
            "ticks": "",
            "zerolinecolor": "white"
           },
           "zaxis": {
            "backgroundcolor": "#E5ECF6",
            "gridcolor": "white",
            "gridwidth": 2,
            "linecolor": "white",
            "showbackground": true,
            "ticks": "",
            "zerolinecolor": "white"
           }
          },
          "shapedefaults": {
           "line": {
            "color": "#2a3f5f"
           }
          },
          "ternary": {
           "aaxis": {
            "gridcolor": "white",
            "linecolor": "white",
            "ticks": ""
           },
           "baxis": {
            "gridcolor": "white",
            "linecolor": "white",
            "ticks": ""
           },
           "bgcolor": "#E5ECF6",
           "caxis": {
            "gridcolor": "white",
            "linecolor": "white",
            "ticks": ""
           }
          },
          "title": {
           "x": 0.05
          },
          "xaxis": {
           "automargin": true,
           "gridcolor": "white",
           "linecolor": "white",
           "ticks": "",
           "title": {
            "standoff": 15
           },
           "zerolinecolor": "white",
           "zerolinewidth": 2
          },
          "yaxis": {
           "automargin": true,
           "gridcolor": "white",
           "linecolor": "white",
           "ticks": "",
           "title": {
            "standoff": 15
           },
           "zerolinecolor": "white",
           "zerolinewidth": 2
          }
         }
        },
        "title": {
         "font": {
          "color": "white"
         }
        },
        "width": 600,
        "xaxis": {
         "anchor": "y",
         "color": "white",
         "domain": [
          0,
          1
         ],
         "title": {
          "text": "Pclass"
         }
        },
        "yaxis": {
         "anchor": "x",
         "color": "white",
         "domain": [
          0,
          1
         ],
         "title": {
          "text": "Count"
         }
        }
       }
      }
     },
     "metadata": {},
     "output_type": "display_data"
    }
   ],
   "source": [
    "# Alternative implementation of histogram\n",
    "# Using this implementation you can apply any histfunc i.e. not bound to ploty defined functions (avg, sum, min, max, count) you can use, for instance, median!\n",
    "grouped = processed_df.groupby(['Pclass', 'Sex'], as_index=False).sum(numeric_only=True).rename({'Survived': 'Count'}, axis=1)\n",
    "\n",
    "fig = px.bar(grouped.iloc[::-1], x='Pclass', y='Count', color='Sex',\n",
    "             barmode='group',\n",
    "             width=600, height=400)\n",
    "fig.update_layout(**layout_options)\n",
    "fig.update_layout()\n",
    "fig.show()"
   ]
  },
  {
   "cell_type": "code",
   "execution_count": 119,
   "metadata": {
    "colab": {
     "base_uri": "https://localhost:8080/",
     "height": 417
    },
    "executionInfo": {
     "elapsed": 421,
     "status": "ok",
     "timestamp": 1682695260070,
     "user": {
      "displayName": "Adnan Alkattan",
      "userId": "14686308749644374052"
     },
     "user_tz": -180
    },
    "id": "2F0N5bc9kqzx",
    "outputId": "b91b8599-d02a-4aa8-b772-1c46548946ff"
   },
   "outputs": [
    {
     "data": {
      "application/vnd.plotly.v1+json": {
       "config": {
        "plotlyServerURL": "https://plot.ly"
       },
       "data": [
        {
         "alignmentgroup": "True",
         "hovertemplate": "Pclass=%{x}<br>Age=%{y}<extra></extra>",
         "legendgroup": "",
         "marker": {
          "color": "#636efa"
         },
         "name": "",
         "notched": false,
         "offsetgroup": "",
         "orientation": "v",
         "showlegend": false,
         "type": "box",
         "x": [
          3,
          1,
          3,
          1,
          3,
          3,
          1,
          3,
          3,
          2,
          3,
          1,
          3,
          3,
          3,
          2,
          3,
          2,
          3,
          3,
          2,
          2,
          3,
          1,
          3,
          3,
          3,
          1,
          3,
          3,
          1,
          1,
          3,
          2,
          1,
          1,
          3,
          3,
          3,
          3,
          3,
          2,
          3,
          2,
          3,
          3,
          3,
          3,
          3,
          3,
          3,
          3,
          1,
          2,
          1,
          1,
          2,
          3,
          2,
          3,
          3,
          1,
          3,
          1,
          3,
          2,
          3,
          3,
          3,
          2,
          3,
          2,
          3,
          3,
          3,
          3,
          3,
          2,
          3,
          3,
          3,
          3,
          1,
          2,
          3,
          3,
          3,
          1,
          3,
          3,
          3,
          1,
          3,
          3,
          3,
          1,
          1,
          2,
          2,
          3,
          3,
          1,
          3,
          3,
          3,
          3,
          3,
          3,
          3,
          1,
          3,
          3,
          3,
          3,
          3,
          3,
          2,
          1,
          3,
          2,
          3,
          2,
          2,
          1,
          3,
          3,
          3,
          3,
          3,
          3,
          3,
          3,
          2,
          2,
          2,
          1,
          1,
          3,
          1,
          3,
          3,
          3,
          3,
          2,
          2,
          3,
          3,
          2,
          2,
          2,
          1,
          3,
          3,
          3,
          1,
          3,
          3,
          3,
          3,
          3,
          2,
          3,
          3,
          3,
          3,
          1,
          3,
          1,
          3,
          1,
          3,
          3,
          3,
          1,
          3,
          3,
          1,
          2,
          3,
          3,
          2,
          3,
          2,
          3,
          1,
          3,
          1,
          3,
          3,
          2,
          2,
          3,
          2,
          1,
          1,
          3,
          3,
          3,
          2,
          3,
          3,
          3,
          3,
          3,
          3,
          3,
          3,
          3,
          1,
          3,
          2,
          3,
          2,
          3,
          1,
          3,
          2,
          1,
          2,
          3,
          2,
          3,
          3,
          1,
          3,
          2,
          3,
          2,
          3,
          1,
          3,
          2,
          3,
          2,
          3,
          2,
          2,
          2,
          2,
          3,
          3,
          2,
          3,
          3,
          1,
          3,
          2,
          1,
          2,
          3,
          3,
          1,
          3,
          3,
          3,
          1,
          1,
          1,
          2,
          3,
          3,
          1,
          1,
          3,
          2,
          3,
          3,
          1,
          1,
          1,
          3,
          2,
          1,
          3,
          1,
          3,
          2,
          3,
          3,
          3,
          3,
          3,
          3,
          1,
          3,
          3,
          3,
          2,
          3,
          1,
          1,
          2,
          3,
          3,
          1,
          3,
          1,
          1,
          1,
          3,
          3,
          3,
          2,
          3,
          1,
          1,
          1,
          2,
          1,
          1,
          1,
          2,
          3,
          2,
          3,
          2,
          2,
          1,
          1,
          3,
          3,
          2,
          2,
          3,
          1,
          3,
          2,
          3,
          1,
          3,
          1,
          1,
          3,
          1,
          3,
          1,
          1,
          3,
          1,
          2,
          1,
          2,
          2,
          2,
          2,
          2,
          3,
          3,
          3,
          3,
          1,
          3,
          3,
          3,
          3,
          1,
          2,
          3,
          3,
          3,
          2,
          3,
          3,
          3,
          3,
          1,
          3,
          3,
          1,
          1,
          3,
          3,
          1,
          3,
          1,
          3,
          1,
          3,
          3,
          1,
          3,
          3,
          1,
          3,
          2,
          3,
          2,
          3,
          2,
          1,
          3,
          3,
          1,
          3,
          3,
          3,
          2,
          2,
          2,
          3,
          3,
          3,
          3,
          3,
          2,
          3,
          2,
          3,
          3,
          3,
          3,
          1,
          2,
          3,
          3,
          2,
          2,
          2,
          3,
          3,
          3,
          3,
          3,
          3,
          3,
          2,
          2,
          3,
          3,
          1,
          3,
          2,
          3,
          1,
          1,
          3,
          2,
          1,
          2,
          2,
          3,
          3,
          2,
          3,
          1,
          2,
          1,
          3,
          1,
          2,
          3,
          1,
          1,
          3,
          3,
          1,
          1,
          2,
          3,
          1,
          3,
          1,
          2,
          3,
          3,
          2,
          1,
          3,
          3,
          3,
          3,
          2,
          2,
          3,
          1,
          2,
          3,
          3,
          3,
          3,
          2,
          3,
          3,
          1,
          3,
          1,
          1,
          3,
          3,
          3,
          3,
          1,
          1,
          3,
          3,
          1,
          3,
          1,
          3,
          3,
          3,
          3,
          3,
          1,
          1,
          2,
          1,
          3,
          3,
          3,
          3,
          1,
          1,
          3,
          1,
          2,
          3,
          2,
          3,
          1,
          3,
          3,
          1,
          3,
          3,
          2,
          1,
          3,
          2,
          2,
          3,
          3,
          3,
          3,
          2,
          1,
          1,
          3,
          1,
          1,
          3,
          3,
          2,
          1,
          1,
          2,
          2,
          3,
          2,
          1,
          2,
          3,
          3,
          3,
          1,
          1,
          1,
          1,
          3,
          3,
          3,
          2,
          3,
          3,
          3,
          3,
          3,
          3,
          3,
          2,
          1,
          1,
          3,
          3,
          3,
          2,
          1,
          3,
          3,
          2,
          1,
          2,
          1,
          3,
          1,
          2,
          1,
          3,
          3,
          3,
          1,
          3,
          3,
          2,
          3,
          2,
          3,
          3,
          1,
          2,
          3,
          1,
          3,
          1,
          3,
          3,
          1,
          2,
          1,
          3,
          3,
          3,
          3,
          3,
          2,
          3,
          3,
          2,
          2,
          3,
          1,
          3,
          3,
          3,
          1,
          2,
          1,
          3,
          3,
          1,
          3,
          1,
          1,
          3,
          2,
          3,
          2,
          3,
          3,
          3,
          1,
          3,
          3,
          3,
          1,
          3,
          1,
          3,
          3,
          3,
          2,
          3,
          3,
          3,
          2,
          3,
          3,
          2,
          1,
          1,
          3,
          1,
          3,
          3,
          2,
          2,
          3,
          3,
          1,
          2,
          1,
          2,
          2,
          2,
          3,
          3,
          3,
          3,
          1,
          3,
          1,
          3,
          3,
          2,
          2,
          3,
          3,
          3,
          1,
          1,
          3,
          3,
          3,
          1,
          2,
          3,
          3,
          1,
          3,
          1,
          1,
          3,
          3,
          3,
          2,
          2,
          1,
          1,
          3,
          1,
          1,
          1,
          3,
          2,
          3,
          1,
          2,
          3,
          3,
          2,
          3,
          2,
          2,
          1,
          3,
          2,
          3,
          2,
          3,
          1,
          3,
          2,
          2,
          2,
          3,
          3,
          1,
          3,
          3,
          1,
          1,
          1,
          3,
          3,
          1,
          3,
          2,
          1,
          3,
          2,
          3,
          3,
          3,
          2,
          2,
          3,
          2,
          3,
          1,
          3,
          3,
          3,
          1,
          3,
          1,
          1,
          3,
          3,
          3,
          3,
          3,
          2,
          3,
          2,
          3,
          3,
          3,
          3,
          1,
          3,
          1,
          1,
          3,
          3,
          3,
          3,
          3,
          3,
          1,
          3,
          2,
          3,
          1,
          3,
          2,
          1,
          3,
          3,
          3,
          2,
          2,
          1,
          3,
          3,
          3,
          1,
          3,
          2,
          1,
          3,
          3,
          2,
          3,
          3,
          1,
          3,
          2,
          3,
          3,
          1,
          3,
          1,
          3,
          3,
          3,
          3,
          2,
          3,
          3,
          2,
          3,
          3,
          3,
          1,
          3,
          3,
          3,
          1,
          3,
          2,
          1,
          3,
          3,
          3,
          3,
          3,
          2,
          1,
          3,
          3,
          3,
          1,
          2,
          3,
          1,
          1,
          3,
          3,
          3,
          2,
          1,
          3,
          2,
          2,
          2,
          1,
          3,
          3,
          3,
          1,
          1,
          3,
          2,
          3,
          3,
          3,
          3,
          1,
          2,
          3,
          3,
          2,
          3,
          3,
          2,
          1,
          3,
          1,
          3
         ],
         "x0": " ",
         "xaxis": "x",
         "y": [
          22,
          38,
          26,
          35,
          35,
          30,
          54,
          2,
          27,
          14,
          4,
          58,
          20,
          39,
          14,
          55,
          2,
          30,
          31,
          35,
          35,
          34,
          15,
          28,
          8,
          38,
          30,
          19,
          21,
          30,
          40,
          35,
          21,
          66,
          28,
          42,
          30,
          21,
          18,
          14,
          40,
          27,
          30,
          3,
          19,
          30,
          30,
          21,
          30,
          18,
          7,
          21,
          49,
          29,
          65,
          30,
          21,
          28.5,
          5,
          11,
          22,
          45,
          4,
          30,
          3.5,
          29,
          19,
          17,
          26,
          32,
          16,
          21,
          26,
          32,
          25,
          30,
          30,
          0.83,
          30,
          22,
          29,
          21,
          28,
          17,
          33,
          16,
          30,
          23,
          24,
          29,
          20,
          46,
          26,
          59,
          30,
          71,
          23,
          34,
          34,
          28,
          30,
          21,
          33,
          37,
          28,
          21,
          30,
          38,
          21,
          47,
          14.5,
          22,
          20,
          17,
          21,
          70.5,
          29,
          24,
          2,
          21,
          30,
          32.5,
          32.5,
          54,
          12,
          30,
          24,
          21,
          45,
          33,
          20,
          47,
          29,
          25,
          23,
          19,
          37,
          16,
          24,
          35,
          22,
          24,
          19,
          18,
          19,
          27,
          9,
          36.5,
          42,
          51,
          22,
          55.5,
          40.5,
          30,
          51,
          16,
          30,
          30,
          3.5,
          44,
          40,
          26,
          17,
          1,
          9,
          35,
          45,
          30,
          28,
          61,
          4,
          1,
          21,
          56,
          18,
          3.5,
          50,
          30,
          36,
          21,
          30,
          9,
          1,
          4,
          30,
          35,
          45,
          40,
          36,
          32,
          19,
          19,
          3,
          44,
          58,
          30,
          42,
          21,
          24,
          28,
          30,
          34,
          45.5,
          18,
          2,
          32,
          26,
          16,
          40,
          24,
          35,
          22,
          30,
          30,
          31,
          27,
          42,
          32,
          30,
          16,
          27,
          51,
          30,
          38,
          22,
          19,
          20.5,
          18,
          21,
          35,
          29,
          59,
          5,
          24,
          21,
          44,
          8,
          19,
          33,
          21,
          21,
          29,
          22,
          30,
          44,
          25,
          24,
          37,
          54,
          30,
          29,
          62,
          30,
          41,
          29,
          35,
          30,
          35,
          50,
          30,
          3,
          52,
          40,
          21,
          36,
          16,
          25,
          58,
          35,
          30,
          25,
          41,
          37,
          21,
          63,
          45,
          30,
          7,
          35,
          65,
          28,
          16,
          19,
          30,
          33,
          30,
          22,
          42,
          22,
          26,
          19,
          36,
          24,
          24,
          30,
          23.5,
          2,
          30,
          50,
          21,
          30,
          19,
          21,
          30,
          0.92,
          21,
          17,
          30,
          30,
          24,
          18,
          26,
          28,
          43,
          26,
          24,
          54,
          31,
          40,
          22,
          27,
          30,
          22,
          30,
          36,
          61,
          36,
          31,
          16,
          21,
          45.5,
          38,
          16,
          35,
          30,
          29,
          41,
          45,
          45,
          2,
          24,
          28,
          25,
          36,
          24,
          40,
          35,
          3,
          42,
          23,
          30,
          15,
          25,
          30,
          28,
          22,
          38,
          21,
          21,
          40,
          29,
          45,
          35,
          30,
          30,
          60,
          35,
          21,
          24,
          25,
          18,
          19,
          22,
          3,
          35,
          22,
          27,
          20,
          19,
          42,
          1,
          32,
          35,
          30,
          18,
          1,
          36,
          30,
          17,
          36,
          21,
          28,
          23,
          24,
          22,
          31,
          46,
          23,
          28,
          39,
          26,
          21,
          28,
          20,
          34,
          51,
          3,
          21,
          21,
          30,
          30,
          33,
          30,
          44,
          35,
          34,
          18,
          30,
          10,
          30,
          21,
          29,
          28,
          18,
          30,
          28,
          19,
          30,
          32,
          28,
          35,
          42,
          17,
          50,
          14,
          21,
          24,
          64,
          31,
          45,
          20,
          25,
          28,
          30,
          4,
          13,
          34,
          5,
          52,
          36,
          30,
          30,
          49,
          30,
          29,
          65,
          35,
          50,
          30,
          48,
          34,
          47,
          48,
          30,
          38,
          30,
          56,
          30,
          0.75,
          30,
          38,
          33,
          23,
          22,
          30,
          34,
          29,
          22,
          2,
          9,
          30,
          50,
          63,
          25,
          21,
          35,
          58,
          30,
          9,
          30,
          21,
          55,
          71,
          21,
          30,
          54,
          30,
          25,
          24,
          17,
          21,
          21,
          37,
          16,
          18,
          33,
          30,
          28,
          26,
          29,
          30,
          36,
          54,
          24,
          47,
          34,
          30,
          36,
          32,
          30,
          22,
          30,
          44,
          30,
          40.5,
          50,
          30,
          39,
          23,
          2,
          30,
          17,
          35,
          30,
          7,
          45,
          30,
          30,
          22,
          36,
          9,
          11,
          32,
          50,
          64,
          19,
          30,
          33,
          8,
          17,
          27,
          30,
          22,
          22,
          62,
          48,
          30,
          39,
          36,
          30,
          40,
          28,
          30,
          21,
          24,
          19,
          29,
          30,
          32,
          62,
          53,
          36,
          21,
          16,
          19,
          34,
          39,
          35,
          32,
          25,
          39,
          54,
          36,
          30,
          18,
          47,
          60,
          22,
          30,
          35,
          52,
          47,
          21,
          37,
          36,
          21,
          49,
          30,
          49,
          24,
          30,
          30,
          44,
          35,
          36,
          30,
          27,
          22,
          40,
          39,
          30,
          21,
          30,
          35,
          24,
          34,
          26,
          4,
          26,
          27,
          42,
          20,
          21,
          21,
          61,
          57,
          21,
          26,
          30,
          80,
          51,
          32,
          30,
          9,
          28,
          32,
          31,
          41,
          30,
          20,
          24,
          2,
          30,
          0.75,
          48,
          19,
          56,
          30,
          23,
          30,
          18,
          21,
          21,
          18,
          24,
          30,
          32,
          23,
          58,
          50,
          40,
          47,
          36,
          20,
          32,
          25,
          30,
          43,
          35,
          40,
          31,
          70,
          31,
          30,
          18,
          24.5,
          18,
          43,
          36,
          21,
          27,
          20,
          14,
          60,
          25,
          14,
          19,
          18,
          15,
          31,
          4,
          30,
          25,
          60,
          52,
          44,
          21,
          49,
          42,
          18,
          35,
          18,
          25,
          26,
          39,
          45,
          42,
          22,
          3.5,
          24,
          30,
          48,
          29,
          52,
          19,
          38,
          27,
          30,
          33,
          6,
          17,
          34,
          50,
          27,
          20,
          30,
          21,
          25,
          25,
          29,
          11,
          30,
          23,
          23,
          28.5,
          48,
          35,
          30,
          30,
          30,
          36,
          21,
          24,
          31,
          70,
          16,
          30,
          19,
          31,
          4,
          6,
          33,
          23,
          48,
          0.67,
          28,
          18,
          34,
          33,
          30,
          41,
          20,
          36,
          16,
          51,
          46.5,
          30.5,
          30,
          32,
          24,
          48,
          57,
          30,
          54,
          18,
          30,
          5,
          30,
          43,
          13,
          17,
          29,
          30,
          25,
          25,
          18,
          8,
          1,
          46,
          30,
          16,
          21,
          30,
          25,
          39,
          49,
          31,
          30,
          30,
          34,
          31,
          11,
          0.42,
          27,
          31,
          39,
          18,
          39,
          33,
          26,
          39,
          35,
          6,
          30.5,
          30,
          23,
          31,
          43,
          10,
          52,
          27,
          38,
          27,
          2,
          30,
          30,
          1,
          30,
          15,
          0.83,
          30,
          23,
          18,
          39,
          21,
          30,
          32,
          30,
          20,
          16,
          30,
          34.5,
          17,
          42,
          30,
          35,
          28,
          35,
          4,
          74,
          9,
          16,
          44,
          18,
          45,
          51,
          24,
          30,
          41,
          21,
          48,
          21,
          24,
          42,
          27,
          31,
          30,
          4,
          26,
          47,
          33,
          47,
          28,
          15,
          20,
          19,
          30,
          56,
          25,
          33,
          22,
          28,
          25,
          39,
          27,
          19,
          21,
          26,
          32
         ],
         "y0": " ",
         "yaxis": "y"
        }
       ],
       "layout": {
        "boxmode": "group",
        "height": 400,
        "legend": {
         "font": {
          "color": "white"
         },
         "tracegroupgap": 0
        },
        "margin": {
         "t": 60
        },
        "paper_bgcolor": "#383838",
        "plot_bgcolor": "#383838",
        "template": {
         "data": {
          "bar": [
           {
            "error_x": {
             "color": "#2a3f5f"
            },
            "error_y": {
             "color": "#2a3f5f"
            },
            "marker": {
             "line": {
              "color": "#E5ECF6",
              "width": 0.5
             },
             "pattern": {
              "fillmode": "overlay",
              "size": 10,
              "solidity": 0.2
             }
            },
            "type": "bar"
           }
          ],
          "barpolar": [
           {
            "marker": {
             "line": {
              "color": "#E5ECF6",
              "width": 0.5
             },
             "pattern": {
              "fillmode": "overlay",
              "size": 10,
              "solidity": 0.2
             }
            },
            "type": "barpolar"
           }
          ],
          "carpet": [
           {
            "aaxis": {
             "endlinecolor": "#2a3f5f",
             "gridcolor": "white",
             "linecolor": "white",
             "minorgridcolor": "white",
             "startlinecolor": "#2a3f5f"
            },
            "baxis": {
             "endlinecolor": "#2a3f5f",
             "gridcolor": "white",
             "linecolor": "white",
             "minorgridcolor": "white",
             "startlinecolor": "#2a3f5f"
            },
            "type": "carpet"
           }
          ],
          "choropleth": [
           {
            "colorbar": {
             "outlinewidth": 0,
             "ticks": ""
            },
            "type": "choropleth"
           }
          ],
          "contour": [
           {
            "colorbar": {
             "outlinewidth": 0,
             "ticks": ""
            },
            "colorscale": [
             [
              0,
              "#0d0887"
             ],
             [
              0.1111111111111111,
              "#46039f"
             ],
             [
              0.2222222222222222,
              "#7201a8"
             ],
             [
              0.3333333333333333,
              "#9c179e"
             ],
             [
              0.4444444444444444,
              "#bd3786"
             ],
             [
              0.5555555555555556,
              "#d8576b"
             ],
             [
              0.6666666666666666,
              "#ed7953"
             ],
             [
              0.7777777777777778,
              "#fb9f3a"
             ],
             [
              0.8888888888888888,
              "#fdca26"
             ],
             [
              1,
              "#f0f921"
             ]
            ],
            "type": "contour"
           }
          ],
          "contourcarpet": [
           {
            "colorbar": {
             "outlinewidth": 0,
             "ticks": ""
            },
            "type": "contourcarpet"
           }
          ],
          "heatmap": [
           {
            "colorbar": {
             "outlinewidth": 0,
             "ticks": ""
            },
            "colorscale": [
             [
              0,
              "#0d0887"
             ],
             [
              0.1111111111111111,
              "#46039f"
             ],
             [
              0.2222222222222222,
              "#7201a8"
             ],
             [
              0.3333333333333333,
              "#9c179e"
             ],
             [
              0.4444444444444444,
              "#bd3786"
             ],
             [
              0.5555555555555556,
              "#d8576b"
             ],
             [
              0.6666666666666666,
              "#ed7953"
             ],
             [
              0.7777777777777778,
              "#fb9f3a"
             ],
             [
              0.8888888888888888,
              "#fdca26"
             ],
             [
              1,
              "#f0f921"
             ]
            ],
            "type": "heatmap"
           }
          ],
          "heatmapgl": [
           {
            "colorbar": {
             "outlinewidth": 0,
             "ticks": ""
            },
            "colorscale": [
             [
              0,
              "#0d0887"
             ],
             [
              0.1111111111111111,
              "#46039f"
             ],
             [
              0.2222222222222222,
              "#7201a8"
             ],
             [
              0.3333333333333333,
              "#9c179e"
             ],
             [
              0.4444444444444444,
              "#bd3786"
             ],
             [
              0.5555555555555556,
              "#d8576b"
             ],
             [
              0.6666666666666666,
              "#ed7953"
             ],
             [
              0.7777777777777778,
              "#fb9f3a"
             ],
             [
              0.8888888888888888,
              "#fdca26"
             ],
             [
              1,
              "#f0f921"
             ]
            ],
            "type": "heatmapgl"
           }
          ],
          "histogram": [
           {
            "marker": {
             "pattern": {
              "fillmode": "overlay",
              "size": 10,
              "solidity": 0.2
             }
            },
            "type": "histogram"
           }
          ],
          "histogram2d": [
           {
            "colorbar": {
             "outlinewidth": 0,
             "ticks": ""
            },
            "colorscale": [
             [
              0,
              "#0d0887"
             ],
             [
              0.1111111111111111,
              "#46039f"
             ],
             [
              0.2222222222222222,
              "#7201a8"
             ],
             [
              0.3333333333333333,
              "#9c179e"
             ],
             [
              0.4444444444444444,
              "#bd3786"
             ],
             [
              0.5555555555555556,
              "#d8576b"
             ],
             [
              0.6666666666666666,
              "#ed7953"
             ],
             [
              0.7777777777777778,
              "#fb9f3a"
             ],
             [
              0.8888888888888888,
              "#fdca26"
             ],
             [
              1,
              "#f0f921"
             ]
            ],
            "type": "histogram2d"
           }
          ],
          "histogram2dcontour": [
           {
            "colorbar": {
             "outlinewidth": 0,
             "ticks": ""
            },
            "colorscale": [
             [
              0,
              "#0d0887"
             ],
             [
              0.1111111111111111,
              "#46039f"
             ],
             [
              0.2222222222222222,
              "#7201a8"
             ],
             [
              0.3333333333333333,
              "#9c179e"
             ],
             [
              0.4444444444444444,
              "#bd3786"
             ],
             [
              0.5555555555555556,
              "#d8576b"
             ],
             [
              0.6666666666666666,
              "#ed7953"
             ],
             [
              0.7777777777777778,
              "#fb9f3a"
             ],
             [
              0.8888888888888888,
              "#fdca26"
             ],
             [
              1,
              "#f0f921"
             ]
            ],
            "type": "histogram2dcontour"
           }
          ],
          "mesh3d": [
           {
            "colorbar": {
             "outlinewidth": 0,
             "ticks": ""
            },
            "type": "mesh3d"
           }
          ],
          "parcoords": [
           {
            "line": {
             "colorbar": {
              "outlinewidth": 0,
              "ticks": ""
             }
            },
            "type": "parcoords"
           }
          ],
          "pie": [
           {
            "automargin": true,
            "type": "pie"
           }
          ],
          "scatter": [
           {
            "fillpattern": {
             "fillmode": "overlay",
             "size": 10,
             "solidity": 0.2
            },
            "type": "scatter"
           }
          ],
          "scatter3d": [
           {
            "line": {
             "colorbar": {
              "outlinewidth": 0,
              "ticks": ""
             }
            },
            "marker": {
             "colorbar": {
              "outlinewidth": 0,
              "ticks": ""
             }
            },
            "type": "scatter3d"
           }
          ],
          "scattercarpet": [
           {
            "marker": {
             "colorbar": {
              "outlinewidth": 0,
              "ticks": ""
             }
            },
            "type": "scattercarpet"
           }
          ],
          "scattergeo": [
           {
            "marker": {
             "colorbar": {
              "outlinewidth": 0,
              "ticks": ""
             }
            },
            "type": "scattergeo"
           }
          ],
          "scattergl": [
           {
            "marker": {
             "colorbar": {
              "outlinewidth": 0,
              "ticks": ""
             }
            },
            "type": "scattergl"
           }
          ],
          "scattermapbox": [
           {
            "marker": {
             "colorbar": {
              "outlinewidth": 0,
              "ticks": ""
             }
            },
            "type": "scattermapbox"
           }
          ],
          "scatterpolar": [
           {
            "marker": {
             "colorbar": {
              "outlinewidth": 0,
              "ticks": ""
             }
            },
            "type": "scatterpolar"
           }
          ],
          "scatterpolargl": [
           {
            "marker": {
             "colorbar": {
              "outlinewidth": 0,
              "ticks": ""
             }
            },
            "type": "scatterpolargl"
           }
          ],
          "scatterternary": [
           {
            "marker": {
             "colorbar": {
              "outlinewidth": 0,
              "ticks": ""
             }
            },
            "type": "scatterternary"
           }
          ],
          "surface": [
           {
            "colorbar": {
             "outlinewidth": 0,
             "ticks": ""
            },
            "colorscale": [
             [
              0,
              "#0d0887"
             ],
             [
              0.1111111111111111,
              "#46039f"
             ],
             [
              0.2222222222222222,
              "#7201a8"
             ],
             [
              0.3333333333333333,
              "#9c179e"
             ],
             [
              0.4444444444444444,
              "#bd3786"
             ],
             [
              0.5555555555555556,
              "#d8576b"
             ],
             [
              0.6666666666666666,
              "#ed7953"
             ],
             [
              0.7777777777777778,
              "#fb9f3a"
             ],
             [
              0.8888888888888888,
              "#fdca26"
             ],
             [
              1,
              "#f0f921"
             ]
            ],
            "type": "surface"
           }
          ],
          "table": [
           {
            "cells": {
             "fill": {
              "color": "#EBF0F8"
             },
             "line": {
              "color": "white"
             }
            },
            "header": {
             "fill": {
              "color": "#C8D4E3"
             },
             "line": {
              "color": "white"
             }
            },
            "type": "table"
           }
          ]
         },
         "layout": {
          "annotationdefaults": {
           "arrowcolor": "#2a3f5f",
           "arrowhead": 0,
           "arrowwidth": 1
          },
          "autotypenumbers": "strict",
          "coloraxis": {
           "colorbar": {
            "outlinewidth": 0,
            "ticks": ""
           }
          },
          "colorscale": {
           "diverging": [
            [
             0,
             "#8e0152"
            ],
            [
             0.1,
             "#c51b7d"
            ],
            [
             0.2,
             "#de77ae"
            ],
            [
             0.3,
             "#f1b6da"
            ],
            [
             0.4,
             "#fde0ef"
            ],
            [
             0.5,
             "#f7f7f7"
            ],
            [
             0.6,
             "#e6f5d0"
            ],
            [
             0.7,
             "#b8e186"
            ],
            [
             0.8,
             "#7fbc41"
            ],
            [
             0.9,
             "#4d9221"
            ],
            [
             1,
             "#276419"
            ]
           ],
           "sequential": [
            [
             0,
             "#0d0887"
            ],
            [
             0.1111111111111111,
             "#46039f"
            ],
            [
             0.2222222222222222,
             "#7201a8"
            ],
            [
             0.3333333333333333,
             "#9c179e"
            ],
            [
             0.4444444444444444,
             "#bd3786"
            ],
            [
             0.5555555555555556,
             "#d8576b"
            ],
            [
             0.6666666666666666,
             "#ed7953"
            ],
            [
             0.7777777777777778,
             "#fb9f3a"
            ],
            [
             0.8888888888888888,
             "#fdca26"
            ],
            [
             1,
             "#f0f921"
            ]
           ],
           "sequentialminus": [
            [
             0,
             "#0d0887"
            ],
            [
             0.1111111111111111,
             "#46039f"
            ],
            [
             0.2222222222222222,
             "#7201a8"
            ],
            [
             0.3333333333333333,
             "#9c179e"
            ],
            [
             0.4444444444444444,
             "#bd3786"
            ],
            [
             0.5555555555555556,
             "#d8576b"
            ],
            [
             0.6666666666666666,
             "#ed7953"
            ],
            [
             0.7777777777777778,
             "#fb9f3a"
            ],
            [
             0.8888888888888888,
             "#fdca26"
            ],
            [
             1,
             "#f0f921"
            ]
           ]
          },
          "colorway": [
           "#636efa",
           "#EF553B",
           "#00cc96",
           "#ab63fa",
           "#FFA15A",
           "#19d3f3",
           "#FF6692",
           "#B6E880",
           "#FF97FF",
           "#FECB52"
          ],
          "font": {
           "color": "#2a3f5f"
          },
          "geo": {
           "bgcolor": "white",
           "lakecolor": "white",
           "landcolor": "#E5ECF6",
           "showlakes": true,
           "showland": true,
           "subunitcolor": "white"
          },
          "hoverlabel": {
           "align": "left"
          },
          "hovermode": "closest",
          "mapbox": {
           "style": "light"
          },
          "paper_bgcolor": "white",
          "plot_bgcolor": "#E5ECF6",
          "polar": {
           "angularaxis": {
            "gridcolor": "white",
            "linecolor": "white",
            "ticks": ""
           },
           "bgcolor": "#E5ECF6",
           "radialaxis": {
            "gridcolor": "white",
            "linecolor": "white",
            "ticks": ""
           }
          },
          "scene": {
           "xaxis": {
            "backgroundcolor": "#E5ECF6",
            "gridcolor": "white",
            "gridwidth": 2,
            "linecolor": "white",
            "showbackground": true,
            "ticks": "",
            "zerolinecolor": "white"
           },
           "yaxis": {
            "backgroundcolor": "#E5ECF6",
            "gridcolor": "white",
            "gridwidth": 2,
            "linecolor": "white",
            "showbackground": true,
            "ticks": "",
            "zerolinecolor": "white"
           },
           "zaxis": {
            "backgroundcolor": "#E5ECF6",
            "gridcolor": "white",
            "gridwidth": 2,
            "linecolor": "white",
            "showbackground": true,
            "ticks": "",
            "zerolinecolor": "white"
           }
          },
          "shapedefaults": {
           "line": {
            "color": "#2a3f5f"
           }
          },
          "ternary": {
           "aaxis": {
            "gridcolor": "white",
            "linecolor": "white",
            "ticks": ""
           },
           "baxis": {
            "gridcolor": "white",
            "linecolor": "white",
            "ticks": ""
           },
           "bgcolor": "#E5ECF6",
           "caxis": {
            "gridcolor": "white",
            "linecolor": "white",
            "ticks": ""
           }
          },
          "title": {
           "x": 0.05
          },
          "xaxis": {
           "automargin": true,
           "gridcolor": "white",
           "linecolor": "white",
           "ticks": "",
           "title": {
            "standoff": 15
           },
           "zerolinecolor": "white",
           "zerolinewidth": 2
          },
          "yaxis": {
           "automargin": true,
           "gridcolor": "white",
           "linecolor": "white",
           "ticks": "",
           "title": {
            "standoff": 15
           },
           "zerolinecolor": "white",
           "zerolinewidth": 2
          }
         }
        },
        "title": {
         "font": {
          "color": "white"
         }
        },
        "width": 600,
        "xaxis": {
         "anchor": "y",
         "color": "white",
         "domain": [
          0,
          1
         ],
         "title": {
          "text": "Pclass"
         }
        },
        "yaxis": {
         "anchor": "x",
         "color": "white",
         "domain": [
          0,
          1
         ],
         "title": {
          "text": "Age"
         }
        }
       }
      }
     },
     "metadata": {},
     "output_type": "display_data"
    }
   ],
   "source": [
    "fig = px.box(processed_df, y='Age', x='Pclass', width=600, height=400) # Percentiles visualization!\n",
    "fig.update_layout(**layout_options)\n",
    "fig.show()"
   ]
  },
  {
   "cell_type": "markdown",
   "metadata": {
    "id": "0au6DfkQwHr2"
   },
   "source": [
    "Notice how the plot detected outliers i.e. elders in each class in the 4th percentile"
   ]
  },
  {
   "cell_type": "code",
   "execution_count": 120,
   "metadata": {
    "colab": {
     "base_uri": "https://localhost:8080/",
     "height": 417
    },
    "executionInfo": {
     "elapsed": 8,
     "status": "ok",
     "timestamp": 1682695260073,
     "user": {
      "displayName": "Adnan Alkattan",
      "userId": "14686308749644374052"
     },
     "user_tz": -180
    },
    "id": "_abYo6PKmFzd",
    "outputId": "da950072-db7e-410f-d438-fe746eac5bd7"
   },
   "outputs": [
    {
     "data": {
      "application/vnd.plotly.v1+json": {
       "config": {
        "plotlyServerURL": "https://plot.ly"
       },
       "data": [
        {
         "alignmentgroup": "True",
         "bingroup": "x",
         "hovertemplate": "Sex=male<br>Age=%{x}<br>count=%{y}<extra></extra>",
         "legendgroup": "male",
         "marker": {
          "color": "#636efa",
          "pattern": {
           "shape": ""
          }
         },
         "name": "male",
         "nbinsx": 17,
         "offsetgroup": "male",
         "orientation": "v",
         "showlegend": true,
         "type": "histogram",
         "x": [
          22,
          35,
          30,
          54,
          2,
          20,
          39,
          2,
          30,
          35,
          34,
          28,
          30,
          19,
          30,
          40,
          66,
          28,
          42,
          30,
          21,
          30,
          30,
          30,
          30,
          7,
          21,
          65,
          30,
          28.5,
          11,
          22,
          45,
          4,
          30,
          3.5,
          19,
          26,
          32,
          21,
          26,
          32,
          25,
          30,
          30,
          0.83,
          22,
          29,
          28,
          16,
          30,
          24,
          29,
          20,
          46,
          26,
          59,
          30,
          71,
          23,
          34,
          30,
          21,
          33,
          37,
          28,
          30,
          38,
          47,
          22,
          21,
          70.5,
          29,
          24,
          21,
          30,
          32.5,
          54,
          12,
          30,
          24,
          45,
          33,
          20,
          25,
          23,
          37,
          16,
          24,
          19,
          18,
          19,
          27,
          36.5,
          42,
          51,
          55.5,
          40.5,
          30,
          51,
          30,
          30,
          3.5,
          44,
          26,
          17,
          1,
          9,
          30,
          28,
          61,
          4,
          21,
          56,
          18,
          3.5,
          30,
          36,
          30,
          9,
          1,
          30,
          45,
          40,
          36,
          19,
          3,
          30,
          42,
          28,
          30,
          34,
          45.5,
          18,
          32,
          26,
          40,
          24,
          22,
          30,
          30,
          42,
          30,
          16,
          27,
          51,
          30,
          38,
          22,
          19,
          20.5,
          18,
          29,
          59,
          24,
          44,
          19,
          33,
          29,
          22,
          30,
          44,
          37,
          54,
          30,
          62,
          30,
          30,
          3,
          52,
          40,
          36,
          16,
          25,
          30,
          25,
          37,
          30,
          7,
          65,
          28,
          16,
          19,
          30,
          33,
          30,
          22,
          42,
          36,
          24,
          30,
          23.5,
          30,
          30,
          19,
          30,
          0.92,
          30,
          28,
          43,
          54,
          22,
          27,
          30,
          61,
          45.5,
          38,
          16,
          30,
          29,
          45,
          45,
          2,
          28,
          25,
          36,
          3,
          42,
          23,
          30,
          15,
          25,
          30,
          28,
          40,
          29,
          35,
          30,
          30,
          25,
          18,
          19,
          22,
          27,
          20,
          19,
          32,
          30,
          18,
          1,
          30,
          36,
          21,
          28,
          22,
          46,
          23,
          39,
          26,
          28,
          34,
          51,
          3,
          21,
          30,
          30,
          30,
          44,
          30,
          30,
          21,
          29,
          18,
          30,
          30,
          32,
          28,
          17,
          50,
          64,
          31,
          20,
          25,
          30,
          4,
          34,
          52,
          36,
          30,
          30,
          49,
          30,
          29,
          65,
          30,
          48,
          34,
          47,
          48,
          30,
          38,
          30,
          56,
          30,
          30,
          38,
          30,
          34,
          29,
          22,
          9,
          30,
          50,
          25,
          58,
          30,
          9,
          30,
          21,
          55,
          71,
          21,
          30,
          30,
          24,
          17,
          18,
          30,
          28,
          26,
          29,
          30,
          36,
          24,
          47,
          30,
          32,
          22,
          30,
          30,
          40.5,
          30,
          39,
          23,
          30,
          17,
          45,
          30,
          32,
          50,
          64,
          30,
          33,
          8,
          17,
          27,
          30,
          22,
          62,
          30,
          30,
          40,
          28,
          30,
          24,
          19,
          30,
          32,
          62,
          36,
          16,
          19,
          32,
          54,
          36,
          30,
          47,
          60,
          22,
          30,
          35,
          47,
          37,
          36,
          49,
          30,
          49,
          30,
          30,
          44,
          35,
          36,
          30,
          27,
          30,
          30,
          35,
          34,
          26,
          27,
          42,
          20,
          21,
          21,
          61,
          57,
          26,
          30,
          80,
          51,
          32,
          30,
          32,
          31,
          30,
          20,
          30,
          48,
          19,
          56,
          30,
          30,
          21,
          24,
          30,
          23,
          58,
          50,
          40,
          47,
          36,
          20,
          32,
          25,
          30,
          43,
          31,
          70,
          31,
          30,
          18,
          24.5,
          36,
          27,
          20,
          14,
          60,
          25,
          14,
          19,
          18,
          31,
          30,
          25,
          60,
          52,
          44,
          49,
          42,
          35,
          25,
          26,
          39,
          42,
          3.5,
          30,
          48,
          29,
          52,
          19,
          30,
          33,
          17,
          34,
          50,
          27,
          20,
          25,
          11,
          30,
          23,
          23,
          28.5,
          35,
          30,
          30,
          30,
          36,
          24,
          31,
          70,
          16,
          19,
          31,
          6,
          33,
          23,
          0.67,
          28,
          18,
          34,
          30,
          41,
          20,
          16,
          46.5,
          30,
          32,
          24,
          48,
          30,
          18,
          30,
          30,
          29,
          30,
          25,
          25,
          8,
          1,
          46,
          30,
          16,
          30,
          25,
          39,
          30,
          34,
          11,
          0.42,
          27,
          31,
          39,
          39,
          26,
          39,
          35,
          30.5,
          30,
          31,
          43,
          10,
          27,
          38,
          2,
          30,
          30,
          1,
          30,
          0.83,
          30,
          23,
          18,
          21,
          30,
          32,
          30,
          20,
          16,
          34.5,
          17,
          42,
          30,
          35,
          28,
          4,
          74,
          51,
          30,
          41,
          21,
          24,
          31,
          30,
          4,
          26,
          33,
          47,
          20,
          19,
          30,
          33,
          28,
          25,
          27,
          26,
          32
         ],
         "xaxis": "x",
         "yaxis": "y"
        },
        {
         "alignmentgroup": "True",
         "hovertemplate": "Sex=male<br>Age=%{x}<extra></extra>",
         "legendgroup": "male",
         "marker": {
          "color": "#636efa"
         },
         "name": "male",
         "notched": true,
         "offsetgroup": "male",
         "showlegend": false,
         "type": "box",
         "x": [
          22,
          35,
          30,
          54,
          2,
          20,
          39,
          2,
          30,
          35,
          34,
          28,
          30,
          19,
          30,
          40,
          66,
          28,
          42,
          30,
          21,
          30,
          30,
          30,
          30,
          7,
          21,
          65,
          30,
          28.5,
          11,
          22,
          45,
          4,
          30,
          3.5,
          19,
          26,
          32,
          21,
          26,
          32,
          25,
          30,
          30,
          0.83,
          22,
          29,
          28,
          16,
          30,
          24,
          29,
          20,
          46,
          26,
          59,
          30,
          71,
          23,
          34,
          30,
          21,
          33,
          37,
          28,
          30,
          38,
          47,
          22,
          21,
          70.5,
          29,
          24,
          21,
          30,
          32.5,
          54,
          12,
          30,
          24,
          45,
          33,
          20,
          25,
          23,
          37,
          16,
          24,
          19,
          18,
          19,
          27,
          36.5,
          42,
          51,
          55.5,
          40.5,
          30,
          51,
          30,
          30,
          3.5,
          44,
          26,
          17,
          1,
          9,
          30,
          28,
          61,
          4,
          21,
          56,
          18,
          3.5,
          30,
          36,
          30,
          9,
          1,
          30,
          45,
          40,
          36,
          19,
          3,
          30,
          42,
          28,
          30,
          34,
          45.5,
          18,
          32,
          26,
          40,
          24,
          22,
          30,
          30,
          42,
          30,
          16,
          27,
          51,
          30,
          38,
          22,
          19,
          20.5,
          18,
          29,
          59,
          24,
          44,
          19,
          33,
          29,
          22,
          30,
          44,
          37,
          54,
          30,
          62,
          30,
          30,
          3,
          52,
          40,
          36,
          16,
          25,
          30,
          25,
          37,
          30,
          7,
          65,
          28,
          16,
          19,
          30,
          33,
          30,
          22,
          42,
          36,
          24,
          30,
          23.5,
          30,
          30,
          19,
          30,
          0.92,
          30,
          28,
          43,
          54,
          22,
          27,
          30,
          61,
          45.5,
          38,
          16,
          30,
          29,
          45,
          45,
          2,
          28,
          25,
          36,
          3,
          42,
          23,
          30,
          15,
          25,
          30,
          28,
          40,
          29,
          35,
          30,
          30,
          25,
          18,
          19,
          22,
          27,
          20,
          19,
          32,
          30,
          18,
          1,
          30,
          36,
          21,
          28,
          22,
          46,
          23,
          39,
          26,
          28,
          34,
          51,
          3,
          21,
          30,
          30,
          30,
          44,
          30,
          30,
          21,
          29,
          18,
          30,
          30,
          32,
          28,
          17,
          50,
          64,
          31,
          20,
          25,
          30,
          4,
          34,
          52,
          36,
          30,
          30,
          49,
          30,
          29,
          65,
          30,
          48,
          34,
          47,
          48,
          30,
          38,
          30,
          56,
          30,
          30,
          38,
          30,
          34,
          29,
          22,
          9,
          30,
          50,
          25,
          58,
          30,
          9,
          30,
          21,
          55,
          71,
          21,
          30,
          30,
          24,
          17,
          18,
          30,
          28,
          26,
          29,
          30,
          36,
          24,
          47,
          30,
          32,
          22,
          30,
          30,
          40.5,
          30,
          39,
          23,
          30,
          17,
          45,
          30,
          32,
          50,
          64,
          30,
          33,
          8,
          17,
          27,
          30,
          22,
          62,
          30,
          30,
          40,
          28,
          30,
          24,
          19,
          30,
          32,
          62,
          36,
          16,
          19,
          32,
          54,
          36,
          30,
          47,
          60,
          22,
          30,
          35,
          47,
          37,
          36,
          49,
          30,
          49,
          30,
          30,
          44,
          35,
          36,
          30,
          27,
          30,
          30,
          35,
          34,
          26,
          27,
          42,
          20,
          21,
          21,
          61,
          57,
          26,
          30,
          80,
          51,
          32,
          30,
          32,
          31,
          30,
          20,
          30,
          48,
          19,
          56,
          30,
          30,
          21,
          24,
          30,
          23,
          58,
          50,
          40,
          47,
          36,
          20,
          32,
          25,
          30,
          43,
          31,
          70,
          31,
          30,
          18,
          24.5,
          36,
          27,
          20,
          14,
          60,
          25,
          14,
          19,
          18,
          31,
          30,
          25,
          60,
          52,
          44,
          49,
          42,
          35,
          25,
          26,
          39,
          42,
          3.5,
          30,
          48,
          29,
          52,
          19,
          30,
          33,
          17,
          34,
          50,
          27,
          20,
          25,
          11,
          30,
          23,
          23,
          28.5,
          35,
          30,
          30,
          30,
          36,
          24,
          31,
          70,
          16,
          19,
          31,
          6,
          33,
          23,
          0.67,
          28,
          18,
          34,
          30,
          41,
          20,
          16,
          46.5,
          30,
          32,
          24,
          48,
          30,
          18,
          30,
          30,
          29,
          30,
          25,
          25,
          8,
          1,
          46,
          30,
          16,
          30,
          25,
          39,
          30,
          34,
          11,
          0.42,
          27,
          31,
          39,
          39,
          26,
          39,
          35,
          30.5,
          30,
          31,
          43,
          10,
          27,
          38,
          2,
          30,
          30,
          1,
          30,
          0.83,
          30,
          23,
          18,
          21,
          30,
          32,
          30,
          20,
          16,
          34.5,
          17,
          42,
          30,
          35,
          28,
          4,
          74,
          51,
          30,
          41,
          21,
          24,
          31,
          30,
          4,
          26,
          33,
          47,
          20,
          19,
          30,
          33,
          28,
          25,
          27,
          26,
          32
         ],
         "xaxis": "x2",
         "yaxis": "y2"
        },
        {
         "alignmentgroup": "True",
         "bingroup": "x",
         "hovertemplate": "Sex=female<br>Age=%{x}<br>count=%{y}<extra></extra>",
         "legendgroup": "female",
         "marker": {
          "color": "#EF553B",
          "pattern": {
           "shape": ""
          }
         },
         "name": "female",
         "nbinsx": 17,
         "offsetgroup": "female",
         "orientation": "v",
         "showlegend": true,
         "type": "histogram",
         "x": [
          38,
          26,
          35,
          27,
          14,
          4,
          58,
          14,
          55,
          31,
          35,
          15,
          8,
          38,
          21,
          35,
          21,
          18,
          14,
          40,
          27,
          3,
          19,
          21,
          18,
          49,
          29,
          21,
          5,
          29,
          17,
          16,
          30,
          21,
          17,
          33,
          23,
          34,
          28,
          21,
          21,
          14.5,
          20,
          17,
          2,
          32.5,
          21,
          47,
          29,
          19,
          35,
          22,
          24,
          9,
          22,
          16,
          40,
          35,
          45,
          1,
          50,
          21,
          4,
          35,
          32,
          19,
          44,
          58,
          21,
          24,
          2,
          16,
          35,
          31,
          27,
          32,
          21,
          35,
          5,
          21,
          8,
          21,
          21,
          25,
          24,
          29,
          41,
          29,
          35,
          30,
          35,
          50,
          21,
          58,
          35,
          41,
          21,
          63,
          45,
          35,
          22,
          26,
          19,
          24,
          2,
          50,
          21,
          21,
          21,
          17,
          30,
          24,
          18,
          26,
          26,
          24,
          31,
          40,
          30,
          22,
          36,
          36,
          31,
          16,
          21,
          35,
          41,
          24,
          24,
          40,
          35,
          22,
          38,
          21,
          21,
          45,
          60,
          35,
          21,
          24,
          3,
          35,
          22,
          42,
          1,
          35,
          36,
          17,
          23,
          24,
          31,
          28,
          21,
          20,
          21,
          33,
          35,
          34,
          18,
          10,
          28,
          28,
          19,
          35,
          42,
          14,
          21,
          24,
          45,
          28,
          13,
          5,
          35,
          50,
          0.75,
          33,
          23,
          22,
          2,
          63,
          21,
          35,
          54,
          25,
          21,
          21,
          37,
          16,
          33,
          54,
          34,
          36,
          30,
          44,
          50,
          2,
          35,
          30,
          7,
          30,
          22,
          36,
          9,
          11,
          19,
          22,
          48,
          39,
          36,
          21,
          29,
          53,
          21,
          34,
          39,
          35,
          25,
          39,
          18,
          52,
          21,
          21,
          24,
          22,
          40,
          39,
          21,
          24,
          26,
          4,
          21,
          9,
          28,
          41,
          24,
          2,
          0.75,
          23,
          18,
          21,
          18,
          32,
          35,
          40,
          18,
          43,
          21,
          15,
          4,
          21,
          18,
          18,
          45,
          22,
          24,
          38,
          27,
          6,
          30,
          21,
          25,
          29,
          48,
          21,
          30,
          4,
          48,
          33,
          36,
          51,
          30.5,
          57,
          54,
          5,
          43,
          13,
          17,
          18,
          21,
          49,
          31,
          30,
          31,
          18,
          33,
          6,
          23,
          52,
          27,
          15,
          39,
          30,
          35,
          9,
          16,
          44,
          18,
          45,
          24,
          48,
          21,
          42,
          27,
          47,
          28,
          15,
          56,
          25,
          22,
          39,
          19,
          21
         ],
         "xaxis": "x",
         "yaxis": "y"
        },
        {
         "alignmentgroup": "True",
         "hovertemplate": "Sex=female<br>Age=%{x}<extra></extra>",
         "legendgroup": "female",
         "marker": {
          "color": "#EF553B"
         },
         "name": "female",
         "notched": true,
         "offsetgroup": "female",
         "showlegend": false,
         "type": "box",
         "x": [
          38,
          26,
          35,
          27,
          14,
          4,
          58,
          14,
          55,
          31,
          35,
          15,
          8,
          38,
          21,
          35,
          21,
          18,
          14,
          40,
          27,
          3,
          19,
          21,
          18,
          49,
          29,
          21,
          5,
          29,
          17,
          16,
          30,
          21,
          17,
          33,
          23,
          34,
          28,
          21,
          21,
          14.5,
          20,
          17,
          2,
          32.5,
          21,
          47,
          29,
          19,
          35,
          22,
          24,
          9,
          22,
          16,
          40,
          35,
          45,
          1,
          50,
          21,
          4,
          35,
          32,
          19,
          44,
          58,
          21,
          24,
          2,
          16,
          35,
          31,
          27,
          32,
          21,
          35,
          5,
          21,
          8,
          21,
          21,
          25,
          24,
          29,
          41,
          29,
          35,
          30,
          35,
          50,
          21,
          58,
          35,
          41,
          21,
          63,
          45,
          35,
          22,
          26,
          19,
          24,
          2,
          50,
          21,
          21,
          21,
          17,
          30,
          24,
          18,
          26,
          26,
          24,
          31,
          40,
          30,
          22,
          36,
          36,
          31,
          16,
          21,
          35,
          41,
          24,
          24,
          40,
          35,
          22,
          38,
          21,
          21,
          45,
          60,
          35,
          21,
          24,
          3,
          35,
          22,
          42,
          1,
          35,
          36,
          17,
          23,
          24,
          31,
          28,
          21,
          20,
          21,
          33,
          35,
          34,
          18,
          10,
          28,
          28,
          19,
          35,
          42,
          14,
          21,
          24,
          45,
          28,
          13,
          5,
          35,
          50,
          0.75,
          33,
          23,
          22,
          2,
          63,
          21,
          35,
          54,
          25,
          21,
          21,
          37,
          16,
          33,
          54,
          34,
          36,
          30,
          44,
          50,
          2,
          35,
          30,
          7,
          30,
          22,
          36,
          9,
          11,
          19,
          22,
          48,
          39,
          36,
          21,
          29,
          53,
          21,
          34,
          39,
          35,
          25,
          39,
          18,
          52,
          21,
          21,
          24,
          22,
          40,
          39,
          21,
          24,
          26,
          4,
          21,
          9,
          28,
          41,
          24,
          2,
          0.75,
          23,
          18,
          21,
          18,
          32,
          35,
          40,
          18,
          43,
          21,
          15,
          4,
          21,
          18,
          18,
          45,
          22,
          24,
          38,
          27,
          6,
          30,
          21,
          25,
          29,
          48,
          21,
          30,
          4,
          48,
          33,
          36,
          51,
          30.5,
          57,
          54,
          5,
          43,
          13,
          17,
          18,
          21,
          49,
          31,
          30,
          31,
          18,
          33,
          6,
          23,
          52,
          27,
          15,
          39,
          30,
          35,
          9,
          16,
          44,
          18,
          45,
          24,
          48,
          21,
          42,
          27,
          47,
          28,
          15,
          56,
          25,
          22,
          39,
          19,
          21
         ],
         "xaxis": "x2",
         "yaxis": "y2"
        }
       ],
       "layout": {
        "barmode": "relative",
        "height": 400,
        "legend": {
         "font": {
          "color": "white"
         },
         "title": {
          "text": "Sex"
         },
         "tracegroupgap": 0
        },
        "margin": {
         "t": 60
        },
        "paper_bgcolor": "#383838",
        "plot_bgcolor": "#383838",
        "template": {
         "data": {
          "bar": [
           {
            "error_x": {
             "color": "#2a3f5f"
            },
            "error_y": {
             "color": "#2a3f5f"
            },
            "marker": {
             "line": {
              "color": "#E5ECF6",
              "width": 0.5
             },
             "pattern": {
              "fillmode": "overlay",
              "size": 10,
              "solidity": 0.2
             }
            },
            "type": "bar"
           }
          ],
          "barpolar": [
           {
            "marker": {
             "line": {
              "color": "#E5ECF6",
              "width": 0.5
             },
             "pattern": {
              "fillmode": "overlay",
              "size": 10,
              "solidity": 0.2
             }
            },
            "type": "barpolar"
           }
          ],
          "carpet": [
           {
            "aaxis": {
             "endlinecolor": "#2a3f5f",
             "gridcolor": "white",
             "linecolor": "white",
             "minorgridcolor": "white",
             "startlinecolor": "#2a3f5f"
            },
            "baxis": {
             "endlinecolor": "#2a3f5f",
             "gridcolor": "white",
             "linecolor": "white",
             "minorgridcolor": "white",
             "startlinecolor": "#2a3f5f"
            },
            "type": "carpet"
           }
          ],
          "choropleth": [
           {
            "colorbar": {
             "outlinewidth": 0,
             "ticks": ""
            },
            "type": "choropleth"
           }
          ],
          "contour": [
           {
            "colorbar": {
             "outlinewidth": 0,
             "ticks": ""
            },
            "colorscale": [
             [
              0,
              "#0d0887"
             ],
             [
              0.1111111111111111,
              "#46039f"
             ],
             [
              0.2222222222222222,
              "#7201a8"
             ],
             [
              0.3333333333333333,
              "#9c179e"
             ],
             [
              0.4444444444444444,
              "#bd3786"
             ],
             [
              0.5555555555555556,
              "#d8576b"
             ],
             [
              0.6666666666666666,
              "#ed7953"
             ],
             [
              0.7777777777777778,
              "#fb9f3a"
             ],
             [
              0.8888888888888888,
              "#fdca26"
             ],
             [
              1,
              "#f0f921"
             ]
            ],
            "type": "contour"
           }
          ],
          "contourcarpet": [
           {
            "colorbar": {
             "outlinewidth": 0,
             "ticks": ""
            },
            "type": "contourcarpet"
           }
          ],
          "heatmap": [
           {
            "colorbar": {
             "outlinewidth": 0,
             "ticks": ""
            },
            "colorscale": [
             [
              0,
              "#0d0887"
             ],
             [
              0.1111111111111111,
              "#46039f"
             ],
             [
              0.2222222222222222,
              "#7201a8"
             ],
             [
              0.3333333333333333,
              "#9c179e"
             ],
             [
              0.4444444444444444,
              "#bd3786"
             ],
             [
              0.5555555555555556,
              "#d8576b"
             ],
             [
              0.6666666666666666,
              "#ed7953"
             ],
             [
              0.7777777777777778,
              "#fb9f3a"
             ],
             [
              0.8888888888888888,
              "#fdca26"
             ],
             [
              1,
              "#f0f921"
             ]
            ],
            "type": "heatmap"
           }
          ],
          "heatmapgl": [
           {
            "colorbar": {
             "outlinewidth": 0,
             "ticks": ""
            },
            "colorscale": [
             [
              0,
              "#0d0887"
             ],
             [
              0.1111111111111111,
              "#46039f"
             ],
             [
              0.2222222222222222,
              "#7201a8"
             ],
             [
              0.3333333333333333,
              "#9c179e"
             ],
             [
              0.4444444444444444,
              "#bd3786"
             ],
             [
              0.5555555555555556,
              "#d8576b"
             ],
             [
              0.6666666666666666,
              "#ed7953"
             ],
             [
              0.7777777777777778,
              "#fb9f3a"
             ],
             [
              0.8888888888888888,
              "#fdca26"
             ],
             [
              1,
              "#f0f921"
             ]
            ],
            "type": "heatmapgl"
           }
          ],
          "histogram": [
           {
            "marker": {
             "pattern": {
              "fillmode": "overlay",
              "size": 10,
              "solidity": 0.2
             }
            },
            "type": "histogram"
           }
          ],
          "histogram2d": [
           {
            "colorbar": {
             "outlinewidth": 0,
             "ticks": ""
            },
            "colorscale": [
             [
              0,
              "#0d0887"
             ],
             [
              0.1111111111111111,
              "#46039f"
             ],
             [
              0.2222222222222222,
              "#7201a8"
             ],
             [
              0.3333333333333333,
              "#9c179e"
             ],
             [
              0.4444444444444444,
              "#bd3786"
             ],
             [
              0.5555555555555556,
              "#d8576b"
             ],
             [
              0.6666666666666666,
              "#ed7953"
             ],
             [
              0.7777777777777778,
              "#fb9f3a"
             ],
             [
              0.8888888888888888,
              "#fdca26"
             ],
             [
              1,
              "#f0f921"
             ]
            ],
            "type": "histogram2d"
           }
          ],
          "histogram2dcontour": [
           {
            "colorbar": {
             "outlinewidth": 0,
             "ticks": ""
            },
            "colorscale": [
             [
              0,
              "#0d0887"
             ],
             [
              0.1111111111111111,
              "#46039f"
             ],
             [
              0.2222222222222222,
              "#7201a8"
             ],
             [
              0.3333333333333333,
              "#9c179e"
             ],
             [
              0.4444444444444444,
              "#bd3786"
             ],
             [
              0.5555555555555556,
              "#d8576b"
             ],
             [
              0.6666666666666666,
              "#ed7953"
             ],
             [
              0.7777777777777778,
              "#fb9f3a"
             ],
             [
              0.8888888888888888,
              "#fdca26"
             ],
             [
              1,
              "#f0f921"
             ]
            ],
            "type": "histogram2dcontour"
           }
          ],
          "mesh3d": [
           {
            "colorbar": {
             "outlinewidth": 0,
             "ticks": ""
            },
            "type": "mesh3d"
           }
          ],
          "parcoords": [
           {
            "line": {
             "colorbar": {
              "outlinewidth": 0,
              "ticks": ""
             }
            },
            "type": "parcoords"
           }
          ],
          "pie": [
           {
            "automargin": true,
            "type": "pie"
           }
          ],
          "scatter": [
           {
            "fillpattern": {
             "fillmode": "overlay",
             "size": 10,
             "solidity": 0.2
            },
            "type": "scatter"
           }
          ],
          "scatter3d": [
           {
            "line": {
             "colorbar": {
              "outlinewidth": 0,
              "ticks": ""
             }
            },
            "marker": {
             "colorbar": {
              "outlinewidth": 0,
              "ticks": ""
             }
            },
            "type": "scatter3d"
           }
          ],
          "scattercarpet": [
           {
            "marker": {
             "colorbar": {
              "outlinewidth": 0,
              "ticks": ""
             }
            },
            "type": "scattercarpet"
           }
          ],
          "scattergeo": [
           {
            "marker": {
             "colorbar": {
              "outlinewidth": 0,
              "ticks": ""
             }
            },
            "type": "scattergeo"
           }
          ],
          "scattergl": [
           {
            "marker": {
             "colorbar": {
              "outlinewidth": 0,
              "ticks": ""
             }
            },
            "type": "scattergl"
           }
          ],
          "scattermapbox": [
           {
            "marker": {
             "colorbar": {
              "outlinewidth": 0,
              "ticks": ""
             }
            },
            "type": "scattermapbox"
           }
          ],
          "scatterpolar": [
           {
            "marker": {
             "colorbar": {
              "outlinewidth": 0,
              "ticks": ""
             }
            },
            "type": "scatterpolar"
           }
          ],
          "scatterpolargl": [
           {
            "marker": {
             "colorbar": {
              "outlinewidth": 0,
              "ticks": ""
             }
            },
            "type": "scatterpolargl"
           }
          ],
          "scatterternary": [
           {
            "marker": {
             "colorbar": {
              "outlinewidth": 0,
              "ticks": ""
             }
            },
            "type": "scatterternary"
           }
          ],
          "surface": [
           {
            "colorbar": {
             "outlinewidth": 0,
             "ticks": ""
            },
            "colorscale": [
             [
              0,
              "#0d0887"
             ],
             [
              0.1111111111111111,
              "#46039f"
             ],
             [
              0.2222222222222222,
              "#7201a8"
             ],
             [
              0.3333333333333333,
              "#9c179e"
             ],
             [
              0.4444444444444444,
              "#bd3786"
             ],
             [
              0.5555555555555556,
              "#d8576b"
             ],
             [
              0.6666666666666666,
              "#ed7953"
             ],
             [
              0.7777777777777778,
              "#fb9f3a"
             ],
             [
              0.8888888888888888,
              "#fdca26"
             ],
             [
              1,
              "#f0f921"
             ]
            ],
            "type": "surface"
           }
          ],
          "table": [
           {
            "cells": {
             "fill": {
              "color": "#EBF0F8"
             },
             "line": {
              "color": "white"
             }
            },
            "header": {
             "fill": {
              "color": "#C8D4E3"
             },
             "line": {
              "color": "white"
             }
            },
            "type": "table"
           }
          ]
         },
         "layout": {
          "annotationdefaults": {
           "arrowcolor": "#2a3f5f",
           "arrowhead": 0,
           "arrowwidth": 1
          },
          "autotypenumbers": "strict",
          "coloraxis": {
           "colorbar": {
            "outlinewidth": 0,
            "ticks": ""
           }
          },
          "colorscale": {
           "diverging": [
            [
             0,
             "#8e0152"
            ],
            [
             0.1,
             "#c51b7d"
            ],
            [
             0.2,
             "#de77ae"
            ],
            [
             0.3,
             "#f1b6da"
            ],
            [
             0.4,
             "#fde0ef"
            ],
            [
             0.5,
             "#f7f7f7"
            ],
            [
             0.6,
             "#e6f5d0"
            ],
            [
             0.7,
             "#b8e186"
            ],
            [
             0.8,
             "#7fbc41"
            ],
            [
             0.9,
             "#4d9221"
            ],
            [
             1,
             "#276419"
            ]
           ],
           "sequential": [
            [
             0,
             "#0d0887"
            ],
            [
             0.1111111111111111,
             "#46039f"
            ],
            [
             0.2222222222222222,
             "#7201a8"
            ],
            [
             0.3333333333333333,
             "#9c179e"
            ],
            [
             0.4444444444444444,
             "#bd3786"
            ],
            [
             0.5555555555555556,
             "#d8576b"
            ],
            [
             0.6666666666666666,
             "#ed7953"
            ],
            [
             0.7777777777777778,
             "#fb9f3a"
            ],
            [
             0.8888888888888888,
             "#fdca26"
            ],
            [
             1,
             "#f0f921"
            ]
           ],
           "sequentialminus": [
            [
             0,
             "#0d0887"
            ],
            [
             0.1111111111111111,
             "#46039f"
            ],
            [
             0.2222222222222222,
             "#7201a8"
            ],
            [
             0.3333333333333333,
             "#9c179e"
            ],
            [
             0.4444444444444444,
             "#bd3786"
            ],
            [
             0.5555555555555556,
             "#d8576b"
            ],
            [
             0.6666666666666666,
             "#ed7953"
            ],
            [
             0.7777777777777778,
             "#fb9f3a"
            ],
            [
             0.8888888888888888,
             "#fdca26"
            ],
            [
             1,
             "#f0f921"
            ]
           ]
          },
          "colorway": [
           "#636efa",
           "#EF553B",
           "#00cc96",
           "#ab63fa",
           "#FFA15A",
           "#19d3f3",
           "#FF6692",
           "#B6E880",
           "#FF97FF",
           "#FECB52"
          ],
          "font": {
           "color": "#2a3f5f"
          },
          "geo": {
           "bgcolor": "white",
           "lakecolor": "white",
           "landcolor": "#E5ECF6",
           "showlakes": true,
           "showland": true,
           "subunitcolor": "white"
          },
          "hoverlabel": {
           "align": "left"
          },
          "hovermode": "closest",
          "mapbox": {
           "style": "light"
          },
          "paper_bgcolor": "white",
          "plot_bgcolor": "#E5ECF6",
          "polar": {
           "angularaxis": {
            "gridcolor": "white",
            "linecolor": "white",
            "ticks": ""
           },
           "bgcolor": "#E5ECF6",
           "radialaxis": {
            "gridcolor": "white",
            "linecolor": "white",
            "ticks": ""
           }
          },
          "scene": {
           "xaxis": {
            "backgroundcolor": "#E5ECF6",
            "gridcolor": "white",
            "gridwidth": 2,
            "linecolor": "white",
            "showbackground": true,
            "ticks": "",
            "zerolinecolor": "white"
           },
           "yaxis": {
            "backgroundcolor": "#E5ECF6",
            "gridcolor": "white",
            "gridwidth": 2,
            "linecolor": "white",
            "showbackground": true,
            "ticks": "",
            "zerolinecolor": "white"
           },
           "zaxis": {
            "backgroundcolor": "#E5ECF6",
            "gridcolor": "white",
            "gridwidth": 2,
            "linecolor": "white",
            "showbackground": true,
            "ticks": "",
            "zerolinecolor": "white"
           }
          },
          "shapedefaults": {
           "line": {
            "color": "#2a3f5f"
           }
          },
          "ternary": {
           "aaxis": {
            "gridcolor": "white",
            "linecolor": "white",
            "ticks": ""
           },
           "baxis": {
            "gridcolor": "white",
            "linecolor": "white",
            "ticks": ""
           },
           "bgcolor": "#E5ECF6",
           "caxis": {
            "gridcolor": "white",
            "linecolor": "white",
            "ticks": ""
           }
          },
          "title": {
           "x": 0.05
          },
          "xaxis": {
           "automargin": true,
           "gridcolor": "white",
           "linecolor": "white",
           "ticks": "",
           "title": {
            "standoff": 15
           },
           "zerolinecolor": "white",
           "zerolinewidth": 2
          },
          "yaxis": {
           "automargin": true,
           "gridcolor": "white",
           "linecolor": "white",
           "ticks": "",
           "title": {
            "standoff": 15
           },
           "zerolinecolor": "white",
           "zerolinewidth": 2
          }
         }
        },
        "title": {
         "font": {
          "color": "white"
         }
        },
        "width": 600,
        "xaxis": {
         "anchor": "y",
         "color": "white",
         "domain": [
          0,
          1
         ],
         "title": {
          "text": "Age"
         }
        },
        "xaxis2": {
         "anchor": "y2",
         "domain": [
          0,
          1
         ],
         "matches": "x",
         "showgrid": true,
         "showticklabels": false
        },
        "yaxis": {
         "anchor": "x",
         "color": "white",
         "domain": [
          0,
          0.7326
         ],
         "title": {
          "text": "count"
         }
        },
        "yaxis2": {
         "anchor": "x2",
         "domain": [
          0.7426,
          1
         ],
         "matches": "y2",
         "showgrid": false,
         "showline": false,
         "showticklabels": false,
         "ticks": ""
        }
       }
      }
     },
     "metadata": {},
     "output_type": "display_data"
    }
   ],
   "source": [
    "fig = px.histogram(processed_df, x=\"Age\", color='Sex', nbins=17, marginal=\"box\",\n",
    "                   width=600, height=400)\n",
    "fig.update_layout(**layout_options)\n",
    "fig.show()"
   ]
  },
  {
   "cell_type": "code",
   "execution_count": 121,
   "metadata": {
    "colab": {
     "base_uri": "https://localhost:8080/",
     "height": 417
    },
    "executionInfo": {
     "elapsed": 516,
     "status": "ok",
     "timestamp": 1682695260582,
     "user": {
      "displayName": "Adnan Alkattan",
      "userId": "14686308749644374052"
     },
     "user_tz": -180
    },
    "id": "SE79lEiOzsWu",
    "outputId": "5766c7f8-a5a7-4029-c1da-994d13b944aa"
   },
   "outputs": [
    {
     "data": {
      "application/vnd.plotly.v1+json": {
       "config": {
        "plotlyServerURL": "https://plot.ly"
       },
       "data": [
        {
         "autobinx": false,
         "histnorm": "probability density",
         "legendgroup": "teen",
         "marker": {
          "color": "rgb(31, 119, 180)"
         },
         "name": "teen",
         "opacity": 0.7,
         "type": "histogram",
         "x": [
          14,
          20,
          14,
          15,
          19,
          18,
          14,
          19,
          18,
          19,
          17,
          16,
          17,
          16,
          20,
          14.5,
          20,
          17,
          20,
          19,
          16,
          19,
          18,
          19,
          16,
          17,
          18,
          19,
          19,
          18,
          16,
          16,
          19,
          18,
          19,
          16,
          16,
          19,
          19,
          19,
          17,
          18,
          16,
          16,
          15,
          18,
          19,
          20,
          19,
          18,
          17,
          20,
          18,
          18,
          19,
          17,
          14,
          20,
          17,
          16,
          18,
          17,
          19,
          17,
          19,
          16,
          19,
          18,
          20,
          20,
          19,
          18,
          18,
          20,
          18,
          18,
          20,
          14,
          14,
          19,
          18,
          15,
          18,
          18,
          19,
          17,
          20,
          16,
          19,
          18,
          20,
          16,
          18,
          17,
          18,
          16,
          18,
          15,
          18,
          20,
          16,
          17,
          16,
          18,
          15,
          20,
          19,
          19
         ],
         "xaxis": "x",
         "xbins": {
          "end": 20,
          "size": 2,
          "start": 14
         },
         "yaxis": "y"
        },
        {
         "autobinx": false,
         "histnorm": "probability density",
         "legendgroup": "adult",
         "marker": {
          "color": "rgb(255, 127, 14)"
         },
         "name": "adult",
         "opacity": 0.7,
         "type": "histogram",
         "x": [
          22,
          38,
          26,
          35,
          35,
          30,
          54,
          27,
          58,
          39,
          55,
          30,
          31,
          35,
          35,
          34,
          28,
          38,
          30,
          21,
          30,
          40,
          35,
          21,
          28,
          42,
          30,
          21,
          40,
          27,
          30,
          30,
          30,
          21,
          30,
          21,
          49,
          29,
          30,
          21,
          28.5,
          22,
          45,
          30,
          29,
          26,
          32,
          21,
          26,
          32,
          25,
          30,
          30,
          30,
          22,
          29,
          21,
          28,
          33,
          30,
          23,
          24,
          29,
          46,
          26,
          59,
          30,
          23,
          34,
          34,
          28,
          30,
          21,
          33,
          37,
          28,
          21,
          30,
          38,
          21,
          47,
          22,
          21,
          29,
          24,
          21,
          30,
          32.5,
          32.5,
          54,
          30,
          24,
          21,
          45,
          33,
          47,
          29,
          25,
          23,
          37,
          24,
          35,
          22,
          24,
          27,
          36.5,
          42,
          51,
          22,
          55.5,
          40.5,
          30,
          51,
          30,
          30,
          44,
          40,
          26,
          35,
          45,
          30,
          28,
          21,
          56,
          50,
          30,
          36,
          21,
          30,
          30,
          35,
          45,
          40,
          36,
          32,
          44,
          58,
          30,
          42,
          21,
          24,
          28,
          30,
          34,
          45.5,
          32,
          26,
          40,
          24,
          35,
          22,
          30,
          30,
          31,
          27,
          42,
          32,
          30,
          27,
          51,
          30,
          38,
          22,
          20.5,
          21,
          35,
          29,
          59,
          24,
          21,
          44,
          33,
          21,
          21,
          29,
          22,
          30,
          44,
          25,
          24,
          37,
          54,
          30,
          29,
          30,
          41,
          29,
          35,
          30,
          35,
          50,
          30,
          52,
          40,
          21,
          36,
          25,
          58,
          35,
          30,
          25,
          41,
          37,
          21,
          45,
          30,
          35,
          28,
          30,
          33,
          30,
          22,
          42,
          22,
          26,
          36,
          24,
          24,
          30,
          23.5,
          30,
          50,
          21,
          30,
          21,
          30,
          21,
          30,
          30,
          24,
          26,
          28,
          43,
          26,
          24,
          54,
          31,
          40,
          22,
          27,
          30,
          22,
          30,
          36,
          36,
          31,
          21,
          45.5,
          38,
          35,
          30,
          29,
          41,
          45,
          45,
          24,
          28,
          25,
          36,
          24,
          40,
          35,
          42,
          23,
          30,
          25,
          30,
          28,
          22,
          38,
          21,
          21,
          40,
          29,
          45,
          35,
          30,
          30,
          60,
          35,
          21,
          24,
          25,
          22,
          35,
          22,
          27,
          42,
          32,
          35,
          30,
          36,
          30,
          36,
          21,
          28,
          23,
          24,
          22,
          31,
          46,
          23,
          28,
          39,
          26,
          21,
          28,
          34,
          51,
          21,
          21,
          30,
          30,
          33,
          30,
          44,
          35,
          34,
          30,
          30,
          21,
          29,
          28,
          30,
          28,
          30,
          32,
          28,
          35,
          42,
          50,
          21,
          24,
          31,
          45,
          25,
          28,
          30,
          34,
          52,
          36,
          30,
          30,
          49,
          30,
          29,
          35,
          50,
          30,
          48,
          34,
          47,
          48,
          30,
          38,
          30,
          56,
          30,
          30,
          38,
          33,
          23,
          22,
          30,
          34,
          29,
          22,
          30,
          50,
          25,
          21,
          35,
          58,
          30,
          30,
          21,
          55,
          21,
          30,
          54,
          30,
          25,
          24,
          21,
          21,
          37,
          33,
          30,
          28,
          26,
          29,
          30,
          36,
          54,
          24,
          47,
          34,
          30,
          36,
          32,
          30,
          22,
          30,
          44,
          30,
          40.5,
          50,
          30,
          39,
          23,
          30,
          35,
          30,
          45,
          30,
          30,
          22,
          36,
          32,
          50,
          30,
          33,
          27,
          30,
          22,
          22,
          48,
          30,
          39,
          36,
          30,
          40,
          28,
          30,
          21,
          24,
          29,
          30,
          32,
          53,
          36,
          21,
          34,
          39,
          35,
          32,
          25,
          39,
          54,
          36,
          30,
          47,
          60,
          22,
          30,
          35,
          52,
          47,
          21,
          37,
          36,
          21,
          49,
          30,
          49,
          24,
          30,
          30,
          44,
          35,
          36,
          30,
          27,
          22,
          40,
          39,
          30,
          21,
          30,
          35,
          24,
          34,
          26,
          26,
          27,
          42,
          21,
          21,
          57,
          21,
          26,
          30,
          51,
          32,
          30,
          28,
          32,
          31,
          41,
          30,
          24,
          30,
          48,
          56,
          30,
          23,
          30,
          21,
          21,
          24,
          30,
          32,
          23,
          58,
          50,
          40,
          47,
          36,
          32,
          25,
          30,
          43,
          35,
          40,
          31,
          31,
          30,
          24.5,
          43,
          36,
          21,
          27,
          60,
          25,
          31,
          30,
          25,
          60,
          52,
          44,
          21,
          49,
          42,
          35,
          25,
          26,
          39,
          45,
          42,
          22,
          24,
          30,
          48,
          29,
          52,
          38,
          27,
          30,
          33,
          34,
          50,
          27,
          30,
          21,
          25,
          25,
          29,
          30,
          23,
          23,
          28.5,
          48,
          35,
          30,
          30,
          30,
          36,
          21,
          24,
          31,
          30,
          31,
          33,
          23,
          48,
          28,
          34,
          33,
          30,
          41,
          36,
          51,
          46.5,
          30.5,
          30,
          32,
          24,
          48,
          57,
          30,
          54,
          30,
          30,
          43,
          29,
          30,
          25,
          25,
          46,
          30,
          21,
          30,
          25,
          39,
          49,
          31,
          30,
          30,
          34,
          31,
          27,
          31,
          39,
          39,
          33,
          26,
          39,
          35,
          30.5,
          30,
          23,
          31,
          43,
          52,
          27,
          38,
          27,
          30,
          30,
          30,
          30,
          23,
          39,
          21,
          30,
          32,
          30,
          30,
          34.5,
          42,
          30,
          35,
          28,
          35,
          44,
          45,
          51,
          24,
          30,
          41,
          21,
          48,
          21,
          24,
          42,
          27,
          31,
          30,
          26,
          47,
          33,
          47,
          28,
          30,
          56,
          25,
          33,
          22,
          28,
          25,
          39,
          27,
          21,
          26,
          32
         ],
         "xaxis": "x",
         "xbins": {
          "end": 60,
          "size": 2,
          "start": 20.5
         },
         "yaxis": "y"
        },
        {
         "legendgroup": "teen",
         "marker": {
          "color": "rgb(31, 119, 180)"
         },
         "mode": "lines",
         "name": "teen",
         "showlegend": false,
         "type": "scatter",
         "x": [
          14,
          14.012,
          14.024,
          14.036,
          14.048,
          14.06,
          14.072,
          14.084,
          14.096,
          14.108,
          14.12,
          14.132,
          14.144,
          14.156,
          14.168,
          14.18,
          14.192,
          14.204,
          14.216,
          14.228,
          14.24,
          14.252,
          14.264,
          14.276,
          14.288,
          14.3,
          14.312,
          14.324,
          14.336,
          14.348,
          14.36,
          14.372,
          14.384,
          14.396,
          14.408,
          14.42,
          14.432,
          14.444,
          14.456,
          14.468,
          14.48,
          14.492,
          14.504,
          14.516,
          14.528,
          14.54,
          14.552,
          14.564,
          14.576,
          14.588,
          14.6,
          14.612,
          14.624,
          14.636,
          14.648,
          14.66,
          14.672,
          14.684,
          14.696,
          14.708,
          14.72,
          14.732,
          14.744,
          14.756,
          14.768,
          14.78,
          14.792,
          14.804,
          14.816,
          14.828,
          14.84,
          14.852,
          14.864,
          14.876,
          14.888,
          14.9,
          14.912,
          14.924,
          14.936,
          14.948,
          14.96,
          14.972,
          14.984,
          14.996,
          15.008,
          15.02,
          15.032,
          15.044,
          15.056000000000001,
          15.068,
          15.08,
          15.092,
          15.104,
          15.116,
          15.128,
          15.14,
          15.152,
          15.164,
          15.176,
          15.188,
          15.2,
          15.212,
          15.224,
          15.236,
          15.248,
          15.26,
          15.272,
          15.284,
          15.296,
          15.308,
          15.32,
          15.332,
          15.344,
          15.356,
          15.368,
          15.379999999999999,
          15.392,
          15.404,
          15.416,
          15.428,
          15.44,
          15.452,
          15.464,
          15.475999999999999,
          15.488,
          15.5,
          15.512,
          15.524000000000001,
          15.536,
          15.548,
          15.56,
          15.572,
          15.584,
          15.596,
          15.608,
          15.620000000000001,
          15.632,
          15.644,
          15.656,
          15.668,
          15.68,
          15.692,
          15.704,
          15.716,
          15.728,
          15.74,
          15.752,
          15.764,
          15.776,
          15.788,
          15.8,
          15.812,
          15.824,
          15.836,
          15.848,
          15.86,
          15.872,
          15.884,
          15.896,
          15.908,
          15.92,
          15.932,
          15.943999999999999,
          15.956,
          15.968,
          15.98,
          15.992,
          16.004,
          16.016,
          16.028,
          16.04,
          16.052,
          16.064,
          16.076,
          16.088,
          16.1,
          16.112000000000002,
          16.124,
          16.136,
          16.148,
          16.16,
          16.172,
          16.184,
          16.196,
          16.208,
          16.22,
          16.232,
          16.244,
          16.256,
          16.268,
          16.28,
          16.292,
          16.304,
          16.316,
          16.328,
          16.34,
          16.352,
          16.364,
          16.376,
          16.387999999999998,
          16.4,
          16.412,
          16.424,
          16.436,
          16.448,
          16.46,
          16.472,
          16.484,
          16.496,
          16.508,
          16.52,
          16.532,
          16.544,
          16.556,
          16.568,
          16.58,
          16.592,
          16.604,
          16.616,
          16.628,
          16.64,
          16.652,
          16.664,
          16.676000000000002,
          16.688,
          16.7,
          16.712,
          16.724,
          16.736,
          16.748,
          16.759999999999998,
          16.772,
          16.784,
          16.796,
          16.808,
          16.82,
          16.832,
          16.844,
          16.856,
          16.868,
          16.88,
          16.892,
          16.904,
          16.916,
          16.928,
          16.94,
          16.951999999999998,
          16.964,
          16.976,
          16.988,
          17,
          17.012,
          17.024,
          17.036,
          17.048000000000002,
          17.06,
          17.072,
          17.084,
          17.096,
          17.108,
          17.12,
          17.132,
          17.144,
          17.156,
          17.168,
          17.18,
          17.192,
          17.204,
          17.216,
          17.228,
          17.240000000000002,
          17.252,
          17.264,
          17.276,
          17.288,
          17.3,
          17.312,
          17.323999999999998,
          17.336,
          17.348,
          17.36,
          17.372,
          17.384,
          17.396,
          17.408,
          17.42,
          17.432,
          17.444,
          17.456,
          17.468,
          17.48,
          17.492,
          17.504,
          17.516,
          17.528,
          17.54,
          17.552,
          17.564,
          17.576,
          17.588,
          17.6,
          17.612000000000002,
          17.624,
          17.636,
          17.648,
          17.66,
          17.672,
          17.684,
          17.696,
          17.708,
          17.72,
          17.732,
          17.744,
          17.756,
          17.768,
          17.78,
          17.792,
          17.804,
          17.816,
          17.828,
          17.84,
          17.852,
          17.864,
          17.876,
          17.887999999999998,
          17.9,
          17.912,
          17.924,
          17.936,
          17.948,
          17.96,
          17.972,
          17.984,
          17.996,
          18.008,
          18.02,
          18.032,
          18.044,
          18.056,
          18.067999999999998,
          18.08,
          18.092,
          18.104,
          18.116,
          18.128,
          18.14,
          18.152,
          18.164,
          18.176000000000002,
          18.188,
          18.2,
          18.212,
          18.224,
          18.236,
          18.248,
          18.259999999999998,
          18.272,
          18.284,
          18.296,
          18.308,
          18.32,
          18.332,
          18.344,
          18.356,
          18.368000000000002,
          18.38,
          18.392,
          18.404,
          18.416,
          18.428,
          18.44,
          18.451999999999998,
          18.464,
          18.476,
          18.488,
          18.5,
          18.512,
          18.524,
          18.536,
          18.548000000000002,
          18.56,
          18.572,
          18.584,
          18.596,
          18.608,
          18.62,
          18.631999999999998,
          18.644,
          18.656,
          18.668,
          18.68,
          18.692,
          18.704,
          18.716,
          18.728,
          18.740000000000002,
          18.752,
          18.764,
          18.776,
          18.788,
          18.8,
          18.812,
          18.823999999999998,
          18.836,
          18.848,
          18.86,
          18.872,
          18.884,
          18.896,
          18.908,
          18.92,
          18.932000000000002,
          18.944,
          18.956,
          18.968,
          18.98,
          18.992,
          19.003999999999998,
          19.016,
          19.028,
          19.04,
          19.052,
          19.064,
          19.076,
          19.088,
          19.1,
          19.112000000000002,
          19.124,
          19.136,
          19.148,
          19.16,
          19.172,
          19.184,
          19.195999999999998,
          19.208,
          19.22,
          19.232,
          19.244,
          19.256,
          19.268,
          19.28,
          19.292,
          19.304000000000002,
          19.316,
          19.328,
          19.34,
          19.352,
          19.364,
          19.376,
          19.387999999999998,
          19.4,
          19.412,
          19.424,
          19.436,
          19.448,
          19.46,
          19.472,
          19.484,
          19.496000000000002,
          19.508,
          19.52,
          19.532,
          19.544,
          19.556,
          19.567999999999998,
          19.58,
          19.592,
          19.604,
          19.616,
          19.628,
          19.64,
          19.652,
          19.664,
          19.676000000000002,
          19.688,
          19.7,
          19.712,
          19.724,
          19.736,
          19.748,
          19.759999999999998,
          19.772,
          19.784,
          19.796,
          19.808,
          19.82,
          19.832,
          19.844,
          19.856,
          19.868000000000002,
          19.88,
          19.892,
          19.904,
          19.916,
          19.928,
          19.94,
          19.951999999999998,
          19.964,
          19.976,
          19.988
         ],
         "xaxis": "x",
         "y": [
          0.04750142630541437,
          0.04785490998952608,
          0.04820336226968664,
          0.04854680367167078,
          0.04888526353730308,
          0.04921878002912284,
          0.049547400122286415,
          0.04987117958374335,
          0.05019018293874973,
          0.05050448342479973,
          0.05081416293307475,
          0.05111931193753134,
          0.0514200294117616,
          0.05171642273378426,
          0.05200860757893241,
          0.05229670780102462,
          0.05258085530201704,
          0.052861189890348936,
          0.05313785912820484,
          0.05341101816792779,
          0.05368082957782903,
          0.053947463157645925,
          0.0542110957439125,
          0.05447191100550834,
          0.054730099229663355,
          0.05498585709869606,
          0.05523938745777206,
          0.05549089907396995,
          0.05574060638694593,
          0.05598872925149034,
          0.056235492672271126,
          0.05648112653106071,
          0.056725865306741126,
          0.05696994778838501,
          0.0572136167817087,
          0.05745711880919158,
          0.05770070380415697,
          0.05794462479910792,
          0.05818913760861046,
          0.05843450050701512,
          0.058680973901306666,
          0.05892881999937261,
          0.05917830247397706,
          0.059429686122730044,
          0.0596832365243389,
          0.059939219691431,
          0.06019790172023671,
          0.060459548437423564,
          0.06072442504437257,
          0.06099279575919403,
          0.06126492345677953,
          0.061541069307191845,
          0.061821492412699935,
          0.06210644944377222,
          0.06239619427434281,
          0.06269097761667894,
          0.06299104665618056,
          0.06329664468645199,
          0.06360801074499703,
          0.06392537924989578,
          0.06424897963783387,
          0.06457903600386478,
          0.06491576674329703,
          0.06525938419611282,
          0.06561009429433383,
          0.06596809621276414,
          0.0663335820235566,
          0.06670673635505636,
          0.06708773605539416,
          0.06747674986131422,
          0.06787393807273329,
          0.06827945223354397,
          0.06869343481918574,
          0.06911601893152276,
          0.06954732800157541,
          0.06998747550067025,
          0.0704365646605778,
          0.07089468820322187,
          0.07136192808055013,
          0.07183835522516568,
          0.07232402931232426,
          0.07281899853390755,
          0.07332329938498724,
          0.07383695646359296,
          0.07435998228430481,
          0.07489237710628023,
          0.07543412877632917,
          0.07598521258764152,
          0.07654559115476339,
          0.07711521430541209,
          0.07769401898970214,
          0.07828192920734454,
          0.07887885595336076,
          0.07948469718283864,
          0.08009933779522611,
          0.08072264963864678,
          0.08135449153468154,
          0.08199470932404,
          0.08264313593350812,
          0.08329959146452783,
          0.08396388330372283,
          0.08463580625564937,
          0.0853151426980069,
          0.08600166275950001,
          0.08669512452049584,
          0.08739527423657766,
          0.08810184658503455,
          0.08881456493429081,
          0.08953314163620735,
          0.0902572783411495,
          0.09098666633564392,
          0.09172098690240163,
          0.09245991170241716,
          0.09320310317880023,
          0.09395021498193275,
          0.09470089241548306,
          0.09545477290275611,
          0.09621148647278299,
          0.09697065626551088,
          0.0977318990553824,
          0.09849482579253531,
          0.09925904216080517,
          0.1000241491516407,
          0.1007897436530064,
          0.10155541905227296,
          0.1023207658520598,
          0.10308537229793718,
          0.10384882501684765,
          0.10461070966506991,
          0.10537061158449466,
          0.10612811646595244,
          0.10688281101829547,
          0.10763428364190222,
          0.10838212510524466,
          0.10912592922313497,
          0.10986529353524917,
          0.11059981998349833,
          0.11132911558682426,
          0.11205279311196278,
          0.11277047173873701,
          0.1134817777184273,
          0.11418634502377395,
          0.11488381598918175,
          0.11557384193969862,
          0.11625608380737176,
          0.11693021273358707,
          0.1175959106560533,
          0.11825287087908952,
          0.118900798625937,
          0.11953941157183863,
          0.12016844035668248,
          0.12078762907604737,
          0.12139673574953888,
          0.12199553276536346,
          0.12258380730014257,
          0.12316136171302852,
          0.12372801391325144,
          0.12428359770028992,
          0.12482796307593014,
          0.1253609765275472,
          0.12588252128201666,
          0.12639249752974033,
          0.12689082261834744,
          0.12737743121570716,
          0.12785227544197084,
          0.12831532497043832,
          0.12876656709712642,
          0.129206006778993,
          0.12963366664085063,
          0.1300495869510858,
          0.13045382556637147,
          0.13084645784564244,
          0.13122757653367825,
          0.13159729161470357,
          0.13195573013650236,
          0.13230303600559387,
          0.1326393697541013,
          0.1329649082789949,
          0.13327984455446187,
          0.13358438731820388,
          0.1338787607325287,
          0.13416320402114054,
          0.13443797108259317,
          0.13470333008140098,
          0.13495956301785425,
          0.1352069652776112,
          0.13544584516217378,
          0.13567652340138198,
          0.1358993326490826,
          0.1361146169631477,
          0.13632273127102823,
          0.13652404082204625,
          0.1367189206276258,
          0.13690775489066948,
          0.1370909364252813,
          0.13726886606803718,
          0.13744195208197912,
          0.13761060955451468,
          0.13777525979036623,
          0.13793632970070885,
          0.1380942511895988,
          0.13824946053877424,
          0.1384023977918812,
          0.13855350613913484,
          0.13870323130340334,
          0.1388520209286536,
          0.13900032397166542,
          0.13914859009787783,
          0.1392972690821868,
          0.13944681021547278,
          0.139597661717593,
          0.13975027015752395,
          0.13990507988129924,
          0.14006253244834263,
          0.14022306607674498,
          0.140387115097999,
          0.14055510942165278,
          0.14072747401030716,
          0.14090462836533668,
          0.141086986023673,
          0.14127495406595586,
          0.14146893263631397,
          0.14166931447400724,
          0.14187648445712867,
          0.14209081915852956,
          0.14231268641411499,
          0.1425424449036124,
          0.14278044374391483,
          0.14302702209506163,
          0.1432825087789146,
          0.14354722191056501,
          0.14382146854250005,
          0.14410554432154382,
          0.14439973315858642,
          0.14470430691110475,
          0.14501952507848273,
          0.14534563451013807,
          0.14568286912646417,
          0.14603144965260664,
          0.14639158336509464,
          0.14676346385136985,
          0.14714727078224765,
          0.14754316969738296,
          0.14795131180380738,
          0.14837183378763327,
          0.1488048576390294,
          0.14925049049059874,
          0.14970882446929765,
          0.1501799365620644,
          0.15066388849533527,
          0.15116072662864916,
          0.15167048186256,
          0.15219316956109075,
          0.15272878948897856,
          0.1532773257639821,
          0.15383874682452375,
          0.1544130054129665,
          0.15500003857481492,
          0.15559976767416214,
          0.1562120984256837,
          0.15683692094350557,
          0.15747410980725382,
          0.1581235241456053,
          0.15878500773764323,
          0.15945838913231802,
          0.16014348178629617,
          0.16084008422047089,
          0.16154798019538222,
          0.1622669389057768,
          0.1629967151945067,
          0.1637370497859452,
          0.16448766953905006,
          0.16524828772019012,
          0.16601860429578535,
          0.16679830624479042,
          0.16758706789099398,
          0.16838455125505852,
          0.16919040642617592,
          0.17000427195315831,
          0.17082577525472936,
          0.17165453304871645,
          0.17249015179979477,
          0.17333222818535754,
          0.17418034957903575,
          0.17503409455132,
          0.17589303338666804,
          0.17675672861642902,
          0.1776247355668336,
          0.17849660292124078,
          0.17937187329577334,
          0.1802500838273968,
          0.1811307667734466,
          0.18201345012153403,
          0.182897658208719,
          0.183782912348767,
          0.18466873146625568,
          0.18555463273625505,
          0.18644013222824996,
          0.18732474555292822,
          0.1882079885104261,
          0.18908937773858,
          0.18996843135970637,
          0.19084466962440996,
          0.19171761555088773,
          0.19258679555819436,
          0.19345174009191854,
          0.1943119842407157,
          0.19516706834214695,
          0.19601653857627505,
          0.1968599475454968,
          0.19769685483909422,
          0.19852682758102197,
          0.1993494409594835,
          0.20016427873688053,
          0.20097093373876346,
          0.20176900832047634,
          0.20255811481022126,
          0.2033378759273511,
          0.20410792517475976,
          0.20486790720430445,
          0.20561747815428624,
          0.2063563059580849,
          0.20708407062314296,
          0.20780046447957634,
          0.20850519239778526,
          0.20919797197454937,
          0.20987853368717138,
          0.2105466210153624,
          0.2112019905306481,
          0.21184441195320108,
          0.21247366817609836,
          0.2130895552571274,
          0.2136918823783686,
          0.21428047177389217,
          0.21485515862603122,
          0.21541579093077118,
          0.21596222933295228,
          0.21649434693203676,
          0.2170120290593375,
          0.21751517302767467,
          0.21800368785455132,
          0.21847749396000848,
          0.21893652284042492,
          0.21938071671960785,
          0.21981002817859743,
          0.22022441976568108,
          0.2206238635881897,
          0.22100834088769905,
          0.22137784160032625,
          0.22173236390384254,
          0.22207191375339622,
          0.22239650440763004,
          0.22270615594705256,
          0.2230008947865026,
          0.22328075318358284,
          0.22354576874493054,
          0.22379598393219513,
          0.22403144556958218,
          0.22425220435479407,
          0.2244583143751905,
          0.22464983263093216,
          0.22482681856685552,
          0.22498933361475712,
          0.22513744074772127,
          0.22527120404805773,
          0.22539068829035014,
          0.22549595854103446,
          0.22558707977585332,
          0.22566411651643858,
          0.2257271324871846,
          0.22577619029348242,
          0.22581135112227768,
          0.22583267446580774,
          0.22584021786928232,
          0.22583403670314076,
          0.22581418396041258,
          0.22578071007960676,
          0.22573366279340967,
          0.22567308700339128,
          0.22559902468076296,
          0.22551151479315007,
          0.22541059325719973,
          0.22529629291673692,
          0.2251686435460868,
          0.22502767187803274,
          0.22487340165581698,
          0.22470585370845209,
          0.2245250460485292,
          0.22433099399160727,
          0.22412371029618108,
          0.22390320532313304,
          0.22366948721350377,
          0.22342256208332753,
          0.2231624342342367,
          0.22288910637843873,
          0.22260257987665907,
          0.22230285498756247,
          0.22198993112713933,
          0.2216638071365118,
          0.22132448155658324,
          0.2209719529079458,
          0.22060621997443558,
          0.22022728208874812,
          0.21983513941850086,
          0.2194297932511739,
          0.2190112462763552,
          0.21857950286376654,
          0.21813456933555728,
          0.21767645423142779,
          0.21720516856515526,
          0.21672072607118986,
          0.21622314344001664,
          0.21571244054107058,
          0.21518864063205395,
          0.21465177055359058,
          0.21410186090822245,
          0.2135389462228648,
          0.2129630650938995,
          0.21237426031420586,
          0.21177257898151497,
          0.21115807258756933,
          0.2105307970876873,
          0.20989081295042183,
          0.2092381851871157,
          0.20857298336125935,
          0.20789528157766138,
          0.2072051584515458,
          0.20650269705780766,
          0.2057879848607308,
          0.2050611136246074,
          0.2043221793057737,
          0.2035712819266753,
          0.20280852543267144,
          0.20203401753237388,
          0.20124786952239254,
          0.20045019609745493,
          0.19964111514691346,
          0.1988207475387519,
          0.19798921689224597,
          0.19714664934049564,
          0.19629317328409435,
          0.19542891913725144,
          0.19455401906771333,
          0.19366860673186526,
          0.1927728170064131,
          0.19186678571807284,
          0.1909506493726911,
          0.19002454488523599,
          0.18908860931208424,
          0.18814297958702395,
          0.18718779226237425,
          0.1862231832566007,
          0.18524928760976378,
          0.18426623924811752,
          0.18327417075911578,
          0.18227321317804127,
          0.18126349578741735,
          0.18024514593029933,
          0.17921828883847582,
          0.1781830474765423,
          0.17713954240272894,
          0.1760878916473,
          0.1750282106092257,
          0.17396061197179072,
          0.17288520563766288,
          0.17180209868389357,
          0.17071139533720645,
          0.16961319696984242,
          0.16850760211613178,
          0.16739470650986715,
          0.16627460314246023,
          0.1651473823417521,
          0.16401313187127173,
          0.16287193704962724,
          0.1617238808896224,
          0.16056904425661148,
          0.15940750604549847,
          0.15823934337571538,
          0.15706463180342053,
          0.15588344555008696,
          0.15469585774656616,
          0.1535019406916492,
          0.1523017661240729,
          0.1510954055068598,
          0.1498829303228217,
          0.14866441238000622,
          0.1474399241258164,
          0.1462095389684899,
          0.1449733316045954,
          0.14373137835117025,
          0.1424837574810923,
          0.14123054956027575,
          0.1399718377852579,
          0.13870770831973786,
          0.13743825062863557,
          0.13616355780823974,
          0.13488372691102635,
          0.13359885926374945,
          0.13230906077743015,
          0.1310144422478908
         ],
         "yaxis": "y"
        },
        {
         "legendgroup": "adult",
         "marker": {
          "color": "rgb(255, 127, 14)"
         },
         "mode": "lines",
         "name": "adult",
         "showlegend": false,
         "type": "scatter",
         "x": [
          20.5,
          20.579,
          20.658,
          20.737,
          20.816,
          20.895,
          20.974,
          21.053,
          21.132,
          21.211,
          21.29,
          21.369,
          21.448,
          21.527,
          21.606,
          21.685,
          21.764,
          21.843,
          21.922,
          22.001,
          22.08,
          22.159,
          22.238,
          22.317,
          22.396,
          22.475,
          22.554,
          22.633,
          22.712,
          22.791,
          22.87,
          22.948999999999998,
          23.028,
          23.107,
          23.186,
          23.265,
          23.344,
          23.423000000000002,
          23.502,
          23.581,
          23.66,
          23.739,
          23.818,
          23.897,
          23.976,
          24.055,
          24.134,
          24.213,
          24.292,
          24.371,
          24.45,
          24.529,
          24.608,
          24.687,
          24.766,
          24.845,
          24.924,
          25.003,
          25.082,
          25.161,
          25.240000000000002,
          25.319,
          25.398,
          25.477,
          25.556,
          25.634999999999998,
          25.714,
          25.793,
          25.872,
          25.951,
          26.03,
          26.109,
          26.188,
          26.267,
          26.346,
          26.425,
          26.503999999999998,
          26.583,
          26.662,
          26.741,
          26.82,
          26.899,
          26.978,
          27.057000000000002,
          27.136,
          27.215,
          27.294,
          27.373,
          27.451999999999998,
          27.531,
          27.61,
          27.689,
          27.768,
          27.847,
          27.926000000000002,
          28.005,
          28.084,
          28.163,
          28.242,
          28.320999999999998,
          28.4,
          28.479,
          28.558,
          28.637,
          28.716,
          28.795,
          28.874000000000002,
          28.953,
          29.032,
          29.111,
          29.189999999999998,
          29.269,
          29.348,
          29.427,
          29.506,
          29.585,
          29.664,
          29.743000000000002,
          29.822,
          29.901,
          29.98,
          30.058999999999997,
          30.137999999999998,
          30.217,
          30.296,
          30.375,
          30.454,
          30.533,
          30.612000000000002,
          30.691000000000003,
          30.77,
          30.849,
          30.928,
          31.006999999999998,
          31.086,
          31.165,
          31.244,
          31.323,
          31.402,
          31.481,
          31.560000000000002,
          31.639,
          31.718,
          31.797,
          31.875999999999998,
          31.955,
          32.034,
          32.113,
          32.192,
          32.271,
          32.35,
          32.429,
          32.507999999999996,
          32.587,
          32.666,
          32.745,
          32.824,
          32.903,
          32.982,
          33.061,
          33.14,
          33.219,
          33.298,
          33.377,
          33.456,
          33.535,
          33.614000000000004,
          33.693,
          33.772,
          33.851,
          33.93,
          34.009,
          34.088,
          34.167,
          34.246,
          34.325,
          34.403999999999996,
          34.483000000000004,
          34.562,
          34.641,
          34.72,
          34.799,
          34.878,
          34.957,
          35.036,
          35.115,
          35.194,
          35.272999999999996,
          35.352000000000004,
          35.431,
          35.51,
          35.589,
          35.668,
          35.747,
          35.826,
          35.905,
          35.984,
          36.063,
          36.141999999999996,
          36.221000000000004,
          36.3,
          36.379,
          36.458,
          36.537,
          36.616,
          36.695,
          36.774,
          36.853,
          36.932,
          37.010999999999996,
          37.09,
          37.169,
          37.248000000000005,
          37.327,
          37.406,
          37.485,
          37.564,
          37.643,
          37.722,
          37.801,
          37.879999999999995,
          37.959,
          38.038,
          38.117000000000004,
          38.196,
          38.275,
          38.354,
          38.433,
          38.512,
          38.591,
          38.67,
          38.748999999999995,
          38.828,
          38.907,
          38.986000000000004,
          39.065,
          39.144,
          39.223,
          39.302,
          39.381,
          39.46,
          39.539,
          39.617999999999995,
          39.697,
          39.775999999999996,
          39.855000000000004,
          39.934,
          40.013000000000005,
          40.092,
          40.171,
          40.25,
          40.329,
          40.408,
          40.486999999999995,
          40.566,
          40.644999999999996,
          40.724000000000004,
          40.803,
          40.882000000000005,
          40.961,
          41.04,
          41.119,
          41.198,
          41.277,
          41.356,
          41.435,
          41.513999999999996,
          41.593,
          41.672,
          41.751000000000005,
          41.83,
          41.909,
          41.988,
          42.067,
          42.146,
          42.225,
          42.304,
          42.382999999999996,
          42.462,
          42.541,
          42.620000000000005,
          42.699,
          42.778,
          42.857,
          42.936,
          43.015,
          43.094,
          43.173,
          43.251999999999995,
          43.331,
          43.41,
          43.489000000000004,
          43.568,
          43.647,
          43.726,
          43.805,
          43.884,
          43.963,
          44.042,
          44.120999999999995,
          44.2,
          44.278999999999996,
          44.358000000000004,
          44.437,
          44.516,
          44.595,
          44.674,
          44.753,
          44.832,
          44.911,
          44.989999999999995,
          45.069,
          45.147999999999996,
          45.227000000000004,
          45.306,
          45.385000000000005,
          45.464,
          45.543,
          45.622,
          45.701,
          45.78,
          45.859,
          45.938,
          46.016999999999996,
          46.096000000000004,
          46.175,
          46.254000000000005,
          46.333,
          46.412,
          46.491,
          46.57,
          46.649,
          46.728,
          46.807,
          46.885999999999996,
          46.965,
          47.044,
          47.123000000000005,
          47.202,
          47.281,
          47.36,
          47.439,
          47.518,
          47.597,
          47.676,
          47.754999999999995,
          47.834,
          47.913,
          47.992000000000004,
          48.071,
          48.15,
          48.229,
          48.308,
          48.387,
          48.466,
          48.545,
          48.623999999999995,
          48.703,
          48.782,
          48.861000000000004,
          48.94,
          49.019,
          49.098,
          49.177,
          49.256,
          49.335,
          49.414,
          49.492999999999995,
          49.572,
          49.650999999999996,
          49.730000000000004,
          49.809,
          49.888000000000005,
          49.967,
          50.046,
          50.125,
          50.204,
          50.283,
          50.361999999999995,
          50.441,
          50.519999999999996,
          50.599000000000004,
          50.678,
          50.757000000000005,
          50.836,
          50.915,
          50.994,
          51.073,
          51.152,
          51.231,
          51.31,
          51.388999999999996,
          51.468,
          51.547,
          51.626000000000005,
          51.705,
          51.784,
          51.863,
          51.942,
          52.021,
          52.1,
          52.179,
          52.257999999999996,
          52.337,
          52.416,
          52.495000000000005,
          52.574,
          52.653,
          52.732,
          52.811,
          52.89,
          52.969,
          53.048,
          53.127,
          53.206,
          53.285,
          53.364,
          53.443,
          53.522,
          53.601,
          53.68,
          53.759,
          53.838,
          53.917,
          53.996,
          54.075,
          54.154,
          54.233,
          54.312,
          54.391,
          54.47,
          54.549,
          54.628,
          54.707,
          54.786,
          54.865,
          54.944,
          55.023,
          55.102,
          55.181,
          55.26,
          55.339,
          55.418,
          55.497,
          55.576,
          55.655,
          55.734,
          55.813,
          55.892,
          55.971,
          56.05,
          56.129,
          56.208,
          56.287,
          56.366,
          56.445,
          56.524,
          56.603,
          56.682,
          56.761,
          56.84,
          56.919,
          56.998,
          57.077,
          57.156,
          57.235,
          57.314,
          57.393,
          57.472,
          57.551,
          57.63,
          57.709,
          57.788,
          57.867,
          57.946,
          58.025,
          58.104,
          58.183,
          58.262,
          58.341,
          58.42,
          58.499,
          58.578,
          58.657,
          58.736,
          58.815,
          58.894,
          58.973,
          59.052,
          59.131,
          59.21,
          59.289,
          59.368,
          59.447,
          59.526,
          59.605,
          59.684,
          59.763,
          59.842,
          59.921
         ],
         "xaxis": "x",
         "y": [
          0.02581432287545158,
          0.026297378927460383,
          0.026771388644255458,
          0.02723580028125412,
          0.027690092621947642,
          0.028133777028274454,
          0.028566399359085254,
          0.028987541748057143,
          0.029396824233378013,
          0.029793906232557912,
          0.030178487856749234,
          0.030550311060029152,
          0.030909160620166243,
          0.03125486494844773,
          0.03158729672719808,
          0.03190637337463474,
          0.032212057337690544,
          0.03250435621437397,
          0.03278332270811293,
          0.033049054417357455,
          0.033301693464459325,
          0.033541425968526155,
          0.03376848136754095,
          0.03398313159554918,
          0.03418569012114043,
          0.03437651085378566,
          0.034555986924849076,
          0.03472454935024414,
          0.03488266558179373,
          0.035030837954349234,
          0.035169602035645856,
          0.03529952488573007,
          0.03542120323258437,
          0.035535261570310346,
          0.03564235018592583,
          0.035743143120480644,
          0.035838336069822584,
          0.03592864422995186,
          0.03601480009150097,
          0.036097551187478503,
          0.036177657798033024,
          0.03625589061562223,
          0.03633302837364836,
          0.03640985544132752,
          0.03648715938731507,
          0.03656572851443413,
          0.0366463493677246,
          0.03672980421797978,
          0.03681686852296525,
          0.036908308368603066,
          0.03700487789259195,
          0.0371073166931837,
          0.03721634722617494,
          0.03733267219358692,
          0.03745697192798911,
          0.037589901776979684,
          0.037732089492952946,
          0.03788413263395487,
          0.038046595982147206,
          0.038220008987154705,
          0.0384048632423569,
          0.03860161000296979,
          0.03881065775557522,
          0.039032369849530076,
          0.039267062201449945,
          0.039515001084694835,
          0.039776401016438284,
          0.04005142275552139,
          0.04034017142480126,
          0.04064269477214696,
          0.040958981584547964,
          0.04128896027001309,
          0.04163249762201112,
          0.04198939778114291,
          0.04235940140852102,
          0.04274218508497588,
          0.043137360949674394,
          0.04354447659105217,
          0.04396301520210622,
          0.04439239601107319,
          0.04483197499732778,
          0.045281045901001786,
          0.045738841533304424,
          0.04620453539289567,
          0.046677243591863454,
          0.0471560270929474,
          0.047639894257633215,
          0.04812780370261097,
          0.04861866745989365,
          0.049111354433629746,
          0.04960469414433582,
          0.05009748074894534,
          0.050588477322751076,
          0.051076420387004905,
          0.0515600246636914,
          0.05203798803679693,
          0.05250899669729793,
          0.0529717304471194,
          0.0534248681354615,
          0.05386709319921744,
          0.05429709927769287,
          0.05471359587053175,
          0.055115314006673945,
          0.05550101189129548,
          0.05586948049708148,
          0.05621954906582862,
          0.05655009048627532,
          0.05686002651424993,
          0.057148332801694984,
          0.057414043701851734,
          0.057656256818928595,
          0.0578741372718425,
          0.05806692164321222,
          0.05823392158656657,
          0.058374527066807916,
          0.058488209211251814,
          0.05857452275105957,
          0.058633108035575116,
          0.05866369260492822,
          0.05866609230927644,
          0.05864021196618501,
          0.058586045550840196,
          0.05850367591710237,
          0.058393274050697136,
          0.0582550978591815,
          0.058089490506607805,
          0.05789687830407375,
          0.057677768170495566,
          0.05743274468100302,
          0.057162466723277565,
          0.0568676637848915,
          0.05654913189729835,
          0.05620772926444376,
          0.055844371606125175,
          0.055460027248074334,
          0.0550557119923532,
          0.054632483802991925,
          0.05419143734282002,
          0.053733698398196215,
          0.05326041822878524,
          0.05277276787965905,
          0.052271932492850906,
          0.051759105655010976,
          0.05123548381708694,
          0.050702260820890487,
          0.05016062256613869,
          0.049611741849979726,
          0.04905677340923773,
          0.04849684919358453,
          0.04793307389565852,
          0.047366520761740534,
          0.046798227704088334,
          0.04622919373335118,
          0.04566037572673007,
          0.045092685544716724,
          0.044526987506346864,
          0.04396409623000551,
          0.04340477484391359,
          0.04284973356754821,
          0.042299628662434044,
          0.041755061747992886,
          0.041216579475502904,
          0.040684673550692003,
          0.04015978109311512,
          0.03964228531823531,
          0.03913251652609304,
          0.03863075337857571,
          0.03813722444564843,
          0.037652109999452316,
          0.0371755440339466,
          0.03670761648675485,
          0.03624837563908931,
          0.035797830669065556,
          0.03535595433338195,
          0.03492268575221865,
          0.03449793327230842,
          0.034081577383436874,
          0.033673473664133605,
          0.03327345573300618,
          0.032881338183035194,
          0.032496919477186186,
          0.03211998478486243,
          0.031750308740043615,
          0.031387658103381476,
          0.031031794312049398,
          0.030682475902760003,
          0.03033946079503957,
          0.030002508423574274,
          0.02967138171020424,
          0.0293458488679055,
          0.029025685030877012,
          0.02871067370659213,
          0.02840060804740107,
          0.028095291940923736,
          0.02779454092009817,
          0.027498182895264307,
          0.027206058712125076,
          0.026918022540768166,
          0.026633942102186933,
          0.026353698739868057,
          0.02607718734504257,
          0.025804316145075716,
          0.025535006365260484,
          0.025269191774900147,
          0.025006818129093826,
          0.024747842518008895,
          0.024492232635689323,
          0.024239965980572337,
          0.023991028999902176,
          0.02374541619012234,
          0.023503129165112484,
          0.023264175703821457,
          0.023028568788430053,
          0.022796325643684334,
          0.022567466787448462,
          0.022342015101890263,
          0.022119994933992387,
          0.02190143123332582,
          0.02168634873421695,
          0.02147477118861068,
          0.02126672065506985,
          0.021062216848487032,
          0.020861276554212663,
          0.02066391310943431,
          0.020470135953794884,
          0.020279950250399532,
          0.020093356577568906,
          0.01991035069092043,
          0.01973092335464529,
          0.019555060240166258,
          0.019382741889738885,
          0.019213943741993273,
          0.01904863621589901,
          0.01888678484919512,
          0.018728350486938355,
          0.018573289515504555,
          0.0184215541371262,
          0.018273092679853747,
          0.018127849937705783,
          0.017985767535705112,
          0.017846784314492017,
          0.017710836729257582,
          0.017577859257842762,
          0.01744778481300393,
          0.01732054515404456,
          0.017196071293256874,
          0.01707429389289128,
          0.016955143648688862,
          0.01683855165634613,
          0.01672444975764745,
          0.016612770863375696,
          0.01650344925050994,
          0.016396420831616323,
          0.016291623394744048,
          0.016188996812545646,
          0.016088483219733822,
          0.015990027158385507,
          0.015893575690970156,
          0.015799078481353455,
          0.01570648784435783,
          0.015615758764786611,
          0.015526848887114789,
          0.015439718477313203,
          0.015354330358518855,
          0.015270649822469503,
          0.015188644518807519,
          0.015108284324500258,
          0.015029541195748605,
          0.014952389004837887,
          0.01487680336444491,
          0.014802761441937432,
          0.014730241766204397,
          0.014659224029519047,
          0.014589688886885523,
          0.014521617755234622,
          0.014454992614733132,
          0.014389795814343765,
          0.014326009883634304,
          0.014263617352669981,
          0.014202600581656425,
          0.014142941601813319,
          0.014084621968764907,
          0.014027622629539953,
          0.013971923804064574,
          0.013917504881829669,
          0.013864344334211227,
          0.013812419642719028,
          0.013761707243253745,
          0.013712182486262502,
          0.013663819612504154,
          0.013616591743962477,
          0.013570470889290422,
          0.013525427963020286,
          0.013481432817645538,
          0.013438454287564967,
          0.01339646024377921,
          0.013355417658145985,
          0.013315292675937798,
          0.013276050695391999,
          0.013237656452916424,
          0.013200074112594894,
          0.01316326735864071,
          0.013127199489463448,
          0.01309183351204785,
          0.013057132235389152,
          0.013023058361793093,
          0.01298957457492071,
          0.012956643623541089,
          0.01292422840005566,
          0.01289229201295233,
          0.012860797852468742,
          0.01282970964885077,
          0.012798991522721018,
          0.012768608027190528,
          0.012738524181477527,
          0.012708705495916447,
          0.012679117988370481,
          0.01264972819217848,
          0.012620503155886083,
          0.012591410435122788,
          0.01256241807709255,
          0.012533494598244299,
          0.012504608955778788,
          0.012475730513729051,
          0.012446829004423359,
          0.012417874486199559,
          0.012388837298290309,
          0.012359688013836743,
          0.012330397392014192,
          0.01230093633026918,
          0.012271275817671805,
          0.01224138689037595,
          0.012211240590163985,
          0.012180807927018351,
          0.01215005984662486,
          0.012118967203657667,
          0.012087500741636987,
          0.012055631080080974,
          0.012023328709594034,
          0.011990563995450447,
          0.011957307190139986,
          0.011923528455246428,
          0.01188919789292703,
          0.011854285587159336,
          0.011818761654811764,
          0.011782596306488605,
          0.011745759916990286,
          0.011708223105121528,
          0.011669956822475779,
          0.011630932450718041,
          0.011591121906791282,
          0.011550497755374351,
          0.01150903332783134,
          0.011466702846808209,
          0.011423481555556126,
          0.01137934585099416,
          0.011334273419462897,
          0.011288243374070264,
          0.011241236392491145,
          0.011193234854049083,
          0.011144222974890608,
          0.01109418694005022,
          0.01104311503120784,
          0.010990997748948819,
          0.010937827928362759,
          0.010883600846848251,
          0.010828314323035592,
          0.010771968805793177,
          0.010714567452347,
          0.01065611619461628,
          0.010596623792949195,
          0.010536101876532988,
          0.010474564969849177,
          0.010412030504649455,
          0.010348518817034393,
          0.010284053129333658,
          0.0102186595166007,
          0.010152366857657307,
          0.010085206770742036,
          0.01001721353394055,
          0.009948423990694373,
          0.009878877440804897,
          0.009808615517465282,
          0.009737682050963028,
          0.009666122919805101,
          0.009593985890115097,
          0.009521320444247205,
          0.00944817759964576,
          0.009374609719055259,
          0.00930067031325283,
          0.009226413837530985,
          0.009151895483203606,
          0.009077170965442942,
          0.009002296308777125,
          0.008927327631588499,
          0.008852320930952656,
          0.008777331869143515,
          0.008702415563106834,
          0.008627626378166848,
          0.008553017727184756,
          0.00847864187633006,
          0.008404549758558316,
          0.008330790795812887,
          0.008257412730884013,
          0.008184461469766756,
          0.008111980935261455,
          0.00804001293245796,
          0.007968597026637471,
          0.007897770434016264,
          0.00782756792564437,
          0.007758021744660291,
          0.0076891615369918944,
          0.00762101429548428,
          0.007553604317330095,
          0.007486953174574838,
          0.00742107969737415,
          0.007355999969588769,
          0.007291727336220163,
          0.007228272422113495,
          0.0071656431612881965,
          0.007103844836198193,
          0.007042880126175003,
          0.006982749164269349,
          0.006923449601676908,
          0.0068649766789171465,
          0.0068073233029244465,
          0.006750480129213481,
          0.006694435648291167,
          0.00663917627550874,
          0.006584686443576581,
          0.006530948697001059,
          0.006477943787748758,
          0.006425650771492905,
          0.006374047103855735,
          0.006323108736120912,
          0.006272810209956637,
          0.006223124750758582,
          0.006174024359291686,
          0.006125479901381961,
          0.006077461195479893,
          0.006029937097987093,
          0.005982875586306002,
          0.005936243839636639,
          0.005890008317605876,
          0.005844134836870461,
          0.005798588645886145,
          0.005753334498079777,
          0.0057083367236999165,
          0.005663559300652076,
          0.005618965924649375,
          0.005574520079025113,
          0.005530185104562587,
          0.005485924269698398,
          0.005441700841448465,
          0.005397478157391889,
          0.00535321969902584,
          0.0053088891667769115,
          0.005264450556918616,
          0.0052198682406049595,
          0.005175107045183159,
          0.005130132337898652,
          0.005084910112050479,
          0.005039407075597914,
          0.004993590742158887,
          0.0049474295242794555,
          0.004900892828791311,
          0.004853951154012374,
          0.004806576188484351,
          0.004758740910882215,
          0.0047104196906734945,
          0.004661588389052632,
          0.004612224459625861,
          0.004562307048278059,
          0.004511817091613731,
          0.004460737413331003,
          0.004409052817860692,
          0.004356750180582216,
          0.004303818533915128,
          0.004250249148578926,
          0.004196035609315788,
          0.0041411738843792675,
          0.004085662388109275,
          0.00402950203593703,
          0.003972696291194911,
          0.0039152512031443145,
          0.003857175435679267,
          0.0037984802862141465,
          0.0037391796943210065,
          0.0036792902397432955,
          0.0036188311294797952,
          0.003557824173702717,
          0.003496293750348202,
          0.003434266758293568,
          0.0033717725591147743,
          0.003308842907496843,
          0.003245511870450439,
          0.003181815735567787,
          0.003117792908629918,
          0.0030534838009546924,
          0.0029889307069494004
         ],
         "yaxis": "y"
        },
        {
         "legendgroup": "teen",
         "marker": {
          "color": "rgb(31, 119, 180)",
          "symbol": "line-ns-open"
         },
         "mode": "markers",
         "name": "teen",
         "showlegend": false,
         "type": "scatter",
         "x": [
          14,
          20,
          14,
          15,
          19,
          18,
          14,
          19,
          18,
          19,
          17,
          16,
          17,
          16,
          20,
          14.5,
          20,
          17,
          20,
          19,
          16,
          19,
          18,
          19,
          16,
          17,
          18,
          19,
          19,
          18,
          16,
          16,
          19,
          18,
          19,
          16,
          16,
          19,
          19,
          19,
          17,
          18,
          16,
          16,
          15,
          18,
          19,
          20,
          19,
          18,
          17,
          20,
          18,
          18,
          19,
          17,
          14,
          20,
          17,
          16,
          18,
          17,
          19,
          17,
          19,
          16,
          19,
          18,
          20,
          20,
          19,
          18,
          18,
          20,
          18,
          18,
          20,
          14,
          14,
          19,
          18,
          15,
          18,
          18,
          19,
          17,
          20,
          16,
          19,
          18,
          20,
          16,
          18,
          17,
          18,
          16,
          18,
          15,
          18,
          20,
          16,
          17,
          16,
          18,
          15,
          20,
          19,
          19
         ],
         "xaxis": "x",
         "y": [
          "teen",
          "teen",
          "teen",
          "teen",
          "teen",
          "teen",
          "teen",
          "teen",
          "teen",
          "teen",
          "teen",
          "teen",
          "teen",
          "teen",
          "teen",
          "teen",
          "teen",
          "teen",
          "teen",
          "teen",
          "teen",
          "teen",
          "teen",
          "teen",
          "teen",
          "teen",
          "teen",
          "teen",
          "teen",
          "teen",
          "teen",
          "teen",
          "teen",
          "teen",
          "teen",
          "teen",
          "teen",
          "teen",
          "teen",
          "teen",
          "teen",
          "teen",
          "teen",
          "teen",
          "teen",
          "teen",
          "teen",
          "teen",
          "teen",
          "teen",
          "teen",
          "teen",
          "teen",
          "teen",
          "teen",
          "teen",
          "teen",
          "teen",
          "teen",
          "teen",
          "teen",
          "teen",
          "teen",
          "teen",
          "teen",
          "teen",
          "teen",
          "teen",
          "teen",
          "teen",
          "teen",
          "teen",
          "teen",
          "teen",
          "teen",
          "teen",
          "teen",
          "teen",
          "teen",
          "teen",
          "teen",
          "teen",
          "teen",
          "teen",
          "teen",
          "teen",
          "teen",
          "teen",
          "teen",
          "teen",
          "teen",
          "teen",
          "teen",
          "teen",
          "teen",
          "teen",
          "teen",
          "teen",
          "teen",
          "teen",
          "teen",
          "teen",
          "teen",
          "teen",
          "teen",
          "teen",
          "teen",
          "teen"
         ],
         "yaxis": "y2"
        },
        {
         "legendgroup": "adult",
         "marker": {
          "color": "rgb(255, 127, 14)",
          "symbol": "line-ns-open"
         },
         "mode": "markers",
         "name": "adult",
         "showlegend": false,
         "type": "scatter",
         "x": [
          22,
          38,
          26,
          35,
          35,
          30,
          54,
          27,
          58,
          39,
          55,
          30,
          31,
          35,
          35,
          34,
          28,
          38,
          30,
          21,
          30,
          40,
          35,
          21,
          28,
          42,
          30,
          21,
          40,
          27,
          30,
          30,
          30,
          21,
          30,
          21,
          49,
          29,
          30,
          21,
          28.5,
          22,
          45,
          30,
          29,
          26,
          32,
          21,
          26,
          32,
          25,
          30,
          30,
          30,
          22,
          29,
          21,
          28,
          33,
          30,
          23,
          24,
          29,
          46,
          26,
          59,
          30,
          23,
          34,
          34,
          28,
          30,
          21,
          33,
          37,
          28,
          21,
          30,
          38,
          21,
          47,
          22,
          21,
          29,
          24,
          21,
          30,
          32.5,
          32.5,
          54,
          30,
          24,
          21,
          45,
          33,
          47,
          29,
          25,
          23,
          37,
          24,
          35,
          22,
          24,
          27,
          36.5,
          42,
          51,
          22,
          55.5,
          40.5,
          30,
          51,
          30,
          30,
          44,
          40,
          26,
          35,
          45,
          30,
          28,
          21,
          56,
          50,
          30,
          36,
          21,
          30,
          30,
          35,
          45,
          40,
          36,
          32,
          44,
          58,
          30,
          42,
          21,
          24,
          28,
          30,
          34,
          45.5,
          32,
          26,
          40,
          24,
          35,
          22,
          30,
          30,
          31,
          27,
          42,
          32,
          30,
          27,
          51,
          30,
          38,
          22,
          20.5,
          21,
          35,
          29,
          59,
          24,
          21,
          44,
          33,
          21,
          21,
          29,
          22,
          30,
          44,
          25,
          24,
          37,
          54,
          30,
          29,
          30,
          41,
          29,
          35,
          30,
          35,
          50,
          30,
          52,
          40,
          21,
          36,
          25,
          58,
          35,
          30,
          25,
          41,
          37,
          21,
          45,
          30,
          35,
          28,
          30,
          33,
          30,
          22,
          42,
          22,
          26,
          36,
          24,
          24,
          30,
          23.5,
          30,
          50,
          21,
          30,
          21,
          30,
          21,
          30,
          30,
          24,
          26,
          28,
          43,
          26,
          24,
          54,
          31,
          40,
          22,
          27,
          30,
          22,
          30,
          36,
          36,
          31,
          21,
          45.5,
          38,
          35,
          30,
          29,
          41,
          45,
          45,
          24,
          28,
          25,
          36,
          24,
          40,
          35,
          42,
          23,
          30,
          25,
          30,
          28,
          22,
          38,
          21,
          21,
          40,
          29,
          45,
          35,
          30,
          30,
          60,
          35,
          21,
          24,
          25,
          22,
          35,
          22,
          27,
          42,
          32,
          35,
          30,
          36,
          30,
          36,
          21,
          28,
          23,
          24,
          22,
          31,
          46,
          23,
          28,
          39,
          26,
          21,
          28,
          34,
          51,
          21,
          21,
          30,
          30,
          33,
          30,
          44,
          35,
          34,
          30,
          30,
          21,
          29,
          28,
          30,
          28,
          30,
          32,
          28,
          35,
          42,
          50,
          21,
          24,
          31,
          45,
          25,
          28,
          30,
          34,
          52,
          36,
          30,
          30,
          49,
          30,
          29,
          35,
          50,
          30,
          48,
          34,
          47,
          48,
          30,
          38,
          30,
          56,
          30,
          30,
          38,
          33,
          23,
          22,
          30,
          34,
          29,
          22,
          30,
          50,
          25,
          21,
          35,
          58,
          30,
          30,
          21,
          55,
          21,
          30,
          54,
          30,
          25,
          24,
          21,
          21,
          37,
          33,
          30,
          28,
          26,
          29,
          30,
          36,
          54,
          24,
          47,
          34,
          30,
          36,
          32,
          30,
          22,
          30,
          44,
          30,
          40.5,
          50,
          30,
          39,
          23,
          30,
          35,
          30,
          45,
          30,
          30,
          22,
          36,
          32,
          50,
          30,
          33,
          27,
          30,
          22,
          22,
          48,
          30,
          39,
          36,
          30,
          40,
          28,
          30,
          21,
          24,
          29,
          30,
          32,
          53,
          36,
          21,
          34,
          39,
          35,
          32,
          25,
          39,
          54,
          36,
          30,
          47,
          60,
          22,
          30,
          35,
          52,
          47,
          21,
          37,
          36,
          21,
          49,
          30,
          49,
          24,
          30,
          30,
          44,
          35,
          36,
          30,
          27,
          22,
          40,
          39,
          30,
          21,
          30,
          35,
          24,
          34,
          26,
          26,
          27,
          42,
          21,
          21,
          57,
          21,
          26,
          30,
          51,
          32,
          30,
          28,
          32,
          31,
          41,
          30,
          24,
          30,
          48,
          56,
          30,
          23,
          30,
          21,
          21,
          24,
          30,
          32,
          23,
          58,
          50,
          40,
          47,
          36,
          32,
          25,
          30,
          43,
          35,
          40,
          31,
          31,
          30,
          24.5,
          43,
          36,
          21,
          27,
          60,
          25,
          31,
          30,
          25,
          60,
          52,
          44,
          21,
          49,
          42,
          35,
          25,
          26,
          39,
          45,
          42,
          22,
          24,
          30,
          48,
          29,
          52,
          38,
          27,
          30,
          33,
          34,
          50,
          27,
          30,
          21,
          25,
          25,
          29,
          30,
          23,
          23,
          28.5,
          48,
          35,
          30,
          30,
          30,
          36,
          21,
          24,
          31,
          30,
          31,
          33,
          23,
          48,
          28,
          34,
          33,
          30,
          41,
          36,
          51,
          46.5,
          30.5,
          30,
          32,
          24,
          48,
          57,
          30,
          54,
          30,
          30,
          43,
          29,
          30,
          25,
          25,
          46,
          30,
          21,
          30,
          25,
          39,
          49,
          31,
          30,
          30,
          34,
          31,
          27,
          31,
          39,
          39,
          33,
          26,
          39,
          35,
          30.5,
          30,
          23,
          31,
          43,
          52,
          27,
          38,
          27,
          30,
          30,
          30,
          30,
          23,
          39,
          21,
          30,
          32,
          30,
          30,
          34.5,
          42,
          30,
          35,
          28,
          35,
          44,
          45,
          51,
          24,
          30,
          41,
          21,
          48,
          21,
          24,
          42,
          27,
          31,
          30,
          26,
          47,
          33,
          47,
          28,
          30,
          56,
          25,
          33,
          22,
          28,
          25,
          39,
          27,
          21,
          26,
          32
         ],
         "xaxis": "x",
         "y": [
          "adult",
          "adult",
          "adult",
          "adult",
          "adult",
          "adult",
          "adult",
          "adult",
          "adult",
          "adult",
          "adult",
          "adult",
          "adult",
          "adult",
          "adult",
          "adult",
          "adult",
          "adult",
          "adult",
          "adult",
          "adult",
          "adult",
          "adult",
          "adult",
          "adult",
          "adult",
          "adult",
          "adult",
          "adult",
          "adult",
          "adult",
          "adult",
          "adult",
          "adult",
          "adult",
          "adult",
          "adult",
          "adult",
          "adult",
          "adult",
          "adult",
          "adult",
          "adult",
          "adult",
          "adult",
          "adult",
          "adult",
          "adult",
          "adult",
          "adult",
          "adult",
          "adult",
          "adult",
          "adult",
          "adult",
          "adult",
          "adult",
          "adult",
          "adult",
          "adult",
          "adult",
          "adult",
          "adult",
          "adult",
          "adult",
          "adult",
          "adult",
          "adult",
          "adult",
          "adult",
          "adult",
          "adult",
          "adult",
          "adult",
          "adult",
          "adult",
          "adult",
          "adult",
          "adult",
          "adult",
          "adult",
          "adult",
          "adult",
          "adult",
          "adult",
          "adult",
          "adult",
          "adult",
          "adult",
          "adult",
          "adult",
          "adult",
          "adult",
          "adult",
          "adult",
          "adult",
          "adult",
          "adult",
          "adult",
          "adult",
          "adult",
          "adult",
          "adult",
          "adult",
          "adult",
          "adult",
          "adult",
          "adult",
          "adult",
          "adult",
          "adult",
          "adult",
          "adult",
          "adult",
          "adult",
          "adult",
          "adult",
          "adult",
          "adult",
          "adult",
          "adult",
          "adult",
          "adult",
          "adult",
          "adult",
          "adult",
          "adult",
          "adult",
          "adult",
          "adult",
          "adult",
          "adult",
          "adult",
          "adult",
          "adult",
          "adult",
          "adult",
          "adult",
          "adult",
          "adult",
          "adult",
          "adult",
          "adult",
          "adult",
          "adult",
          "adult",
          "adult",
          "adult",
          "adult",
          "adult",
          "adult",
          "adult",
          "adult",
          "adult",
          "adult",
          "adult",
          "adult",
          "adult",
          "adult",
          "adult",
          "adult",
          "adult",
          "adult",
          "adult",
          "adult",
          "adult",
          "adult",
          "adult",
          "adult",
          "adult",
          "adult",
          "adult",
          "adult",
          "adult",
          "adult",
          "adult",
          "adult",
          "adult",
          "adult",
          "adult",
          "adult",
          "adult",
          "adult",
          "adult",
          "adult",
          "adult",
          "adult",
          "adult",
          "adult",
          "adult",
          "adult",
          "adult",
          "adult",
          "adult",
          "adult",
          "adult",
          "adult",
          "adult",
          "adult",
          "adult",
          "adult",
          "adult",
          "adult",
          "adult",
          "adult",
          "adult",
          "adult",
          "adult",
          "adult",
          "adult",
          "adult",
          "adult",
          "adult",
          "adult",
          "adult",
          "adult",
          "adult",
          "adult",
          "adult",
          "adult",
          "adult",
          "adult",
          "adult",
          "adult",
          "adult",
          "adult",
          "adult",
          "adult",
          "adult",
          "adult",
          "adult",
          "adult",
          "adult",
          "adult",
          "adult",
          "adult",
          "adult",
          "adult",
          "adult",
          "adult",
          "adult",
          "adult",
          "adult",
          "adult",
          "adult",
          "adult",
          "adult",
          "adult",
          "adult",
          "adult",
          "adult",
          "adult",
          "adult",
          "adult",
          "adult",
          "adult",
          "adult",
          "adult",
          "adult",
          "adult",
          "adult",
          "adult",
          "adult",
          "adult",
          "adult",
          "adult",
          "adult",
          "adult",
          "adult",
          "adult",
          "adult",
          "adult",
          "adult",
          "adult",
          "adult",
          "adult",
          "adult",
          "adult",
          "adult",
          "adult",
          "adult",
          "adult",
          "adult",
          "adult",
          "adult",
          "adult",
          "adult",
          "adult",
          "adult",
          "adult",
          "adult",
          "adult",
          "adult",
          "adult",
          "adult",
          "adult",
          "adult",
          "adult",
          "adult",
          "adult",
          "adult",
          "adult",
          "adult",
          "adult",
          "adult",
          "adult",
          "adult",
          "adult",
          "adult",
          "adult",
          "adult",
          "adult",
          "adult",
          "adult",
          "adult",
          "adult",
          "adult",
          "adult",
          "adult",
          "adult",
          "adult",
          "adult",
          "adult",
          "adult",
          "adult",
          "adult",
          "adult",
          "adult",
          "adult",
          "adult",
          "adult",
          "adult",
          "adult",
          "adult",
          "adult",
          "adult",
          "adult",
          "adult",
          "adult",
          "adult",
          "adult",
          "adult",
          "adult",
          "adult",
          "adult",
          "adult",
          "adult",
          "adult",
          "adult",
          "adult",
          "adult",
          "adult",
          "adult",
          "adult",
          "adult",
          "adult",
          "adult",
          "adult",
          "adult",
          "adult",
          "adult",
          "adult",
          "adult",
          "adult",
          "adult",
          "adult",
          "adult",
          "adult",
          "adult",
          "adult",
          "adult",
          "adult",
          "adult",
          "adult",
          "adult",
          "adult",
          "adult",
          "adult",
          "adult",
          "adult",
          "adult",
          "adult",
          "adult",
          "adult",
          "adult",
          "adult",
          "adult",
          "adult",
          "adult",
          "adult",
          "adult",
          "adult",
          "adult",
          "adult",
          "adult",
          "adult",
          "adult",
          "adult",
          "adult",
          "adult",
          "adult",
          "adult",
          "adult",
          "adult",
          "adult",
          "adult",
          "adult",
          "adult",
          "adult",
          "adult",
          "adult",
          "adult",
          "adult",
          "adult",
          "adult",
          "adult",
          "adult",
          "adult",
          "adult",
          "adult",
          "adult",
          "adult",
          "adult",
          "adult",
          "adult",
          "adult",
          "adult",
          "adult",
          "adult",
          "adult",
          "adult",
          "adult",
          "adult",
          "adult",
          "adult",
          "adult",
          "adult",
          "adult",
          "adult",
          "adult",
          "adult",
          "adult",
          "adult",
          "adult",
          "adult",
          "adult",
          "adult",
          "adult",
          "adult",
          "adult",
          "adult",
          "adult",
          "adult",
          "adult",
          "adult",
          "adult",
          "adult",
          "adult",
          "adult",
          "adult",
          "adult",
          "adult",
          "adult",
          "adult",
          "adult",
          "adult",
          "adult",
          "adult",
          "adult",
          "adult",
          "adult",
          "adult",
          "adult",
          "adult",
          "adult",
          "adult",
          "adult",
          "adult",
          "adult",
          "adult",
          "adult",
          "adult",
          "adult",
          "adult",
          "adult",
          "adult",
          "adult",
          "adult",
          "adult",
          "adult",
          "adult",
          "adult",
          "adult",
          "adult",
          "adult",
          "adult",
          "adult",
          "adult",
          "adult",
          "adult",
          "adult",
          "adult",
          "adult",
          "adult",
          "adult",
          "adult",
          "adult",
          "adult",
          "adult",
          "adult",
          "adult",
          "adult",
          "adult",
          "adult",
          "adult",
          "adult",
          "adult",
          "adult",
          "adult",
          "adult",
          "adult",
          "adult",
          "adult",
          "adult",
          "adult",
          "adult",
          "adult",
          "adult",
          "adult",
          "adult",
          "adult",
          "adult",
          "adult",
          "adult",
          "adult",
          "adult",
          "adult",
          "adult",
          "adult",
          "adult",
          "adult",
          "adult",
          "adult",
          "adult",
          "adult",
          "adult",
          "adult",
          "adult",
          "adult",
          "adult",
          "adult",
          "adult",
          "adult",
          "adult",
          "adult",
          "adult",
          "adult",
          "adult",
          "adult",
          "adult",
          "adult",
          "adult",
          "adult",
          "adult",
          "adult",
          "adult",
          "adult",
          "adult",
          "adult",
          "adult",
          "adult",
          "adult",
          "adult",
          "adult",
          "adult",
          "adult",
          "adult",
          "adult",
          "adult",
          "adult",
          "adult",
          "adult",
          "adult",
          "adult",
          "adult",
          "adult",
          "adult",
          "adult",
          "adult",
          "adult",
          "adult",
          "adult",
          "adult",
          "adult",
          "adult",
          "adult",
          "adult",
          "adult",
          "adult",
          "adult",
          "adult",
          "adult",
          "adult",
          "adult",
          "adult",
          "adult",
          "adult",
          "adult",
          "adult",
          "adult",
          "adult",
          "adult",
          "adult",
          "adult",
          "adult",
          "adult",
          "adult",
          "adult",
          "adult",
          "adult",
          "adult",
          "adult",
          "adult",
          "adult",
          "adult",
          "adult",
          "adult",
          "adult",
          "adult",
          "adult",
          "adult",
          "adult",
          "adult",
          "adult",
          "adult",
          "adult",
          "adult",
          "adult",
          "adult",
          "adult",
          "adult",
          "adult",
          "adult",
          "adult",
          "adult",
          "adult",
          "adult",
          "adult",
          "adult",
          "adult",
          "adult",
          "adult",
          "adult",
          "adult",
          "adult",
          "adult",
          "adult",
          "adult",
          "adult",
          "adult",
          "adult",
          "adult",
          "adult",
          "adult",
          "adult",
          "adult",
          "adult",
          "adult",
          "adult",
          "adult",
          "adult",
          "adult",
          "adult",
          "adult",
          "adult",
          "adult",
          "adult",
          "adult",
          "adult",
          "adult",
          "adult",
          "adult",
          "adult",
          "adult",
          "adult"
         ],
         "yaxis": "y2"
        }
       ],
       "layout": {
        "barmode": "overlay",
        "height": 400,
        "hovermode": "closest",
        "legend": {
         "font": {
          "color": "white"
         },
         "traceorder": "reversed"
        },
        "paper_bgcolor": "#383838",
        "plot_bgcolor": "#383838",
        "template": {
         "data": {
          "bar": [
           {
            "error_x": {
             "color": "#2a3f5f"
            },
            "error_y": {
             "color": "#2a3f5f"
            },
            "marker": {
             "line": {
              "color": "#E5ECF6",
              "width": 0.5
             },
             "pattern": {
              "fillmode": "overlay",
              "size": 10,
              "solidity": 0.2
             }
            },
            "type": "bar"
           }
          ],
          "barpolar": [
           {
            "marker": {
             "line": {
              "color": "#E5ECF6",
              "width": 0.5
             },
             "pattern": {
              "fillmode": "overlay",
              "size": 10,
              "solidity": 0.2
             }
            },
            "type": "barpolar"
           }
          ],
          "carpet": [
           {
            "aaxis": {
             "endlinecolor": "#2a3f5f",
             "gridcolor": "white",
             "linecolor": "white",
             "minorgridcolor": "white",
             "startlinecolor": "#2a3f5f"
            },
            "baxis": {
             "endlinecolor": "#2a3f5f",
             "gridcolor": "white",
             "linecolor": "white",
             "minorgridcolor": "white",
             "startlinecolor": "#2a3f5f"
            },
            "type": "carpet"
           }
          ],
          "choropleth": [
           {
            "colorbar": {
             "outlinewidth": 0,
             "ticks": ""
            },
            "type": "choropleth"
           }
          ],
          "contour": [
           {
            "colorbar": {
             "outlinewidth": 0,
             "ticks": ""
            },
            "colorscale": [
             [
              0,
              "#0d0887"
             ],
             [
              0.1111111111111111,
              "#46039f"
             ],
             [
              0.2222222222222222,
              "#7201a8"
             ],
             [
              0.3333333333333333,
              "#9c179e"
             ],
             [
              0.4444444444444444,
              "#bd3786"
             ],
             [
              0.5555555555555556,
              "#d8576b"
             ],
             [
              0.6666666666666666,
              "#ed7953"
             ],
             [
              0.7777777777777778,
              "#fb9f3a"
             ],
             [
              0.8888888888888888,
              "#fdca26"
             ],
             [
              1,
              "#f0f921"
             ]
            ],
            "type": "contour"
           }
          ],
          "contourcarpet": [
           {
            "colorbar": {
             "outlinewidth": 0,
             "ticks": ""
            },
            "type": "contourcarpet"
           }
          ],
          "heatmap": [
           {
            "colorbar": {
             "outlinewidth": 0,
             "ticks": ""
            },
            "colorscale": [
             [
              0,
              "#0d0887"
             ],
             [
              0.1111111111111111,
              "#46039f"
             ],
             [
              0.2222222222222222,
              "#7201a8"
             ],
             [
              0.3333333333333333,
              "#9c179e"
             ],
             [
              0.4444444444444444,
              "#bd3786"
             ],
             [
              0.5555555555555556,
              "#d8576b"
             ],
             [
              0.6666666666666666,
              "#ed7953"
             ],
             [
              0.7777777777777778,
              "#fb9f3a"
             ],
             [
              0.8888888888888888,
              "#fdca26"
             ],
             [
              1,
              "#f0f921"
             ]
            ],
            "type": "heatmap"
           }
          ],
          "heatmapgl": [
           {
            "colorbar": {
             "outlinewidth": 0,
             "ticks": ""
            },
            "colorscale": [
             [
              0,
              "#0d0887"
             ],
             [
              0.1111111111111111,
              "#46039f"
             ],
             [
              0.2222222222222222,
              "#7201a8"
             ],
             [
              0.3333333333333333,
              "#9c179e"
             ],
             [
              0.4444444444444444,
              "#bd3786"
             ],
             [
              0.5555555555555556,
              "#d8576b"
             ],
             [
              0.6666666666666666,
              "#ed7953"
             ],
             [
              0.7777777777777778,
              "#fb9f3a"
             ],
             [
              0.8888888888888888,
              "#fdca26"
             ],
             [
              1,
              "#f0f921"
             ]
            ],
            "type": "heatmapgl"
           }
          ],
          "histogram": [
           {
            "marker": {
             "pattern": {
              "fillmode": "overlay",
              "size": 10,
              "solidity": 0.2
             }
            },
            "type": "histogram"
           }
          ],
          "histogram2d": [
           {
            "colorbar": {
             "outlinewidth": 0,
             "ticks": ""
            },
            "colorscale": [
             [
              0,
              "#0d0887"
             ],
             [
              0.1111111111111111,
              "#46039f"
             ],
             [
              0.2222222222222222,
              "#7201a8"
             ],
             [
              0.3333333333333333,
              "#9c179e"
             ],
             [
              0.4444444444444444,
              "#bd3786"
             ],
             [
              0.5555555555555556,
              "#d8576b"
             ],
             [
              0.6666666666666666,
              "#ed7953"
             ],
             [
              0.7777777777777778,
              "#fb9f3a"
             ],
             [
              0.8888888888888888,
              "#fdca26"
             ],
             [
              1,
              "#f0f921"
             ]
            ],
            "type": "histogram2d"
           }
          ],
          "histogram2dcontour": [
           {
            "colorbar": {
             "outlinewidth": 0,
             "ticks": ""
            },
            "colorscale": [
             [
              0,
              "#0d0887"
             ],
             [
              0.1111111111111111,
              "#46039f"
             ],
             [
              0.2222222222222222,
              "#7201a8"
             ],
             [
              0.3333333333333333,
              "#9c179e"
             ],
             [
              0.4444444444444444,
              "#bd3786"
             ],
             [
              0.5555555555555556,
              "#d8576b"
             ],
             [
              0.6666666666666666,
              "#ed7953"
             ],
             [
              0.7777777777777778,
              "#fb9f3a"
             ],
             [
              0.8888888888888888,
              "#fdca26"
             ],
             [
              1,
              "#f0f921"
             ]
            ],
            "type": "histogram2dcontour"
           }
          ],
          "mesh3d": [
           {
            "colorbar": {
             "outlinewidth": 0,
             "ticks": ""
            },
            "type": "mesh3d"
           }
          ],
          "parcoords": [
           {
            "line": {
             "colorbar": {
              "outlinewidth": 0,
              "ticks": ""
             }
            },
            "type": "parcoords"
           }
          ],
          "pie": [
           {
            "automargin": true,
            "type": "pie"
           }
          ],
          "scatter": [
           {
            "fillpattern": {
             "fillmode": "overlay",
             "size": 10,
             "solidity": 0.2
            },
            "type": "scatter"
           }
          ],
          "scatter3d": [
           {
            "line": {
             "colorbar": {
              "outlinewidth": 0,
              "ticks": ""
             }
            },
            "marker": {
             "colorbar": {
              "outlinewidth": 0,
              "ticks": ""
             }
            },
            "type": "scatter3d"
           }
          ],
          "scattercarpet": [
           {
            "marker": {
             "colorbar": {
              "outlinewidth": 0,
              "ticks": ""
             }
            },
            "type": "scattercarpet"
           }
          ],
          "scattergeo": [
           {
            "marker": {
             "colorbar": {
              "outlinewidth": 0,
              "ticks": ""
             }
            },
            "type": "scattergeo"
           }
          ],
          "scattergl": [
           {
            "marker": {
             "colorbar": {
              "outlinewidth": 0,
              "ticks": ""
             }
            },
            "type": "scattergl"
           }
          ],
          "scattermapbox": [
           {
            "marker": {
             "colorbar": {
              "outlinewidth": 0,
              "ticks": ""
             }
            },
            "type": "scattermapbox"
           }
          ],
          "scatterpolar": [
           {
            "marker": {
             "colorbar": {
              "outlinewidth": 0,
              "ticks": ""
             }
            },
            "type": "scatterpolar"
           }
          ],
          "scatterpolargl": [
           {
            "marker": {
             "colorbar": {
              "outlinewidth": 0,
              "ticks": ""
             }
            },
            "type": "scatterpolargl"
           }
          ],
          "scatterternary": [
           {
            "marker": {
             "colorbar": {
              "outlinewidth": 0,
              "ticks": ""
             }
            },
            "type": "scatterternary"
           }
          ],
          "surface": [
           {
            "colorbar": {
             "outlinewidth": 0,
             "ticks": ""
            },
            "colorscale": [
             [
              0,
              "#0d0887"
             ],
             [
              0.1111111111111111,
              "#46039f"
             ],
             [
              0.2222222222222222,
              "#7201a8"
             ],
             [
              0.3333333333333333,
              "#9c179e"
             ],
             [
              0.4444444444444444,
              "#bd3786"
             ],
             [
              0.5555555555555556,
              "#d8576b"
             ],
             [
              0.6666666666666666,
              "#ed7953"
             ],
             [
              0.7777777777777778,
              "#fb9f3a"
             ],
             [
              0.8888888888888888,
              "#fdca26"
             ],
             [
              1,
              "#f0f921"
             ]
            ],
            "type": "surface"
           }
          ],
          "table": [
           {
            "cells": {
             "fill": {
              "color": "#EBF0F8"
             },
             "line": {
              "color": "white"
             }
            },
            "header": {
             "fill": {
              "color": "#C8D4E3"
             },
             "line": {
              "color": "white"
             }
            },
            "type": "table"
           }
          ]
         },
         "layout": {
          "annotationdefaults": {
           "arrowcolor": "#2a3f5f",
           "arrowhead": 0,
           "arrowwidth": 1
          },
          "autotypenumbers": "strict",
          "coloraxis": {
           "colorbar": {
            "outlinewidth": 0,
            "ticks": ""
           }
          },
          "colorscale": {
           "diverging": [
            [
             0,
             "#8e0152"
            ],
            [
             0.1,
             "#c51b7d"
            ],
            [
             0.2,
             "#de77ae"
            ],
            [
             0.3,
             "#f1b6da"
            ],
            [
             0.4,
             "#fde0ef"
            ],
            [
             0.5,
             "#f7f7f7"
            ],
            [
             0.6,
             "#e6f5d0"
            ],
            [
             0.7,
             "#b8e186"
            ],
            [
             0.8,
             "#7fbc41"
            ],
            [
             0.9,
             "#4d9221"
            ],
            [
             1,
             "#276419"
            ]
           ],
           "sequential": [
            [
             0,
             "#0d0887"
            ],
            [
             0.1111111111111111,
             "#46039f"
            ],
            [
             0.2222222222222222,
             "#7201a8"
            ],
            [
             0.3333333333333333,
             "#9c179e"
            ],
            [
             0.4444444444444444,
             "#bd3786"
            ],
            [
             0.5555555555555556,
             "#d8576b"
            ],
            [
             0.6666666666666666,
             "#ed7953"
            ],
            [
             0.7777777777777778,
             "#fb9f3a"
            ],
            [
             0.8888888888888888,
             "#fdca26"
            ],
            [
             1,
             "#f0f921"
            ]
           ],
           "sequentialminus": [
            [
             0,
             "#0d0887"
            ],
            [
             0.1111111111111111,
             "#46039f"
            ],
            [
             0.2222222222222222,
             "#7201a8"
            ],
            [
             0.3333333333333333,
             "#9c179e"
            ],
            [
             0.4444444444444444,
             "#bd3786"
            ],
            [
             0.5555555555555556,
             "#d8576b"
            ],
            [
             0.6666666666666666,
             "#ed7953"
            ],
            [
             0.7777777777777778,
             "#fb9f3a"
            ],
            [
             0.8888888888888888,
             "#fdca26"
            ],
            [
             1,
             "#f0f921"
            ]
           ]
          },
          "colorway": [
           "#636efa",
           "#EF553B",
           "#00cc96",
           "#ab63fa",
           "#FFA15A",
           "#19d3f3",
           "#FF6692",
           "#B6E880",
           "#FF97FF",
           "#FECB52"
          ],
          "font": {
           "color": "#2a3f5f"
          },
          "geo": {
           "bgcolor": "white",
           "lakecolor": "white",
           "landcolor": "#E5ECF6",
           "showlakes": true,
           "showland": true,
           "subunitcolor": "white"
          },
          "hoverlabel": {
           "align": "left"
          },
          "hovermode": "closest",
          "mapbox": {
           "style": "light"
          },
          "paper_bgcolor": "white",
          "plot_bgcolor": "#E5ECF6",
          "polar": {
           "angularaxis": {
            "gridcolor": "white",
            "linecolor": "white",
            "ticks": ""
           },
           "bgcolor": "#E5ECF6",
           "radialaxis": {
            "gridcolor": "white",
            "linecolor": "white",
            "ticks": ""
           }
          },
          "scene": {
           "xaxis": {
            "backgroundcolor": "#E5ECF6",
            "gridcolor": "white",
            "gridwidth": 2,
            "linecolor": "white",
            "showbackground": true,
            "ticks": "",
            "zerolinecolor": "white"
           },
           "yaxis": {
            "backgroundcolor": "#E5ECF6",
            "gridcolor": "white",
            "gridwidth": 2,
            "linecolor": "white",
            "showbackground": true,
            "ticks": "",
            "zerolinecolor": "white"
           },
           "zaxis": {
            "backgroundcolor": "#E5ECF6",
            "gridcolor": "white",
            "gridwidth": 2,
            "linecolor": "white",
            "showbackground": true,
            "ticks": "",
            "zerolinecolor": "white"
           }
          },
          "shapedefaults": {
           "line": {
            "color": "#2a3f5f"
           }
          },
          "ternary": {
           "aaxis": {
            "gridcolor": "white",
            "linecolor": "white",
            "ticks": ""
           },
           "baxis": {
            "gridcolor": "white",
            "linecolor": "white",
            "ticks": ""
           },
           "bgcolor": "#E5ECF6",
           "caxis": {
            "gridcolor": "white",
            "linecolor": "white",
            "ticks": ""
           }
          },
          "title": {
           "x": 0.05
          },
          "xaxis": {
           "automargin": true,
           "gridcolor": "white",
           "linecolor": "white",
           "ticks": "",
           "title": {
            "standoff": 15
           },
           "zerolinecolor": "white",
           "zerolinewidth": 2
          },
          "yaxis": {
           "automargin": true,
           "gridcolor": "white",
           "linecolor": "white",
           "ticks": "",
           "title": {
            "standoff": 15
           },
           "zerolinecolor": "white",
           "zerolinewidth": 2
          }
         }
        },
        "title": {
         "font": {
          "color": "white"
         }
        },
        "width": 800,
        "xaxis": {
         "anchor": "y2",
         "color": "white",
         "domain": [
          0,
          1
         ],
         "zeroline": false
        },
        "yaxis": {
         "anchor": "free",
         "color": "white",
         "domain": [
          0.35,
          1
         ],
         "position": 0
        },
        "yaxis2": {
         "anchor": "x",
         "domain": [
          0,
          0.25
         ],
         "dtick": 1,
         "showticklabels": false
        }
       }
      }
     },
     "metadata": {},
     "output_type": "display_data"
    }
   ],
   "source": [
    "import plotly.figure_factory as ff\n",
    "\n",
    "# group_lables = processed_df['age_category'].unique()\n",
    "group_lables = ['teen', 'adult']\n",
    "hist_data = [processed_df[processed_df['age_category'] == category]['Age'].to_numpy() for category in group_lables]\n",
    "fig = ff.create_distplot(hist_data, group_lables, bin_size=2)\n",
    "\n",
    "# distplots are the same as histograms with probability density normalization\n",
    "# fig = px.histogram(processed_df[processed_df['age_category'].isin(group_lables)],\n",
    "#                    x=\"Age\", color='age_category', marginal=\"rug\",\n",
    "#                    histnorm='probability density',\n",
    "#                    width=600, height=400)\n",
    "fig.update_layout(width=800, height=400, **layout_options)\n",
    "fig.show()"
   ]
  },
  {
   "cell_type": "code",
   "execution_count": 122,
   "metadata": {
    "colab": {
     "base_uri": "https://localhost:8080/",
     "height": 542
    },
    "executionInfo": {
     "elapsed": 1541,
     "status": "ok",
     "timestamp": 1682695262119,
     "user": {
      "displayName": "Adnan Alkattan",
      "userId": "14686308749644374052"
     },
     "user_tz": -180
    },
    "id": "a6g0Q3xlmivp",
    "outputId": "d8faa5dc-0cd8-441d-ad4d-81204f77f201"
   },
   "outputs": [
    {
     "data": {
      "application/vnd.plotly.v1+json": {
       "config": {
        "plotlyServerURL": "https://plot.ly"
       },
       "data": [
        {
         "hovertemplate": "color=Died<br>Fare=%{x}<br>Age=%{y}<extra></extra>",
         "legendgroup": "Died",
         "marker": {
          "color": "#636efa",
          "symbol": "circle"
         },
         "mode": "markers",
         "name": "Died",
         "orientation": "v",
         "showlegend": true,
         "type": "scatter",
         "x": [
          7.25,
          8.05,
          8.4583,
          51.8625,
          21.075,
          8.05,
          31.275,
          7.8542,
          29.125,
          18,
          26,
          21.075,
          7.225,
          263,
          7.8958,
          27.7208,
          10.5,
          82.1708,
          52,
          8.05,
          18,
          9.475,
          21,
          7.8958,
          8.05,
          15.5,
          21.6792,
          17.8,
          39.6875,
          7.8,
          61.9792,
          7.2292,
          46.9,
          7.2292,
          83.475,
          27.9,
          27.7208,
          8.1583,
          8.6625,
          10.5,
          46.9,
          73.5,
          14.4542,
          7.65,
          7.8958,
          8.05,
          9,
          47.1,
          34.375,
          8.05,
          8.05,
          8.05,
          7.8542,
          61.175,
          20.575,
          7.25,
          8.05,
          34.6542,
          26,
          7.8958,
          7.8958,
          77.2875,
          8.6542,
          7.925,
          7.8958,
          7.8958,
          52,
          14.4542,
          8.05,
          9.825,
          14.4583,
          7.925,
          7.75,
          21,
          247.5208,
          31.275,
          73.5,
          8.05,
          30.0708,
          77.2875,
          7.75,
          6.975,
          7.8958,
          7.05,
          14.5,
          13,
          15.0458,
          53.1,
          9.2167,
          79.2,
          15.2458,
          6.75,
          11.5,
          36.75,
          34.375,
          26,
          13,
          12.525,
          8.05,
          14.5,
          7.3125,
          61.3792,
          8.05,
          8.6625,
          69.55,
          16.1,
          7.775,
          8.6625,
          39.6875,
          27.9,
          25.925,
          56.4958,
          33.5,
          29.125,
          7.925,
          30.6958,
          7.8542,
          25.4667,
          28.7125,
          13,
          0,
          69.55,
          15.05,
          31.3875,
          50,
          15.5,
          7.8958,
          13,
          7.75,
          8.4042,
          13,
          9.5,
          69.55,
          6.4958,
          7.225,
          10.4625,
          15.85,
          7.05,
          7.25,
          13,
          7.75,
          27,
          10.5,
          13,
          8.05,
          7.8958,
          9.35,
          7.25,
          13,
          25.4667,
          7.775,
          13.5,
          10.5,
          7.55,
          26,
          10.5,
          12.275,
          14.4542,
          10.5,
          7.125,
          7.225,
          90,
          7.775,
          26,
          7.25,
          10.4625,
          26.55,
          16.1,
          20.2125,
          7.75,
          79.65,
          0,
          7.75,
          10.5,
          39.6875,
          31,
          29.7,
          7.75,
          0,
          29.125,
          7.75,
          7.8542,
          9.5,
          26,
          8.6625,
          7.8958,
          12.875,
          8.85,
          7.8958,
          27.7208,
          7.2292,
          151.55,
          0,
          8.05,
          24,
          26,
          7.8958,
          26.25,
          14,
          7.25,
          7.8958,
          69.55,
          6.2375,
          28.5,
          153.4625,
          18,
          7.8958,
          66.6,
          35.5,
          13,
          13,
          13,
          8.6625,
          9.225,
          35,
          7.2292,
          17.8,
          7.225,
          9.5,
          13,
          27.9,
          27.7208,
          14.4542,
          7.05,
          15.5,
          7.25,
          6.4958,
          8.05,
          135.6333,
          21.075,
          211.5,
          4.0125,
          7.775,
          7.925,
          7.8958,
          73.5,
          46.9,
          7.7292,
          7.925,
          7.7958,
          7.8542,
          26,
          10.5,
          8.05,
          9.825,
          15.85,
          8.6625,
          21,
          7.75,
          7.775,
          25.4667,
          7.8958,
          6.8583,
          0,
          8.05,
          13,
          24.15,
          7.8958,
          7.7333,
          7.875,
          14.4,
          20.2125,
          7.25,
          7.75,
          7.125,
          55.9,
          34.375,
          263,
          10.5,
          9.5,
          7.775,
          27.75,
          19.9667,
          27.75,
          8.05,
          26.55,
          7.75,
          8.05,
          38.5,
          13,
          8.05,
          7.05,
          0,
          26.55,
          7.725,
          7.25,
          8.6625,
          9.8375,
          52,
          21,
          7.0458,
          7.5208,
          46.9,
          0,
          8.05,
          25.4667,
          29.7,
          8.05,
          19.9667,
          7.25,
          30.5,
          49.5042,
          8.05,
          14.4583,
          15.1,
          151.55,
          7.7958,
          8.6625,
          7.75,
          7.6292,
          9.5875,
          108.9,
          22.525,
          8.05,
          7.4958,
          34.0208,
          24.15,
          7.8958,
          7.8958,
          7.225,
          7.2292,
          7.75,
          221.7792,
          7.925,
          11.5,
          7.2292,
          7.2292,
          8.6625,
          26.55,
          14.5,
          31.275,
          31.275,
          106.425,
          26,
          20.525,
          26,
          7.8292,
          26.55,
          227.525,
          7.75,
          7.8958,
          13.5,
          8.05,
          8.05,
          24.15,
          7.8958,
          21.075,
          7.2292,
          8.05,
          14.5,
          14.4583,
          26,
          40.125,
          8.7125,
          15,
          8.05,
          8.05,
          7.125,
          7.25,
          7.75,
          26,
          24.15,
          0,
          7.225,
          7.8958,
          42.4,
          8.05,
          15.55,
          7.8958,
          31.275,
          7.05,
          7.75,
          8.05,
          14.4,
          16.1,
          10.5,
          14.4542,
          7.8542,
          16.1,
          32.3208,
          12.35,
          7.8958,
          7.7333,
          7.0542,
          0,
          27.9,
          7.925,
          26.25,
          39.6875,
          16.1,
          7.8542,
          27.9,
          7.8958,
          7.55,
          7.8958,
          8.4333,
          6.75,
          73.5,
          7.8958,
          15.5,
          13,
          113.275,
          7.225,
          25.5875,
          7.4958,
          73.5,
          13,
          7.775,
          8.05,
          52,
          10.5,
          0,
          7.775,
          8.05,
          46.9,
          8.1375,
          9.225,
          46.9,
          39,
          41.5792,
          39.6875,
          10.1708,
          7.7958,
          7.225,
          26.55,
          13.5,
          8.05,
          110.8833,
          7.65,
          14.4542,
          7.7417,
          7.8542,
          26,
          26.55,
          9.4833,
          13,
          7.65,
          15.5,
          7.775,
          7.0542,
          13,
          13,
          8.6625,
          26,
          7.925,
          18.7875,
          0,
          13,
          13,
          16.1,
          34.375,
          7.8958,
          7.8958,
          78.85,
          16.1,
          71,
          20.25,
          53.1,
          7.75,
          9.5,
          7.8958,
          7.7958,
          11.5,
          8.05,
          14.5,
          7.125,
          7.775,
          39.6,
          7.75,
          24.15,
          8.3625,
          9.5,
          7.8542,
          10.5,
          7.225,
          7.75,
          7.75,
          7.7375,
          30,
          23.45,
          7.05,
          7.25,
          29.125,
          79.2,
          7.75,
          26,
          69.55,
          30.6958,
          7.8958,
          13,
          7.2292,
          24.15,
          13,
          7.775,
          0,
          7.775,
          13,
          7.8875,
          24.15,
          10.5,
          31.275,
          8.05,
          0,
          7.925,
          37.0042,
          6.45,
          27.9,
          0,
          39.6875,
          6.95,
          56.4958,
          7.2292,
          7.8542,
          8.3,
          8.6625,
          8.05,
          7.925,
          10.5,
          6.4375,
          8.6625,
          7.55,
          69.55,
          7.8958,
          33,
          31.275,
          7.775,
          15.2458,
          26,
          7.2292,
          14.1083,
          11.5,
          69.55,
          13,
          50.4958,
          9.5,
          7.8958,
          5,
          9,
          9.8458,
          7.8958,
          7.8958,
          7.8958,
          10.5167,
          10.5,
          7.05,
          29.125,
          13,
          23.45,
          7.75
         ],
         "xaxis": "x",
         "y": [
          22,
          35,
          30,
          54,
          2,
          20,
          39,
          14,
          2,
          31,
          35,
          8,
          30,
          19,
          30,
          40,
          66,
          28,
          42,
          21,
          18,
          40,
          27,
          30,
          30,
          30,
          30,
          18,
          7,
          21,
          65,
          28.5,
          11,
          22,
          45,
          4,
          30,
          19,
          26,
          32,
          16,
          21,
          26,
          25,
          30,
          30,
          22,
          28,
          16,
          30,
          24,
          29,
          20,
          46,
          26,
          59,
          30,
          71,
          34,
          28,
          30,
          21,
          33,
          37,
          28,
          38,
          47,
          14.5,
          22,
          20,
          17,
          21,
          70.5,
          29,
          24,
          2,
          21,
          30,
          32.5,
          54,
          30,
          45,
          33,
          20,
          47,
          25,
          23,
          37,
          16,
          24,
          35,
          19,
          18,
          19,
          9,
          36.5,
          42,
          51,
          55.5,
          40.5,
          30,
          51,
          30,
          30,
          3.5,
          44,
          26,
          17,
          1,
          45,
          30,
          28,
          61,
          4,
          21,
          56,
          18,
          3.5,
          50,
          30,
          36,
          21,
          30,
          9,
          30,
          40,
          36,
          19,
          30,
          42,
          24,
          28,
          30,
          34,
          45.5,
          2,
          32,
          24,
          22,
          30,
          30,
          42,
          30,
          27,
          51,
          30,
          22,
          20.5,
          18,
          21,
          29,
          59,
          24,
          21,
          44,
          19,
          33,
          21,
          29,
          22,
          30,
          44,
          25,
          54,
          30,
          29,
          62,
          30,
          41,
          30,
          52,
          40,
          21,
          36,
          16,
          30,
          37,
          45,
          30,
          7,
          65,
          28,
          16,
          30,
          33,
          22,
          36,
          24,
          24,
          30,
          23.5,
          2,
          19,
          30,
          30,
          26,
          28,
          43,
          54,
          22,
          27,
          30,
          61,
          45.5,
          38,
          16,
          30,
          29,
          45,
          28,
          25,
          36,
          42,
          23,
          30,
          15,
          25,
          30,
          28,
          38,
          40,
          29,
          45,
          35,
          30,
          30,
          18,
          19,
          22,
          3,
          27,
          20,
          19,
          32,
          30,
          18,
          1,
          30,
          28,
          22,
          31,
          46,
          23,
          26,
          21,
          28,
          20,
          34,
          51,
          21,
          21,
          30,
          30,
          30,
          35,
          30,
          10,
          30,
          21,
          29,
          28,
          18,
          30,
          30,
          17,
          50,
          21,
          64,
          31,
          20,
          25,
          36,
          30,
          30,
          30,
          65,
          30,
          34,
          47,
          48,
          30,
          38,
          30,
          56,
          30,
          30,
          38,
          22,
          30,
          34,
          29,
          22,
          9,
          30,
          50,
          21,
          58,
          30,
          30,
          21,
          55,
          71,
          21,
          30,
          30,
          25,
          24,
          17,
          21,
          21,
          37,
          18,
          28,
          30,
          24,
          47,
          30,
          32,
          22,
          30,
          30,
          40.5,
          30,
          39,
          23,
          30,
          17,
          30,
          45,
          30,
          9,
          11,
          50,
          64,
          33,
          27,
          30,
          62,
          30,
          30,
          40,
          28,
          30,
          21,
          24,
          19,
          29,
          30,
          16,
          19,
          35,
          54,
          36,
          30,
          47,
          22,
          30,
          35,
          47,
          21,
          37,
          36,
          49,
          30,
          30,
          30,
          44,
          36,
          30,
          39,
          30,
          30,
          35,
          34,
          26,
          26,
          27,
          21,
          21,
          61,
          57,
          26,
          30,
          51,
          30,
          9,
          32,
          31,
          41,
          30,
          20,
          2,
          19,
          30,
          30,
          21,
          18,
          24,
          30,
          32,
          23,
          58,
          40,
          47,
          36,
          32,
          25,
          30,
          43,
          31,
          70,
          30,
          18,
          24.5,
          43,
          21,
          20,
          14,
          60,
          25,
          14,
          19,
          18,
          25,
          60,
          52,
          44,
          49,
          42,
          18,
          25,
          26,
          39,
          30,
          29,
          52,
          19,
          30,
          33,
          17,
          34,
          50,
          20,
          25,
          25,
          11,
          30,
          23,
          23,
          28.5,
          48,
          30,
          30,
          36,
          24,
          70,
          16,
          19,
          31,
          33,
          23,
          28,
          18,
          34,
          30,
          41,
          16,
          46.5,
          30.5,
          30,
          32,
          24,
          48,
          57,
          30,
          18,
          30,
          30,
          29,
          30,
          25,
          25,
          8,
          46,
          30,
          16,
          21,
          30,
          25,
          39,
          30,
          30,
          34,
          31,
          39,
          18,
          39,
          26,
          39,
          35,
          6,
          30.5,
          30,
          23,
          31,
          43,
          10,
          38,
          2,
          30,
          30,
          30,
          23,
          18,
          21,
          30,
          20,
          16,
          34.5,
          17,
          42,
          30,
          35,
          28,
          4,
          74,
          9,
          44,
          30,
          41,
          21,
          21,
          24,
          31,
          30,
          26,
          33,
          47,
          20,
          19,
          30,
          33,
          22,
          28,
          25,
          39,
          27,
          21,
          32
         ],
         "yaxis": "y"
        },
        {
         "hovertemplate": "color=Survived<br>Fare=%{x}<br>Age=%{y}<extra></extra>",
         "legendgroup": "Survived",
         "marker": {
          "color": "#EF553B",
          "symbol": "circle"
         },
         "mode": "markers",
         "name": "Survived",
         "orientation": "v",
         "showlegend": true,
         "type": "scatter",
         "x": [
          71.2833,
          7.925,
          53.1,
          11.1333,
          30.0708,
          16.7,
          26.55,
          16,
          13,
          7.225,
          13,
          8.0292,
          35.5,
          31.3875,
          7.8792,
          146.5208,
          7.75,
          7.2292,
          11.2417,
          41.5792,
          7.8792,
          7.75,
          76.7292,
          26,
          35.5,
          10.5,
          27.75,
          15.2458,
          10.5,
          7.925,
          56.4958,
          29,
          12.475,
          9.5,
          7.7875,
          10.5,
          15.85,
          263,
          63.3583,
          23,
          7.65,
          7.775,
          24.15,
          13,
          11.2417,
          7.1417,
          22.3583,
          26,
          26.2833,
          7.75,
          15.85,
          7.7958,
          66.6,
          7.7333,
          15.75,
          20.525,
          55,
          11.1333,
          39,
          22.025,
          15.5,
          26.55,
          13,
          7.8542,
          26,
          27.7208,
          146.5208,
          7.75,
          8.05,
          18.7875,
          7.75,
          31,
          21,
          113.275,
          7.925,
          76.2917,
          8.05,
          90,
          10.5,
          83.475,
          31.3875,
          26.25,
          15.5,
          14.5,
          52.5542,
          15.2458,
          79.2,
          86.5,
          512.3292,
          26,
          31.3875,
          7.775,
          153.4625,
          135.6333,
          0,
          19.5,
          7.75,
          77.9583,
          20.25,
          8.05,
          9.5,
          13,
          7.75,
          78.85,
          91.0792,
          30.5,
          247.5208,
          7.75,
          23.25,
          12.35,
          151.55,
          110.8833,
          108.9,
          56.9292,
          83.1583,
          262.375,
          7.8542,
          26,
          164.8667,
          134.5,
          12.35,
          29,
          135.6333,
          13,
          20.525,
          57.9792,
          23.25,
          133.65,
          134.5,
          8.05,
          26,
          263,
          13,
          13,
          16.1,
          15.9,
          55,
          7.8792,
          7.8792,
          75.25,
          7.2292,
          7.75,
          69.3,
          55.4417,
          82.1708,
          7.25,
          227.525,
          15.7417,
          52,
          13,
          12,
          120,
          7.7958,
          113.275,
          16.7,
          12.65,
          7.925,
          18.75,
          90,
          7.925,
          32.5,
          13,
          26,
          26,
          8.05,
          26.55,
          16.1,
          26,
          120,
          18.75,
          26.25,
          13,
          8.1125,
          81.8583,
          19.5,
          26.55,
          19.2583,
          30.5,
          89.1042,
          7.8958,
          51.8625,
          10.5,
          26.55,
          19.2583,
          27.75,
          13.7917,
          12.2875,
          9.5875,
          91.0792,
          90,
          15.9,
          78.2667,
          86.5,
          26,
          26.55,
          56.4958,
          7.75,
          26.2875,
          59.4,
          10.5,
          26,
          93.5,
          57.9792,
          10.5,
          26,
          22.3583,
          26.25,
          106.425,
          49.5,
          71,
          26,
          26,
          13.8625,
          36.75,
          110.8833,
          7.225,
          7.775,
          39.6,
          79.65,
          17.4,
          7.8542,
          10.5,
          51.4792,
          26.3875,
          7.75,
          13,
          55.9,
          7.925,
          30,
          110.8833,
          79.65,
          79.2,
          78.2667,
          33,
          56.9292,
          27,
          26.55,
          30.5,
          41.5792,
          153.4625,
          15.5,
          65,
          39,
          52.5542,
          15.7417,
          77.9583,
          30,
          30.5,
          13,
          69.3,
          56.4958,
          19.2583,
          76.7292,
          35.5,
          7.55,
          23,
          7.8292,
          133.65,
          7.925,
          52,
          39,
          13,
          9.8417,
          512.3292,
          76.7292,
          211.3375,
          57,
          13.4167,
          56.4958,
          7.7333,
          227.525,
          26.2875,
          13.5,
          26.2875,
          151.55,
          15.2458,
          49.5042,
          52,
          227.525,
          10.5,
          33,
          53.1,
          21,
          7.7375,
          211.3375,
          512.3292,
          30,
          262.375,
          7.925,
          13,
          23,
          12.475,
          65,
          14.5,
          86.5,
          7.2292,
          120,
          77.9583,
          23,
          12.475,
          211.3375,
          7.2292,
          57,
          7.4958,
          20.575,
          25.9292,
          8.6833,
          26.25,
          120,
          8.5167,
          6.975,
          53.1,
          93.5,
          8.6625,
          12.475,
          37.0042,
          7.75,
          14.4542,
          18.75,
          83.1583,
          56.4958,
          29.7,
          31,
          89.1042,
          39.4,
          9.35,
          164.8667,
          26.55,
          19.2583,
          25.9292,
          13,
          13.8583,
          11.1333,
          52.5542,
          24,
          7.225,
          83.1583,
          26,
          30,
          30
         ],
         "xaxis": "x",
         "y": [
          38,
          26,
          35,
          27,
          14,
          4,
          58,
          55,
          30,
          35,
          34,
          15,
          28,
          38,
          21,
          35,
          21,
          30,
          14,
          3,
          19,
          21,
          49,
          29,
          30,
          21,
          5,
          3.5,
          29,
          17,
          32,
          0.83,
          30,
          29,
          21,
          17,
          33,
          23,
          23,
          34,
          21,
          30,
          21,
          32.5,
          12,
          24,
          21,
          29,
          19,
          22,
          24,
          27,
          22,
          16,
          40,
          9,
          35,
          1,
          1,
          4,
          35,
          45,
          32,
          19,
          3,
          44,
          58,
          21,
          18,
          26,
          16,
          40,
          35,
          31,
          27,
          32,
          16,
          38,
          19,
          35,
          5,
          8,
          21,
          24,
          37,
          29,
          35,
          30,
          35,
          50,
          3,
          25,
          58,
          35,
          25,
          41,
          21,
          63,
          35,
          19,
          30,
          42,
          22,
          26,
          19,
          30,
          50,
          21,
          30,
          21,
          0.92,
          21,
          17,
          30,
          24,
          18,
          26,
          24,
          31,
          40,
          30,
          22,
          36,
          36,
          31,
          16,
          21,
          35,
          41,
          45,
          2,
          24,
          24,
          40,
          35,
          3,
          22,
          21,
          21,
          60,
          35,
          21,
          24,
          25,
          35,
          22,
          42,
          1,
          35,
          36,
          17,
          36,
          21,
          23,
          24,
          28,
          39,
          3,
          33,
          44,
          34,
          18,
          28,
          19,
          32,
          28,
          35,
          42,
          14,
          24,
          45,
          28,
          30,
          4,
          13,
          34,
          5,
          52,
          49,
          29,
          35,
          50,
          48,
          0.75,
          33,
          23,
          2,
          63,
          25,
          35,
          9,
          54,
          16,
          33,
          30,
          26,
          29,
          36,
          54,
          34,
          36,
          30,
          44,
          50,
          2,
          35,
          7,
          30,
          22,
          36,
          32,
          19,
          30,
          8,
          17,
          22,
          22,
          48,
          39,
          36,
          32,
          62,
          53,
          36,
          21,
          34,
          39,
          32,
          25,
          39,
          18,
          60,
          52,
          21,
          49,
          24,
          35,
          27,
          22,
          40,
          21,
          24,
          4,
          42,
          20,
          21,
          80,
          32,
          28,
          24,
          30,
          0.75,
          48,
          56,
          23,
          18,
          21,
          50,
          20,
          35,
          40,
          31,
          18,
          36,
          27,
          15,
          31,
          4,
          30,
          21,
          18,
          35,
          45,
          42,
          22,
          3.5,
          24,
          48,
          38,
          27,
          6,
          27,
          30,
          21,
          29,
          35,
          30,
          21,
          31,
          30,
          4,
          6,
          48,
          0.67,
          33,
          20,
          36,
          51,
          54,
          5,
          43,
          13,
          17,
          18,
          1,
          49,
          31,
          31,
          11,
          0.42,
          27,
          33,
          52,
          27,
          27,
          1,
          30,
          15,
          0.83,
          39,
          32,
          30,
          30,
          35,
          16,
          18,
          45,
          51,
          24,
          48,
          42,
          27,
          4,
          47,
          28,
          15,
          56,
          25,
          19,
          26
         ],
         "yaxis": "y"
        }
       ],
       "layout": {
        "legend": {
         "font": {
          "color": "white"
         },
         "title": {
          "text": "color"
         },
         "tracegroupgap": 0
        },
        "margin": {
         "t": 60
        },
        "paper_bgcolor": "#383838",
        "plot_bgcolor": "#383838",
        "template": {
         "data": {
          "bar": [
           {
            "error_x": {
             "color": "#2a3f5f"
            },
            "error_y": {
             "color": "#2a3f5f"
            },
            "marker": {
             "line": {
              "color": "#E5ECF6",
              "width": 0.5
             },
             "pattern": {
              "fillmode": "overlay",
              "size": 10,
              "solidity": 0.2
             }
            },
            "type": "bar"
           }
          ],
          "barpolar": [
           {
            "marker": {
             "line": {
              "color": "#E5ECF6",
              "width": 0.5
             },
             "pattern": {
              "fillmode": "overlay",
              "size": 10,
              "solidity": 0.2
             }
            },
            "type": "barpolar"
           }
          ],
          "carpet": [
           {
            "aaxis": {
             "endlinecolor": "#2a3f5f",
             "gridcolor": "white",
             "linecolor": "white",
             "minorgridcolor": "white",
             "startlinecolor": "#2a3f5f"
            },
            "baxis": {
             "endlinecolor": "#2a3f5f",
             "gridcolor": "white",
             "linecolor": "white",
             "minorgridcolor": "white",
             "startlinecolor": "#2a3f5f"
            },
            "type": "carpet"
           }
          ],
          "choropleth": [
           {
            "colorbar": {
             "outlinewidth": 0,
             "ticks": ""
            },
            "type": "choropleth"
           }
          ],
          "contour": [
           {
            "colorbar": {
             "outlinewidth": 0,
             "ticks": ""
            },
            "colorscale": [
             [
              0,
              "#0d0887"
             ],
             [
              0.1111111111111111,
              "#46039f"
             ],
             [
              0.2222222222222222,
              "#7201a8"
             ],
             [
              0.3333333333333333,
              "#9c179e"
             ],
             [
              0.4444444444444444,
              "#bd3786"
             ],
             [
              0.5555555555555556,
              "#d8576b"
             ],
             [
              0.6666666666666666,
              "#ed7953"
             ],
             [
              0.7777777777777778,
              "#fb9f3a"
             ],
             [
              0.8888888888888888,
              "#fdca26"
             ],
             [
              1,
              "#f0f921"
             ]
            ],
            "type": "contour"
           }
          ],
          "contourcarpet": [
           {
            "colorbar": {
             "outlinewidth": 0,
             "ticks": ""
            },
            "type": "contourcarpet"
           }
          ],
          "heatmap": [
           {
            "colorbar": {
             "outlinewidth": 0,
             "ticks": ""
            },
            "colorscale": [
             [
              0,
              "#0d0887"
             ],
             [
              0.1111111111111111,
              "#46039f"
             ],
             [
              0.2222222222222222,
              "#7201a8"
             ],
             [
              0.3333333333333333,
              "#9c179e"
             ],
             [
              0.4444444444444444,
              "#bd3786"
             ],
             [
              0.5555555555555556,
              "#d8576b"
             ],
             [
              0.6666666666666666,
              "#ed7953"
             ],
             [
              0.7777777777777778,
              "#fb9f3a"
             ],
             [
              0.8888888888888888,
              "#fdca26"
             ],
             [
              1,
              "#f0f921"
             ]
            ],
            "type": "heatmap"
           }
          ],
          "heatmapgl": [
           {
            "colorbar": {
             "outlinewidth": 0,
             "ticks": ""
            },
            "colorscale": [
             [
              0,
              "#0d0887"
             ],
             [
              0.1111111111111111,
              "#46039f"
             ],
             [
              0.2222222222222222,
              "#7201a8"
             ],
             [
              0.3333333333333333,
              "#9c179e"
             ],
             [
              0.4444444444444444,
              "#bd3786"
             ],
             [
              0.5555555555555556,
              "#d8576b"
             ],
             [
              0.6666666666666666,
              "#ed7953"
             ],
             [
              0.7777777777777778,
              "#fb9f3a"
             ],
             [
              0.8888888888888888,
              "#fdca26"
             ],
             [
              1,
              "#f0f921"
             ]
            ],
            "type": "heatmapgl"
           }
          ],
          "histogram": [
           {
            "marker": {
             "pattern": {
              "fillmode": "overlay",
              "size": 10,
              "solidity": 0.2
             }
            },
            "type": "histogram"
           }
          ],
          "histogram2d": [
           {
            "colorbar": {
             "outlinewidth": 0,
             "ticks": ""
            },
            "colorscale": [
             [
              0,
              "#0d0887"
             ],
             [
              0.1111111111111111,
              "#46039f"
             ],
             [
              0.2222222222222222,
              "#7201a8"
             ],
             [
              0.3333333333333333,
              "#9c179e"
             ],
             [
              0.4444444444444444,
              "#bd3786"
             ],
             [
              0.5555555555555556,
              "#d8576b"
             ],
             [
              0.6666666666666666,
              "#ed7953"
             ],
             [
              0.7777777777777778,
              "#fb9f3a"
             ],
             [
              0.8888888888888888,
              "#fdca26"
             ],
             [
              1,
              "#f0f921"
             ]
            ],
            "type": "histogram2d"
           }
          ],
          "histogram2dcontour": [
           {
            "colorbar": {
             "outlinewidth": 0,
             "ticks": ""
            },
            "colorscale": [
             [
              0,
              "#0d0887"
             ],
             [
              0.1111111111111111,
              "#46039f"
             ],
             [
              0.2222222222222222,
              "#7201a8"
             ],
             [
              0.3333333333333333,
              "#9c179e"
             ],
             [
              0.4444444444444444,
              "#bd3786"
             ],
             [
              0.5555555555555556,
              "#d8576b"
             ],
             [
              0.6666666666666666,
              "#ed7953"
             ],
             [
              0.7777777777777778,
              "#fb9f3a"
             ],
             [
              0.8888888888888888,
              "#fdca26"
             ],
             [
              1,
              "#f0f921"
             ]
            ],
            "type": "histogram2dcontour"
           }
          ],
          "mesh3d": [
           {
            "colorbar": {
             "outlinewidth": 0,
             "ticks": ""
            },
            "type": "mesh3d"
           }
          ],
          "parcoords": [
           {
            "line": {
             "colorbar": {
              "outlinewidth": 0,
              "ticks": ""
             }
            },
            "type": "parcoords"
           }
          ],
          "pie": [
           {
            "automargin": true,
            "type": "pie"
           }
          ],
          "scatter": [
           {
            "fillpattern": {
             "fillmode": "overlay",
             "size": 10,
             "solidity": 0.2
            },
            "type": "scatter"
           }
          ],
          "scatter3d": [
           {
            "line": {
             "colorbar": {
              "outlinewidth": 0,
              "ticks": ""
             }
            },
            "marker": {
             "colorbar": {
              "outlinewidth": 0,
              "ticks": ""
             }
            },
            "type": "scatter3d"
           }
          ],
          "scattercarpet": [
           {
            "marker": {
             "colorbar": {
              "outlinewidth": 0,
              "ticks": ""
             }
            },
            "type": "scattercarpet"
           }
          ],
          "scattergeo": [
           {
            "marker": {
             "colorbar": {
              "outlinewidth": 0,
              "ticks": ""
             }
            },
            "type": "scattergeo"
           }
          ],
          "scattergl": [
           {
            "marker": {
             "colorbar": {
              "outlinewidth": 0,
              "ticks": ""
             }
            },
            "type": "scattergl"
           }
          ],
          "scattermapbox": [
           {
            "marker": {
             "colorbar": {
              "outlinewidth": 0,
              "ticks": ""
             }
            },
            "type": "scattermapbox"
           }
          ],
          "scatterpolar": [
           {
            "marker": {
             "colorbar": {
              "outlinewidth": 0,
              "ticks": ""
             }
            },
            "type": "scatterpolar"
           }
          ],
          "scatterpolargl": [
           {
            "marker": {
             "colorbar": {
              "outlinewidth": 0,
              "ticks": ""
             }
            },
            "type": "scatterpolargl"
           }
          ],
          "scatterternary": [
           {
            "marker": {
             "colorbar": {
              "outlinewidth": 0,
              "ticks": ""
             }
            },
            "type": "scatterternary"
           }
          ],
          "surface": [
           {
            "colorbar": {
             "outlinewidth": 0,
             "ticks": ""
            },
            "colorscale": [
             [
              0,
              "#0d0887"
             ],
             [
              0.1111111111111111,
              "#46039f"
             ],
             [
              0.2222222222222222,
              "#7201a8"
             ],
             [
              0.3333333333333333,
              "#9c179e"
             ],
             [
              0.4444444444444444,
              "#bd3786"
             ],
             [
              0.5555555555555556,
              "#d8576b"
             ],
             [
              0.6666666666666666,
              "#ed7953"
             ],
             [
              0.7777777777777778,
              "#fb9f3a"
             ],
             [
              0.8888888888888888,
              "#fdca26"
             ],
             [
              1,
              "#f0f921"
             ]
            ],
            "type": "surface"
           }
          ],
          "table": [
           {
            "cells": {
             "fill": {
              "color": "#EBF0F8"
             },
             "line": {
              "color": "white"
             }
            },
            "header": {
             "fill": {
              "color": "#C8D4E3"
             },
             "line": {
              "color": "white"
             }
            },
            "type": "table"
           }
          ]
         },
         "layout": {
          "annotationdefaults": {
           "arrowcolor": "#2a3f5f",
           "arrowhead": 0,
           "arrowwidth": 1
          },
          "autotypenumbers": "strict",
          "coloraxis": {
           "colorbar": {
            "outlinewidth": 0,
            "ticks": ""
           }
          },
          "colorscale": {
           "diverging": [
            [
             0,
             "#8e0152"
            ],
            [
             0.1,
             "#c51b7d"
            ],
            [
             0.2,
             "#de77ae"
            ],
            [
             0.3,
             "#f1b6da"
            ],
            [
             0.4,
             "#fde0ef"
            ],
            [
             0.5,
             "#f7f7f7"
            ],
            [
             0.6,
             "#e6f5d0"
            ],
            [
             0.7,
             "#b8e186"
            ],
            [
             0.8,
             "#7fbc41"
            ],
            [
             0.9,
             "#4d9221"
            ],
            [
             1,
             "#276419"
            ]
           ],
           "sequential": [
            [
             0,
             "#0d0887"
            ],
            [
             0.1111111111111111,
             "#46039f"
            ],
            [
             0.2222222222222222,
             "#7201a8"
            ],
            [
             0.3333333333333333,
             "#9c179e"
            ],
            [
             0.4444444444444444,
             "#bd3786"
            ],
            [
             0.5555555555555556,
             "#d8576b"
            ],
            [
             0.6666666666666666,
             "#ed7953"
            ],
            [
             0.7777777777777778,
             "#fb9f3a"
            ],
            [
             0.8888888888888888,
             "#fdca26"
            ],
            [
             1,
             "#f0f921"
            ]
           ],
           "sequentialminus": [
            [
             0,
             "#0d0887"
            ],
            [
             0.1111111111111111,
             "#46039f"
            ],
            [
             0.2222222222222222,
             "#7201a8"
            ],
            [
             0.3333333333333333,
             "#9c179e"
            ],
            [
             0.4444444444444444,
             "#bd3786"
            ],
            [
             0.5555555555555556,
             "#d8576b"
            ],
            [
             0.6666666666666666,
             "#ed7953"
            ],
            [
             0.7777777777777778,
             "#fb9f3a"
            ],
            [
             0.8888888888888888,
             "#fdca26"
            ],
            [
             1,
             "#f0f921"
            ]
           ]
          },
          "colorway": [
           "#636efa",
           "#EF553B",
           "#00cc96",
           "#ab63fa",
           "#FFA15A",
           "#19d3f3",
           "#FF6692",
           "#B6E880",
           "#FF97FF",
           "#FECB52"
          ],
          "font": {
           "color": "#2a3f5f"
          },
          "geo": {
           "bgcolor": "white",
           "lakecolor": "white",
           "landcolor": "#E5ECF6",
           "showlakes": true,
           "showland": true,
           "subunitcolor": "white"
          },
          "hoverlabel": {
           "align": "left"
          },
          "hovermode": "closest",
          "mapbox": {
           "style": "light"
          },
          "paper_bgcolor": "white",
          "plot_bgcolor": "#E5ECF6",
          "polar": {
           "angularaxis": {
            "gridcolor": "white",
            "linecolor": "white",
            "ticks": ""
           },
           "bgcolor": "#E5ECF6",
           "radialaxis": {
            "gridcolor": "white",
            "linecolor": "white",
            "ticks": ""
           }
          },
          "scene": {
           "xaxis": {
            "backgroundcolor": "#E5ECF6",
            "gridcolor": "white",
            "gridwidth": 2,
            "linecolor": "white",
            "showbackground": true,
            "ticks": "",
            "zerolinecolor": "white"
           },
           "yaxis": {
            "backgroundcolor": "#E5ECF6",
            "gridcolor": "white",
            "gridwidth": 2,
            "linecolor": "white",
            "showbackground": true,
            "ticks": "",
            "zerolinecolor": "white"
           },
           "zaxis": {
            "backgroundcolor": "#E5ECF6",
            "gridcolor": "white",
            "gridwidth": 2,
            "linecolor": "white",
            "showbackground": true,
            "ticks": "",
            "zerolinecolor": "white"
           }
          },
          "shapedefaults": {
           "line": {
            "color": "#2a3f5f"
           }
          },
          "ternary": {
           "aaxis": {
            "gridcolor": "white",
            "linecolor": "white",
            "ticks": ""
           },
           "baxis": {
            "gridcolor": "white",
            "linecolor": "white",
            "ticks": ""
           },
           "bgcolor": "#E5ECF6",
           "caxis": {
            "gridcolor": "white",
            "linecolor": "white",
            "ticks": ""
           }
          },
          "title": {
           "x": 0.05
          },
          "xaxis": {
           "automargin": true,
           "gridcolor": "white",
           "linecolor": "white",
           "ticks": "",
           "title": {
            "standoff": 15
           },
           "zerolinecolor": "white",
           "zerolinewidth": 2
          },
          "yaxis": {
           "automargin": true,
           "gridcolor": "white",
           "linecolor": "white",
           "ticks": "",
           "title": {
            "standoff": 15
           },
           "zerolinecolor": "white",
           "zerolinewidth": 2
          }
         }
        },
        "title": {
         "font": {
          "color": "white"
         }
        },
        "xaxis": {
         "anchor": "y",
         "color": "white",
         "domain": [
          0,
          1
         ],
         "title": {
          "text": "Fare"
         }
        },
        "yaxis": {
         "anchor": "x",
         "color": "white",
         "domain": [
          0,
          1
         ],
         "title": {
          "text": "Age"
         }
        }
       }
      }
     },
     "metadata": {},
     "output_type": "display_data"
    }
   ],
   "source": [
    "fig = px.scatter(processed_df, y='Age', x='Fare',\n",
    "                 color=processed_df['Survived'].map({1: 'Survived',\n",
    "                                                     0: 'Died'}),\n",
    "                 # color_discrete_sequence=['rgb(255, 127, 14)', 'rgb(31, 119, 180)'],\n",
    "                 # symbol='Pclass'\n",
    "                 )\n",
    "fig.update_layout(**layout_options)\n",
    "fig.show()"
   ]
  },
  {
   "cell_type": "markdown",
   "metadata": {
    "id": "ehqCUlu6CMnu"
   },
   "source": [
    "Notice how the density is decreasing from left to right!.\n",
    "\n",
    "We observe the pattern of survival, considering the density distribution, we have more survived objects with the increase of fare. Again, supporting our previous assumption of correlation."
   ]
  },
  {
   "cell_type": "code",
   "execution_count": 123,
   "metadata": {
    "id": "a2I9G2oRKfah"
   },
   "outputs": [],
   "source": [
    "grouped = processed_df.groupby(['Pclass', 'Sex'], as_index=False).count().rename({'Age': 'Count'},\n",
    "                                                                          axis=1)"
   ]
  },
  {
   "cell_type": "code",
   "execution_count": 124,
   "metadata": {
    "colab": {
     "base_uri": "https://localhost:8080/",
     "height": 617
    },
    "executionInfo": {
     "elapsed": 35,
     "status": "ok",
     "timestamp": 1682695262121,
     "user": {
      "displayName": "Adnan Alkattan",
      "userId": "14686308749644374052"
     },
     "user_tz": -180
    },
    "id": "rkViOQMMLBZa",
    "outputId": "fa15859e-0393-48a2-9b6f-2638c36d7426"
   },
   "outputs": [
    {
     "data": {
      "application/vnd.plotly.v1+json": {
       "config": {
        "plotlyServerURL": "https://plot.ly"
       },
       "data": [
        {
         "branchvalues": "total",
         "domain": {
          "x": [
           0,
           1
          ],
          "y": [
           0,
           1
          ]
         },
         "hovertemplate": "labels=%{label}<br>Count=%{value}<br>parent=%{parent}<br>id=%{id}<extra></extra>",
         "ids": [
          "1/female",
          "2/female",
          "3/female",
          "1/male",
          "2/male",
          "3/male",
          "1",
          "2",
          "3"
         ],
         "labels": [
          "female",
          "female",
          "female",
          "male",
          "male",
          "male",
          "1",
          "2",
          "3"
         ],
         "name": "",
         "parents": [
          "1",
          "2",
          "3",
          "1",
          "2",
          "3",
          "",
          "",
          ""
         ],
         "rotation": 120,
         "textfont": {
          "color": "white"
         },
         "textinfo": "label+percent entry",
         "type": "sunburst",
         "values": [
          92,
          76,
          144,
          122,
          108,
          347,
          214,
          184,
          491
         ]
        }
       ],
       "layout": {
        "height": 600,
        "legend": {
         "font": {
          "color": "white"
         },
         "tracegroupgap": 0
        },
        "margin": {
         "t": 60
        },
        "paper_bgcolor": "#383838",
        "plot_bgcolor": "#383838",
        "template": {
         "data": {
          "bar": [
           {
            "error_x": {
             "color": "#2a3f5f"
            },
            "error_y": {
             "color": "#2a3f5f"
            },
            "marker": {
             "line": {
              "color": "#E5ECF6",
              "width": 0.5
             },
             "pattern": {
              "fillmode": "overlay",
              "size": 10,
              "solidity": 0.2
             }
            },
            "type": "bar"
           }
          ],
          "barpolar": [
           {
            "marker": {
             "line": {
              "color": "#E5ECF6",
              "width": 0.5
             },
             "pattern": {
              "fillmode": "overlay",
              "size": 10,
              "solidity": 0.2
             }
            },
            "type": "barpolar"
           }
          ],
          "carpet": [
           {
            "aaxis": {
             "endlinecolor": "#2a3f5f",
             "gridcolor": "white",
             "linecolor": "white",
             "minorgridcolor": "white",
             "startlinecolor": "#2a3f5f"
            },
            "baxis": {
             "endlinecolor": "#2a3f5f",
             "gridcolor": "white",
             "linecolor": "white",
             "minorgridcolor": "white",
             "startlinecolor": "#2a3f5f"
            },
            "type": "carpet"
           }
          ],
          "choropleth": [
           {
            "colorbar": {
             "outlinewidth": 0,
             "ticks": ""
            },
            "type": "choropleth"
           }
          ],
          "contour": [
           {
            "colorbar": {
             "outlinewidth": 0,
             "ticks": ""
            },
            "colorscale": [
             [
              0,
              "#0d0887"
             ],
             [
              0.1111111111111111,
              "#46039f"
             ],
             [
              0.2222222222222222,
              "#7201a8"
             ],
             [
              0.3333333333333333,
              "#9c179e"
             ],
             [
              0.4444444444444444,
              "#bd3786"
             ],
             [
              0.5555555555555556,
              "#d8576b"
             ],
             [
              0.6666666666666666,
              "#ed7953"
             ],
             [
              0.7777777777777778,
              "#fb9f3a"
             ],
             [
              0.8888888888888888,
              "#fdca26"
             ],
             [
              1,
              "#f0f921"
             ]
            ],
            "type": "contour"
           }
          ],
          "contourcarpet": [
           {
            "colorbar": {
             "outlinewidth": 0,
             "ticks": ""
            },
            "type": "contourcarpet"
           }
          ],
          "heatmap": [
           {
            "colorbar": {
             "outlinewidth": 0,
             "ticks": ""
            },
            "colorscale": [
             [
              0,
              "#0d0887"
             ],
             [
              0.1111111111111111,
              "#46039f"
             ],
             [
              0.2222222222222222,
              "#7201a8"
             ],
             [
              0.3333333333333333,
              "#9c179e"
             ],
             [
              0.4444444444444444,
              "#bd3786"
             ],
             [
              0.5555555555555556,
              "#d8576b"
             ],
             [
              0.6666666666666666,
              "#ed7953"
             ],
             [
              0.7777777777777778,
              "#fb9f3a"
             ],
             [
              0.8888888888888888,
              "#fdca26"
             ],
             [
              1,
              "#f0f921"
             ]
            ],
            "type": "heatmap"
           }
          ],
          "heatmapgl": [
           {
            "colorbar": {
             "outlinewidth": 0,
             "ticks": ""
            },
            "colorscale": [
             [
              0,
              "#0d0887"
             ],
             [
              0.1111111111111111,
              "#46039f"
             ],
             [
              0.2222222222222222,
              "#7201a8"
             ],
             [
              0.3333333333333333,
              "#9c179e"
             ],
             [
              0.4444444444444444,
              "#bd3786"
             ],
             [
              0.5555555555555556,
              "#d8576b"
             ],
             [
              0.6666666666666666,
              "#ed7953"
             ],
             [
              0.7777777777777778,
              "#fb9f3a"
             ],
             [
              0.8888888888888888,
              "#fdca26"
             ],
             [
              1,
              "#f0f921"
             ]
            ],
            "type": "heatmapgl"
           }
          ],
          "histogram": [
           {
            "marker": {
             "pattern": {
              "fillmode": "overlay",
              "size": 10,
              "solidity": 0.2
             }
            },
            "type": "histogram"
           }
          ],
          "histogram2d": [
           {
            "colorbar": {
             "outlinewidth": 0,
             "ticks": ""
            },
            "colorscale": [
             [
              0,
              "#0d0887"
             ],
             [
              0.1111111111111111,
              "#46039f"
             ],
             [
              0.2222222222222222,
              "#7201a8"
             ],
             [
              0.3333333333333333,
              "#9c179e"
             ],
             [
              0.4444444444444444,
              "#bd3786"
             ],
             [
              0.5555555555555556,
              "#d8576b"
             ],
             [
              0.6666666666666666,
              "#ed7953"
             ],
             [
              0.7777777777777778,
              "#fb9f3a"
             ],
             [
              0.8888888888888888,
              "#fdca26"
             ],
             [
              1,
              "#f0f921"
             ]
            ],
            "type": "histogram2d"
           }
          ],
          "histogram2dcontour": [
           {
            "colorbar": {
             "outlinewidth": 0,
             "ticks": ""
            },
            "colorscale": [
             [
              0,
              "#0d0887"
             ],
             [
              0.1111111111111111,
              "#46039f"
             ],
             [
              0.2222222222222222,
              "#7201a8"
             ],
             [
              0.3333333333333333,
              "#9c179e"
             ],
             [
              0.4444444444444444,
              "#bd3786"
             ],
             [
              0.5555555555555556,
              "#d8576b"
             ],
             [
              0.6666666666666666,
              "#ed7953"
             ],
             [
              0.7777777777777778,
              "#fb9f3a"
             ],
             [
              0.8888888888888888,
              "#fdca26"
             ],
             [
              1,
              "#f0f921"
             ]
            ],
            "type": "histogram2dcontour"
           }
          ],
          "mesh3d": [
           {
            "colorbar": {
             "outlinewidth": 0,
             "ticks": ""
            },
            "type": "mesh3d"
           }
          ],
          "parcoords": [
           {
            "line": {
             "colorbar": {
              "outlinewidth": 0,
              "ticks": ""
             }
            },
            "type": "parcoords"
           }
          ],
          "pie": [
           {
            "automargin": true,
            "type": "pie"
           }
          ],
          "scatter": [
           {
            "fillpattern": {
             "fillmode": "overlay",
             "size": 10,
             "solidity": 0.2
            },
            "type": "scatter"
           }
          ],
          "scatter3d": [
           {
            "line": {
             "colorbar": {
              "outlinewidth": 0,
              "ticks": ""
             }
            },
            "marker": {
             "colorbar": {
              "outlinewidth": 0,
              "ticks": ""
             }
            },
            "type": "scatter3d"
           }
          ],
          "scattercarpet": [
           {
            "marker": {
             "colorbar": {
              "outlinewidth": 0,
              "ticks": ""
             }
            },
            "type": "scattercarpet"
           }
          ],
          "scattergeo": [
           {
            "marker": {
             "colorbar": {
              "outlinewidth": 0,
              "ticks": ""
             }
            },
            "type": "scattergeo"
           }
          ],
          "scattergl": [
           {
            "marker": {
             "colorbar": {
              "outlinewidth": 0,
              "ticks": ""
             }
            },
            "type": "scattergl"
           }
          ],
          "scattermapbox": [
           {
            "marker": {
             "colorbar": {
              "outlinewidth": 0,
              "ticks": ""
             }
            },
            "type": "scattermapbox"
           }
          ],
          "scatterpolar": [
           {
            "marker": {
             "colorbar": {
              "outlinewidth": 0,
              "ticks": ""
             }
            },
            "type": "scatterpolar"
           }
          ],
          "scatterpolargl": [
           {
            "marker": {
             "colorbar": {
              "outlinewidth": 0,
              "ticks": ""
             }
            },
            "type": "scatterpolargl"
           }
          ],
          "scatterternary": [
           {
            "marker": {
             "colorbar": {
              "outlinewidth": 0,
              "ticks": ""
             }
            },
            "type": "scatterternary"
           }
          ],
          "surface": [
           {
            "colorbar": {
             "outlinewidth": 0,
             "ticks": ""
            },
            "colorscale": [
             [
              0,
              "#0d0887"
             ],
             [
              0.1111111111111111,
              "#46039f"
             ],
             [
              0.2222222222222222,
              "#7201a8"
             ],
             [
              0.3333333333333333,
              "#9c179e"
             ],
             [
              0.4444444444444444,
              "#bd3786"
             ],
             [
              0.5555555555555556,
              "#d8576b"
             ],
             [
              0.6666666666666666,
              "#ed7953"
             ],
             [
              0.7777777777777778,
              "#fb9f3a"
             ],
             [
              0.8888888888888888,
              "#fdca26"
             ],
             [
              1,
              "#f0f921"
             ]
            ],
            "type": "surface"
           }
          ],
          "table": [
           {
            "cells": {
             "fill": {
              "color": "#EBF0F8"
             },
             "line": {
              "color": "white"
             }
            },
            "header": {
             "fill": {
              "color": "#C8D4E3"
             },
             "line": {
              "color": "white"
             }
            },
            "type": "table"
           }
          ]
         },
         "layout": {
          "annotationdefaults": {
           "arrowcolor": "#2a3f5f",
           "arrowhead": 0,
           "arrowwidth": 1
          },
          "autotypenumbers": "strict",
          "coloraxis": {
           "colorbar": {
            "outlinewidth": 0,
            "ticks": ""
           }
          },
          "colorscale": {
           "diverging": [
            [
             0,
             "#8e0152"
            ],
            [
             0.1,
             "#c51b7d"
            ],
            [
             0.2,
             "#de77ae"
            ],
            [
             0.3,
             "#f1b6da"
            ],
            [
             0.4,
             "#fde0ef"
            ],
            [
             0.5,
             "#f7f7f7"
            ],
            [
             0.6,
             "#e6f5d0"
            ],
            [
             0.7,
             "#b8e186"
            ],
            [
             0.8,
             "#7fbc41"
            ],
            [
             0.9,
             "#4d9221"
            ],
            [
             1,
             "#276419"
            ]
           ],
           "sequential": [
            [
             0,
             "#0d0887"
            ],
            [
             0.1111111111111111,
             "#46039f"
            ],
            [
             0.2222222222222222,
             "#7201a8"
            ],
            [
             0.3333333333333333,
             "#9c179e"
            ],
            [
             0.4444444444444444,
             "#bd3786"
            ],
            [
             0.5555555555555556,
             "#d8576b"
            ],
            [
             0.6666666666666666,
             "#ed7953"
            ],
            [
             0.7777777777777778,
             "#fb9f3a"
            ],
            [
             0.8888888888888888,
             "#fdca26"
            ],
            [
             1,
             "#f0f921"
            ]
           ],
           "sequentialminus": [
            [
             0,
             "#0d0887"
            ],
            [
             0.1111111111111111,
             "#46039f"
            ],
            [
             0.2222222222222222,
             "#7201a8"
            ],
            [
             0.3333333333333333,
             "#9c179e"
            ],
            [
             0.4444444444444444,
             "#bd3786"
            ],
            [
             0.5555555555555556,
             "#d8576b"
            ],
            [
             0.6666666666666666,
             "#ed7953"
            ],
            [
             0.7777777777777778,
             "#fb9f3a"
            ],
            [
             0.8888888888888888,
             "#fdca26"
            ],
            [
             1,
             "#f0f921"
            ]
           ]
          },
          "colorway": [
           "#636efa",
           "#EF553B",
           "#00cc96",
           "#ab63fa",
           "#FFA15A",
           "#19d3f3",
           "#FF6692",
           "#B6E880",
           "#FF97FF",
           "#FECB52"
          ],
          "font": {
           "color": "#2a3f5f"
          },
          "geo": {
           "bgcolor": "white",
           "lakecolor": "white",
           "landcolor": "#E5ECF6",
           "showlakes": true,
           "showland": true,
           "subunitcolor": "white"
          },
          "hoverlabel": {
           "align": "left"
          },
          "hovermode": "closest",
          "mapbox": {
           "style": "light"
          },
          "paper_bgcolor": "white",
          "plot_bgcolor": "#E5ECF6",
          "polar": {
           "angularaxis": {
            "gridcolor": "white",
            "linecolor": "white",
            "ticks": ""
           },
           "bgcolor": "#E5ECF6",
           "radialaxis": {
            "gridcolor": "white",
            "linecolor": "white",
            "ticks": ""
           }
          },
          "scene": {
           "xaxis": {
            "backgroundcolor": "#E5ECF6",
            "gridcolor": "white",
            "gridwidth": 2,
            "linecolor": "white",
            "showbackground": true,
            "ticks": "",
            "zerolinecolor": "white"
           },
           "yaxis": {
            "backgroundcolor": "#E5ECF6",
            "gridcolor": "white",
            "gridwidth": 2,
            "linecolor": "white",
            "showbackground": true,
            "ticks": "",
            "zerolinecolor": "white"
           },
           "zaxis": {
            "backgroundcolor": "#E5ECF6",
            "gridcolor": "white",
            "gridwidth": 2,
            "linecolor": "white",
            "showbackground": true,
            "ticks": "",
            "zerolinecolor": "white"
           }
          },
          "shapedefaults": {
           "line": {
            "color": "#2a3f5f"
           }
          },
          "ternary": {
           "aaxis": {
            "gridcolor": "white",
            "linecolor": "white",
            "ticks": ""
           },
           "baxis": {
            "gridcolor": "white",
            "linecolor": "white",
            "ticks": ""
           },
           "bgcolor": "#E5ECF6",
           "caxis": {
            "gridcolor": "white",
            "linecolor": "white",
            "ticks": ""
           }
          },
          "title": {
           "x": 0.05
          },
          "xaxis": {
           "automargin": true,
           "gridcolor": "white",
           "linecolor": "white",
           "ticks": "",
           "title": {
            "standoff": 15
           },
           "zerolinecolor": "white",
           "zerolinewidth": 2
          },
          "yaxis": {
           "automargin": true,
           "gridcolor": "white",
           "linecolor": "white",
           "ticks": "",
           "title": {
            "standoff": 15
           },
           "zerolinecolor": "white",
           "zerolinewidth": 2
          }
         }
        },
        "title": {
         "font": {
          "color": "white"
         }
        },
        "width": 600,
        "xaxis": {
         "color": "white"
        },
        "yaxis": {
         "color": "white"
        }
       }
      }
     },
     "metadata": {},
     "output_type": "display_data"
    }
   ],
   "source": [
    "fig = px.sunburst(grouped, path=['Pclass', 'Sex'], values='Count',\n",
    "                  width=600, height=600)\n",
    "fig.update_traces(textinfo='label+percent entry',\n",
    "                  textfont=dict(color='white'),\n",
    "                  rotation=120)\n",
    "fig.update_layout(**layout_options)\n",
    "fig.update_layout()\n",
    "fig.show()"
   ]
  },
  {
   "cell_type": "markdown",
   "metadata": {
    "id": "xKZZyJwPl4QG"
   },
   "source": [
    "It's up to you now. Try different types of plots e.g. Pie Chart, Line Plot and HeatMap using [Plotly Express](https://plotly.com/python-api-reference/plotly.express.html).\n",
    "\n",
    "Note that pandas come with an embedded visualization framework leveraging matplotlib in it's core.<br>\n",
    "You can refer to pandas [documentation](https://pandas.pydata.org/docs/user_guide/visualization.html#visualization) for more details."
   ]
  },
  {
   "cell_type": "code",
   "execution_count": null,
   "metadata": {
    "id": "bkxBqCNwp-_r"
   },
   "outputs": [],
   "source": [
    "########################\n",
    "#####YOUR CODE HERE#####\n",
    "########################"
   ]
  },
  {
   "cell_type": "markdown",
   "metadata": {
    "id": "0Jj4VUJy4-hT"
   },
   "source": [
    "## Predictive Power Score (PPS)\n",
    "Let’s take a moment and revisit correlation. First, correlation is only defined for numeric variables. Second, the score ranges from -1 to 1 and indicates if there is a strong *linear* relationship. Nonetheless, there are many non-linear relationships that the score simply won’t detect.<br>"
   ]
  },
  {
   "cell_type": "code",
   "execution_count": 125,
   "metadata": {
    "colab": {
     "base_uri": "https://localhost:8080/",
     "height": 453
    },
    "executionInfo": {
     "elapsed": 593,
     "status": "ok",
     "timestamp": 1717679900625,
     "user": {
      "displayName": "Adnan Alkattan",
      "userId": "14686308749644374052"
     },
     "user_tz": -180
    },
    "id": "JBtuuYKOswcO",
    "outputId": "9816b2e2-f0da-41cf-9df3-dc3f9a7e9875"
   },
   "outputs": [
    {
     "data": {
      "text/plain": [
       "<AxesSubplot:>"
      ]
     },
     "execution_count": 125,
     "metadata": {},
     "output_type": "execute_result"
    },
    {
     "data": {
      "image/png": "[encoded data removed]",
      "text/plain": [
       "<Figure size 640x480 with 2 Axes>"
      ]
     },
     "metadata": {},
     "output_type": "display_data"
    }
   ],
   "source": [
    "import seaborn as sns\n",
    "sns.heatmap(processed_df[numeric].corr(), cmap=\"Blues\", annot=True)"
   ]
  },
  {
   "cell_type": "markdown",
   "metadata": {
    "id": "lPWVxMm9s247"
   },
   "source": [
    "Notice the symmetry in the corrleation matrix. Symmetry means that the correlation is the same whether you calculate the correlation of A and B or the correlation of B and A.\n",
    "\n",
    "However, relationships in the real world are rarely symmetric. More often, relationships are asymmetric.\n",
    "For instance a variable with 3 unique values will never be able to perfectly predict another variable with 100 unique values. But the opposite might be true.\n",
    "\n",
    "From the previous disccussion we can say that we need an asymmetric, data-type-agnostic score for predictive relationships between two variables that ranges from 0 to 1. Thus, we will introduce **PPS**."
   ]
  },
  {
   "cell_type": "code",
   "execution_count": 73,
   "metadata": {
    "colab": {
     "base_uri": "https://localhost:8080/"
    },
    "executionInfo": {
     "elapsed": 7691,
     "status": "ok",
     "timestamp": 1717679784215,
     "user": {
      "displayName": "Adnan Alkattan",
      "userId": "14686308749644374052"
     },
     "user_tz": -180
    },
    "id": "P2Dw8mOX1raK",
    "outputId": "518b3c68-ae57-4694-b1bb-1f38f8eb9243"
   },
   "outputs": [],
   "source": [
    "!pip -q install --no-deps ppscore"
   ]
  },
  {
   "cell_type": "code",
   "execution_count": 126,
   "metadata": {
    "id": "XLg-0X6ZxPMN"
   },
   "outputs": [],
   "source": [
    "#ignore warnings\n",
    "import warnings\n",
    "warnings.filterwarnings('ignore')"
   ]
  },
  {
   "cell_type": "code",
   "execution_count": 127,
   "metadata": {
    "id": "9SwaihXoxw_l"
   },
   "outputs": [],
   "source": [
    "import ppscore as pps\n",
    "# if you face a contextualversionconflict just restart the runtime and try again"
   ]
  },
  {
   "cell_type": "markdown",
   "metadata": {
    "id": "TYqAJRdPxts4"
   },
   "source": [
    "**Single Predictive Power Score**\n",
    "*   Answering the question: how well can Sex predict the Survival probability?"
   ]
  },
  {
   "cell_type": "code",
   "execution_count": 128,
   "metadata": {
    "colab": {
     "base_uri": "https://localhost:8080/"
    },
    "executionInfo": {
     "elapsed": 9,
     "status": "ok",
     "timestamp": 1682695266762,
     "user": {
      "displayName": "Adnan Alkattan",
      "userId": "14686308749644374052"
     },
     "user_tz": -180
    },
    "id": "uqeY8ZyLxhi1",
    "outputId": "f1129f33-d2cc-43ce-dcb6-ed9c5971649e"
   },
   "outputs": [
    {
     "data": {
      "text/plain": [
       "{'x': 'Sex',\n",
       " 'y': 'Survived',\n",
       " 'ppscore': 0.12664237674349743,\n",
       " 'case': 'regression',\n",
       " 'is_valid_score': True,\n",
       " 'metric': 'mean absolute error',\n",
       " 'baseline_score': 0.38245219347581555,\n",
       " 'model_score': 0.33401753870327433,\n",
       " 'model': DecisionTreeRegressor()}"
      ]
     },
     "execution_count": 128,
     "metadata": {},
     "output_type": "execute_result"
    }
   ],
   "source": [
    "pps.score(processed_df, \"Sex\", \"Survived\")"
   ]
  },
  {
   "cell_type": "markdown",
   "metadata": {
    "id": "LR16w_FhyIo6"
   },
   "source": [
    "**PPS matrix**\n",
    "*   Answering the question: which predictive patterns exist between the columns?\n"
   ]
  },
  {
   "cell_type": "code",
   "execution_count": 129,
   "metadata": {
    "colab": {
     "base_uri": "https://localhost:8080/",
     "height": 570
    },
    "executionInfo": {
     "elapsed": 4866,
     "status": "ok",
     "timestamp": 1717679909661,
     "user": {
      "displayName": "Adnan Alkattan",
      "userId": "14686308749644374052"
     },
     "user_tz": -180
    },
    "id": "M5pAlXE8yA_8",
    "outputId": "794e3b4b-53f9-40c8-db3c-3e3c85fc4b0c"
   },
   "outputs": [
    {
     "data": {
      "text/plain": [
       "Text(50.72222222222221, 0.5, 'target')"
      ]
     },
     "execution_count": 129,
     "metadata": {},
     "output_type": "execute_result"
    },
    {
     "data": {
      "image/png": "[encoded data removed]",
      "text/plain": [
       "<Figure size 640x480 with 2 Axes>"
      ]
     },
     "metadata": {},
     "output_type": "display_data"
    }
   ],
   "source": [
    "mat = pps.matrix(processed_df)\n",
    "mat = mat[['x', 'y', 'ppscore']].pivot(columns='x', index='y', values='ppscore')\n",
    "ax = sns.heatmap(mat, vmin=0, vmax=1, cmap=\"Blues\", linewidths=0.5)\n",
    "ax.set_title(\"Predictive Power Score (PPS) matrix\")\n",
    "ax.set_xlabel(\"feature\")\n",
    "ax.set_ylabel(\"target\")"
   ]
  },
  {
   "cell_type": "markdown",
   "metadata": {
    "id": "AGcSeOOl24tS"
   },
   "source": [
    "The seventh row of the matrix tells you that the best univariate predictor of the variable Sex is the variable surname. This makes sense because if we know the title we can easily reflect it to Sex. However, the opposite is more difficult to deduce becuase the Age attribute will play a role.\n",
    "\n",
    "You can check this [article](https://towardsdatascience.com/rip-correlation-introducing-the-predictive-power-score-3d90808b9598) for more details about PPS\n",
    "\n",
    "**Pop Quiz!** Should correlated features be removed?"
   ]
  },
  {
   "cell_type": "markdown",
   "metadata": {
    "id": "r-_J_YgCzBXM"
   },
   "source": [
    "## Hypothesis Testing\n",
    "Hypothesis testing is an essential part in inferential statistics where we use observed data in a sample to draw conclusions about unobserved data — often the population. Although there are hundreds of statistical hypothesis tests that you could use, there is only a small subset that you may need to use in a data mining project.<br><br>\n",
    "Hypothesis tests involves a baseline assumption that the groups are equivalent, and any difference between them is due to chance. This baseline assumption is termed the null hypothesis. Our hope, then, is that we can in fact prove the null hypothesis wrong and show that the outcomes\n",
    "for groups A and B are more different than what chance might produce."
   ]
  },
  {
   "cell_type": "markdown",
   "metadata": {
    "id": "JokB04mZi7dI"
   },
   "source": [
    "### Normality Tests\n",
    "A large fraction of the field of statistics is concerned with data that assumes that it was drawn from a Gaussian distribution. If methods are used that assume a Gaussian distribution, and your data was drawn from a different distribution, the findings may be misleading or plain wrong.<br>\n",
    "We will look at two common tests to check whether a data sample has a Gaussian distribution. i.e we set the null hypothesis $H_0$ that the data follow a normal distribution.\n",
    "\n",
    "*   Shapiro-Wilk Test\n",
    "*   Anderson-Darling Test\n",
    "\n"
   ]
  },
  {
   "cell_type": "code",
   "execution_count": 130,
   "metadata": {
    "id": "fHFyLbPw_fBT"
   },
   "outputs": [],
   "source": [
    "np.random.seed(5)\n",
    "data = np.random.normal(0, 1, 30)\n",
    "laplace_data = np.random.laplace(0, 1, 30)"
   ]
  },
  {
   "cell_type": "code",
   "execution_count": 131,
   "metadata": {
    "colab": {
     "base_uri": "https://localhost:8080/"
    },
    "executionInfo": {
     "elapsed": 42,
     "status": "ok",
     "timestamp": 1682695271959,
     "user": {
      "displayName": "Adnan Alkattan",
      "userId": "14686308749644374052"
     },
     "user_tz": -180
    },
    "id": "z4UoHnRizKWb",
    "outputId": "85f7aaf2-a638-42a0-e30b-9afe5c8f3bf9"
   },
   "outputs": [
    {
     "name": "stdout",
     "output_type": "stream",
     "text": [
      "stat=0.963, p=0.367\n",
      "Probably Gaussian\n"
     ]
    }
   ],
   "source": [
    "from scipy.stats import shapiro\n",
    "stat, p = shapiro(data) #  test score, p_value\n",
    "print('stat=%.3f, p=%.3f' % (stat, p))\n",
    "if p > 0.05:\n",
    "\tprint('Probably Gaussian')\n",
    "else:\n",
    "\tprint('Probably not Gaussian')"
   ]
  },
  {
   "cell_type": "markdown",
   "metadata": {
    "id": "8vNCa36Za18c"
   },
   "source": [
    "The `p_value` tells you how likely it is that your data could have occurred under the null hypothesis.\n",
    "\n",
    "**Extra Marks!!** Why we are using 0.05 as our threshold? and why it is so common?.\n",
    "\n",
    "(Hint: search for `Alpha Level` or `Significance Level`)"
   ]
  },
  {
   "cell_type": "code",
   "execution_count": 80,
   "metadata": {
    "colab": {
     "base_uri": "https://localhost:8080/"
    },
    "executionInfo": {
     "elapsed": 36,
     "status": "ok",
     "timestamp": 1682695271959,
     "user": {
      "displayName": "Adnan Alkattan",
      "userId": "14686308749644374052"
     },
     "user_tz": -180
    },
    "id": "-oP_Qwnw_dDc",
    "outputId": "45499d55-8f0d-4504-e8e1-99746aa30159"
   },
   "outputs": [
    {
     "name": "stdout",
     "output_type": "stream",
     "text": [
      "stat=6.735, p=0.034\n",
      "Probably not Gaussian\n"
     ]
    }
   ],
   "source": [
    "from scipy.stats import normaltest\n",
    "\n",
    "stat, p = normaltest(laplace_data)\n",
    "print('stat=%.3f, p=%.3f' % (stat, p))\n",
    "if p > 0.05:\n",
    "\tprint('Probably Gaussian')\n",
    "else:\n",
    "\tprint('Probably not Gaussian')"
   ]
  },
  {
   "cell_type": "markdown",
   "metadata": {
    "id": "jGX_OBEqsiNA"
   },
   "source": [
    "### Correlation Tests\n",
    "We discussed earlier standard correlation coefficient, also known as pearson correlation coefficient, and PPS. In fact, we can formulate the problem as a hypothesis test i.e. we set the null hypothesis $H_0$ that the samples are independent, and use [scipy](https://scipy.github.io/devdocs/index.html) module implementation.\n",
    "\n",
    "*  Pearson Correlation Coefficient\n",
    "*  Spearman’s Rank Correlation\n",
    "*  Chi-Squared $\\chi^{2}$ Test\n",
    "\n",
    "Note that Chi-Squared test is only valid for categorical data and uses contingency tables, whereas Pearson Coefficient and Spearman’s Rank are only valid for numeric data"
   ]
  },
  {
   "cell_type": "code",
   "execution_count": 81,
   "metadata": {
    "colab": {
     "base_uri": "https://localhost:8080/"
    },
    "executionInfo": {
     "elapsed": 35,
     "status": "ok",
     "timestamp": 1682695271960,
     "user": {
      "displayName": "Adnan Alkattan",
      "userId": "14686308749644374052"
     },
     "user_tz": -180
    },
    "id": "nkb_ZSUFuiqJ",
    "outputId": "b4b88292-7be4-4f73-f998-748c8bd7cb28"
   },
   "outputs": [
    {
     "name": "stdout",
     "output_type": "stream",
     "text": [
      "stat=0.688, p=0.028\n",
      "Probably dependent\n"
     ]
    }
   ],
   "source": [
    "from scipy.stats import pearsonr\n",
    "data1 = [0.873, 2.817, 0.121, -0.945, -0.055, -1.436, 0.360, -1.478, -1.637, -1.869]\n",
    "data2 = [0.353, 3.517, 0.125, -7.545, -0.555, -1.536, 3.350, -1.578, -3.537, -1.579]\n",
    "stat, p = pearsonr(data1, data2)\n",
    "print('stat=%.3f, p=%.3f' % (stat, p))\n",
    "if p > 0.05:\n",
    "\tprint('Probably independent')\n",
    "else:\n",
    "\tprint('Probably dependent')"
   ]
  },
  {
   "cell_type": "code",
   "execution_count": 82,
   "metadata": {
    "colab": {
     "base_uri": "https://localhost:8080/"
    },
    "executionInfo": {
     "elapsed": 32,
     "status": "ok",
     "timestamp": 1682695271960,
     "user": {
      "displayName": "Adnan Alkattan",
      "userId": "14686308749644374052"
     },
     "user_tz": -180
    },
    "id": "dszayhvcEHx6",
    "outputId": "29840abb-04ef-442b-894c-1695e13e011e"
   },
   "outputs": [
    {
     "name": "stdout",
     "output_type": "stream",
     "text": [
      "stat=-0.142, p=0.695\n",
      "Probably independent\n"
     ]
    }
   ],
   "source": [
    "stat, p = pearsonr(np.random.normal(0, 1, 10), np.random.normal(0, 1, 10))\n",
    "print('stat=%.3f, p=%.3f' % (stat, p))\n",
    "if p > 0.05:\n",
    "\tprint('Probably independent')\n",
    "else:\n",
    "\tprint('Probably dependent')"
   ]
  },
  {
   "cell_type": "code",
   "execution_count": 83,
   "metadata": {
    "colab": {
     "base_uri": "https://localhost:8080/"
    },
    "executionInfo": {
     "elapsed": 29,
     "status": "ok",
     "timestamp": 1682695271960,
     "user": {
      "displayName": "Adnan Alkattan",
      "userId": "14686308749644374052"
     },
     "user_tz": -180
    },
    "id": "fJ87SpULOW5d",
    "outputId": "8066abc3-9b60-4af4-d4f9-38bdb9b93ab3"
   },
   "outputs": [
    {
     "name": "stdout",
     "output_type": "stream",
     "text": [
      "stat=0.855, p=0.002\n",
      "Probably dependent\n"
     ]
    }
   ],
   "source": [
    "from scipy.stats import spearmanr\n",
    "stat, p = spearmanr(data1, data2)\n",
    "print('stat=%.3f, p=%.3f' % (stat, p))\n",
    "if p > 0.05:\n",
    "\tprint('Probably independent')\n",
    "else:\n",
    "\tprint('Probably dependent')"
   ]
  },
  {
   "cell_type": "markdown",
   "metadata": {
    "id": "JA7ZT9aECpkp"
   },
   "source": [
    "We can use pandas `crosstab` function to calcluate contingency table"
   ]
  },
  {
   "cell_type": "code",
   "execution_count": 84,
   "metadata": {
    "colab": {
     "base_uri": "https://localhost:8080/",
     "height": 175
    },
    "executionInfo": {
     "elapsed": 26,
     "status": "ok",
     "timestamp": 1682695271961,
     "user": {
      "displayName": "Adnan Alkattan",
      "userId": "14686308749644374052"
     },
     "user_tz": -180
    },
    "id": "yEcz2kJPOXSq",
    "outputId": "883d3a08-9374-42e8-cc28-c70bfebd0852"
   },
   "outputs": [
    {
     "data": {
      "text/html": [
       "<div>\n",
       "<style scoped>\n",
       "    .dataframe tbody tr th:only-of-type {\n",
       "        vertical-align: middle;\n",
       "    }\n",
       "\n",
       "    .dataframe tbody tr th {\n",
       "        vertical-align: top;\n",
       "    }\n",
       "\n",
       "    .dataframe thead th {\n",
       "        text-align: right;\n",
       "    }\n",
       "</style>\n",
       "<table border=\"1\" class=\"dataframe\">\n",
       "  <thead>\n",
       "    <tr style=\"text-align: right;\">\n",
       "      <th>Cabin</th>\n",
       "      <th>A</th>\n",
       "      <th>B</th>\n",
       "      <th>C</th>\n",
       "      <th>D</th>\n",
       "      <th>E</th>\n",
       "      <th>F</th>\n",
       "      <th>G</th>\n",
       "      <th>T</th>\n",
       "      <th>u</th>\n",
       "    </tr>\n",
       "    <tr>\n",
       "      <th>Embarked</th>\n",
       "      <th></th>\n",
       "      <th></th>\n",
       "      <th></th>\n",
       "      <th></th>\n",
       "      <th></th>\n",
       "      <th></th>\n",
       "      <th></th>\n",
       "      <th></th>\n",
       "      <th></th>\n",
       "    </tr>\n",
       "  </thead>\n",
       "  <tbody>\n",
       "    <tr>\n",
       "      <th>C</th>\n",
       "      <td>7</td>\n",
       "      <td>22</td>\n",
       "      <td>21</td>\n",
       "      <td>13</td>\n",
       "      <td>5</td>\n",
       "      <td>1</td>\n",
       "      <td>0</td>\n",
       "      <td>0</td>\n",
       "      <td>99</td>\n",
       "    </tr>\n",
       "    <tr>\n",
       "      <th>Q</th>\n",
       "      <td>0</td>\n",
       "      <td>0</td>\n",
       "      <td>2</td>\n",
       "      <td>0</td>\n",
       "      <td>1</td>\n",
       "      <td>1</td>\n",
       "      <td>0</td>\n",
       "      <td>0</td>\n",
       "      <td>73</td>\n",
       "    </tr>\n",
       "    <tr>\n",
       "      <th>S</th>\n",
       "      <td>8</td>\n",
       "      <td>23</td>\n",
       "      <td>36</td>\n",
       "      <td>20</td>\n",
       "      <td>26</td>\n",
       "      <td>11</td>\n",
       "      <td>4</td>\n",
       "      <td>1</td>\n",
       "      <td>515</td>\n",
       "    </tr>\n",
       "  </tbody>\n",
       "</table>\n",
       "</div>"
      ],
      "text/plain": [
       "Cabin     A   B   C   D   E   F  G  T    u\n",
       "Embarked                                  \n",
       "C         7  22  21  13   5   1  0  0   99\n",
       "Q         0   0   2   0   1   1  0  0   73\n",
       "S         8  23  36  20  26  11  4  1  515"
      ]
     },
     "execution_count": 84,
     "metadata": {},
     "output_type": "execute_result"
    }
   ],
   "source": [
    "table = pd.crosstab(processed_df['Embarked'], processed_df['Cabin'])\n",
    "table.head()"
   ]
  },
  {
   "cell_type": "markdown",
   "metadata": {
    "id": "VNc8JLG0NDfg"
   },
   "source": [
    "In the contingency table $T$, the $ij\\,^{th}$ entry $t_{ij}$ is the number of times the $i\\,^{th}$ and $j\\,^{th}$ attributes of the data have come together in the same object, for example, in our dataset, we have 7 objects embarked at `C` and were setting in cabin `A`."
   ]
  },
  {
   "cell_type": "code",
   "execution_count": 85,
   "metadata": {
    "colab": {
     "base_uri": "https://localhost:8080/"
    },
    "executionInfo": {
     "elapsed": 25,
     "status": "ok",
     "timestamp": 1682695271961,
     "user": {
      "displayName": "Adnan Alkattan",
      "userId": "14686308749644374052"
     },
     "user_tz": -180
    },
    "id": "IBeRFNTeDLNz",
    "outputId": "ab8dba3a-cb69-46c7-fa7b-d42c1ca6b6bb"
   },
   "outputs": [
    {
     "name": "stdout",
     "output_type": "stream",
     "text": [
      "stat=74.496, p=0.000, dof=16\n",
      "Probably dependent\n"
     ]
    }
   ],
   "source": [
    "from scipy.stats import chi2_contingency\n",
    "stat, p, dof, expected = chi2_contingency(table)\n",
    "\n",
    "# dof = degree_of_freedom = (number_of_rows - 1) * (number_of_columns - 1)\n",
    "# degree of freedom indicate of how much the variables can change witheach other\n",
    "# think of it like the dof of a robotic arm, where it increase with the number of joints!\n",
    "# and it indicate region the arm can reach.\n",
    "\n",
    "print('stat=%.3f, p=%.3f, dof=%d' % (stat, p, dof))\n",
    "if p > 0.05:\n",
    "\tprint('Probably independent')\n",
    "else:\n",
    "\tprint('Probably dependent')"
   ]
  },
  {
   "cell_type": "markdown",
   "metadata": {
    "id": "s1V0I1HgPmuU"
   },
   "source": [
    "**Extra Marks!!** How can we calculate the degree of corrleation using  $\\chi^{2}$ value?\n",
    "<br><br>\n",
    "For each degree of freedom, $\\chi^{2}$ test will have different value under a specific `p_value` i.e. if we are using $\\chi^{2}$ value to conclude the test rather than `p_value` directly then we must check dof before our judgment. We can get such values using the inverse of chi square cumulative distribution function\n",
    "\n",
    "<figure>\n",
    "<center>\n",
    "<img src='https://drive.google.com/uc?export=view&id=1zzsxOnRIusGux76T2Z-I1xTfzDUzu8EH' />\n",
    "<figcaption>The table above gives a number of p-values matching to\n",
    "$\\chi^{2}$ for the first 10 degrees of freedom.</figcaption></center>\n",
    "</figure>"
   ]
  },
  {
   "cell_type": "code",
   "execution_count": 86,
   "metadata": {
    "colab": {
     "base_uri": "https://localhost:8080/"
    },
    "executionInfo": {
     "elapsed": 22,
     "status": "ok",
     "timestamp": 1682695271962,
     "user": {
      "displayName": "Adnan Alkattan",
      "userId": "14686308749644374052"
     },
     "user_tz": -180
    },
    "id": "xQPfdbF3DQpX",
    "outputId": "0c987637-ec95-45af-9d96-93db0c44a15e"
   },
   "outputs": [
    {
     "name": "stdout",
     "output_type": "stream",
     "text": [
      "stat=0.272, p=0.873, dof=2\n",
      "Probably independent\n"
     ]
    }
   ],
   "source": [
    "table = [[10, 20, 30],[6,  9,  17]]\n",
    "stat, p, dof, expected = chi2_contingency(table)\n",
    "print('stat=%.3f, p=%.3f, dof=%d' % (stat, p, dof))\n",
    "if p > 0.05:\n",
    "\tprint('Probably independent')\n",
    "else:\n",
    "\tprint('Probably dependent')"
   ]
  },
  {
   "cell_type": "markdown",
   "metadata": {
    "id": "Q6BMVzE3Q6-q"
   },
   "source": [
    "Looking at the above table, then for second degree of freedom and 0.05 alpha level, $\\chi^{2}$ value must be larger than 5.99 in order to reject the null hypothesis (variables independence), and in our case it is **NOT**, hence, there is no enough statistical evidence to indicate corrleation!. Also, notice the high `p_value` which agrees with the previous discussion."
   ]
  },
  {
   "cell_type": "markdown",
   "metadata": {
    "id": "Yc-5uYvougDY"
   },
   "source": [
    "### Parametric Statistical Hypothesis Tests\n",
    "Parametric tests are those tests for which we have prior knowledge of the population distribution e.g. Gaussian.\n",
    "\n",
    "In applied machine learning, we need to compare data samples, specifically the mean of the samples. Perhaps to see if one technique performs better than another on one or more datasets. To quantify this question, the most commonly used tests are:\n",
    "\n",
    "\n",
    "1.   T-test when the sample size is small i.e less than 30\n",
    "2.   Z-test when sample size is large\n",
    "3.   Anova-test, also referred to as analysis of variance, when we have two or more samples.\n",
    "\n",
    "You can check [this](https://www.analyticsvidhya.com/blog/2021/06/hypothesis-testing-parametric-and-non-parametric-tests-in-statistics) article for more details.\n",
    "\n",
    "\n"
   ]
  },
  {
   "cell_type": "code",
   "execution_count": 87,
   "metadata": {
    "colab": {
     "base_uri": "https://localhost:8080/"
    },
    "executionInfo": {
     "elapsed": 19,
     "status": "ok",
     "timestamp": 1682695271962,
     "user": {
      "displayName": "Adnan Alkattan",
      "userId": "14686308749644374052"
     },
     "user_tz": -180
    },
    "id": "yoybk-8rujHU",
    "outputId": "df44c62a-d7a9-4bad-96e9-ce59e01fc6a5"
   },
   "outputs": [
    {
     "name": "stdout",
     "output_type": "stream",
     "text": [
      "stat=0.932, p=0.355\n",
      "Probably the same distribution\n"
     ]
    }
   ],
   "source": [
    "from scipy.stats import ttest_ind\n",
    "stat, p = ttest_ind(np.random.normal(0, 1, 30), np.random.normal(0, 1, 30))\n",
    "print('stat=%.3f, p=%.3f' % (stat, p))\n",
    "if p > 0.05:\n",
    "\tprint('Probably the same distribution')\n",
    "else:\n",
    "\tprint('Probably different distributions')"
   ]
  },
  {
   "cell_type": "code",
   "execution_count": 88,
   "metadata": {
    "colab": {
     "base_uri": "https://localhost:8080/"
    },
    "executionInfo": {
     "elapsed": 16,
     "status": "ok",
     "timestamp": 1682695271962,
     "user": {
      "displayName": "Adnan Alkattan",
      "userId": "14686308749644374052"
     },
     "user_tz": -180
    },
    "id": "eVS3wtvaHvYD",
    "outputId": "c5450867-3e8a-418e-b22a-d9594f369035"
   },
   "outputs": [
    {
     "name": "stdout",
     "output_type": "stream",
     "text": [
      "stat=-1.097, p=0.277\n",
      "Probably the same distribution\n"
     ]
    }
   ],
   "source": [
    "stat, p = ttest_ind(np.random.normal(0, 1, 30), np.random.binomial(1, 0.5, 30))\n",
    "print('stat=%.3f, p=%.3f' % (stat, p))\n",
    "if p > 0.05:\n",
    "\tprint('Probably the same distribution')\n",
    "else:\n",
    "\tprint('Probably different distributions')"
   ]
  },
  {
   "cell_type": "code",
   "execution_count": 89,
   "metadata": {
    "colab": {
     "base_uri": "https://localhost:8080/"
    },
    "executionInfo": {
     "elapsed": 15,
     "status": "ok",
     "timestamp": 1682695271963,
     "user": {
      "displayName": "Adnan Alkattan",
      "userId": "14686308749644374052"
     },
     "user_tz": -180
    },
    "id": "2r_BpjoPHu90",
    "outputId": "50e51373-bbfe-4de5-ec57-545ab3ed5ea6"
   },
   "outputs": [
    {
     "name": "stdout",
     "output_type": "stream",
     "text": [
      "Statistics=7.424, p=0.001\n",
      "Different distributions (reject H0)\n"
     ]
    }
   ],
   "source": [
    "from scipy.stats import f_oneway\n",
    "data1 = 5 * np.random.randn(100) + 50\n",
    "data2 = 5 * np.random.randn(100) + 50\n",
    "data3 = 5 * np.random.randn(100) + 52\n",
    "stat, p = f_oneway(data1, data2, data3)\n",
    "print('Statistics=%.3f, p=%.3f' % (stat, p))\n",
    "if p >  0.05:\n",
    "\tprint('Same distributions (fail to reject H0)')\n",
    "else:\n",
    "\tprint('Different distributions (reject H0)')"
   ]
  },
  {
   "cell_type": "markdown",
   "metadata": {
    "id": "mnh9GSlCRzQM"
   },
   "source": [
    "## Anomaly Detection\n",
    "In anomaly detection, the goal is to find objects that are different from most\n",
    "other objects. Often, anomalous objects are known as outliers, since, on a\n",
    "scatter plot of the data, they lie far away from other data points.\n",
    "There are a variety of anomaly detection approaches from several areas,\n",
    "including statistics, machine learning, and data mining.\n",
    "\n",
    "Here, we provide a high-level description of some anomaly detection techniques\n",
    "and their associated definitions of an anomaly and introduce [PyOD](https://pyod.readthedocs.io/en/latest/) which is the most comprehensive and scalable Python toolkit for detecting anomalous objects in multivariate data."
   ]
  },
  {
   "cell_type": "code",
   "execution_count": 90,
   "metadata": {
    "colab": {
     "base_uri": "https://localhost:8080/"
    },
    "executionInfo": {
     "elapsed": 8525,
     "status": "ok",
     "timestamp": 1682695280476,
     "user": {
      "displayName": "Adnan Alkattan",
      "userId": "14686308749644374052"
     },
     "user_tz": -180
    },
    "id": "BFg9-OpZmhwY",
    "outputId": "854cab67-344c-40d0-87ba-48d4ad047a87"
   },
   "outputs": [],
   "source": [
    "!pip -q install pyod"
   ]
  },
  {
   "cell_type": "code",
   "execution_count": 91,
   "metadata": {
    "id": "aDN7VrlU3pNJ"
   },
   "outputs": [],
   "source": [
    "from pyod.utils.data import evaluate_print, generate_data\n",
    "\n",
    "contamination = 0.1  # percentage of outliers\n",
    "n_train = 200  # number of training points\n",
    "n_test = 100  # number of testing points\n",
    "\n",
    "# Generate sample data\n",
    "X_train, X_test, y_train, y_test = generate_data(\n",
    "    n_train=n_train,\n",
    "    n_test=n_test,\n",
    "    n_features=2,\n",
    "    contamination=contamination,\n",
    "    behaviour=\"new\",\n",
    "    random_state=42,\n",
    ")"
   ]
  },
  {
   "cell_type": "markdown",
   "metadata": {
    "id": "JAWMO8--YBY8"
   },
   "source": [
    "### Model-Based Techniques\n",
    "Many anomaly detection techniques first build a model of the data. Anomalies are objects that do not fit the model very well.\n",
    "\n",
    "For example, a model of the distribution of the data can be created by using\n",
    "the data to estimate the parameters of a probability distribution. An object\n",
    "does not fit the model very well; i.e., it is an anomaly, if it is not very likely under the distribution.<br><br>\n",
    "**Outlier Detection with Kernel Density Functions**\n",
    "Kernel Density Estimation (KDE) is an unsupervised learning technique that helps to estimate the PDF of a random variable in a non-parametric way. It’s related to a histogram but with a data smoothing technique.\n",
    "\n",
    "In PyOD package they used a modified version of the algorithm, you can refer to [this](https://cis.temple.edu/~latecki/Papers/mldm07.pdf) paper for more details."
   ]
  },
  {
   "cell_type": "code",
   "execution_count": 92,
   "metadata": {
    "colab": {
     "base_uri": "https://localhost:8080/"
    },
    "executionInfo": {
     "elapsed": 29,
     "status": "ok",
     "timestamp": 1682695282405,
     "user": {
      "displayName": "Adnan Alkattan",
      "userId": "14686308749644374052"
     },
     "user_tz": -180
    },
    "id": "YoTnyc2m35yT",
    "outputId": "d4afb06b-d132-4ede-c51a-b0687f0116a9"
   },
   "outputs": [
    {
     "name": "stdout",
     "output_type": "stream",
     "text": [
      "\n",
      "On Training Data:\n",
      "KDE ROC:0.9992, precision @ rank n:0.95\n"
     ]
    }
   ],
   "source": [
    "from pyod.models.kde import KDE\n",
    "\n",
    "clf = KDE()\n",
    "clf.fit(X_train)\n",
    "\n",
    "# get the prediction labels and outlier scores of the training data\n",
    "y_train_pred = clf.labels_  # binary labels (0: inliers, 1: outliers)\n",
    "y_train_scores = clf.decision_scores_  # raw outlier scores\n",
    "\n",
    "# get the prediction on the test data\n",
    "y_test_pred = clf.predict(X_test)  # outlier labels (0 or 1)\n",
    "y_test_scores = clf.decision_function(X_test)  # outlier scores\n",
    "\n",
    "# evaluate and print the results\n",
    "print(\"\\nOn Training Data:\")\n",
    "evaluate_print('KDE', y_train, y_train_scores)"
   ]
  },
  {
   "cell_type": "code",
   "execution_count": 93,
   "metadata": {
    "colab": {
     "base_uri": "https://localhost:8080/"
    },
    "executionInfo": {
     "elapsed": 26,
     "status": "ok",
     "timestamp": 1682695282405,
     "user": {
      "displayName": "Adnan Alkattan",
      "userId": "14686308749644374052"
     },
     "user_tz": -180
    },
    "id": "gIV1d9dd4K3g",
    "outputId": "ae6e00be-3dd1-4c7e-876b-ab234c149fbb"
   },
   "outputs": [
    {
     "name": "stdout",
     "output_type": "stream",
     "text": [
      "\n",
      "On Test Data:\n",
      "KDE ROC:1.0, precision @ rank n:1.0\n"
     ]
    }
   ],
   "source": [
    "print(\"\\nOn Test Data:\")\n",
    "evaluate_print('KDE', y_test, y_test_scores)"
   ]
  },
  {
   "cell_type": "code",
   "execution_count": 94,
   "metadata": {
    "colab": {
     "base_uri": "https://localhost:8080/",
     "height": 907
    },
    "executionInfo": {
     "elapsed": 21,
     "status": "ok",
     "timestamp": 1682695282406,
     "user": {
      "displayName": "Adnan Alkattan",
      "userId": "14686308749644374052"
     },
     "user_tz": -180
    },
    "id": "gdKK52Tn4HZF",
    "outputId": "bdf25572-5816-48f9-cc99-a3ec6b95fadd"
   },
   "outputs": [
    {
     "data": {
      "image/png": "[encoded data removed]",
      "text/plain": [
       "<Figure size 1200x1000 with 4 Axes>"
      ]
     },
     "metadata": {},
     "output_type": "display_data"
    }
   ],
   "source": [
    "from pyod.utils.example import visualize\n",
    "# visualize the results\n",
    "visualize(\n",
    "    'KDE',\n",
    "    X_train,\n",
    "    y_train,\n",
    "    X_test,\n",
    "    y_test,\n",
    "    y_train_pred,\n",
    "    y_test_pred,\n",
    ")"
   ]
  },
  {
   "cell_type": "markdown",
   "metadata": {
    "id": "AbUj1h3IYGKa"
   },
   "source": [
    "### Proximity-Based Techniques\n",
    "It is often possible to define a proximity measure between objects, and a number of anomaly detection approaches are based on proximities. Anomalous objects are those that are distant from most of the other objects. Many of the techniques in this area are based on distances and are referred to as distance-based outlier detection techniques.\n",
    "\n",
    "This approach is more general and more easily\n",
    "applied than statistical approaches, since it is easier to determine a meaningful proximity measure for a data set than to determine its statistical distribution.\n",
    "\n",
    "**Distance to k-Nearest Neighbor** The outlier score of an object is given by the distance to its k-nearest neighbor. However, the outlier score can be highly sensitive to the value of k. If k is too small, e.g., 1, then a small number of nearby outliers can cause a low outlier score. On the other hand, if k is too large, then it is possible for all objects in a cluster that has fewer objects than k to become outliers."
   ]
  },
  {
   "cell_type": "code",
   "execution_count": 95,
   "metadata": {
    "colab": {
     "base_uri": "https://localhost:8080/"
    },
    "executionInfo": {
     "elapsed": 19,
     "status": "ok",
     "timestamp": 1682695282406,
     "user": {
      "displayName": "Adnan Alkattan",
      "userId": "14686308749644374052"
     },
     "user_tz": -180
    },
    "id": "7LEuDXUtx91O",
    "outputId": "90774bc5-cf7e-447d-c7e1-6c25bec5e2a2"
   },
   "outputs": [
    {
     "name": "stdout",
     "output_type": "stream",
     "text": [
      "\n",
      "On Training Data:\n",
      "KNN ROC:0.9992, precision @ rank n:0.95\n",
      "\n",
      "On Test Data:\n",
      "KNN ROC:1.0, precision @ rank n:1.0\n"
     ]
    }
   ],
   "source": [
    "from pyod.models.knn import KNN\n",
    "clf = KNN()\n",
    "clf.fit(X_train)\n",
    "\n",
    "y_train_pred = clf.labels_\n",
    "y_train_scores = clf.decision_scores_\n",
    "\n",
    "y_test_pred = clf.predict(X_test)\n",
    "y_test_scores = clf.decision_function(X_test)\n",
    "\n",
    "print(\"\\nOn Training Data:\")\n",
    "evaluate_print('KNN', y_train, y_train_scores)\n",
    "print(\"\\nOn Test Data:\")\n",
    "evaluate_print('KNN', y_test, y_test_scores)"
   ]
  },
  {
   "cell_type": "markdown",
   "metadata": {
    "id": "vxx5brmwSpCq"
   },
   "source": [
    "The distance calculation might appear trivial in the first glance. Nonetheless, there are many factors to consider while choosing our distance metric. By default the algorithm uses the Euclidean distance, but when there is some kind of redundant information i.e corrleation among variables, the Mahalanobis distance is a better choice because by considering the covariance between the points in the distance calculation, we remove that redundancy.\n",
    "\\begin{equation}\n",
    "mahalanobis(\\vec u, \\vec v) = (\\vec u - \\vec v)^T\\,c^{-1}\\,(\\vec u - \\vec v)\n",
    "\\end{equation}\n"
   ]
  },
  {
   "cell_type": "code",
   "execution_count": 96,
   "metadata": {
    "colab": {
     "base_uri": "https://localhost:8080/"
    },
    "executionInfo": {
     "elapsed": 15,
     "status": "ok",
     "timestamp": 1682695282406,
     "user": {
      "displayName": "Adnan Alkattan",
      "userId": "14686308749644374052"
     },
     "user_tz": -180
    },
    "id": "4N_d3kfGacWN",
    "outputId": "4888a560-76ca-43b9-debd-3477308b195d"
   },
   "outputs": [
    {
     "data": {
      "text/plain": [
       "KNN(algorithm='auto', contamination=0.1, leaf_size=30, method='largest',\n",
       "  metric='mahalanobis',\n",
       "  metric_params={'V': array([[4.16364, 2.9051 ],\n",
       "       [2.9051 , 5.38123]])},\n",
       "  n_jobs=1, n_neighbors=5, p=2, radius=1.0)"
      ]
     },
     "execution_count": 96,
     "metadata": {},
     "output_type": "execute_result"
    }
   ],
   "source": [
    "X_train_cov = np.cov(X_train, rowvar=False)\n",
    "clf = KNN(algorithm='auto', metric='mahalanobis',\n",
    "          metric_params={'V': X_train_cov})\n",
    "clf.fit(X_train)"
   ]
  },
  {
   "cell_type": "markdown",
   "metadata": {
    "id": "HfGEUz_w02xr"
   },
   "source": [
    "There are many other approches in PyOD all follow the same API as scikit-learn. In fact, PyOD is build on top of scikit-learn.\n",
    "\n",
    "Try experiment with different models and approches."
   ]
  },
  {
   "cell_type": "code",
   "execution_count": 97,
   "metadata": {
    "id": "6xdAwSIr0wWW"
   },
   "outputs": [],
   "source": [
    "########################\n",
    "#####YOUR CODE HERE#####\n",
    "########################"
   ]
  },
  {
   "cell_type": "markdown",
   "metadata": {
    "id": "jfj8ebOPti_e"
   },
   "source": [
    "## Modeling\n",
    "Not in our concerns of this class so move fast on it."
   ]
  },
  {
   "cell_type": "code",
   "execution_count": 98,
   "metadata": {
    "id": "ra7UmlF5uiep"
   },
   "outputs": [],
   "source": [
    "from sklearn.svm import SVC\n",
    "from sklearn.ensemble import RandomForestClassifier\n",
    "from sklearn.compose import ColumnTransformer\n",
    "from sklearn.pipeline import Pipeline\n",
    "from sklearn.impute import SimpleImputer\n",
    "from sklearn.preprocessing import StandardScaler, MinMaxScaler, OneHotEncoder"
   ]
  },
  {
   "cell_type": "code",
   "execution_count": 99,
   "metadata": {
    "colab": {
     "base_uri": "https://localhost:8080/",
     "height": 206
    },
    "executionInfo": {
     "elapsed": 27,
     "status": "ok",
     "timestamp": 1682695282927,
     "user": {
      "displayName": "Adnan Alkattan",
      "userId": "14686308749644374052"
     },
     "user_tz": -180
    },
    "id": "UngcbNCZOipa",
    "outputId": "3fac5833-9443-4c67-a727-b1ba74cc66f6"
   },
   "outputs": [
    {
     "data": {
      "text/html": [
       "<div>\n",
       "<style scoped>\n",
       "    .dataframe tbody tr th:only-of-type {\n",
       "        vertical-align: middle;\n",
       "    }\n",
       "\n",
       "    .dataframe tbody tr th {\n",
       "        vertical-align: top;\n",
       "    }\n",
       "\n",
       "    .dataframe thead th {\n",
       "        text-align: right;\n",
       "    }\n",
       "</style>\n",
       "<table border=\"1\" class=\"dataframe\">\n",
       "  <thead>\n",
       "    <tr style=\"text-align: right;\">\n",
       "      <th></th>\n",
       "      <th>Survived</th>\n",
       "      <th>Pclass</th>\n",
       "      <th>Sex</th>\n",
       "      <th>Age</th>\n",
       "      <th>SibSp</th>\n",
       "      <th>Parch</th>\n",
       "      <th>Ticket</th>\n",
       "      <th>Fare</th>\n",
       "      <th>Cabin</th>\n",
       "      <th>Embarked</th>\n",
       "      <th>surname</th>\n",
       "      <th>age_category</th>\n",
       "      <th>Family</th>\n",
       "    </tr>\n",
       "  </thead>\n",
       "  <tbody>\n",
       "    <tr>\n",
       "      <th>0</th>\n",
       "      <td>0</td>\n",
       "      <td>3</td>\n",
       "      <td>male</td>\n",
       "      <td>22.0</td>\n",
       "      <td>1</td>\n",
       "      <td>0</td>\n",
       "      <td>A/5 21171</td>\n",
       "      <td>7.2500</td>\n",
       "      <td>u</td>\n",
       "      <td>S</td>\n",
       "      <td>Mr</td>\n",
       "      <td>adult</td>\n",
       "      <td>1</td>\n",
       "    </tr>\n",
       "    <tr>\n",
       "      <th>1</th>\n",
       "      <td>1</td>\n",
       "      <td>1</td>\n",
       "      <td>female</td>\n",
       "      <td>38.0</td>\n",
       "      <td>1</td>\n",
       "      <td>0</td>\n",
       "      <td>PC 17599</td>\n",
       "      <td>71.2833</td>\n",
       "      <td>C</td>\n",
       "      <td>C</td>\n",
       "      <td>Mrs</td>\n",
       "      <td>adult</td>\n",
       "      <td>1</td>\n",
       "    </tr>\n",
       "    <tr>\n",
       "      <th>2</th>\n",
       "      <td>1</td>\n",
       "      <td>3</td>\n",
       "      <td>female</td>\n",
       "      <td>26.0</td>\n",
       "      <td>0</td>\n",
       "      <td>0</td>\n",
       "      <td>STON/O2. 3101282</td>\n",
       "      <td>7.9250</td>\n",
       "      <td>u</td>\n",
       "      <td>S</td>\n",
       "      <td>Miss</td>\n",
       "      <td>adult</td>\n",
       "      <td>0</td>\n",
       "    </tr>\n",
       "    <tr>\n",
       "      <th>3</th>\n",
       "      <td>1</td>\n",
       "      <td>1</td>\n",
       "      <td>female</td>\n",
       "      <td>35.0</td>\n",
       "      <td>1</td>\n",
       "      <td>0</td>\n",
       "      <td>113803</td>\n",
       "      <td>53.1000</td>\n",
       "      <td>C</td>\n",
       "      <td>S</td>\n",
       "      <td>Mrs</td>\n",
       "      <td>adult</td>\n",
       "      <td>1</td>\n",
       "    </tr>\n",
       "    <tr>\n",
       "      <th>4</th>\n",
       "      <td>0</td>\n",
       "      <td>3</td>\n",
       "      <td>male</td>\n",
       "      <td>35.0</td>\n",
       "      <td>0</td>\n",
       "      <td>0</td>\n",
       "      <td>373450</td>\n",
       "      <td>8.0500</td>\n",
       "      <td>u</td>\n",
       "      <td>S</td>\n",
       "      <td>Mr</td>\n",
       "      <td>adult</td>\n",
       "      <td>0</td>\n",
       "    </tr>\n",
       "  </tbody>\n",
       "</table>\n",
       "</div>"
      ],
      "text/plain": [
       "   Survived  Pclass     Sex   Age  SibSp  Parch            Ticket     Fare  \\\n",
       "0         0       3    male  22.0      1      0         A/5 21171   7.2500   \n",
       "1         1       1  female  38.0      1      0          PC 17599  71.2833   \n",
       "2         1       3  female  26.0      0      0  STON/O2. 3101282   7.9250   \n",
       "3         1       1  female  35.0      1      0            113803  53.1000   \n",
       "4         0       3    male  35.0      0      0            373450   8.0500   \n",
       "\n",
       "  Cabin Embarked surname age_category  Family  \n",
       "0     u        S      Mr        adult       1  \n",
       "1     C        C     Mrs        adult       1  \n",
       "2     u        S    Miss        adult       0  \n",
       "3     C        S     Mrs        adult       1  \n",
       "4     u        S      Mr        adult       0  "
      ]
     },
     "execution_count": 99,
     "metadata": {},
     "output_type": "execute_result"
    }
   ],
   "source": [
    "processed_df.head()"
   ]
  },
  {
   "cell_type": "code",
   "execution_count": 100,
   "metadata": {
    "id": "XTZ7W7PHNZgu"
   },
   "outputs": [],
   "source": [
    "def make_preprocessing_pipeline(numerical, categorical):\n",
    "\n",
    "    # We create the preprocessing pipelines for both numeric and categorical.\n",
    "    numeric_transformer = Pipeline(steps=[\n",
    "        ('imputer', SimpleImputer(missing_values=np.nan,\n",
    "                                  strategy='median')),\n",
    "        ('scaler', StandardScaler())])\n",
    "\n",
    "    categorical_transformer = Pipeline(steps=[\n",
    "        ('imputer', SimpleImputer(missing_values=np.nan,\n",
    "                                  strategy='most_frequent')),\n",
    "        ('onehot', OneHotEncoder(handle_unknown='ignore'))])\n",
    "\n",
    "    return ColumnTransformer(\n",
    "        transformers=[\n",
    "            ('num', numeric_transformer, numerical),\n",
    "            ('cat', categorical_transformer, categorical)])\n",
    "\n",
    "def make_classification_pipeline():\n",
    "    return Pipeline(steps=[\n",
    "                            ('preprocessor',\n",
    "                             make_preprocessing_pipeline(['Fare', 'Family'],\n",
    "                                                        ['Sex', 'Cabin',\n",
    "                                                         'Embarked',\n",
    "                                                         'Pclass'])),\n",
    "                           ('classifier',\n",
    "                            RandomForestClassifier(random_state=1234))\n",
    "                           ## for reproducible results\n",
    "\n",
    "    ])"
   ]
  },
  {
   "cell_type": "code",
   "execution_count": 101,
   "metadata": {
    "id": "ni_Ad3MVOsy0"
   },
   "outputs": [],
   "source": [
    "y_train = processed_df['Survived']\n",
    "X_train = processed_df.drop(['Survived', 'SibSp', 'Parch', 'Ticket', 'surname', 'Age'], axis=1)"
   ]
  },
  {
   "cell_type": "code",
   "execution_count": 102,
   "metadata": {
    "id": "wuVu0rH4heax"
   },
   "outputs": [],
   "source": [
    "from sklearn.model_selection import train_test_split\n",
    "X_train, X_val, y_train, y_val = train_test_split(X_train, y_train,\n",
    "                                                  test_size = 0.10,\n",
    "                                                  stratify=y_train,\n",
    "                                                  random_state=44)"
   ]
  },
  {
   "cell_type": "code",
   "execution_count": 103,
   "metadata": {
    "id": "7CP25EEJOaHX"
   },
   "outputs": [],
   "source": [
    "clf = make_classification_pipeline()\n",
    "clf = clf.fit(X_train, y_train)"
   ]
  },
  {
   "cell_type": "code",
   "execution_count": 104,
   "metadata": {
    "colab": {
     "base_uri": "https://localhost:8080/"
    },
    "executionInfo": {
     "elapsed": 27,
     "status": "ok",
     "timestamp": 1682695282931,
     "user": {
      "displayName": "Adnan Alkattan",
      "userId": "14686308749644374052"
     },
     "user_tz": -180
    },
    "id": "D0RMi8RwPwtX",
    "outputId": "82f4140e-745e-4975-e958-d8159d9d5e4d"
   },
   "outputs": [
    {
     "name": "stdout",
     "output_type": "stream",
     "text": [
      "              precision    recall  f1-score   support\n",
      "\n",
      "        Died       0.92      0.97      0.95       494\n",
      "    Survived       0.94      0.87      0.91       306\n",
      "\n",
      "    accuracy                           0.93       800\n",
      "   macro avg       0.93      0.92      0.93       800\n",
      "weighted avg       0.93      0.93      0.93       800\n",
      "\n"
     ]
    }
   ],
   "source": [
    "from sklearn.metrics import classification_report\n",
    "\n",
    "print(classification_report(y_train, clf.predict(X_train),\n",
    "                            target_names=['Died', 'Survived']))"
   ]
  },
  {
   "cell_type": "code",
   "execution_count": 105,
   "metadata": {
    "colab": {
     "base_uri": "https://localhost:8080/"
    },
    "executionInfo": {
     "elapsed": 22,
     "status": "ok",
     "timestamp": 1682695282932,
     "user": {
      "displayName": "Adnan Alkattan",
      "userId": "14686308749644374052"
     },
     "user_tz": -180
    },
    "id": "AIzO3PAkhre9",
    "outputId": "ebe2edd4-2db9-486c-de88-ed9b7797bd93"
   },
   "outputs": [
    {
     "name": "stdout",
     "output_type": "stream",
     "text": [
      "              precision    recall  f1-score   support\n",
      "\n",
      "        Died       0.80      0.89      0.84        55\n",
      "    Survived       0.79      0.65      0.71        34\n",
      "\n",
      "    accuracy                           0.80        89\n",
      "   macro avg       0.79      0.77      0.78        89\n",
      "weighted avg       0.80      0.80      0.79        89\n",
      "\n"
     ]
    }
   ],
   "source": [
    "print(classification_report(y_val, clf.predict(X_val),\n",
    "                            target_names=['Died', 'Survived']))"
   ]
  },
  {
   "cell_type": "code",
   "execution_count": 106,
   "metadata": {
    "id": "p4T_ZFIYP1G9"
   },
   "outputs": [],
   "source": [
    "def make_preprocessing_pipeline(numerical, normal_numerical, categorical):\n",
    "\n",
    "    numeric_transformer = Pipeline(steps=[\n",
    "        ('imputer', SimpleImputer(missing_values=np.nan,\n",
    "                                  strategy='median')),\n",
    "        ('scaler', MinMaxScaler())])\n",
    "\n",
    "    normal_transformer = Pipeline(steps=[\n",
    "        ('imputer', SimpleImputer(missing_values=np.nan,\n",
    "                                  strategy='median')),\n",
    "        ('scaler', StandardScaler())])\n",
    "\n",
    "    categorical_transformer = Pipeline(steps=[\n",
    "        ('imputer', SimpleImputer(missing_values=np.nan,\n",
    "                                  strategy='most_frequent')),\n",
    "        ('onehot', OneHotEncoder(handle_unknown='ignore'))])\n",
    "\n",
    "    return ColumnTransformer(\n",
    "        transformers=[\n",
    "            ('norm_num', normal_transformer, normal_numerical),\n",
    "            ('num', numeric_transformer, numerical),\n",
    "            ('cat', categorical_transformer, categorical)])\n",
    "\n",
    "def make_classification_pipeline():\n",
    "    return Pipeline(steps=[\n",
    "                            ('preprocessor',\n",
    "                             make_preprocessing_pipeline(['Fare'], ['Family'],\n",
    "                                                        ['Sex', 'Cabin',\n",
    "                                                         'Embarked',\n",
    "                                                         'Pclass'])),\n",
    "                           ('classifier',\n",
    "                            RandomForestClassifier(random_state=1234))\n",
    "                           ## for reproducible results\n",
    "\n",
    "    ])"
   ]
  },
  {
   "cell_type": "code",
   "execution_count": 107,
   "metadata": {
    "colab": {
     "base_uri": "https://localhost:8080/",
     "height": 225
    },
    "executionInfo": {
     "elapsed": 1354,
     "status": "ok",
     "timestamp": 1682695284271,
     "user": {
      "displayName": "Adnan Alkattan",
      "userId": "14686308749644374052"
     },
     "user_tz": -180
    },
    "id": "eqQAahMtgum0",
    "outputId": "1eaab708-69e2-4a86-9935-61d999b59de6"
   },
   "outputs": [
    {
     "data": {
      "text/html": [
       "<style>#sk-container-id-1 {\n",
       "  /* Definition of color scheme common for light and dark mode */\n",
       "  --sklearn-color-text: black;\n",
       "  --sklearn-color-line: gray;\n",
       "  /* Definition of color scheme for unfitted estimators */\n",
       "  --sklearn-color-unfitted-level-0: #fff5e6;\n",
       "  --sklearn-color-unfitted-level-1: #f6e4d2;\n",
       "  --sklearn-color-unfitted-level-2: #ffe0b3;\n",
       "  --sklearn-color-unfitted-level-3: chocolate;\n",
       "  /* Definition of color scheme for fitted estimators */\n",
       "  --sklearn-color-fitted-level-0: #f0f8ff;\n",
       "  --sklearn-color-fitted-level-1: #d4ebff;\n",
       "  --sklearn-color-fitted-level-2: #b3dbfd;\n",
       "  --sklearn-color-fitted-level-3: cornflowerblue;\n",
       "\n",
       "  /* Specific color for light theme */\n",
       "  --sklearn-color-text-on-default-background: var(--sg-text-color, var(--theme-code-foreground, var(--jp-content-font-color1, black)));\n",
       "  --sklearn-color-background: var(--sg-background-color, var(--theme-background, var(--jp-layout-color0, white)));\n",
       "  --sklearn-color-border-box: var(--sg-text-color, var(--theme-code-foreground, var(--jp-content-font-color1, black)));\n",
       "  --sklearn-color-icon: #696969;\n",
       "\n",
       "  @media (prefers-color-scheme: dark) {\n",
       "    /* Redefinition of color scheme for dark theme */\n",
       "    --sklearn-color-text-on-default-background: var(--sg-text-color, var(--theme-code-foreground, var(--jp-content-font-color1, white)));\n",
       "    --sklearn-color-background: var(--sg-background-color, var(--theme-background, var(--jp-layout-color0, #111)));\n",
       "    --sklearn-color-border-box: var(--sg-text-color, var(--theme-code-foreground, var(--jp-content-font-color1, white)));\n",
       "    --sklearn-color-icon: #878787;\n",
       "  }\n",
       "}\n",
       "\n",
       "#sk-container-id-1 {\n",
       "  color: var(--sklearn-color-text);\n",
       "}\n",
       "\n",
       "#sk-container-id-1 pre {\n",
       "  padding: 0;\n",
       "}\n",
       "\n",
       "#sk-container-id-1 input.sk-hidden--visually {\n",
       "  border: 0;\n",
       "  clip: rect(1px 1px 1px 1px);\n",
       "  clip: rect(1px, 1px, 1px, 1px);\n",
       "  height: 1px;\n",
       "  margin: -1px;\n",
       "  overflow: hidden;\n",
       "  padding: 0;\n",
       "  position: absolute;\n",
       "  width: 1px;\n",
       "}\n",
       "\n",
       "#sk-container-id-1 div.sk-dashed-wrapped {\n",
       "  border: 1px dashed var(--sklearn-color-line);\n",
       "  margin: 0 0.4em 0.5em 0.4em;\n",
       "  box-sizing: border-box;\n",
       "  padding-bottom: 0.4em;\n",
       "  background-color: var(--sklearn-color-background);\n",
       "}\n",
       "\n",
       "#sk-container-id-1 div.sk-container {\n",
       "  /* jupyter's `normalize.less` sets `[hidden] { display: none; }`\n",
       "     but bootstrap.min.css set `[hidden] { display: none !important; }`\n",
       "     so we also need the `!important` here to be able to override the\n",
       "     default hidden behavior on the sphinx rendered scikit-learn.org.\n",
       "     See: https://github.com/scikit-learn/scikit-learn/issues/21755 */\n",
       "  display: inline-block !important;\n",
       "  position: relative;\n",
       "}\n",
       "\n",
       "#sk-container-id-1 div.sk-text-repr-fallback {\n",
       "  display: none;\n",
       "}\n",
       "\n",
       "div.sk-parallel-item,\n",
       "div.sk-serial,\n",
       "div.sk-item {\n",
       "  /* draw centered vertical line to link estimators */\n",
       "  background-image: linear-gradient(var(--sklearn-color-text-on-default-background), var(--sklearn-color-text-on-default-background));\n",
       "  background-size: 2px 100%;\n",
       "  background-repeat: no-repeat;\n",
       "  background-position: center center;\n",
       "}\n",
       "\n",
       "/* Parallel-specific style estimator block */\n",
       "\n",
       "#sk-container-id-1 div.sk-parallel-item::after {\n",
       "  content: \"\";\n",
       "  width: 100%;\n",
       "  border-bottom: 2px solid var(--sklearn-color-text-on-default-background);\n",
       "  flex-grow: 1;\n",
       "}\n",
       "\n",
       "#sk-container-id-1 div.sk-parallel {\n",
       "  display: flex;\n",
       "  align-items: stretch;\n",
       "  justify-content: center;\n",
       "  background-color: var(--sklearn-color-background);\n",
       "  position: relative;\n",
       "}\n",
       "\n",
       "#sk-container-id-1 div.sk-parallel-item {\n",
       "  display: flex;\n",
       "  flex-direction: column;\n",
       "}\n",
       "\n",
       "#sk-container-id-1 div.sk-parallel-item:first-child::after {\n",
       "  align-self: flex-end;\n",
       "  width: 50%;\n",
       "}\n",
       "\n",
       "#sk-container-id-1 div.sk-parallel-item:last-child::after {\n",
       "  align-self: flex-start;\n",
       "  width: 50%;\n",
       "}\n",
       "\n",
       "#sk-container-id-1 div.sk-parallel-item:only-child::after {\n",
       "  width: 0;\n",
       "}\n",
       "\n",
       "/* Serial-specific style estimator block */\n",
       "\n",
       "#sk-container-id-1 div.sk-serial {\n",
       "  display: flex;\n",
       "  flex-direction: column;\n",
       "  align-items: center;\n",
       "  background-color: var(--sklearn-color-background);\n",
       "  padding-right: 1em;\n",
       "  padding-left: 1em;\n",
       "}\n",
       "\n",
       "\n",
       "/* Toggleable style: style used for estimator/Pipeline/ColumnTransformer box that is\n",
       "clickable and can be expanded/collapsed.\n",
       "- Pipeline and ColumnTransformer use this feature and define the default style\n",
       "- Estimators will overwrite some part of the style using the `sk-estimator` class\n",
       "*/\n",
       "\n",
       "/* Pipeline and ColumnTransformer style (default) */\n",
       "\n",
       "#sk-container-id-1 div.sk-toggleable {\n",
       "  /* Default theme specific background. It is overwritten whether we have a\n",
       "  specific estimator or a Pipeline/ColumnTransformer */\n",
       "  background-color: var(--sklearn-color-background);\n",
       "}\n",
       "\n",
       "/* Toggleable label */\n",
       "#sk-container-id-1 label.sk-toggleable__label {\n",
       "  cursor: pointer;\n",
       "  display: block;\n",
       "  width: 100%;\n",
       "  margin-bottom: 0;\n",
       "  padding: 0.5em;\n",
       "  box-sizing: border-box;\n",
       "  text-align: center;\n",
       "}\n",
       "\n",
       "#sk-container-id-1 label.sk-toggleable__label-arrow:before {\n",
       "  /* Arrow on the left of the label */\n",
       "  content: \"▸\";\n",
       "  float: left;\n",
       "  margin-right: 0.25em;\n",
       "  color: var(--sklearn-color-icon);\n",
       "}\n",
       "\n",
       "#sk-container-id-1 label.sk-toggleable__label-arrow:hover:before {\n",
       "  color: var(--sklearn-color-text);\n",
       "}\n",
       "\n",
       "/* Toggleable content - dropdown */\n",
       "\n",
       "#sk-container-id-1 div.sk-toggleable__content {\n",
       "  max-height: 0;\n",
       "  max-width: 0;\n",
       "  overflow: hidden;\n",
       "  text-align: left;\n",
       "  /* unfitted */\n",
       "  background-color: var(--sklearn-color-unfitted-level-0);\n",
       "}\n",
       "\n",
       "#sk-container-id-1 div.sk-toggleable__content.fitted {\n",
       "  /* fitted */\n",
       "  background-color: var(--sklearn-color-fitted-level-0);\n",
       "}\n",
       "\n",
       "#sk-container-id-1 div.sk-toggleable__content pre {\n",
       "  margin: 0.2em;\n",
       "  border-radius: 0.25em;\n",
       "  color: var(--sklearn-color-text);\n",
       "  /* unfitted */\n",
       "  background-color: var(--sklearn-color-unfitted-level-0);\n",
       "}\n",
       "\n",
       "#sk-container-id-1 div.sk-toggleable__content.fitted pre {\n",
       "  /* unfitted */\n",
       "  background-color: var(--sklearn-color-fitted-level-0);\n",
       "}\n",
       "\n",
       "#sk-container-id-1 input.sk-toggleable__control:checked~div.sk-toggleable__content {\n",
       "  /* Expand drop-down */\n",
       "  max-height: 200px;\n",
       "  max-width: 100%;\n",
       "  overflow: auto;\n",
       "}\n",
       "\n",
       "#sk-container-id-1 input.sk-toggleable__control:checked~label.sk-toggleable__label-arrow:before {\n",
       "  content: \"▾\";\n",
       "}\n",
       "\n",
       "/* Pipeline/ColumnTransformer-specific style */\n",
       "\n",
       "#sk-container-id-1 div.sk-label input.sk-toggleable__control:checked~label.sk-toggleable__label {\n",
       "  color: var(--sklearn-color-text);\n",
       "  background-color: var(--sklearn-color-unfitted-level-2);\n",
       "}\n",
       "\n",
       "#sk-container-id-1 div.sk-label.fitted input.sk-toggleable__control:checked~label.sk-toggleable__label {\n",
       "  background-color: var(--sklearn-color-fitted-level-2);\n",
       "}\n",
       "\n",
       "/* Estimator-specific style */\n",
       "\n",
       "/* Colorize estimator box */\n",
       "#sk-container-id-1 div.sk-estimator input.sk-toggleable__control:checked~label.sk-toggleable__label {\n",
       "  /* unfitted */\n",
       "  background-color: var(--sklearn-color-unfitted-level-2);\n",
       "}\n",
       "\n",
       "#sk-container-id-1 div.sk-estimator.fitted input.sk-toggleable__control:checked~label.sk-toggleable__label {\n",
       "  /* fitted */\n",
       "  background-color: var(--sklearn-color-fitted-level-2);\n",
       "}\n",
       "\n",
       "#sk-container-id-1 div.sk-label label.sk-toggleable__label,\n",
       "#sk-container-id-1 div.sk-label label {\n",
       "  /* The background is the default theme color */\n",
       "  color: var(--sklearn-color-text-on-default-background);\n",
       "}\n",
       "\n",
       "/* On hover, darken the color of the background */\n",
       "#sk-container-id-1 div.sk-label:hover label.sk-toggleable__label {\n",
       "  color: var(--sklearn-color-text);\n",
       "  background-color: var(--sklearn-color-unfitted-level-2);\n",
       "}\n",
       "\n",
       "/* Label box, darken color on hover, fitted */\n",
       "#sk-container-id-1 div.sk-label.fitted:hover label.sk-toggleable__label.fitted {\n",
       "  color: var(--sklearn-color-text);\n",
       "  background-color: var(--sklearn-color-fitted-level-2);\n",
       "}\n",
       "\n",
       "/* Estimator label */\n",
       "\n",
       "#sk-container-id-1 div.sk-label label {\n",
       "  font-family: monospace;\n",
       "  font-weight: bold;\n",
       "  display: inline-block;\n",
       "  line-height: 1.2em;\n",
       "}\n",
       "\n",
       "#sk-container-id-1 div.sk-label-container {\n",
       "  text-align: center;\n",
       "}\n",
       "\n",
       "/* Estimator-specific */\n",
       "#sk-container-id-1 div.sk-estimator {\n",
       "  font-family: monospace;\n",
       "  border: 1px dotted var(--sklearn-color-border-box);\n",
       "  border-radius: 0.25em;\n",
       "  box-sizing: border-box;\n",
       "  margin-bottom: 0.5em;\n",
       "  /* unfitted */\n",
       "  background-color: var(--sklearn-color-unfitted-level-0);\n",
       "}\n",
       "\n",
       "#sk-container-id-1 div.sk-estimator.fitted {\n",
       "  /* fitted */\n",
       "  background-color: var(--sklearn-color-fitted-level-0);\n",
       "}\n",
       "\n",
       "/* on hover */\n",
       "#sk-container-id-1 div.sk-estimator:hover {\n",
       "  /* unfitted */\n",
       "  background-color: var(--sklearn-color-unfitted-level-2);\n",
       "}\n",
       "\n",
       "#sk-container-id-1 div.sk-estimator.fitted:hover {\n",
       "  /* fitted */\n",
       "  background-color: var(--sklearn-color-fitted-level-2);\n",
       "}\n",
       "\n",
       "/* Specification for estimator info (e.g. \"i\" and \"?\") */\n",
       "\n",
       "/* Common style for \"i\" and \"?\" */\n",
       "\n",
       ".sk-estimator-doc-link,\n",
       "a:link.sk-estimator-doc-link,\n",
       "a:visited.sk-estimator-doc-link {\n",
       "  float: right;\n",
       "  font-size: smaller;\n",
       "  line-height: 1em;\n",
       "  font-family: monospace;\n",
       "  background-color: var(--sklearn-color-background);\n",
       "  border-radius: 1em;\n",
       "  height: 1em;\n",
       "  width: 1em;\n",
       "  text-decoration: none !important;\n",
       "  margin-left: 1ex;\n",
       "  /* unfitted */\n",
       "  border: var(--sklearn-color-unfitted-level-1) 1pt solid;\n",
       "  color: var(--sklearn-color-unfitted-level-1);\n",
       "}\n",
       "\n",
       ".sk-estimator-doc-link.fitted,\n",
       "a:link.sk-estimator-doc-link.fitted,\n",
       "a:visited.sk-estimator-doc-link.fitted {\n",
       "  /* fitted */\n",
       "  border: var(--sklearn-color-fitted-level-1) 1pt solid;\n",
       "  color: var(--sklearn-color-fitted-level-1);\n",
       "}\n",
       "\n",
       "/* On hover */\n",
       "div.sk-estimator:hover .sk-estimator-doc-link:hover,\n",
       ".sk-estimator-doc-link:hover,\n",
       "div.sk-label-container:hover .sk-estimator-doc-link:hover,\n",
       ".sk-estimator-doc-link:hover {\n",
       "  /* unfitted */\n",
       "  background-color: var(--sklearn-color-unfitted-level-3);\n",
       "  color: var(--sklearn-color-background);\n",
       "  text-decoration: none;\n",
       "}\n",
       "\n",
       "div.sk-estimator.fitted:hover .sk-estimator-doc-link.fitted:hover,\n",
       ".sk-estimator-doc-link.fitted:hover,\n",
       "div.sk-label-container:hover .sk-estimator-doc-link.fitted:hover,\n",
       ".sk-estimator-doc-link.fitted:hover {\n",
       "  /* fitted */\n",
       "  background-color: var(--sklearn-color-fitted-level-3);\n",
       "  color: var(--sklearn-color-background);\n",
       "  text-decoration: none;\n",
       "}\n",
       "\n",
       "/* Span, style for the box shown on hovering the info icon */\n",
       ".sk-estimator-doc-link span {\n",
       "  display: none;\n",
       "  z-index: 9999;\n",
       "  position: relative;\n",
       "  font-weight: normal;\n",
       "  right: .2ex;\n",
       "  padding: .5ex;\n",
       "  margin: .5ex;\n",
       "  width: min-content;\n",
       "  min-width: 20ex;\n",
       "  max-width: 50ex;\n",
       "  color: var(--sklearn-color-text);\n",
       "  box-shadow: 2pt 2pt 4pt #999;\n",
       "  /* unfitted */\n",
       "  background: var(--sklearn-color-unfitted-level-0);\n",
       "  border: .5pt solid var(--sklearn-color-unfitted-level-3);\n",
       "}\n",
       "\n",
       ".sk-estimator-doc-link.fitted span {\n",
       "  /* fitted */\n",
       "  background: var(--sklearn-color-fitted-level-0);\n",
       "  border: var(--sklearn-color-fitted-level-3);\n",
       "}\n",
       "\n",
       ".sk-estimator-doc-link:hover span {\n",
       "  display: block;\n",
       "}\n",
       "\n",
       "/* \"?\"-specific style due to the `<a>` HTML tag */\n",
       "\n",
       "#sk-container-id-1 a.estimator_doc_link {\n",
       "  float: right;\n",
       "  font-size: 1rem;\n",
       "  line-height: 1em;\n",
       "  font-family: monospace;\n",
       "  background-color: var(--sklearn-color-background);\n",
       "  border-radius: 1rem;\n",
       "  height: 1rem;\n",
       "  width: 1rem;\n",
       "  text-decoration: none;\n",
       "  /* unfitted */\n",
       "  color: var(--sklearn-color-unfitted-level-1);\n",
       "  border: var(--sklearn-color-unfitted-level-1) 1pt solid;\n",
       "}\n",
       "\n",
       "#sk-container-id-1 a.estimator_doc_link.fitted {\n",
       "  /* fitted */\n",
       "  border: var(--sklearn-color-fitted-level-1) 1pt solid;\n",
       "  color: var(--sklearn-color-fitted-level-1);\n",
       "}\n",
       "\n",
       "/* On hover */\n",
       "#sk-container-id-1 a.estimator_doc_link:hover {\n",
       "  /* unfitted */\n",
       "  background-color: var(--sklearn-color-unfitted-level-3);\n",
       "  color: var(--sklearn-color-background);\n",
       "  text-decoration: none;\n",
       "}\n",
       "\n",
       "#sk-container-id-1 a.estimator_doc_link.fitted:hover {\n",
       "  /* fitted */\n",
       "  background-color: var(--sklearn-color-fitted-level-3);\n",
       "}\n",
       "</style><div id=\"sk-container-id-1\" class=\"sk-top-container\"><div class=\"sk-text-repr-fallback\"><pre>Pipeline(steps=[(&#x27;preprocessor&#x27;,\n",
       "                 ColumnTransformer(transformers=[(&#x27;norm_num&#x27;,\n",
       "                                                  Pipeline(steps=[(&#x27;imputer&#x27;,\n",
       "                                                                   SimpleImputer(strategy=&#x27;median&#x27;)),\n",
       "                                                                  (&#x27;scaler&#x27;,\n",
       "                                                                   StandardScaler())]),\n",
       "                                                  [&#x27;Family&#x27;]),\n",
       "                                                 (&#x27;num&#x27;,\n",
       "                                                  Pipeline(steps=[(&#x27;imputer&#x27;,\n",
       "                                                                   SimpleImputer(strategy=&#x27;median&#x27;)),\n",
       "                                                                  (&#x27;scaler&#x27;,\n",
       "                                                                   MinMaxScaler())]),\n",
       "                                                  [&#x27;Fare&#x27;]),\n",
       "                                                 (&#x27;cat&#x27;,\n",
       "                                                  Pipeline(steps=[(&#x27;imputer&#x27;,\n",
       "                                                                   SimpleImputer(strategy=&#x27;most_frequent&#x27;)),\n",
       "                                                                  (&#x27;onehot&#x27;,\n",
       "                                                                   OneHotEncoder(handle_unknown=&#x27;ignore&#x27;))]),\n",
       "                                                  [&#x27;Sex&#x27;, &#x27;Cabin&#x27;, &#x27;Embarked&#x27;,\n",
       "                                                   &#x27;Pclass&#x27;])])),\n",
       "                (&#x27;classifier&#x27;, RandomForestClassifier(random_state=1234))])</pre><b>In a Jupyter environment, please rerun this cell to show the HTML representation or trust the notebook. <br />On GitHub, the HTML representation is unable to render, please try loading this page with nbviewer.org.</b></div><div class=\"sk-container\" hidden><div class=\"sk-item sk-dashed-wrapped\"><div class=\"sk-label-container\"><div class=\"sk-label fitted sk-toggleable\"><input class=\"sk-toggleable__control sk-hidden--visually\" id=\"sk-estimator-id-1\" type=\"checkbox\" ><label for=\"sk-estimator-id-1\" class=\"sk-toggleable__label fitted sk-toggleable__label-arrow fitted\">&nbsp;&nbsp;Pipeline<a class=\"sk-estimator-doc-link fitted\" rel=\"noreferrer\" target=\"_blank\" href=\"https://scikit-learn.org/1.4/modules/generated/sklearn.pipeline.Pipeline.html\">?<span>Documentation for Pipeline</span></a><span class=\"sk-estimator-doc-link fitted\">i<span>Fitted</span></span></label><div class=\"sk-toggleable__content fitted\"><pre>Pipeline(steps=[(&#x27;preprocessor&#x27;,\n",
       "                 ColumnTransformer(transformers=[(&#x27;norm_num&#x27;,\n",
       "                                                  Pipeline(steps=[(&#x27;imputer&#x27;,\n",
       "                                                                   SimpleImputer(strategy=&#x27;median&#x27;)),\n",
       "                                                                  (&#x27;scaler&#x27;,\n",
       "                                                                   StandardScaler())]),\n",
       "                                                  [&#x27;Family&#x27;]),\n",
       "                                                 (&#x27;num&#x27;,\n",
       "                                                  Pipeline(steps=[(&#x27;imputer&#x27;,\n",
       "                                                                   SimpleImputer(strategy=&#x27;median&#x27;)),\n",
       "                                                                  (&#x27;scaler&#x27;,\n",
       "                                                                   MinMaxScaler())]),\n",
       "                                                  [&#x27;Fare&#x27;]),\n",
       "                                                 (&#x27;cat&#x27;,\n",
       "                                                  Pipeline(steps=[(&#x27;imputer&#x27;,\n",
       "                                                                   SimpleImputer(strategy=&#x27;most_frequent&#x27;)),\n",
       "                                                                  (&#x27;onehot&#x27;,\n",
       "                                                                   OneHotEncoder(handle_unknown=&#x27;ignore&#x27;))]),\n",
       "                                                  [&#x27;Sex&#x27;, &#x27;Cabin&#x27;, &#x27;Embarked&#x27;,\n",
       "                                                   &#x27;Pclass&#x27;])])),\n",
       "                (&#x27;classifier&#x27;, RandomForestClassifier(random_state=1234))])</pre></div> </div></div><div class=\"sk-serial\"><div class=\"sk-item sk-dashed-wrapped\"><div class=\"sk-label-container\"><div class=\"sk-label fitted sk-toggleable\"><input class=\"sk-toggleable__control sk-hidden--visually\" id=\"sk-estimator-id-2\" type=\"checkbox\" ><label for=\"sk-estimator-id-2\" class=\"sk-toggleable__label fitted sk-toggleable__label-arrow fitted\">&nbsp;preprocessor: ColumnTransformer<a class=\"sk-estimator-doc-link fitted\" rel=\"noreferrer\" target=\"_blank\" href=\"https://scikit-learn.org/1.4/modules/generated/sklearn.compose.ColumnTransformer.html\">?<span>Documentation for preprocessor: ColumnTransformer</span></a></label><div class=\"sk-toggleable__content fitted\"><pre>ColumnTransformer(transformers=[(&#x27;norm_num&#x27;,\n",
       "                                 Pipeline(steps=[(&#x27;imputer&#x27;,\n",
       "                                                  SimpleImputer(strategy=&#x27;median&#x27;)),\n",
       "                                                 (&#x27;scaler&#x27;, StandardScaler())]),\n",
       "                                 [&#x27;Family&#x27;]),\n",
       "                                (&#x27;num&#x27;,\n",
       "                                 Pipeline(steps=[(&#x27;imputer&#x27;,\n",
       "                                                  SimpleImputer(strategy=&#x27;median&#x27;)),\n",
       "                                                 (&#x27;scaler&#x27;, MinMaxScaler())]),\n",
       "                                 [&#x27;Fare&#x27;]),\n",
       "                                (&#x27;cat&#x27;,\n",
       "                                 Pipeline(steps=[(&#x27;imputer&#x27;,\n",
       "                                                  SimpleImputer(strategy=&#x27;most_frequent&#x27;)),\n",
       "                                                 (&#x27;onehot&#x27;,\n",
       "                                                  OneHotEncoder(handle_unknown=&#x27;ignore&#x27;))]),\n",
       "                                 [&#x27;Sex&#x27;, &#x27;Cabin&#x27;, &#x27;Embarked&#x27;, &#x27;Pclass&#x27;])])</pre></div> </div></div><div class=\"sk-parallel\"><div class=\"sk-parallel-item\"><div class=\"sk-item\"><div class=\"sk-label-container\"><div class=\"sk-label fitted sk-toggleable\"><input class=\"sk-toggleable__control sk-hidden--visually\" id=\"sk-estimator-id-3\" type=\"checkbox\" ><label for=\"sk-estimator-id-3\" class=\"sk-toggleable__label fitted sk-toggleable__label-arrow fitted\">norm_num</label><div class=\"sk-toggleable__content fitted\"><pre>[&#x27;Family&#x27;]</pre></div> </div></div><div class=\"sk-serial\"><div class=\"sk-item\"><div class=\"sk-serial\"><div class=\"sk-item\"><div class=\"sk-estimator fitted sk-toggleable\"><input class=\"sk-toggleable__control sk-hidden--visually\" id=\"sk-estimator-id-4\" type=\"checkbox\" ><label for=\"sk-estimator-id-4\" class=\"sk-toggleable__label fitted sk-toggleable__label-arrow fitted\">&nbsp;SimpleImputer<a class=\"sk-estimator-doc-link fitted\" rel=\"noreferrer\" target=\"_blank\" href=\"https://scikit-learn.org/1.4/modules/generated/sklearn.impute.SimpleImputer.html\">?<span>Documentation for SimpleImputer</span></a></label><div class=\"sk-toggleable__content fitted\"><pre>SimpleImputer(strategy=&#x27;median&#x27;)</pre></div> </div></div><div class=\"sk-item\"><div class=\"sk-estimator fitted sk-toggleable\"><input class=\"sk-toggleable__control sk-hidden--visually\" id=\"sk-estimator-id-5\" type=\"checkbox\" ><label for=\"sk-estimator-id-5\" class=\"sk-toggleable__label fitted sk-toggleable__label-arrow fitted\">&nbsp;StandardScaler<a class=\"sk-estimator-doc-link fitted\" rel=\"noreferrer\" target=\"_blank\" href=\"https://scikit-learn.org/1.4/modules/generated/sklearn.preprocessing.StandardScaler.html\">?<span>Documentation for StandardScaler</span></a></label><div class=\"sk-toggleable__content fitted\"><pre>StandardScaler()</pre></div> </div></div></div></div></div></div></div><div class=\"sk-parallel-item\"><div class=\"sk-item\"><div class=\"sk-label-container\"><div class=\"sk-label fitted sk-toggleable\"><input class=\"sk-toggleable__control sk-hidden--visually\" id=\"sk-estimator-id-6\" type=\"checkbox\" ><label for=\"sk-estimator-id-6\" class=\"sk-toggleable__label fitted sk-toggleable__label-arrow fitted\">num</label><div class=\"sk-toggleable__content fitted\"><pre>[&#x27;Fare&#x27;]</pre></div> </div></div><div class=\"sk-serial\"><div class=\"sk-item\"><div class=\"sk-serial\"><div class=\"sk-item\"><div class=\"sk-estimator fitted sk-toggleable\"><input class=\"sk-toggleable__control sk-hidden--visually\" id=\"sk-estimator-id-7\" type=\"checkbox\" ><label for=\"sk-estimator-id-7\" class=\"sk-toggleable__label fitted sk-toggleable__label-arrow fitted\">&nbsp;SimpleImputer<a class=\"sk-estimator-doc-link fitted\" rel=\"noreferrer\" target=\"_blank\" href=\"https://scikit-learn.org/1.4/modules/generated/sklearn.impute.SimpleImputer.html\">?<span>Documentation for SimpleImputer</span></a></label><div class=\"sk-toggleable__content fitted\"><pre>SimpleImputer(strategy=&#x27;median&#x27;)</pre></div> </div></div><div class=\"sk-item\"><div class=\"sk-estimator fitted sk-toggleable\"><input class=\"sk-toggleable__control sk-hidden--visually\" id=\"sk-estimator-id-8\" type=\"checkbox\" ><label for=\"sk-estimator-id-8\" class=\"sk-toggleable__label fitted sk-toggleable__label-arrow fitted\">&nbsp;MinMaxScaler<a class=\"sk-estimator-doc-link fitted\" rel=\"noreferrer\" target=\"_blank\" href=\"https://scikit-learn.org/1.4/modules/generated/sklearn.preprocessing.MinMaxScaler.html\">?<span>Documentation for MinMaxScaler</span></a></label><div class=\"sk-toggleable__content fitted\"><pre>MinMaxScaler()</pre></div> </div></div></div></div></div></div></div><div class=\"sk-parallel-item\"><div class=\"sk-item\"><div class=\"sk-label-container\"><div class=\"sk-label fitted sk-toggleable\"><input class=\"sk-toggleable__control sk-hidden--visually\" id=\"sk-estimator-id-9\" type=\"checkbox\" ><label for=\"sk-estimator-id-9\" class=\"sk-toggleable__label fitted sk-toggleable__label-arrow fitted\">cat</label><div class=\"sk-toggleable__content fitted\"><pre>[&#x27;Sex&#x27;, &#x27;Cabin&#x27;, &#x27;Embarked&#x27;, &#x27;Pclass&#x27;]</pre></div> </div></div><div class=\"sk-serial\"><div class=\"sk-item\"><div class=\"sk-serial\"><div class=\"sk-item\"><div class=\"sk-estimator fitted sk-toggleable\"><input class=\"sk-toggleable__control sk-hidden--visually\" id=\"sk-estimator-id-10\" type=\"checkbox\" ><label for=\"sk-estimator-id-10\" class=\"sk-toggleable__label fitted sk-toggleable__label-arrow fitted\">&nbsp;SimpleImputer<a class=\"sk-estimator-doc-link fitted\" rel=\"noreferrer\" target=\"_blank\" href=\"https://scikit-learn.org/1.4/modules/generated/sklearn.impute.SimpleImputer.html\">?<span>Documentation for SimpleImputer</span></a></label><div class=\"sk-toggleable__content fitted\"><pre>SimpleImputer(strategy=&#x27;most_frequent&#x27;)</pre></div> </div></div><div class=\"sk-item\"><div class=\"sk-estimator fitted sk-toggleable\"><input class=\"sk-toggleable__control sk-hidden--visually\" id=\"sk-estimator-id-11\" type=\"checkbox\" ><label for=\"sk-estimator-id-11\" class=\"sk-toggleable__label fitted sk-toggleable__label-arrow fitted\">&nbsp;OneHotEncoder<a class=\"sk-estimator-doc-link fitted\" rel=\"noreferrer\" target=\"_blank\" href=\"https://scikit-learn.org/1.4/modules/generated/sklearn.preprocessing.OneHotEncoder.html\">?<span>Documentation for OneHotEncoder</span></a></label><div class=\"sk-toggleable__content fitted\"><pre>OneHotEncoder(handle_unknown=&#x27;ignore&#x27;)</pre></div> </div></div></div></div></div></div></div></div></div><div class=\"sk-item\"><div class=\"sk-estimator fitted sk-toggleable\"><input class=\"sk-toggleable__control sk-hidden--visually\" id=\"sk-estimator-id-12\" type=\"checkbox\" ><label for=\"sk-estimator-id-12\" class=\"sk-toggleable__label fitted sk-toggleable__label-arrow fitted\">&nbsp;RandomForestClassifier<a class=\"sk-estimator-doc-link fitted\" rel=\"noreferrer\" target=\"_blank\" href=\"https://scikit-learn.org/1.4/modules/generated/sklearn.ensemble.RandomForestClassifier.html\">?<span>Documentation for RandomForestClassifier</span></a></label><div class=\"sk-toggleable__content fitted\"><pre>RandomForestClassifier(random_state=1234)</pre></div> </div></div></div></div></div></div>"
      ],
      "text/plain": [
       "Pipeline(steps=[('preprocessor',\n",
       "                 ColumnTransformer(transformers=[('norm_num',\n",
       "                                                  Pipeline(steps=[('imputer',\n",
       "                                                                   SimpleImputer(strategy='median')),\n",
       "                                                                  ('scaler',\n",
       "                                                                   StandardScaler())]),\n",
       "                                                  ['Family']),\n",
       "                                                 ('num',\n",
       "                                                  Pipeline(steps=[('imputer',\n",
       "                                                                   SimpleImputer(strategy='median')),\n",
       "                                                                  ('scaler',\n",
       "                                                                   MinMaxScaler())]),\n",
       "                                                  ['Fare']),\n",
       "                                                 ('cat',\n",
       "                                                  Pipeline(steps=[('imputer',\n",
       "                                                                   SimpleImputer(strategy='most_frequent')),\n",
       "                                                                  ('onehot',\n",
       "                                                                   OneHotEncoder(handle_unknown='ignore'))]),\n",
       "                                                  ['Sex', 'Cabin', 'Embarked',\n",
       "                                                   'Pclass'])])),\n",
       "                ('classifier', RandomForestClassifier(random_state=1234))])"
      ]
     },
     "execution_count": 107,
     "metadata": {},
     "output_type": "execute_result"
    }
   ],
   "source": [
    "clf = make_classification_pipeline()\n",
    "clf.fit(X_train, y_train)"
   ]
  },
  {
   "cell_type": "code",
   "execution_count": 108,
   "metadata": {
    "colab": {
     "base_uri": "https://localhost:8080/",
     "height": 151
    },
    "executionInfo": {
     "elapsed": 14,
     "status": "ok",
     "timestamp": 1682695284271,
     "user": {
      "displayName": "Adnan Alkattan",
      "userId": "14686308749644374052"
     },
     "user_tz": -180
    },
    "id": "azftVJLjjEMb",
    "outputId": "56758a56-50f3-44c2-a24d-372def6c4f0b"
   },
   "outputs": [
    {
     "data": {
      "text/html": [
       "<style>#sk-container-id-2 {\n",
       "  /* Definition of color scheme common for light and dark mode */\n",
       "  --sklearn-color-text: black;\n",
       "  --sklearn-color-line: gray;\n",
       "  /* Definition of color scheme for unfitted estimators */\n",
       "  --sklearn-color-unfitted-level-0: #fff5e6;\n",
       "  --sklearn-color-unfitted-level-1: #f6e4d2;\n",
       "  --sklearn-color-unfitted-level-2: #ffe0b3;\n",
       "  --sklearn-color-unfitted-level-3: chocolate;\n",
       "  /* Definition of color scheme for fitted estimators */\n",
       "  --sklearn-color-fitted-level-0: #f0f8ff;\n",
       "  --sklearn-color-fitted-level-1: #d4ebff;\n",
       "  --sklearn-color-fitted-level-2: #b3dbfd;\n",
       "  --sklearn-color-fitted-level-3: cornflowerblue;\n",
       "\n",
       "  /* Specific color for light theme */\n",
       "  --sklearn-color-text-on-default-background: var(--sg-text-color, var(--theme-code-foreground, var(--jp-content-font-color1, black)));\n",
       "  --sklearn-color-background: var(--sg-background-color, var(--theme-background, var(--jp-layout-color0, white)));\n",
       "  --sklearn-color-border-box: var(--sg-text-color, var(--theme-code-foreground, var(--jp-content-font-color1, black)));\n",
       "  --sklearn-color-icon: #696969;\n",
       "\n",
       "  @media (prefers-color-scheme: dark) {\n",
       "    /* Redefinition of color scheme for dark theme */\n",
       "    --sklearn-color-text-on-default-background: var(--sg-text-color, var(--theme-code-foreground, var(--jp-content-font-color1, white)));\n",
       "    --sklearn-color-background: var(--sg-background-color, var(--theme-background, var(--jp-layout-color0, #111)));\n",
       "    --sklearn-color-border-box: var(--sg-text-color, var(--theme-code-foreground, var(--jp-content-font-color1, white)));\n",
       "    --sklearn-color-icon: #878787;\n",
       "  }\n",
       "}\n",
       "\n",
       "#sk-container-id-2 {\n",
       "  color: var(--sklearn-color-text);\n",
       "}\n",
       "\n",
       "#sk-container-id-2 pre {\n",
       "  padding: 0;\n",
       "}\n",
       "\n",
       "#sk-container-id-2 input.sk-hidden--visually {\n",
       "  border: 0;\n",
       "  clip: rect(1px 1px 1px 1px);\n",
       "  clip: rect(1px, 1px, 1px, 1px);\n",
       "  height: 1px;\n",
       "  margin: -1px;\n",
       "  overflow: hidden;\n",
       "  padding: 0;\n",
       "  position: absolute;\n",
       "  width: 1px;\n",
       "}\n",
       "\n",
       "#sk-container-id-2 div.sk-dashed-wrapped {\n",
       "  border: 1px dashed var(--sklearn-color-line);\n",
       "  margin: 0 0.4em 0.5em 0.4em;\n",
       "  box-sizing: border-box;\n",
       "  padding-bottom: 0.4em;\n",
       "  background-color: var(--sklearn-color-background);\n",
       "}\n",
       "\n",
       "#sk-container-id-2 div.sk-container {\n",
       "  /* jupyter's `normalize.less` sets `[hidden] { display: none; }`\n",
       "     but bootstrap.min.css set `[hidden] { display: none !important; }`\n",
       "     so we also need the `!important` here to be able to override the\n",
       "     default hidden behavior on the sphinx rendered scikit-learn.org.\n",
       "     See: https://github.com/scikit-learn/scikit-learn/issues/21755 */\n",
       "  display: inline-block !important;\n",
       "  position: relative;\n",
       "}\n",
       "\n",
       "#sk-container-id-2 div.sk-text-repr-fallback {\n",
       "  display: none;\n",
       "}\n",
       "\n",
       "div.sk-parallel-item,\n",
       "div.sk-serial,\n",
       "div.sk-item {\n",
       "  /* draw centered vertical line to link estimators */\n",
       "  background-image: linear-gradient(var(--sklearn-color-text-on-default-background), var(--sklearn-color-text-on-default-background));\n",
       "  background-size: 2px 100%;\n",
       "  background-repeat: no-repeat;\n",
       "  background-position: center center;\n",
       "}\n",
       "\n",
       "/* Parallel-specific style estimator block */\n",
       "\n",
       "#sk-container-id-2 div.sk-parallel-item::after {\n",
       "  content: \"\";\n",
       "  width: 100%;\n",
       "  border-bottom: 2px solid var(--sklearn-color-text-on-default-background);\n",
       "  flex-grow: 1;\n",
       "}\n",
       "\n",
       "#sk-container-id-2 div.sk-parallel {\n",
       "  display: flex;\n",
       "  align-items: stretch;\n",
       "  justify-content: center;\n",
       "  background-color: var(--sklearn-color-background);\n",
       "  position: relative;\n",
       "}\n",
       "\n",
       "#sk-container-id-2 div.sk-parallel-item {\n",
       "  display: flex;\n",
       "  flex-direction: column;\n",
       "}\n",
       "\n",
       "#sk-container-id-2 div.sk-parallel-item:first-child::after {\n",
       "  align-self: flex-end;\n",
       "  width: 50%;\n",
       "}\n",
       "\n",
       "#sk-container-id-2 div.sk-parallel-item:last-child::after {\n",
       "  align-self: flex-start;\n",
       "  width: 50%;\n",
       "}\n",
       "\n",
       "#sk-container-id-2 div.sk-parallel-item:only-child::after {\n",
       "  width: 0;\n",
       "}\n",
       "\n",
       "/* Serial-specific style estimator block */\n",
       "\n",
       "#sk-container-id-2 div.sk-serial {\n",
       "  display: flex;\n",
       "  flex-direction: column;\n",
       "  align-items: center;\n",
       "  background-color: var(--sklearn-color-background);\n",
       "  padding-right: 1em;\n",
       "  padding-left: 1em;\n",
       "}\n",
       "\n",
       "\n",
       "/* Toggleable style: style used for estimator/Pipeline/ColumnTransformer box that is\n",
       "clickable and can be expanded/collapsed.\n",
       "- Pipeline and ColumnTransformer use this feature and define the default style\n",
       "- Estimators will overwrite some part of the style using the `sk-estimator` class\n",
       "*/\n",
       "\n",
       "/* Pipeline and ColumnTransformer style (default) */\n",
       "\n",
       "#sk-container-id-2 div.sk-toggleable {\n",
       "  /* Default theme specific background. It is overwritten whether we have a\n",
       "  specific estimator or a Pipeline/ColumnTransformer */\n",
       "  background-color: var(--sklearn-color-background);\n",
       "}\n",
       "\n",
       "/* Toggleable label */\n",
       "#sk-container-id-2 label.sk-toggleable__label {\n",
       "  cursor: pointer;\n",
       "  display: block;\n",
       "  width: 100%;\n",
       "  margin-bottom: 0;\n",
       "  padding: 0.5em;\n",
       "  box-sizing: border-box;\n",
       "  text-align: center;\n",
       "}\n",
       "\n",
       "#sk-container-id-2 label.sk-toggleable__label-arrow:before {\n",
       "  /* Arrow on the left of the label */\n",
       "  content: \"▸\";\n",
       "  float: left;\n",
       "  margin-right: 0.25em;\n",
       "  color: var(--sklearn-color-icon);\n",
       "}\n",
       "\n",
       "#sk-container-id-2 label.sk-toggleable__label-arrow:hover:before {\n",
       "  color: var(--sklearn-color-text);\n",
       "}\n",
       "\n",
       "/* Toggleable content - dropdown */\n",
       "\n",
       "#sk-container-id-2 div.sk-toggleable__content {\n",
       "  max-height: 0;\n",
       "  max-width: 0;\n",
       "  overflow: hidden;\n",
       "  text-align: left;\n",
       "  /* unfitted */\n",
       "  background-color: var(--sklearn-color-unfitted-level-0);\n",
       "}\n",
       "\n",
       "#sk-container-id-2 div.sk-toggleable__content.fitted {\n",
       "  /* fitted */\n",
       "  background-color: var(--sklearn-color-fitted-level-0);\n",
       "}\n",
       "\n",
       "#sk-container-id-2 div.sk-toggleable__content pre {\n",
       "  margin: 0.2em;\n",
       "  border-radius: 0.25em;\n",
       "  color: var(--sklearn-color-text);\n",
       "  /* unfitted */\n",
       "  background-color: var(--sklearn-color-unfitted-level-0);\n",
       "}\n",
       "\n",
       "#sk-container-id-2 div.sk-toggleable__content.fitted pre {\n",
       "  /* unfitted */\n",
       "  background-color: var(--sklearn-color-fitted-level-0);\n",
       "}\n",
       "\n",
       "#sk-container-id-2 input.sk-toggleable__control:checked~div.sk-toggleable__content {\n",
       "  /* Expand drop-down */\n",
       "  max-height: 200px;\n",
       "  max-width: 100%;\n",
       "  overflow: auto;\n",
       "}\n",
       "\n",
       "#sk-container-id-2 input.sk-toggleable__control:checked~label.sk-toggleable__label-arrow:before {\n",
       "  content: \"▾\";\n",
       "}\n",
       "\n",
       "/* Pipeline/ColumnTransformer-specific style */\n",
       "\n",
       "#sk-container-id-2 div.sk-label input.sk-toggleable__control:checked~label.sk-toggleable__label {\n",
       "  color: var(--sklearn-color-text);\n",
       "  background-color: var(--sklearn-color-unfitted-level-2);\n",
       "}\n",
       "\n",
       "#sk-container-id-2 div.sk-label.fitted input.sk-toggleable__control:checked~label.sk-toggleable__label {\n",
       "  background-color: var(--sklearn-color-fitted-level-2);\n",
       "}\n",
       "\n",
       "/* Estimator-specific style */\n",
       "\n",
       "/* Colorize estimator box */\n",
       "#sk-container-id-2 div.sk-estimator input.sk-toggleable__control:checked~label.sk-toggleable__label {\n",
       "  /* unfitted */\n",
       "  background-color: var(--sklearn-color-unfitted-level-2);\n",
       "}\n",
       "\n",
       "#sk-container-id-2 div.sk-estimator.fitted input.sk-toggleable__control:checked~label.sk-toggleable__label {\n",
       "  /* fitted */\n",
       "  background-color: var(--sklearn-color-fitted-level-2);\n",
       "}\n",
       "\n",
       "#sk-container-id-2 div.sk-label label.sk-toggleable__label,\n",
       "#sk-container-id-2 div.sk-label label {\n",
       "  /* The background is the default theme color */\n",
       "  color: var(--sklearn-color-text-on-default-background);\n",
       "}\n",
       "\n",
       "/* On hover, darken the color of the background */\n",
       "#sk-container-id-2 div.sk-label:hover label.sk-toggleable__label {\n",
       "  color: var(--sklearn-color-text);\n",
       "  background-color: var(--sklearn-color-unfitted-level-2);\n",
       "}\n",
       "\n",
       "/* Label box, darken color on hover, fitted */\n",
       "#sk-container-id-2 div.sk-label.fitted:hover label.sk-toggleable__label.fitted {\n",
       "  color: var(--sklearn-color-text);\n",
       "  background-color: var(--sklearn-color-fitted-level-2);\n",
       "}\n",
       "\n",
       "/* Estimator label */\n",
       "\n",
       "#sk-container-id-2 div.sk-label label {\n",
       "  font-family: monospace;\n",
       "  font-weight: bold;\n",
       "  display: inline-block;\n",
       "  line-height: 1.2em;\n",
       "}\n",
       "\n",
       "#sk-container-id-2 div.sk-label-container {\n",
       "  text-align: center;\n",
       "}\n",
       "\n",
       "/* Estimator-specific */\n",
       "#sk-container-id-2 div.sk-estimator {\n",
       "  font-family: monospace;\n",
       "  border: 1px dotted var(--sklearn-color-border-box);\n",
       "  border-radius: 0.25em;\n",
       "  box-sizing: border-box;\n",
       "  margin-bottom: 0.5em;\n",
       "  /* unfitted */\n",
       "  background-color: var(--sklearn-color-unfitted-level-0);\n",
       "}\n",
       "\n",
       "#sk-container-id-2 div.sk-estimator.fitted {\n",
       "  /* fitted */\n",
       "  background-color: var(--sklearn-color-fitted-level-0);\n",
       "}\n",
       "\n",
       "/* on hover */\n",
       "#sk-container-id-2 div.sk-estimator:hover {\n",
       "  /* unfitted */\n",
       "  background-color: var(--sklearn-color-unfitted-level-2);\n",
       "}\n",
       "\n",
       "#sk-container-id-2 div.sk-estimator.fitted:hover {\n",
       "  /* fitted */\n",
       "  background-color: var(--sklearn-color-fitted-level-2);\n",
       "}\n",
       "\n",
       "/* Specification for estimator info (e.g. \"i\" and \"?\") */\n",
       "\n",
       "/* Common style for \"i\" and \"?\" */\n",
       "\n",
       ".sk-estimator-doc-link,\n",
       "a:link.sk-estimator-doc-link,\n",
       "a:visited.sk-estimator-doc-link {\n",
       "  float: right;\n",
       "  font-size: smaller;\n",
       "  line-height: 1em;\n",
       "  font-family: monospace;\n",
       "  background-color: var(--sklearn-color-background);\n",
       "  border-radius: 1em;\n",
       "  height: 1em;\n",
       "  width: 1em;\n",
       "  text-decoration: none !important;\n",
       "  margin-left: 1ex;\n",
       "  /* unfitted */\n",
       "  border: var(--sklearn-color-unfitted-level-1) 1pt solid;\n",
       "  color: var(--sklearn-color-unfitted-level-1);\n",
       "}\n",
       "\n",
       ".sk-estimator-doc-link.fitted,\n",
       "a:link.sk-estimator-doc-link.fitted,\n",
       "a:visited.sk-estimator-doc-link.fitted {\n",
       "  /* fitted */\n",
       "  border: var(--sklearn-color-fitted-level-1) 1pt solid;\n",
       "  color: var(--sklearn-color-fitted-level-1);\n",
       "}\n",
       "\n",
       "/* On hover */\n",
       "div.sk-estimator:hover .sk-estimator-doc-link:hover,\n",
       ".sk-estimator-doc-link:hover,\n",
       "div.sk-label-container:hover .sk-estimator-doc-link:hover,\n",
       ".sk-estimator-doc-link:hover {\n",
       "  /* unfitted */\n",
       "  background-color: var(--sklearn-color-unfitted-level-3);\n",
       "  color: var(--sklearn-color-background);\n",
       "  text-decoration: none;\n",
       "}\n",
       "\n",
       "div.sk-estimator.fitted:hover .sk-estimator-doc-link.fitted:hover,\n",
       ".sk-estimator-doc-link.fitted:hover,\n",
       "div.sk-label-container:hover .sk-estimator-doc-link.fitted:hover,\n",
       ".sk-estimator-doc-link.fitted:hover {\n",
       "  /* fitted */\n",
       "  background-color: var(--sklearn-color-fitted-level-3);\n",
       "  color: var(--sklearn-color-background);\n",
       "  text-decoration: none;\n",
       "}\n",
       "\n",
       "/* Span, style for the box shown on hovering the info icon */\n",
       ".sk-estimator-doc-link span {\n",
       "  display: none;\n",
       "  z-index: 9999;\n",
       "  position: relative;\n",
       "  font-weight: normal;\n",
       "  right: .2ex;\n",
       "  padding: .5ex;\n",
       "  margin: .5ex;\n",
       "  width: min-content;\n",
       "  min-width: 20ex;\n",
       "  max-width: 50ex;\n",
       "  color: var(--sklearn-color-text);\n",
       "  box-shadow: 2pt 2pt 4pt #999;\n",
       "  /* unfitted */\n",
       "  background: var(--sklearn-color-unfitted-level-0);\n",
       "  border: .5pt solid var(--sklearn-color-unfitted-level-3);\n",
       "}\n",
       "\n",
       ".sk-estimator-doc-link.fitted span {\n",
       "  /* fitted */\n",
       "  background: var(--sklearn-color-fitted-level-0);\n",
       "  border: var(--sklearn-color-fitted-level-3);\n",
       "}\n",
       "\n",
       ".sk-estimator-doc-link:hover span {\n",
       "  display: block;\n",
       "}\n",
       "\n",
       "/* \"?\"-specific style due to the `<a>` HTML tag */\n",
       "\n",
       "#sk-container-id-2 a.estimator_doc_link {\n",
       "  float: right;\n",
       "  font-size: 1rem;\n",
       "  line-height: 1em;\n",
       "  font-family: monospace;\n",
       "  background-color: var(--sklearn-color-background);\n",
       "  border-radius: 1rem;\n",
       "  height: 1rem;\n",
       "  width: 1rem;\n",
       "  text-decoration: none;\n",
       "  /* unfitted */\n",
       "  color: var(--sklearn-color-unfitted-level-1);\n",
       "  border: var(--sklearn-color-unfitted-level-1) 1pt solid;\n",
       "}\n",
       "\n",
       "#sk-container-id-2 a.estimator_doc_link.fitted {\n",
       "  /* fitted */\n",
       "  border: var(--sklearn-color-fitted-level-1) 1pt solid;\n",
       "  color: var(--sklearn-color-fitted-level-1);\n",
       "}\n",
       "\n",
       "/* On hover */\n",
       "#sk-container-id-2 a.estimator_doc_link:hover {\n",
       "  /* unfitted */\n",
       "  background-color: var(--sklearn-color-unfitted-level-3);\n",
       "  color: var(--sklearn-color-background);\n",
       "  text-decoration: none;\n",
       "}\n",
       "\n",
       "#sk-container-id-2 a.estimator_doc_link.fitted:hover {\n",
       "  /* fitted */\n",
       "  background-color: var(--sklearn-color-fitted-level-3);\n",
       "}\n",
       "</style><div id=\"sk-container-id-2\" class=\"sk-top-container\"><div class=\"sk-text-repr-fallback\"><pre>ColumnTransformer(transformers=[(&#x27;norm_num&#x27;,\n",
       "                                 Pipeline(steps=[(&#x27;imputer&#x27;,\n",
       "                                                  SimpleImputer(strategy=&#x27;median&#x27;)),\n",
       "                                                 (&#x27;scaler&#x27;, StandardScaler())]),\n",
       "                                 [&#x27;Family&#x27;]),\n",
       "                                (&#x27;num&#x27;,\n",
       "                                 Pipeline(steps=[(&#x27;imputer&#x27;,\n",
       "                                                  SimpleImputer(strategy=&#x27;median&#x27;)),\n",
       "                                                 (&#x27;scaler&#x27;, MinMaxScaler())]),\n",
       "                                 [&#x27;Fare&#x27;]),\n",
       "                                (&#x27;cat&#x27;,\n",
       "                                 Pipeline(steps=[(&#x27;imputer&#x27;,\n",
       "                                                  SimpleImputer(strategy=&#x27;most_frequent&#x27;)),\n",
       "                                                 (&#x27;onehot&#x27;,\n",
       "                                                  OneHotEncoder(handle_unknown=&#x27;ignore&#x27;))]),\n",
       "                                 [&#x27;Sex&#x27;, &#x27;Cabin&#x27;, &#x27;Embarked&#x27;, &#x27;Pclass&#x27;])])</pre><b>In a Jupyter environment, please rerun this cell to show the HTML representation or trust the notebook. <br />On GitHub, the HTML representation is unable to render, please try loading this page with nbviewer.org.</b></div><div class=\"sk-container\" hidden><div class=\"sk-item sk-dashed-wrapped\"><div class=\"sk-label-container\"><div class=\"sk-label fitted sk-toggleable\"><input class=\"sk-toggleable__control sk-hidden--visually\" id=\"sk-estimator-id-13\" type=\"checkbox\" ><label for=\"sk-estimator-id-13\" class=\"sk-toggleable__label fitted sk-toggleable__label-arrow fitted\">&nbsp;&nbsp;ColumnTransformer<a class=\"sk-estimator-doc-link fitted\" rel=\"noreferrer\" target=\"_blank\" href=\"https://scikit-learn.org/1.4/modules/generated/sklearn.compose.ColumnTransformer.html\">?<span>Documentation for ColumnTransformer</span></a><span class=\"sk-estimator-doc-link fitted\">i<span>Fitted</span></span></label><div class=\"sk-toggleable__content fitted\"><pre>ColumnTransformer(transformers=[(&#x27;norm_num&#x27;,\n",
       "                                 Pipeline(steps=[(&#x27;imputer&#x27;,\n",
       "                                                  SimpleImputer(strategy=&#x27;median&#x27;)),\n",
       "                                                 (&#x27;scaler&#x27;, StandardScaler())]),\n",
       "                                 [&#x27;Family&#x27;]),\n",
       "                                (&#x27;num&#x27;,\n",
       "                                 Pipeline(steps=[(&#x27;imputer&#x27;,\n",
       "                                                  SimpleImputer(strategy=&#x27;median&#x27;)),\n",
       "                                                 (&#x27;scaler&#x27;, MinMaxScaler())]),\n",
       "                                 [&#x27;Fare&#x27;]),\n",
       "                                (&#x27;cat&#x27;,\n",
       "                                 Pipeline(steps=[(&#x27;imputer&#x27;,\n",
       "                                                  SimpleImputer(strategy=&#x27;most_frequent&#x27;)),\n",
       "                                                 (&#x27;onehot&#x27;,\n",
       "                                                  OneHotEncoder(handle_unknown=&#x27;ignore&#x27;))]),\n",
       "                                 [&#x27;Sex&#x27;, &#x27;Cabin&#x27;, &#x27;Embarked&#x27;, &#x27;Pclass&#x27;])])</pre></div> </div></div><div class=\"sk-parallel\"><div class=\"sk-parallel-item\"><div class=\"sk-item\"><div class=\"sk-label-container\"><div class=\"sk-label fitted sk-toggleable\"><input class=\"sk-toggleable__control sk-hidden--visually\" id=\"sk-estimator-id-14\" type=\"checkbox\" ><label for=\"sk-estimator-id-14\" class=\"sk-toggleable__label fitted sk-toggleable__label-arrow fitted\">norm_num</label><div class=\"sk-toggleable__content fitted\"><pre>[&#x27;Family&#x27;]</pre></div> </div></div><div class=\"sk-serial\"><div class=\"sk-item\"><div class=\"sk-serial\"><div class=\"sk-item\"><div class=\"sk-estimator fitted sk-toggleable\"><input class=\"sk-toggleable__control sk-hidden--visually\" id=\"sk-estimator-id-15\" type=\"checkbox\" ><label for=\"sk-estimator-id-15\" class=\"sk-toggleable__label fitted sk-toggleable__label-arrow fitted\">&nbsp;SimpleImputer<a class=\"sk-estimator-doc-link fitted\" rel=\"noreferrer\" target=\"_blank\" href=\"https://scikit-learn.org/1.4/modules/generated/sklearn.impute.SimpleImputer.html\">?<span>Documentation for SimpleImputer</span></a></label><div class=\"sk-toggleable__content fitted\"><pre>SimpleImputer(strategy=&#x27;median&#x27;)</pre></div> </div></div><div class=\"sk-item\"><div class=\"sk-estimator fitted sk-toggleable\"><input class=\"sk-toggleable__control sk-hidden--visually\" id=\"sk-estimator-id-16\" type=\"checkbox\" ><label for=\"sk-estimator-id-16\" class=\"sk-toggleable__label fitted sk-toggleable__label-arrow fitted\">&nbsp;StandardScaler<a class=\"sk-estimator-doc-link fitted\" rel=\"noreferrer\" target=\"_blank\" href=\"https://scikit-learn.org/1.4/modules/generated/sklearn.preprocessing.StandardScaler.html\">?<span>Documentation for StandardScaler</span></a></label><div class=\"sk-toggleable__content fitted\"><pre>StandardScaler()</pre></div> </div></div></div></div></div></div></div><div class=\"sk-parallel-item\"><div class=\"sk-item\"><div class=\"sk-label-container\"><div class=\"sk-label fitted sk-toggleable\"><input class=\"sk-toggleable__control sk-hidden--visually\" id=\"sk-estimator-id-17\" type=\"checkbox\" ><label for=\"sk-estimator-id-17\" class=\"sk-toggleable__label fitted sk-toggleable__label-arrow fitted\">num</label><div class=\"sk-toggleable__content fitted\"><pre>[&#x27;Fare&#x27;]</pre></div> </div></div><div class=\"sk-serial\"><div class=\"sk-item\"><div class=\"sk-serial\"><div class=\"sk-item\"><div class=\"sk-estimator fitted sk-toggleable\"><input class=\"sk-toggleable__control sk-hidden--visually\" id=\"sk-estimator-id-18\" type=\"checkbox\" ><label for=\"sk-estimator-id-18\" class=\"sk-toggleable__label fitted sk-toggleable__label-arrow fitted\">&nbsp;SimpleImputer<a class=\"sk-estimator-doc-link fitted\" rel=\"noreferrer\" target=\"_blank\" href=\"https://scikit-learn.org/1.4/modules/generated/sklearn.impute.SimpleImputer.html\">?<span>Documentation for SimpleImputer</span></a></label><div class=\"sk-toggleable__content fitted\"><pre>SimpleImputer(strategy=&#x27;median&#x27;)</pre></div> </div></div><div class=\"sk-item\"><div class=\"sk-estimator fitted sk-toggleable\"><input class=\"sk-toggleable__control sk-hidden--visually\" id=\"sk-estimator-id-19\" type=\"checkbox\" ><label for=\"sk-estimator-id-19\" class=\"sk-toggleable__label fitted sk-toggleable__label-arrow fitted\">&nbsp;MinMaxScaler<a class=\"sk-estimator-doc-link fitted\" rel=\"noreferrer\" target=\"_blank\" href=\"https://scikit-learn.org/1.4/modules/generated/sklearn.preprocessing.MinMaxScaler.html\">?<span>Documentation for MinMaxScaler</span></a></label><div class=\"sk-toggleable__content fitted\"><pre>MinMaxScaler()</pre></div> </div></div></div></div></div></div></div><div class=\"sk-parallel-item\"><div class=\"sk-item\"><div class=\"sk-label-container\"><div class=\"sk-label fitted sk-toggleable\"><input class=\"sk-toggleable__control sk-hidden--visually\" id=\"sk-estimator-id-20\" type=\"checkbox\" ><label for=\"sk-estimator-id-20\" class=\"sk-toggleable__label fitted sk-toggleable__label-arrow fitted\">cat</label><div class=\"sk-toggleable__content fitted\"><pre>[&#x27;Sex&#x27;, &#x27;Cabin&#x27;, &#x27;Embarked&#x27;, &#x27;Pclass&#x27;]</pre></div> </div></div><div class=\"sk-serial\"><div class=\"sk-item\"><div class=\"sk-serial\"><div class=\"sk-item\"><div class=\"sk-estimator fitted sk-toggleable\"><input class=\"sk-toggleable__control sk-hidden--visually\" id=\"sk-estimator-id-21\" type=\"checkbox\" ><label for=\"sk-estimator-id-21\" class=\"sk-toggleable__label fitted sk-toggleable__label-arrow fitted\">&nbsp;SimpleImputer<a class=\"sk-estimator-doc-link fitted\" rel=\"noreferrer\" target=\"_blank\" href=\"https://scikit-learn.org/1.4/modules/generated/sklearn.impute.SimpleImputer.html\">?<span>Documentation for SimpleImputer</span></a></label><div class=\"sk-toggleable__content fitted\"><pre>SimpleImputer(strategy=&#x27;most_frequent&#x27;)</pre></div> </div></div><div class=\"sk-item\"><div class=\"sk-estimator fitted sk-toggleable\"><input class=\"sk-toggleable__control sk-hidden--visually\" id=\"sk-estimator-id-22\" type=\"checkbox\" ><label for=\"sk-estimator-id-22\" class=\"sk-toggleable__label fitted sk-toggleable__label-arrow fitted\">&nbsp;OneHotEncoder<a class=\"sk-estimator-doc-link fitted\" rel=\"noreferrer\" target=\"_blank\" href=\"https://scikit-learn.org/1.4/modules/generated/sklearn.preprocessing.OneHotEncoder.html\">?<span>Documentation for OneHotEncoder</span></a></label><div class=\"sk-toggleable__content fitted\"><pre>OneHotEncoder(handle_unknown=&#x27;ignore&#x27;)</pre></div> </div></div></div></div></div></div></div></div></div></div></div>"
      ],
      "text/plain": [
       "ColumnTransformer(transformers=[('norm_num',\n",
       "                                 Pipeline(steps=[('imputer',\n",
       "                                                  SimpleImputer(strategy='median')),\n",
       "                                                 ('scaler', StandardScaler())]),\n",
       "                                 ['Family']),\n",
       "                                ('num',\n",
       "                                 Pipeline(steps=[('imputer',\n",
       "                                                  SimpleImputer(strategy='median')),\n",
       "                                                 ('scaler', MinMaxScaler())]),\n",
       "                                 ['Fare']),\n",
       "                                ('cat',\n",
       "                                 Pipeline(steps=[('imputer',\n",
       "                                                  SimpleImputer(strategy='most_frequent')),\n",
       "                                                 ('onehot',\n",
       "                                                  OneHotEncoder(handle_unknown='ignore'))]),\n",
       "                                 ['Sex', 'Cabin', 'Embarked', 'Pclass'])])"
      ]
     },
     "execution_count": 108,
     "metadata": {},
     "output_type": "execute_result"
    }
   ],
   "source": [
    "clf['preprocessor'] # we can treat our pipeline as a dict like object"
   ]
  },
  {
   "cell_type": "code",
   "execution_count": 109,
   "metadata": {
    "colab": {
     "base_uri": "https://localhost:8080/"
    },
    "executionInfo": {
     "elapsed": 14,
     "status": "ok",
     "timestamp": 1682695284272,
     "user": {
      "displayName": "Adnan Alkattan",
      "userId": "14686308749644374052"
     },
     "user_tz": -180
    },
    "id": "49Va2tK4hCmR",
    "outputId": "8ecf01d4-c908-475b-92b9-321a98a0e6ae"
   },
   "outputs": [
    {
     "name": "stdout",
     "output_type": "stream",
     "text": [
      "              precision    recall  f1-score   support\n",
      "\n",
      "        Died       0.92      0.97      0.95       494\n",
      "    Survived       0.95      0.87      0.91       306\n",
      "\n",
      "    accuracy                           0.93       800\n",
      "   macro avg       0.93      0.92      0.93       800\n",
      "weighted avg       0.93      0.93      0.93       800\n",
      "\n"
     ]
    }
   ],
   "source": [
    "print(classification_report(y_train, clf.predict(X_train),\n",
    "                            target_names=['Died', 'Survived']))"
   ]
  },
  {
   "cell_type": "code",
   "execution_count": 110,
   "metadata": {
    "colab": {
     "base_uri": "https://localhost:8080/"
    },
    "executionInfo": {
     "elapsed": 10,
     "status": "ok",
     "timestamp": 1682695284272,
     "user": {
      "displayName": "Adnan Alkattan",
      "userId": "14686308749644374052"
     },
     "user_tz": -180
    },
    "id": "EYuMD59jhJVz",
    "outputId": "4bfc3a6d-45d2-4f4a-9915-8aa591a50ef7"
   },
   "outputs": [
    {
     "name": "stdout",
     "output_type": "stream",
     "text": [
      "              precision    recall  f1-score   support\n",
      "\n",
      "        Died       0.80      0.89      0.84        55\n",
      "    Survived       0.79      0.65      0.71        34\n",
      "\n",
      "    accuracy                           0.80        89\n",
      "   macro avg       0.79      0.77      0.78        89\n",
      "weighted avg       0.80      0.80      0.79        89\n",
      "\n"
     ]
    }
   ],
   "source": [
    "print(classification_report(y_val, clf.predict(X_val),\n",
    "                            target_names=['Died', 'Survived']))"
   ]
  },
  {
   "cell_type": "code",
   "execution_count": 111,
   "metadata": {
    "id": "xda6e8imh2f-"
   },
   "outputs": [],
   "source": [
    "def make_classification_pipeline():\n",
    "    return Pipeline(steps=[\n",
    "                            ('preprocessor',\n",
    "                             make_preprocessing_pipeline(['Fare'], ['Family'],\n",
    "                                                        ['Sex', 'Cabin',\n",
    "                                                         'Embarked',\n",
    "                                                         'Pclass'])),\n",
    "                           ('classifier',\n",
    "                            SVC())\n",
    "                           ])"
   ]
  },
  {
   "cell_type": "markdown",
   "metadata": {
    "id": "1zrazTg4iU6n"
   },
   "source": [
    "Notice how we only changed the classifer and kept the preprocessing pipeline intact."
   ]
  },
  {
   "cell_type": "code",
   "execution_count": 112,
   "metadata": {
    "id": "KmzlEAwuiAbq"
   },
   "outputs": [],
   "source": [
    "clf = make_classification_pipeline()\n",
    "clf = clf.fit(X_train, y_train)"
   ]
  },
  {
   "cell_type": "code",
   "execution_count": 113,
   "metadata": {
    "colab": {
     "base_uri": "https://localhost:8080/"
    },
    "executionInfo": {
     "elapsed": 16,
     "status": "ok",
     "timestamp": 1682695284747,
     "user": {
      "displayName": "Adnan Alkattan",
      "userId": "14686308749644374052"
     },
     "user_tz": -180
    },
    "id": "naXM345giCAS",
    "outputId": "d4f1e9e5-7735-40ac-a092-a1239c50b645"
   },
   "outputs": [
    {
     "name": "stdout",
     "output_type": "stream",
     "text": [
      "              precision    recall  f1-score   support\n",
      "\n",
      "        Died       0.84      0.89      0.86       494\n",
      "    Survived       0.81      0.72      0.76       306\n",
      "\n",
      "    accuracy                           0.82       800\n",
      "   macro avg       0.82      0.80      0.81       800\n",
      "weighted avg       0.82      0.82      0.82       800\n",
      "\n"
     ]
    }
   ],
   "source": [
    "print(classification_report(y_train, clf.predict(X_train),\n",
    "                            target_names=['Died', 'Survived']))"
   ]
  },
  {
   "cell_type": "code",
   "execution_count": null,
   "metadata": {},
   "outputs": [],
   "source": []
  }
 ],
 "metadata": {
  "colab": {
   "collapsed_sections": [
    "lj5GDfTutY59",
    "cFzTwhszyslZ",
    "fIe8TglaUizg",
    "gCdLIC591AJI",
    "XNpjAyf1PN_B",
    "WgTrd3MbJe9R",
    "21Q6hrPdruTN",
    "PVP-c0c-5E15",
    "C8GU4uzo7nE_",
    "JDTGxUXv5Any",
    "jXh62Q9db6le",
    "lBV5WgNHFkku",
    "tPyA2xyNDrly",
    "0Jj4VUJy4-hT",
    "r-_J_YgCzBXM",
    "JokB04mZi7dI",
    "jGX_OBEqsiNA",
    "Yc-5uYvougDY",
    "mnh9GSlCRzQM",
    "JAWMO8--YBY8",
    "AbUj1h3IYGKa",
    "jfj8ebOPti_e"
   ],
   "provenance": [],
   "toc_visible": true
  },
  "kernelspec": {
   "display_name": "tf",
   "language": "python",
   "name": "python3"
  },
  "language_info": {
   "codemirror_mode": {
    "name": "ipython",
    "version": 3
   },
   "file_extension": ".py",
   "mimetype": "text/x-python",
   "name": "python",
   "nbconvert_exporter": "python",
   "pygments_lexer": "ipython3",
   "version": "3.9.20"
  }
 },
 "nbformat": 4,
 "nbformat_minor": 0
}
