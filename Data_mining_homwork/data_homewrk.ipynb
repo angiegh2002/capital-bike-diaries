{
  "cells": [
    {
      "cell_type": "markdown",
      "source": [
        "#**Capital bike diaries**"
      ],
      "metadata": {
        "id": "CnC6kKTbQqav"
      },
      "id": "CnC6kKTbQqav"
    },
    {
      "cell_type": "code",
      "source": [
        "from google.colab import drive\n",
        "drive.mount('/content/drive')"
      ],
      "metadata": {
        "id": "CSRitLq5eAvu",
        "outputId": "91969dd1-84a4-492b-a6fc-fd07c7d0ae11",
        "colab": {
          "base_uri": "https://localhost:8080/"
        }
      },
      "id": "CSRitLq5eAvu",
      "execution_count": 22,
      "outputs": [
        {
          "output_type": "stream",
          "name": "stdout",
          "text": [
            "Mounted at /content/drive\n"
          ]
        }
      ]
    },
    {
      "cell_type": "code",
      "source": [
        "!pip install pygeohash"
      ],
      "metadata": {
        "collapsed": true,
        "id": "sWmXiPF1SEjn",
        "outputId": "d74d4cdc-3b99-49ba-bb99-3ff1e7c3f0ac",
        "colab": {
          "base_uri": "https://localhost:8080/"
        }
      },
      "id": "sWmXiPF1SEjn",
      "execution_count": 7,
      "outputs": [
        {
          "output_type": "stream",
          "name": "stdout",
          "text": [
            "Collecting pygeohash\n",
            "  Downloading pygeohash-3.1.3-cp311-cp311-manylinux_2_5_x86_64.manylinux1_x86_64.manylinux_2_17_x86_64.manylinux2014_x86_64.whl.metadata (10 kB)\n",
            "Downloading pygeohash-3.1.3-cp311-cp311-manylinux_2_5_x86_64.manylinux1_x86_64.manylinux_2_17_x86_64.manylinux2014_x86_64.whl (42 kB)\n",
            "\u001b[?25l   \u001b[90m━━━━━━━━━━━━━━━━━━━━━━━━━━━━━━━━━━━━━━━━\u001b[0m \u001b[32m0.0/42.3 kB\u001b[0m \u001b[31m?\u001b[0m eta \u001b[36m-:--:--\u001b[0m\r\u001b[2K   \u001b[90m━━━━━━━━━━━━━━━━━━━━━━━━━━━━━━━━━━━━━━━━\u001b[0m \u001b[32m42.3/42.3 kB\u001b[0m \u001b[31m2.3 MB/s\u001b[0m eta \u001b[36m0:00:00\u001b[0m\n",
            "\u001b[?25hInstalling collected packages: pygeohash\n",
            "Successfully installed pygeohash-3.1.3\n"
          ]
        }
      ]
    },
    {
      "cell_type": "code",
      "source": [
        "import os\n",
        "from pathlib import Path\n",
        "import scipy\n",
        "import numpy as np\n",
        "import pandas as pd\n",
        "import geopandas as gpd\n",
        "import plotly.express as px\n",
        "import sklearn\n",
        "import folium\n",
        "import pygeohash as pgh"
      ],
      "metadata": {
        "id": "75AxVqjVRJ7n"
      },
      "id": "75AxVqjVRJ7n",
      "execution_count": 35,
      "outputs": []
    },
    {
      "cell_type": "markdown",
      "source": [
        "##Cleaning and data integration"
      ],
      "metadata": {
        "id": "DId4NE1NSIZN"
      },
      "id": "DId4NE1NSIZN"
    },
    {
      "cell_type": "code",
      "source": [
        "!cp -r \"/content/drive/MyDrive/Dataset data\" /content/\n"
      ],
      "metadata": {
        "id": "wkF3b5f1gwD3"
      },
      "id": "wkF3b5f1gwD3",
      "execution_count": 36,
      "outputs": []
    },
    {
      "cell_type": "code",
      "source": [
        "folder_path = Path('/content/Dataset data/')\n",
        "readers = {\n",
        "    '.csv': pd.read_csv,\n",
        "    '.parquet': pd.read_parquet,\n",
        "    '.geojson': gpd.read_file,\n",
        "}\n",
        "\n",
        "for file in folder_path.iterdir():\n",
        "    if not file.is_file():\n",
        "        continue\n",
        "    ext = file.suffix.lower()\n",
        "    name = file.stem\n",
        "    reader = readers.get(ext)\n",
        "    if reader is None:\n",
        "        continue\n",
        "    var_name = name.replace(\" \", \"_\").replace(\"-\", \"_\")\n",
        "    try:\n",
        "        df = reader(file)\n",
        "        globals()[var_name] = df\n",
        "        print(f\"تم تحميل {file.name} إلى متغير: {var_name}\")\n",
        "\n",
        "    except Exception as e:\n",
        "        print(f\" خطأ في تحميل {file.name}: {e}\")\n"
      ],
      "metadata": {
        "id": "qj9-yw-nXrrn",
        "outputId": "80514d52-e224-4173-a02a-d5127f7e480d",
        "colab": {
          "base_uri": "https://localhost:8080/"
        }
      },
      "id": "qj9-yw-nXrrn",
      "execution_count": 37,
      "outputs": [
        {
          "output_type": "stream",
          "name": "stdout",
          "text": [
            "تم تحميل Residential_and_Visitor_Parking_Zones.geojson إلى متغير: Residential_and_Visitor_Parking_Zones\n",
            "تم تحميل Capital_Bikeshare_Locations.csv إلى متغير: Capital_Bikeshare_Locations\n",
            "تم تحميل daily-rent-sampled.parquet إلى متغير: daily_rent_sampled\n",
            "تم تحميل DDOT_Central_Business_District.geojson إلى متغير: DDOT_Central_Business_District\n",
            "تم تحميل Washington,DC,USA 2024-01-01 to 2024-12-31.csv إلى متغير: Washington,DC,USA_2024_01_01_to_2024_12_31\n",
            "تم تحميل Shuttle_Bus_Stops.csv إلى متغير: Shuttle_Bus_Stops\n",
            "تم تحميل Metro_Bus_Stops.csv إلى متغير: Metro_Bus_Stops\n",
            "تم تحميل daily-rent.parquet إلى متغير: daily_rent\n",
            "تم تحميل stations.csv إلى متغير: stations\n"
          ]
        }
      ]
    },
    {
      "cell_type": "markdown",
      "source": [
        "##Exploration and Analysis"
      ],
      "metadata": {
        "id": "PIQc_N1qSetZ"
      },
      "id": "PIQc_N1qSetZ"
    },
    {
      "cell_type": "code",
      "source": [],
      "metadata": {
        "id": "qxX0d0XhQpds"
      },
      "id": "qxX0d0XhQpds",
      "execution_count": null,
      "outputs": []
    },
    {
      "cell_type": "markdown",
      "source": [
        "##Pattern discovery"
      ],
      "metadata": {
        "id": "XtXkaKF1Sey7"
      },
      "id": "XtXkaKF1Sey7"
    },
    {
      "cell_type": "code",
      "source": [],
      "metadata": {
        "id": "A1TPm1J7P0x9"
      },
      "id": "A1TPm1J7P0x9",
      "execution_count": null,
      "outputs": []
    },
    {
      "cell_type": "markdown",
      "source": [
        "##Documentation"
      ],
      "metadata": {
        "id": "ncgXM9v3S3wl"
      },
      "id": "ncgXM9v3S3wl"
    },
    {
      "cell_type": "code",
      "source": [],
      "metadata": {
        "id": "dNmXCsH-S44d"
      },
      "id": "dNmXCsH-S44d",
      "execution_count": null,
      "outputs": []
    },
    {
      "cell_type": "markdown",
      "source": [],
      "metadata": {
        "id": "ww-XX3grS4BA"
      },
      "id": "ww-XX3grS4BA"
    }
  ],
  "metadata": {
    "kernelspec": {
      "display_name": "tf",
      "language": "python",
      "name": "python3"
    },
    "language_info": {
      "codemirror_mode": {
        "name": "ipython",
        "version": 3
      },
      "file_extension": ".py",
      "mimetype": "text/x-python",
      "name": "python",
      "nbconvert_exporter": "python",
      "pygments_lexer": "ipython3",
      "version": "3.9.20"
    },
    "colab": {
      "provenance": []
    }
  },
  "nbformat": 4,
  "nbformat_minor": 5
}